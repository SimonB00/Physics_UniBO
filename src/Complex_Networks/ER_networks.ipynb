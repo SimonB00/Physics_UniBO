{
 "cells": [
  {
   "attachments": {},
   "cell_type": "markdown",
   "metadata": {},
   "source": [
    "# Code from ER class"
   ]
  },
  {
   "cell_type": "code",
   "execution_count": 25,
   "metadata": {},
   "outputs": [
    {
     "ename": "ImportError",
     "evalue": "cannot import name '_dispatch' from 'networkx.classes' (/usr/lib/python3/dist-packages/networkx/classes/__init__.py)",
     "output_type": "error",
     "traceback": [
      "\u001b[0;31m---------------------------------------------------------------------------\u001b[0m",
      "\u001b[0;31mImportError\u001b[0m                               Traceback (most recent call last)",
      "Cell \u001b[0;32mIn[25], line 6\u001b[0m\n\u001b[1;32m      4\u001b[0m \u001b[39mimport\u001b[39;00m \u001b[39mseaborn\u001b[39;00m \u001b[39mas\u001b[39;00m \u001b[39msns\u001b[39;00m\n\u001b[1;32m      5\u001b[0m \u001b[39mimport\u001b[39;00m \u001b[39mmatplotlib\u001b[39;00m\u001b[39m.\u001b[39;00m\u001b[39mpyplot\u001b[39;00m \u001b[39mas\u001b[39;00m \u001b[39mplt\u001b[39;00m\n\u001b[0;32m----> 6\u001b[0m \u001b[39mimport\u001b[39;00m \u001b[39mnetworkx\u001b[39;00m \u001b[39mas\u001b[39;00m \u001b[39mnx\u001b[39;00m\n",
      "File \u001b[0;32m~/.local/lib/python3.10/site-packages/networkx/__init__.py:24\u001b[0m\n\u001b[1;32m     22\u001b[0m \u001b[39mfrom\u001b[39;00m \u001b[39mnetworkx\u001b[39;00m\u001b[39m.\u001b[39;00m\u001b[39mclasses\u001b[39;00m \u001b[39mimport\u001b[39;00m filters\n\u001b[1;32m     23\u001b[0m \u001b[39mfrom\u001b[39;00m \u001b[39mnetworkx\u001b[39;00m\u001b[39m.\u001b[39;00m\u001b[39mclasses\u001b[39;00m \u001b[39mimport\u001b[39;00m \u001b[39m*\u001b[39m\n\u001b[0;32m---> 24\u001b[0m \u001b[39mfrom\u001b[39;00m \u001b[39mnetworkx\u001b[39;00m\u001b[39m.\u001b[39;00m\u001b[39mclasses\u001b[39;00m \u001b[39mimport\u001b[39;00m _dispatch\n\u001b[1;32m     26\u001b[0m \u001b[39mfrom\u001b[39;00m \u001b[39mnetworkx\u001b[39;00m \u001b[39mimport\u001b[39;00m convert\n\u001b[1;32m     27\u001b[0m \u001b[39mfrom\u001b[39;00m \u001b[39mnetworkx\u001b[39;00m\u001b[39m.\u001b[39;00m\u001b[39mconvert\u001b[39;00m \u001b[39mimport\u001b[39;00m \u001b[39m*\u001b[39m\n",
      "\u001b[0;31mImportError\u001b[0m: cannot import name '_dispatch' from 'networkx.classes' (/usr/lib/python3/dist-packages/networkx/classes/__init__.py)"
     ]
    }
   ],
   "source": [
    "import scipy as sp\n",
    "import numpy as np\n",
    "import sys\n",
    "import seaborn as sns\n",
    "import matplotlib.pyplot as plt\n",
    "# import networkx as nx"
   ]
  },
  {
   "attachments": {},
   "cell_type": "markdown",
   "metadata": {},
   "source": [
    "Let's compare the memory usage between a sparse and a normal matrix.\n",
    "Moreover, we assume a microcanonical ensemble, fixing the number of nodes and links."
   ]
  },
  {
   "cell_type": "code",
   "execution_count": 19,
   "metadata": {},
   "outputs": [
    {
     "name": "stdout",
     "output_type": "stream",
     "text": [
      "48\n",
      "8000128\n"
     ]
    }
   ],
   "source": [
    "Nnode = int(1e3)\n",
    "Nlink = int(3e4)\n",
    "Net1 = sp.sparse.lil_matrix((Nnode,Nnode))\n",
    "Net2 = np.zeros((Nnode,Nnode))\n",
    "\n",
    "print(sys.getsizeof(Net1))\n",
    "print(sys.getsizeof(Net2))"
   ]
  },
  {
   "attachments": {},
   "cell_type": "markdown",
   "metadata": {},
   "source": [
    "## Microcanonical ensemble"
   ]
  },
  {
   "attachments": {},
   "cell_type": "markdown",
   "metadata": {},
   "source": [
    "Now, let's try to generate a random graph without using Networkx functions."
   ]
  },
  {
   "cell_type": "code",
   "execution_count": 20,
   "metadata": {},
   "outputs": [
    {
     "name": "stdout",
     "output_type": "stream",
     "text": [
      "  (0, 29)\t1.0\n",
      "  (0, 33)\t1.0\n",
      "  (0, 36)\t1.0\n",
      "  (0, 79)\t1.0\n",
      "  (0, 86)\t1.0\n",
      "  (0, 98)\t1.0\n",
      "  (0, 151)\t1.0\n",
      "  (0, 167)\t1.0\n",
      "  (0, 172)\t1.0\n",
      "  (0, 177)\t1.0\n",
      "  (0, 182)\t1.0\n",
      "  (0, 202)\t1.0\n",
      "  (0, 219)\t1.0\n",
      "  (0, 222)\t1.0\n",
      "  (0, 226)\t1.0\n",
      "  (0, 254)\t1.0\n",
      "  (0, 262)\t1.0\n",
      "  (0, 272)\t1.0\n",
      "  (0, 279)\t2.0\n",
      "  (0, 280)\t1.0\n",
      "  (0, 304)\t1.0\n",
      "  (0, 309)\t1.0\n",
      "  (0, 312)\t1.0\n",
      "  (0, 314)\t1.0\n",
      "  (0, 327)\t1.0\n",
      "  :\t:\n",
      "  (999, 535)\t1.0\n",
      "  (999, 625)\t1.0\n",
      "  (999, 632)\t1.0\n",
      "  (999, 642)\t1.0\n",
      "  (999, 644)\t1.0\n",
      "  (999, 663)\t1.0\n",
      "  (999, 677)\t1.0\n",
      "  (999, 698)\t1.0\n",
      "  (999, 728)\t1.0\n",
      "  (999, 735)\t1.0\n",
      "  (999, 738)\t1.0\n",
      "  (999, 748)\t1.0\n",
      "  (999, 782)\t1.0\n",
      "  (999, 790)\t1.0\n",
      "  (999, 814)\t1.0\n",
      "  (999, 819)\t1.0\n",
      "  (999, 852)\t1.0\n",
      "  (999, 857)\t1.0\n",
      "  (999, 894)\t1.0\n",
      "  (999, 916)\t1.0\n",
      "  (999, 922)\t1.0\n",
      "  (999, 959)\t1.0\n",
      "  (999, 962)\t1.0\n",
      "  (999, 985)\t1.0\n",
      "  (999, 986)\t1.0\n"
     ]
    }
   ],
   "source": [
    "for index in range(100):\n",
    "    # generate a random link\n",
    "    ii = np.random.randint(Nnode, size=(Nlink, 2))\n",
    "    # create a sparse matrix using these links\n",
    "    NetM = sp.sparse.coo_matrix((np.ones(Nlink), (ii[:,0], ii[:,1])), shape=(Nnode, Nnode))\n",
    "    #remove loops\n",
    "    NetM.setdiag(0)\n",
    "    # symmetrize\n",
    "    NetM = NetM + NetM.T\n",
    "print(NetM)"
   ]
  },
  {
   "attachments": {},
   "cell_type": "markdown",
   "metadata": {},
   "source": [
    "**NOTE** that reciprocal links and repeated links randomly created reduce symmetric links with a probability that scales as $\\frac{1}{{Nnode}^2}$\n",
    "\n",
    "Let's count the number of links in the matrix."
   ]
  },
  {
   "cell_type": "code",
   "execution_count": 21,
   "metadata": {},
   "outputs": [
    {
     "name": "stdout",
     "output_type": "stream",
     "text": [
      "Randomly generated links: 29091\n",
      "Missing links for microcanonical ensemble: 909\n"
     ]
    }
   ],
   "source": [
    "Nl = int(NetM.count_nonzero()/2)\n",
    "print('Randomly generated links: {:d}'.format(Nl))\n",
    "print('Missing links for microcanonical ensemble: {:d}'.format(Nlink-Nl))"
   ]
  },
  {
   "attachments": {},
   "cell_type": "markdown",
   "metadata": {},
   "source": [
    "We notice that we miss some links, then we add one by one missing links until microcanonical constraint fulfilled."
   ]
  },
  {
   "cell_type": "code",
   "execution_count": 22,
   "metadata": {},
   "outputs": [
    {
     "name": "stderr",
     "output_type": "stream",
     "text": [
      "/home/grufoony/.local/lib/python3.10/site-packages/scipy/sparse/_index.py:103: SparseEfficiencyWarning: Changing the sparsity structure of a csr_matrix is expensive. lil_matrix is more efficient.\n",
      "  self._set_intXint(row, col, x.flat[0])\n"
     ]
    }
   ],
   "source": [
    "while Nl < Nlink:\n",
    "    i1 = np.random.randint(Nnode)\n",
    "    i2 = np.random.randint(Nnode)\n",
    "    if i1 != i2 and NetM[i1,i2] == 0:\n",
    "        NetM[i1,i2] = 1\n",
    "        NetM[i2,i1] = 1 # symmetric link\n",
    "        Nl += 1"
   ]
  },
  {
   "attachments": {},
   "cell_type": "markdown",
   "metadata": {},
   "source": [
    "Lastly, let's compute the degree vector, finding minimum and maximum."
   ]
  },
  {
   "cell_type": "code",
   "execution_count": 23,
   "metadata": {},
   "outputs": [
    {
     "name": "stdout",
     "output_type": "stream",
     "text": [
      "Average degree: 61.74\n",
      "Minimum degree: 39\n",
      "Maximum degree: 89\n"
     ]
    }
   ],
   "source": [
    "K = sum(NetM)\n",
    "print('Average degree: {:.2f}'.format(np.mean(K)))\n",
    "print('Minimum degree: {:d}'.format(int(np.min(K))))\n",
    "print('Maximum degree: {:d}'.format(int(np.max(K))))"
   ]
  },
  {
   "attachments": {},
   "cell_type": "markdown",
   "metadata": {},
   "source": [
    "## Canonical ensemble"
   ]
  },
  {
   "attachments": {},
   "cell_type": "markdown",
   "metadata": {},
   "source": [
    "Let's now try to build a canonical ensemble."
   ]
  },
  {
   "cell_type": "code",
   "execution_count": 2,
   "metadata": {},
   "outputs": [],
   "source": [
    "Nnode = int(1e2)\n",
    "Plink = 0.3\n",
    "Nexp = int(1e4)"
   ]
  },
  {
   "cell_type": "code",
   "execution_count": 3,
   "metadata": {},
   "outputs": [],
   "source": [
    "LinkS = np.zeros((Nexp, 1))\n",
    "for index in range(Nexp):\n",
    "    NetC = sp.sparse.triu(sp.sparse.rand(Nnode, Nnode, density=Plink, format='csr'), k=1)\n",
    "    NetC = NetC + NetC.T\n",
    "    LinkS[index] = NetC.count_nonzero()/2"
   ]
  },
  {
   "attachments": {},
   "cell_type": "markdown",
   "metadata": {},
   "source": [
    "Let's see some stats"
   ]
  },
  {
   "cell_type": "code",
   "execution_count": 4,
   "metadata": {},
   "outputs": [
    {
     "name": "stdout",
     "output_type": "stream",
     "text": [
      "Average number of links: 1485.53\n",
      "Standard deviation: 23.01\n",
      "Expected number of links: 1485.00\n",
      "Expected standard deviation: 32.24\n"
     ]
    },
    {
     "data": {
      "text/plain": [
       "<AxesSubplot: ylabel='Count'>"
      ]
     },
     "execution_count": 4,
     "metadata": {},
     "output_type": "execute_result"
    },
    {
     "data": {
      "image/png": "[encoded data removed]",
      "text/plain": [
       "<Figure size 640x480 with 1 Axes>"
      ]
     },
     "metadata": {},
     "output_type": "display_data"
    }
   ],
   "source": [
    "print('Average number of links: {:.2f}'.format(np.mean(LinkS)))\n",
    "print('Standard deviation: {:.2f}'.format(np.std(LinkS)))\n",
    "\n",
    "print('Expected number of links: {:.2f}'.format(Plink*Nnode*(Nnode-1)/2))\n",
    "print('Expected standard deviation: {:.2f}'.format(np.sqrt(Plink*(1-Plink)*Nnode*(Nnode-1)/2)))\n",
    "\n",
    "sns.histplot(data=LinkS, bins=30, kde=True)"
   ]
  },
  {
   "attachments": {},
   "cell_type": "markdown",
   "metadata": {},
   "source": [
    "The degree distribution for increasing size - CV decreases.\n",
    "Tends to the delta function - regular graph."
   ]
  },
  {
   "cell_type": "code",
   "execution_count": 5,
   "metadata": {},
   "outputs": [],
   "source": [
    "Pow = 4.21 # max network size\n",
    "Pl = 0.1\n",
    "Cnt = 0\n",
    "\n",
    "M = []\n",
    "S = []\n",
    "CV = []"
   ]
  },
  {
   "cell_type": "code",
   "execution_count": 8,
   "metadata": {},
   "outputs": [
    {
     "name": "stdout",
     "output_type": "stream",
     "text": [
      "N=100 - Average degree: 9.82\n",
      "N=100 - Standard deviation: 2.49\n",
      "N=100 - CV: 0.25\n",
      "N=199 - Average degree: 19.57\n",
      "N=199 - Standard deviation: 3.40\n",
      "N=199 - CV: 0.17\n",
      "N=398 - Average degree: 4.78\n",
      "N=398 - Standard deviation: 1.67\n",
      "N=398 - CV: 0.35\n",
      "N=794 - Average degree: 9.94\n",
      "N=794 - Standard deviation: 2.54\n",
      "N=794 - CV: 0.26\n",
      "N=1584 - Average degree: 20.08\n",
      "N=1584 - Standard deviation: 3.75\n",
      "N=1584 - CV: 0.19\n",
      "N=3162 - Average degree: 39.80\n",
      "N=3162 - Standard deviation: 4.88\n",
      "N=3162 - CV: 0.12\n",
      "N=6309 - Average degree: 78.82\n",
      "N=6309 - Standard deviation: 7.02\n",
      "N=6309 - CV: 0.09\n",
      "N=12589 - Average degree: 158.09\n",
      "N=12589 - Standard deviation: 9.76\n",
      "N=12589 - CV: 0.06\n"
     ]
    }
   ],
   "source": [
    "for index in np.arange(2, Pow, step=0.3):\n",
    "    Nnode = int(10**index)\n",
    "    NetC = sp.sparse.triu(sp.sparse.rand(Nnode, Nnode, density=Pl, format='csr'), k=1)\n",
    "    NetC = NetC + NetC.T\n",
    "    K = sum(NetC).todense()\n",
    "    M.append(np.mean(K))\n",
    "    S.append(np.std(K))\n",
    "    CV.append(np.std(K)/np.mean(K))\n",
    "    # sns.histplot(data=K, bins=30, kde=True, label='N={:d}'.format(Nnode))\n",
    "    # plt.show()\n",
    "    print('N={:d} - Average degree: {:.2f}'.format(Nnode, M[Cnt]))\n",
    "    print('N={:d} - Standard deviation: {:.2f}'.format(Nnode, S[Cnt]))\n",
    "    print('N={:d} - CV: {:.2f}'.format(Nnode, CV[Cnt]))\n",
    "    Cnt += 1"
   ]
  },
  {
   "cell_type": "code",
   "execution_count": 11,
   "metadata": {},
   "outputs": [],
   "source": [
    "# sns.pairplot(data=CV, x_vars=np.arange(0, Nnode).all(), y_vars=CV, height=5, aspect=1, kind='reg')"
   ]
  },
  {
   "attachments": {},
   "cell_type": "markdown",
   "metadata": {},
   "source": [
    "## Giant component transition"
   ]
  },
  {
   "cell_type": "code",
   "execution_count": 14,
   "metadata": {},
   "outputs": [],
   "source": [
    "Nnode = int(1e2)\n",
    "\n",
    "rr = np.triu(np.random.rand(Nnode, Nnode), k=1)\n",
    "rr = rr + rr.T"
   ]
  },
  {
   "cell_type": "code",
   "execution_count": 16,
   "metadata": {},
   "outputs": [],
   "source": [
    "Pmin = 1 / (20 * Nnode)\n",
    "Pmax = 1 / (6 * Nnode)\n",
    "xP = np.arange(Pmin, Pmax, step=0.00002)"
   ]
  },
  {
   "attachments": {},
   "cell_type": "markdown",
   "metadata": {},
   "source": [
    "**NOTE** that $\\lambda = xP * Nnode$"
   ]
  },
  {
   "cell_type": "code",
   "execution_count": null,
   "metadata": {},
   "outputs": [],
   "source": [
    "# for index in xP:\n",
    "#     Net = "
   ]
  }
 ],
 "metadata": {
  "kernelspec": {
   "display_name": "Python 3",
   "language": "python",
   "name": "python3"
  },
  "language_info": {
   "codemirror_mode": {
    "name": "ipython",
    "version": 3
   },
   "file_extension": ".py",
   "mimetype": "text/x-python",
   "name": "python",
   "nbconvert_exporter": "python",
   "pygments_lexer": "ipython3",
   "version": "3.10.6"
  },
  "orig_nbformat": 4
 },
 "nbformat": 4,
 "nbformat_minor": 2
}
