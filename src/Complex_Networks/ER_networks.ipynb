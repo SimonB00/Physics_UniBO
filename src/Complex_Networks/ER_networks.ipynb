{
 "cells": [
  {
   "attachments": {},
   "cell_type": "markdown",
   "metadata": {},
   "source": [
    "# Code from ER class"
   ]
  },
  {
   "cell_type": "code",
   "execution_count": 1,
   "metadata": {},
   "outputs": [],
   "source": [
    "import scipy as sp\n",
    "import numpy as np\n",
    "import sys\n",
    "import seaborn as sns\n",
    "import matplotlib.pyplot as plt\n",
    "import networkx as nx"
   ]
  },
  {
   "attachments": {},
   "cell_type": "markdown",
   "metadata": {},
   "source": [
    "Let's compare the memory usage between a sparse and a normal matrix.\n",
    "Moreover, we assume a microcanonical ensemble, fixing the number of nodes and links."
   ]
  },
  {
   "cell_type": "code",
   "execution_count": 2,
   "metadata": {},
   "outputs": [
    {
     "name": "stdout",
     "output_type": "stream",
     "text": [
      "48\n",
      "8000128\n"
     ]
    }
   ],
   "source": [
    "Nnode = int(1e3)\n",
    "Nlink = int(3e4)\n",
    "Net1 = sp.sparse.lil_matrix((Nnode,Nnode))\n",
    "Net2 = np.zeros((Nnode,Nnode))\n",
    "\n",
    "print(sys.getsizeof(Net1))\n",
    "print(sys.getsizeof(Net2))"
   ]
  },
  {
   "attachments": {},
   "cell_type": "markdown",
   "metadata": {},
   "source": [
    "## Microcanonical ensemble"
   ]
  },
  {
   "attachments": {},
   "cell_type": "markdown",
   "metadata": {},
   "source": [
    "Now, let's try to generate a random graph without using Networkx functions."
   ]
  },
  {
   "cell_type": "code",
   "execution_count": 3,
   "metadata": {},
   "outputs": [
    {
     "name": "stdout",
     "output_type": "stream",
     "text": [
      "  (0, 11)\t1.0\n",
      "  (0, 103)\t1.0\n",
      "  (0, 132)\t1.0\n",
      "  (0, 143)\t1.0\n",
      "  (0, 161)\t1.0\n",
      "  (0, 222)\t1.0\n",
      "  (0, 229)\t1.0\n",
      "  (0, 231)\t1.0\n",
      "  (0, 260)\t1.0\n",
      "  (0, 317)\t2.0\n",
      "  (0, 338)\t1.0\n",
      "  (0, 339)\t1.0\n",
      "  (0, 340)\t1.0\n",
      "  (0, 357)\t1.0\n",
      "  (0, 418)\t1.0\n",
      "  (0, 465)\t1.0\n",
      "  (0, 481)\t1.0\n",
      "  (0, 532)\t1.0\n",
      "  (0, 539)\t1.0\n",
      "  (0, 585)\t1.0\n",
      "  (0, 593)\t1.0\n",
      "  (0, 600)\t1.0\n",
      "  (0, 605)\t1.0\n",
      "  (0, 622)\t1.0\n",
      "  (0, 627)\t1.0\n",
      "  :\t:\n",
      "  (999, 551)\t1.0\n",
      "  (999, 567)\t1.0\n",
      "  (999, 575)\t1.0\n",
      "  (999, 621)\t1.0\n",
      "  (999, 625)\t1.0\n",
      "  (999, 667)\t1.0\n",
      "  (999, 715)\t1.0\n",
      "  (999, 716)\t1.0\n",
      "  (999, 719)\t1.0\n",
      "  (999, 721)\t1.0\n",
      "  (999, 750)\t1.0\n",
      "  (999, 754)\t1.0\n",
      "  (999, 795)\t1.0\n",
      "  (999, 802)\t1.0\n",
      "  (999, 821)\t1.0\n",
      "  (999, 844)\t1.0\n",
      "  (999, 849)\t1.0\n",
      "  (999, 855)\t1.0\n",
      "  (999, 866)\t1.0\n",
      "  (999, 871)\t1.0\n",
      "  (999, 877)\t1.0\n",
      "  (999, 882)\t1.0\n",
      "  (999, 986)\t1.0\n",
      "  (999, 987)\t1.0\n",
      "  (999, 995)\t1.0\n"
     ]
    }
   ],
   "source": [
    "for index in range(100):\n",
    "    # generate a random link\n",
    "    ii = np.random.randint(Nnode, size=(Nlink, 2))\n",
    "    # create a sparse matrix using these links\n",
    "    NetM = sp.sparse.coo_matrix((np.ones(Nlink), (ii[:,0], ii[:,1])), shape=(Nnode, Nnode))\n",
    "    #remove loops\n",
    "    NetM.setdiag(0)\n",
    "    # symmetrize\n",
    "    NetM = NetM + NetM.T\n",
    "print(NetM)"
   ]
  },
  {
   "attachments": {},
   "cell_type": "markdown",
   "metadata": {},
   "source": [
    "**NOTE** that reciprocal links and repeated links randomly created reduce symmetric links with a probability that scales as $\\frac{1}{{Nnode}^2}$\n",
    "\n",
    "Let's count the number of links in the matrix."
   ]
  },
  {
   "cell_type": "code",
   "execution_count": 4,
   "metadata": {},
   "outputs": [
    {
     "name": "stdout",
     "output_type": "stream",
     "text": [
      "Randomly generated links: 29039\n",
      "Missing links for microcanonical ensemble: 961\n"
     ]
    }
   ],
   "source": [
    "Nl = int(NetM.count_nonzero()/2)\n",
    "print('Randomly generated links: {:d}'.format(Nl))\n",
    "print('Missing links for microcanonical ensemble: {:d}'.format(Nlink-Nl))"
   ]
  },
  {
   "attachments": {},
   "cell_type": "markdown",
   "metadata": {},
   "source": [
    "We notice that we miss some links, then we add one by one missing links until microcanonical constraint fulfilled."
   ]
  },
  {
   "cell_type": "code",
   "execution_count": 5,
   "metadata": {},
   "outputs": [
    {
     "name": "stderr",
     "output_type": "stream",
     "text": [
      "/home/grufoony/.local/lib/python3.10/site-packages/scipy/sparse/_index.py:103: SparseEfficiencyWarning: Changing the sparsity structure of a csr_matrix is expensive. lil_matrix is more efficient.\n",
      "  self._set_intXint(row, col, x.flat[0])\n"
     ]
    }
   ],
   "source": [
    "while Nl < Nlink:\n",
    "    i1 = np.random.randint(Nnode)\n",
    "    i2 = np.random.randint(Nnode)\n",
    "    if i1 != i2 and NetM[i1,i2] == 0:\n",
    "        NetM[i1,i2] = 1\n",
    "        NetM[i2,i1] = 1 # symmetric link\n",
    "        Nl += 1"
   ]
  },
  {
   "attachments": {},
   "cell_type": "markdown",
   "metadata": {},
   "source": [
    "Lastly, let's compute the degree vector, finding minimum and maximum."
   ]
  },
  {
   "cell_type": "code",
   "execution_count": 6,
   "metadata": {},
   "outputs": [
    {
     "name": "stdout",
     "output_type": "stream",
     "text": [
      "Average degree: 61.84\n",
      "Minimum degree: 40\n",
      "Maximum degree: 89\n"
     ]
    }
   ],
   "source": [
    "K = sum(NetM)\n",
    "print('Average degree: {:.2f}'.format(np.mean(K)))\n",
    "print('Minimum degree: {:d}'.format(int(np.min(K))))\n",
    "print('Maximum degree: {:d}'.format(int(np.max(K))))"
   ]
  },
  {
   "attachments": {},
   "cell_type": "markdown",
   "metadata": {},
   "source": [
    "## Canonical ensemble"
   ]
  },
  {
   "attachments": {},
   "cell_type": "markdown",
   "metadata": {},
   "source": [
    "Let's now try to build a canonical ensemble."
   ]
  },
  {
   "cell_type": "code",
   "execution_count": 7,
   "metadata": {},
   "outputs": [],
   "source": [
    "Nnode = int(1e2)\n",
    "Plink = 0.3\n",
    "Nexp = int(1e4)"
   ]
  },
  {
   "cell_type": "code",
   "execution_count": 8,
   "metadata": {},
   "outputs": [],
   "source": [
    "LinkS = np.zeros((Nexp, 1))\n",
    "for index in range(Nexp):\n",
    "    NetC = sp.sparse.triu(sp.sparse.rand(Nnode, Nnode, density=Plink, format='csr'), k=1)\n",
    "    NetC = NetC + NetC.T\n",
    "    LinkS[index] = NetC.count_nonzero()/2"
   ]
  },
  {
   "attachments": {},
   "cell_type": "markdown",
   "metadata": {},
   "source": [
    "Let's see some stats"
   ]
  },
  {
   "cell_type": "code",
   "execution_count": 9,
   "metadata": {},
   "outputs": [
    {
     "name": "stdout",
     "output_type": "stream",
     "text": [
      "Average number of links: 1484.78\n",
      "Standard deviation: 22.99\n",
      "Expected number of links: 1485.00\n",
      "Expected standard deviation: 32.24\n"
     ]
    },
    {
     "data": {
      "text/plain": [
       "<Axes: ylabel='Count'>"
      ]
     },
     "execution_count": 9,
     "metadata": {},
     "output_type": "execute_result"
    },
    {
     "data": {
      "image/png": "[encoded data removed]",
      "text/plain": [
       "<Figure size 640x480 with 1 Axes>"
      ]
     },
     "metadata": {},
     "output_type": "display_data"
    }
   ],
   "source": [
    "print('Average number of links: {:.2f}'.format(np.mean(LinkS)))\n",
    "print('Standard deviation: {:.2f}'.format(np.std(LinkS)))\n",
    "\n",
    "print('Expected number of links: {:.2f}'.format(Plink*Nnode*(Nnode-1)/2))\n",
    "print('Expected standard deviation: {:.2f}'.format(np.sqrt(Plink*(1-Plink)*Nnode*(Nnode-1)/2)))\n",
    "\n",
    "sns.histplot(data=LinkS, bins=30, kde=True)"
   ]
  },
  {
   "attachments": {},
   "cell_type": "markdown",
   "metadata": {},
   "source": [
    "The degree distribution for increasing size - CV decreases.\n",
    "Tends to the delta function - regular graph."
   ]
  },
  {
   "cell_type": "code",
   "execution_count": 10,
   "metadata": {},
   "outputs": [],
   "source": [
    "Pow = 4.21 # max network size\n",
    "Pl = 0.1\n",
    "Cnt = 0\n",
    "\n",
    "M = []\n",
    "S = []\n",
    "CV = []\n",
    "Nnodes = []"
   ]
  },
  {
   "cell_type": "code",
   "execution_count": 11,
   "metadata": {},
   "outputs": [
    {
     "name": "stdout",
     "output_type": "stream",
     "text": [
      "N=100 - Average degree: 4.81\n",
      "N=100 - Standard deviation: 1.73\n",
      "N=100 - CV: 0.36\n",
      "N=199 - Average degree: 9.86\n",
      "N=199 - Standard deviation: 2.63\n",
      "N=199 - CV: 0.27\n",
      "N=398 - Average degree: 19.87\n",
      "N=398 - Standard deviation: 3.43\n",
      "N=398 - CV: 0.17\n",
      "N=794 - Average degree: 39.64\n",
      "N=794 - Standard deviation: 4.82\n",
      "N=794 - CV: 0.12\n",
      "N=1584 - Average degree: 79.16\n",
      "N=1584 - Standard deviation: 6.86\n",
      "N=1584 - CV: 0.09\n",
      "N=3162 - Average degree: 157.66\n",
      "N=3162 - Standard deviation: 9.91\n",
      "N=3162 - CV: 0.06\n",
      "N=6309 - Average degree: 315.27\n",
      "N=6309 - Standard deviation: 13.65\n",
      "N=6309 - CV: 0.04\n",
      "N=12589 - Average degree: 629.47\n",
      "N=12589 - Standard deviation: 19.61\n",
      "N=12589 - CV: 0.03\n"
     ]
    }
   ],
   "source": [
    "for index in np.arange(2, Pow, step=0.3):\n",
    "    Nnodes.append(int(10**index))\n",
    "    NetC = sp.sparse.triu(sp.sparse.rand(Nnodes[Cnt], Nnodes[Cnt], density=Pl, format='csr'), k=1)\n",
    "    NetC = NetC + NetC.T\n",
    "    K = sum(NetC).todense()\n",
    "    M.append(np.mean(K))\n",
    "    S.append(np.std(K))\n",
    "    CV.append(np.std(K)/np.mean(K))\n",
    "    # sns.histplot(data=K, bins=30, kde=True, label='N={:d}'.format(Nnodes[Cnt]))\n",
    "    print('N={:d} - Average degree: {:.2f}'.format(Nnodes[Cnt], M[Cnt]))\n",
    "    print('N={:d} - Standard deviation: {:.2f}'.format(Nnodes[Cnt], S[Cnt]))\n",
    "    print('N={:d} - CV: {:.2f}'.format(Nnodes[Cnt], CV[Cnt]))\n",
    "    Cnt += 1"
   ]
  },
  {
   "cell_type": "code",
   "execution_count": 12,
   "metadata": {},
   "outputs": [
    {
     "data": {
      "text/plain": [
       "<matplotlib.collections.PathCollection at 0x7f83e3286470>"
      ]
     },
     "execution_count": 12,
     "metadata": {},
     "output_type": "execute_result"
    },
    {
     "data": {
      "image/png": "[encoded data removed]",
      "text/plain": [
       "<Figure size 640x480 with 1 Axes>"
      ]
     },
     "metadata": {},
     "output_type": "display_data"
    }
   ],
   "source": [
    "plt.scatter(np.log(Nnodes), np.log(CV), label='Mean')"
   ]
  },
  {
   "attachments": {},
   "cell_type": "markdown",
   "metadata": {},
   "source": [
    "## Giant component transition"
   ]
  },
  {
   "cell_type": "code",
   "execution_count": 13,
   "metadata": {},
   "outputs": [],
   "source": [
    "Nnode = int(1e2)\n",
    "\n",
    "rr = np.triu(np.random.rand(Nnode, Nnode), k=1)\n",
    "rr = rr + rr.T"
   ]
  },
  {
   "cell_type": "code",
   "execution_count": 14,
   "metadata": {},
   "outputs": [],
   "source": [
    "Pmin = 1 / (20 * Nnode)\n",
    "Pmax = 6 / Nnode\n",
    "xP = np.arange(Pmin, Pmax, step=0.00002)"
   ]
  },
  {
   "attachments": {},
   "cell_type": "markdown",
   "metadata": {},
   "source": [
    "**NOTE** that $\\lambda = xP * Nnode$"
   ]
  },
  {
   "cell_type": "code",
   "execution_count": 15,
   "metadata": {},
   "outputs": [],
   "source": [
    "Rc = np.zeros(len(xP))\n",
    "Rm = np.zeros(len(xP))\n",
    "Cnt = 0\n",
    "\n",
    "\n",
    "\n",
    "for index in xP:\n",
    "    Net = nx.from_numpy_array(rr > 1 - index)\n",
    "    CompList = nx.connected_components(Net)\n",
    "    Comps = [len(x) for x in CompList]\n",
    "    Rc[Cnt] = max(Comps)\n",
    "    Rm[Cnt] = np.mean(Comps)\n",
    "    Cnt += 1"
   ]
  },
  {
   "cell_type": "code",
   "execution_count": 16,
   "metadata": {},
   "outputs": [
    {
     "data": {
      "text/plain": [
       "[<matplotlib.lines.Line2D at 0x7f83e332f190>]"
      ]
     },
     "execution_count": 16,
     "metadata": {},
     "output_type": "execute_result"
    },
    {
     "data": {
      "image/png": "[encoded data removed]",
      "text/plain": [
       "<Figure size 640x480 with 1 Axes>"
      ]
     },
     "metadata": {},
     "output_type": "display_data"
    }
   ],
   "source": [
    "plt.plot(xP*Nnode, Rc)\n",
    "plt.plot(xP*Nnode, Rm)"
   ]
  }
 ],
 "metadata": {
  "kernelspec": {
   "display_name": "Python 3",
   "language": "python",
   "name": "python3"
  },
  "language_info": {
   "codemirror_mode": {
    "name": "ipython",
    "version": 3
   },
   "file_extension": ".py",
   "mimetype": "text/x-python",
   "name": "python",
   "nbconvert_exporter": "python",
   "pygments_lexer": "ipython3",
   "version": "3.10.6"
  },
  "orig_nbformat": 4
 },
 "nbformat": 4,
 "nbformat_minor": 2
}
