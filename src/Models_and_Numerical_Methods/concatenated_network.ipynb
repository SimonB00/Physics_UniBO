{
  "cells": [
    {
      "attachments": {},
      "cell_type": "markdown",
      "id": "9787b7b5",
      "metadata": {},
      "source": [
        "# Concatenated Network - MakeMore pt.3 (21/04/2023)\n",
        "\n",
        "We are now ready to move on to Multilayer Perceptrons models: in order to do it we are going to reproduce the results of an \"old\" paper.\n",
        "\n",
        "We are going to see the procedure of **embedding**, which is one of the most powerful tools in Neural Networks architectures: basically, we choose to encode (randomly at the beginning) our words into vectors in a euclidean space of a certain dimension (there are no general rules to choose such dimension), and see how with training our network clusterizes automatically the words.\n",
        "In our case we are actually going to see it working on just characters instead of words.\n",
        "As a matter of fact, we are going to consider a $3-$gram approximation of our language model.\n",
        "\n",
        "We have as input the characters at time $t-1$, $t-2$ and $t-3$ (we are considering tri-grams) which get embedded by a matrix $C$ in a $30-$dimensional vector as chosen by the authors of the paper.\n",
        "Then we put together these three $30$-dimensional vectors to get a $90$-dimensional one.\n",
        "We feed this vector to an intermediate layer with a nonlinear transformation ($\\tanh$).\n",
        "The output of such \"hidden\" layer gets then fed to a last layer which linearly transforms it by $\\hat{W} \\cdot \\vec{x} + \\hat{B}$.\n",
        "\n",
        "We will see that there are many parameters in such system: the coefficients in the embedding matrix $C$ and the matrix $W$, which will change with training in order to minimize the loss, but also some numbers which we a priori choose, which define the structure of our Multi-Layer Perceptron.\n",
        "For example, the dimension of the embedding, or the gradient descent rate.\n",
        "These are the so-called **hyperparameters**."
      ]
    },
    {
      "cell_type": "code",
      "execution_count": 2,
      "id": "ng0KPKejrZia",
      "metadata": {
        "id": "ng0KPKejrZia"
      },
      "outputs": [],
      "source": [
        "# https://youtu.be/P6sfmUTpUmc\n",
        "# https://github.com/karpathy/makemore"
      ]
    },
    {
      "cell_type": "code",
      "execution_count": 3,
      "id": "rkahwvfDrZid",
      "metadata": {
        "id": "rkahwvfDrZid"
      },
      "outputs": [],
      "source": [
        "# we now want to dig more into neural activity and learning to understand the RNN and LSTM architecture and properties...\n",
        "\n",
        "import random\n",
        "import torch\n",
        "import torch.nn.functional as  F\n",
        "import matplotlib.pyplot as plt #for making figures\n",
        "%matplotlib inline"
      ]
    },
    {
      "cell_type": "code",
      "execution_count": 5,
      "id": "NCBuWJU9rZie",
      "metadata": {
        "colab": {
          "base_uri": "https://localhost:8080/"
        },
        "id": "NCBuWJU9rZie",
        "outputId": "6ba4e52b-e0b9-4e2c-f1aa-26fa20083cb3"
      },
      "outputs": [
        {
          "data": {
            "text/plain": [
              "['argento',\n",
              " 'giovannino',\n",
              " 'licurga',\n",
              " 'elvira',\n",
              " 'marena',\n",
              " 'sirio',\n",
              " 'emilia',\n",
              " 'bisio']"
            ]
          },
          "execution_count": 5,
          "metadata": {},
          "output_type": "execute_result"
        }
      ],
      "source": [
        "# read in all the words\n",
        "random.seed(158)\n",
        "words = open(\"data/nomi_italiani.txt\", \"r\").read().splitlines()\n",
        "random.shuffle(words)\n",
        "words[0:8]"
      ]
    },
    {
      "cell_type": "code",
      "execution_count": 6,
      "id": "p86mEQfkrZif",
      "metadata": {
        "colab": {
          "base_uri": "https://localhost:8080/"
        },
        "id": "p86mEQfkrZif",
        "outputId": "fdad4903-125d-45e5-e4ad-d37b7aac4c2d"
      },
      "outputs": [
        {
          "name": "stdout",
          "output_type": "stream",
          "text": [
            "9105\n"
          ]
        }
      ],
      "source": [
        "print(len(words))"
      ]
    },
    {
      "cell_type": "code",
      "execution_count": 7,
      "id": "xLp1yX1trZif",
      "metadata": {
        "colab": {
          "base_uri": "https://localhost:8080/"
        },
        "id": "xLp1yX1trZif",
        "outputId": "2ed4eb46-d9c2-4b50-9caa-d5fd61b58122"
      },
      "outputs": [
        {
          "name": "stdout",
          "output_type": "stream",
          "text": [
            "{1: '-', 2: 'a', 3: 'b', 4: 'c', 5: 'd', 6: 'e', 7: 'f', 8: 'g', 9: 'h', 10: 'i', 11: 'j', 12: 'k', 13: 'l', 14: 'm', 15: 'n', 16: 'o', 17: 'p', 18: 'q', 19: 'r', 20: 's', 21: 't', 22: 'u', 23: 'v', 24: 'w', 25: 'x', 26: 'y', 27: 'z', 0: '.'}\n",
            "28\n"
          ]
        }
      ],
      "source": [
        "# build the vocabulary of characters and mapping to/from integers\n",
        "chars = sorted(list(set(\"\".join(words))))\n",
        "\n",
        "stoi = {s: i + 1 for i, s in enumerate(chars)}\n",
        "stoi[\".\"] = 0\n",
        "itos = {i: s for s, i in stoi.items()}\n",
        "# new\n",
        "vocab_size = len(itos)\n",
        "print(itos)\n",
        "print(vocab_size)"
      ]
    },
    {
      "cell_type": "code",
      "execution_count": 8,
      "id": "BQeJ7lmurZig",
      "metadata": {
        "id": "BQeJ7lmurZig"
      },
      "outputs": [],
      "source": [
        "# build the dataset\n",
        "\n",
        "block_size = (\n",
        "    # context length: how many characters do we take to predict the next one ...\n",
        "    3\n",
        ")\n",
        "\n",
        "\n",
        "def build_dataset(words):\n",
        "    X, Y = [], []  # input & label\n",
        "\n",
        "    for w in words:\n",
        "        context = [0] * block_size\n",
        "        for ch in w + \".\":\n",
        "            ix = stoi[ch]\n",
        "            X.append(context)\n",
        "            Y.append(ix)\n",
        "            #  print(''.join(itos[i] for i in context), '--->', itos[ix])\n",
        "            context = context[1:] + [ix]  # shift: crop and append\n",
        "    X = torch.tensor(X)\n",
        "    Y = torch.tensor(Y)\n",
        "    print(X.shape, Y.shape)\n",
        "    return X, Y"
      ]
    },
    {
      "cell_type": "code",
      "execution_count": 9,
      "id": "NkfA6sFkrZig",
      "metadata": {
        "colab": {
          "base_uri": "https://localhost:8080/"
        },
        "id": "NkfA6sFkrZig",
        "outputId": "f6d56d84-5577-4aeb-c249-e201674e3fa7"
      },
      "outputs": [
        {
          "name": "stdout",
          "output_type": "stream",
          "text": [
            "torch.Size([58867, 3]) torch.Size([58867])\n",
            "torch.Size([7404, 3]) torch.Size([7404])\n",
            "torch.Size([7372, 3]) torch.Size([7372])\n"
          ]
        }
      ],
      "source": [
        "import random\n",
        "\n",
        "random.seed(42)\n",
        "random.shuffle(words)\n",
        "n1 = int(0.8 * len(words))\n",
        "n2 = int(0.9 * len(words))\n",
        "\n",
        "Xtr, Ytr = build_dataset(words[:n1])\n",
        "Xdev, Ydev = build_dataset(words[n1:n2])\n",
        "Xte, Yte = build_dataset(words[n2:])"
      ]
    },
    {
      "attachments": {},
      "cell_type": "markdown",
      "id": "88e57d5a",
      "metadata": {},
      "source": [
        "We now construct the first layer: the input of such layer will have dimension $3 \\cdot 2 = 6$, i.e. the multiplied dimension of the $n$-gram and the embedding dimension.\n",
        "We will consider $100$ neurons (another hyperparameter)."
      ]
    },
    {
      "cell_type": "code",
      "execution_count": 10,
      "id": "_31gSzTrrZih",
      "metadata": {
        "colab": {
          "base_uri": "https://localhost:8080/"
        },
        "id": "_31gSzTrrZih",
        "outputId": "1b6447b5-8860-4077-ebe9-ad3848bf4737"
      },
      "outputs": [
        {
          "name": "stdout",
          "output_type": "stream",
          "text": [
            "12108\n"
          ]
        }
      ],
      "source": [
        "# MLP revisited\n",
        "n_embd = 10  # the dimensionality of the character embedding vectors\n",
        "n_hidden = 200  # the number of neurons in the hidden layer of MLP\n",
        "\n",
        "g = torch.Generator().manual_seed(123456780)  # for reproducibility\n",
        "C = torch.randn((vocab_size, n_embd), generator=g)\n",
        "W1 = torch.randn((n_embd * block_size, n_hidden), generator=g)  # neurons\n",
        "b1 = torch.randn(n_hidden, generator=g)  # bias\n",
        "W2 = torch.randn((n_hidden, vocab_size), generator=g)\n",
        "b2 = torch.randn(vocab_size, generator=g)\n",
        "parameters = [C, W1, b1, W2, b2]\n",
        "print(sum(p.nelement() for p in parameters))  # number of parameter in total...\n",
        "for p in parameters:\n",
        "    p.requires_grad = True"
      ]
    },
    {
      "attachments": {},
      "cell_type": "markdown",
      "id": "94e38dd2",
      "metadata": {},
      "source": [
        "Now we would like to compute the product $emb \\cdot W1 + b1$.\n",
        "But $emb$ has a different dimension (or shape) with regard to $W1$: we need to **concatenate** the elements of $emb$ in order to get the same dimension.\n",
        "Now, there would be many ways to do this: with PyTorch we have the function $cat$ (together with $unbind$) which could do the work for us... but there is actually a much less time-costing way. \n",
        "\n",
        "As a matter of fact, PyTorch has a built-in method $view$ which re-organizes the elements of a tensor in the shape we choose: and it does this operation just (roughly) re-arranging the allocated memory for each term, and not allocating new memory: therefore this is far more efficient than using other PyTorch functions.\n",
        "This is what we are going to use."
      ]
    },
    {
      "cell_type": "code",
      "execution_count": 11,
      "id": "JY6Q0EXUrZih",
      "metadata": {
        "colab": {
          "base_uri": "https://localhost:8080/"
        },
        "id": "JY6Q0EXUrZih",
        "outputId": "501bc028-b49f-441e-a1aa-92d5c552fa98"
      },
      "outputs": [
        {
          "name": "stdout",
          "output_type": "stream",
          "text": [
            "      0/ 200000:25.2234\n",
            "  10000/ 200000:2.2865\n",
            "  20000/ 200000:2.1045\n",
            "  30000/ 200000:2.1319\n",
            "  40000/ 200000:1.8164\n",
            "  50000/ 200000:1.6172\n",
            "  60000/ 200000:1.8491\n",
            "  70000/ 200000:1.9464\n",
            "  80000/ 200000:1.9799\n",
            "  90000/ 200000:2.3608\n",
            " 100000/ 200000:1.3078\n",
            " 110000/ 200000:1.9567\n",
            " 120000/ 200000:1.5188\n",
            " 130000/ 200000:1.7088\n",
            " 140000/ 200000:1.6152\n",
            " 150000/ 200000:2.0892\n",
            " 160000/ 200000:1.2948\n",
            " 170000/ 200000:1.3657\n",
            " 180000/ 200000:1.7789\n",
            " 190000/ 200000:1.5764\n"
          ]
        }
      ],
      "source": [
        "# same optimization as last time\n",
        "max_steps = 200000\n",
        "batch_size = 32\n",
        "lossi = []\n",
        "\n",
        "for i in range(max_steps):\n",
        "    # mini batch construct\n",
        "    ix = torch.randint(0, Xtr.shape[0], (batch_size,), generator=g)\n",
        "    Xb, Yb = Xtr[ix], Ytr[ix]  # batch X,Y\n",
        "\n",
        "    # forward bass\n",
        "    emb = C[Xb]  # embed characters into vectors\n",
        "    embcat = emb.view(emb.shape[0], -1)  # concatenate the vectors\n",
        "    hpreact = embcat @ W1 + b1  # hidden layer pre-activation\n",
        "    h = torch.tanh(hpreact)  # hidden layer\n",
        "    logits = h @ W2 + b2  # output layer\n",
        "    loss = F.cross_entropy(logits, Yb)  # loss function\n",
        "\n",
        "    # backward pass\n",
        "    for p in parameters:\n",
        "        p.grad = None\n",
        "    loss.backward()\n",
        "\n",
        "    # update\n",
        "    lr = 0.1 if i < 100000 else 0.01  # step learning rate decay\n",
        "    for p in parameters:\n",
        "        p.data += -lr * p.grad\n",
        "\n",
        "    # track stats\n",
        "\n",
        "    if i % 10000 == 0:  # print every once in a while\n",
        "        print(f\"{i:7d}/{max_steps:7d}:{loss.item():.4f}\")\n",
        "    lossi.append(loss.log10().item())"
      ]
    },
    {
      "cell_type": "code",
      "execution_count": 12,
      "id": "Y1lCC60XrZii",
      "metadata": {
        "id": "Y1lCC60XrZii",
        "outputId": "525946e9-5c55-4d78-d5d7-aa383e7bd901"
      },
      "outputs": [
        {
          "name": "stdout",
          "output_type": "stream",
          "text": [
            "tensor(3.3322)\n"
          ]
        }
      ],
      "source": [
        "print(-torch.tensor(1 / 28).log())"
      ]
    },
    {
      "cell_type": "code",
      "execution_count": 14,
      "id": "p76ygmM5rZii",
      "metadata": {
        "colab": {
          "base_uri": "https://localhost:8080/",
          "height": 447
        },
        "id": "p76ygmM5rZii",
        "outputId": "0843ca29-9450-42e1-ed46-a91f5118cfcc"
      },
      "outputs": [
        {
          "data": {
            "image/png": "[encoded data removed]",
            "text/plain": [
              "<Figure size 640x480 with 1 Axes>"
            ]
          },
          "metadata": {},
          "output_type": "display_data"
        }
      ],
      "source": [
        "plt.plot(lossi)"
      ]
    },
    {
      "cell_type": "code",
      "execution_count": 15,
      "id": "S6pqmwwwrZij",
      "metadata": {
        "id": "S6pqmwwwrZij"
      },
      "outputs": [],
      "source": [
        "# this decorator disables gradient tracking....discuss in class....\n",
        "@torch.no_grad()\n",
        "def split_loss(split):\n",
        "    x, y = {\n",
        "        \"train\": (Xtr, Ytr),\n",
        "        \"val\": (Xdev, Ydev),\n",
        "        \"test\": (Xte, Yte),\n",
        "    }[split]\n",
        "    emb = C[x]  # (N,block_size, n_embd)\n",
        "    embcat = emb.view(emb.shape[0], -1)  # concat into (N,block_size*n_embd)\n",
        "    hpreact = embcat @ W1 + b1  # hidden layer pre-activation\n",
        "    h = torch.tanh(hpreact)  # hidden layer (N, h_hidden)\n",
        "    logits = h @ W2 + b2  # output layer (N, vocab_size)\n",
        "    loss = F.cross_entropy(logits, y)  # loss function\n",
        "    print(split, loss.item())"
      ]
    },
    {
      "cell_type": "code",
      "execution_count": 16,
      "id": "kA9w4R5BrZij",
      "metadata": {
        "colab": {
          "base_uri": "https://localhost:8080/"
        },
        "id": "kA9w4R5BrZij",
        "outputId": "af905276-d31d-4c8d-938d-354ac99f799c"
      },
      "outputs": [
        {
          "name": "stdout",
          "output_type": "stream",
          "text": [
            "train 1.6465035676956177\n",
            "val 1.8481979370117188\n"
          ]
        }
      ],
      "source": [
        "split_loss(\"train\")\n",
        "split_loss(\"val\")"
      ]
    },
    {
      "cell_type": "code",
      "execution_count": 17,
      "id": "3XUFn74LrZij",
      "metadata": {
        "colab": {
          "base_uri": "https://localhost:8080/"
        },
        "id": "3XUFn74LrZij",
        "outputId": "0ea763bd-969d-4799-ac5d-3fe6409fe598"
      },
      "outputs": [
        {
          "name": "stdout",
          "output_type": "stream",
          "text": [
            "albo.\n",
            "giovanno.\n",
            "rizio.\n",
            "siside.\n",
            "polina.\n",
            "gio.\n",
            "assimo.\n",
            "cecchiarosinda.\n",
            "benuartinaippirenziana.\n",
            "peppio.\n",
            "abdocchia.\n",
            "bella.\n",
            "benio.\n",
            "moheo.\n",
            "lauretilla.\n",
            "rinieronino.\n",
            "filosca.\n",
            "esaro.\n",
            "euto.\n",
            "giliana.\n"
          ]
        }
      ],
      "source": [
        "# sampling from the model.....\n",
        "\n",
        "g = torch.Generator().manual_seed(12345678 + 10)\n",
        "\n",
        "for _ in range(20):\n",
        "    out = []\n",
        "    context = [0] * block_size\n",
        "    while True:\n",
        "        emb = C[torch.tensor([context])]  # (1,block_size,n_embed)\n",
        "        h = torch.tanh(emb.view(1, -1) @ W1 + b1)\n",
        "        logits = h @ W2 + b2\n",
        "        probs = F.softmax(logits, dim=1)\n",
        "        # sample from the distribuion\n",
        "        ix = torch.multinomial(probs, num_samples=1, generator=g).item()\n",
        "        # shift the context window and track the samples\n",
        "        context = context[1:] + [ix]\n",
        "        out.append(ix)\n",
        "        # if we sample the special '.' token, break\n",
        "        if ix == 0:\n",
        "            break\n",
        "\n",
        "    print(\"\".join(itos[i] for i in out))  # decode and print the generated word"
      ]
    },
    {
      "cell_type": "code",
      "execution_count": 21,
      "id": "OYeZW1aMrZik",
      "metadata": {
        "colab": {
          "base_uri": "https://localhost:8080/",
          "height": 235
        },
        "id": "OYeZW1aMrZik",
        "outputId": "35128c6c-98a5-4999-f3af-8fac7c80d451"
      },
      "outputs": [
        {
          "name": "stdout",
          "output_type": "stream",
          "text": [
            "logits: tensor([-14.4960, -31.7004, 124.3944, 179.8049])\n",
            "probs: tensor([0.0000e+00, 0.0000e+00, 8.6204e-25, 1.0000e+00])\n",
            "loss: tensor(55.4105)\n"
          ]
        }
      ],
      "source": [
        "# let us focus on the last layer ....logits and then softmax\n",
        "\n",
        "logits = torch.randn(4) * 100\n",
        "# logits = view(2, 2, 2, 20)\n",
        "probs = torch.softmax(logits, dim=0)\n",
        "loss = -probs[2].log()\n",
        "print(\"logits:\", logits)\n",
        "print(\"probs:\", probs)\n",
        "print(\"loss:\", loss)"
      ]
    },
    {
      "cell_type": "code",
      "execution_count": 22,
      "id": "mdsrI0GVrZik",
      "metadata": {
        "colab": {
          "base_uri": "https://localhost:8080/"
        },
        "id": "mdsrI0GVrZik",
        "outputId": "55bd213a-4e96-4571-ec36-56264ad65ebd"
      },
      "outputs": [
        {
          "name": "stdout",
          "output_type": "stream",
          "text": [
            "12108\n"
          ]
        }
      ],
      "source": [
        "# back to our examples and look at the logit just after the first pass and understand normalization....\n",
        "\n",
        "\n",
        "# MLP revisited\n",
        "n_embd = 10  # the dimensionality of the character embedding vectors\n",
        "n_hidden = 200  # the number of neurons in the hidden layer of MLP\n",
        "\n",
        "g = torch.Generator().manual_seed(123456780)  # for reproducibility\n",
        "C = torch.randn((vocab_size, n_embd), generator=g)\n",
        "W1 = torch.randn((n_embd * block_size, n_hidden), generator=g)  # *0.20\n",
        "b1 = torch.randn(n_hidden, generator=g)  # *0.01\n",
        "W2 = torch.randn((n_hidden, vocab_size), generator=g)  # *0.01\n",
        "b2 = torch.randn(vocab_size, generator=g)  # *0\n",
        "parameters = [C, W1, b1, W2, b2]\n",
        "print(sum(p.nelement() for p in parameters))  # number of parameter in total...\n",
        "for p in parameters:\n",
        "    p.requires_grad = True"
      ]
    },
    {
      "cell_type": "code",
      "execution_count": 23,
      "id": "rH5JR91qrZik",
      "metadata": {
        "colab": {
          "base_uri": "https://localhost:8080/"
        },
        "id": "rH5JR91qrZik",
        "outputId": "a5b5188b-edca-4c93-b664-ffb1d0d065cc"
      },
      "outputs": [
        {
          "name": "stdout",
          "output_type": "stream",
          "text": [
            "      0/ 200000:25.2234\n"
          ]
        }
      ],
      "source": [
        "# same optimization as last time...try, look at logits then go up and change W2 and b2 normalization.....\n",
        "max_steps = 200000\n",
        "batch_size = 32\n",
        "lossi = []\n",
        "\n",
        "for i in range(max_steps):\n",
        "    # mini batch construct\n",
        "    ix = torch.randint(0, Xtr.shape[0], (batch_size,), generator=g)\n",
        "    Xb, Yb = Xtr[ix], Ytr[ix]  # batch X,Y\n",
        "\n",
        "    # forward bass\n",
        "    emb = C[Xb]  # embed characters into vectors\n",
        "    embcat = emb.view(emb.shape[0], -1)  # concatenate the vectors\n",
        "    hpreact = embcat @ W1 + b1  # hidden layer pre-activation\n",
        "    h = torch.tanh(hpreact)  # hidden layer\n",
        "    logits = h @ W2 + b2  # output layer\n",
        "    loss = F.cross_entropy(logits, Yb)  # loss function\n",
        "\n",
        "    # backward pass\n",
        "    for p in parameters:\n",
        "        p.grad = None\n",
        "    loss.backward()\n",
        "\n",
        "    # update\n",
        "    lr = 0.1 if i < 100000 else 0.01  # step learning rate decay\n",
        "    for p in parameters:\n",
        "        p.data += -lr * p.grad\n",
        "\n",
        "    # track stats\n",
        "\n",
        "    if i % 10000 == 0:  # print every once in a while\n",
        "        print(f\"{i:7d}/{max_steps:7d}:{loss.item():.4f}\")\n",
        "    lossi.append(loss.log10().item())\n",
        "    break"
      ]
    },
    {
      "cell_type": "code",
      "execution_count": 26,
      "id": "4mJuys1mrZil",
      "metadata": {
        "id": "4mJuys1mrZil",
        "outputId": "4669d011-b452-407a-9e69-739e3efc52e5"
      },
      "outputs": [
        {
          "name": "stdout",
          "output_type": "stream",
          "text": [
            "tensor([ 10.6530,  -7.2423,  31.2924, -15.8263,   7.0554,  -0.8957,  10.4593,\n",
            "          8.9841,  13.3143,  -2.6116,  14.7497,  17.5647,  17.0676,   1.1002,\n",
            "         14.7031, -13.5323, -19.1125, -21.7921,  21.1479,   8.6535,   7.4713,\n",
            "         -3.2913,   3.2052,   1.8503,  12.2664,  -3.8606,   3.1228,   4.6715],\n",
            "       grad_fn=<SelectBackward0>)\n"
          ]
        }
      ],
      "source": [
        "print(\n",
        "    logits[1]\n",
        ")  # confidently wrong... but with weigth is better... 'squashing down the neurons...'"
      ]
    },
    {
      "cell_type": "code",
      "execution_count": null,
      "id": "LGgoyK35rZil",
      "metadata": {
        "id": "LGgoyK35rZil"
      },
      "outputs": [],
      "source": [
        "# Exercise: try the followi ng normalization, train , evaluate and sample the MLP"
      ]
    },
    {
      "cell_type": "code",
      "execution_count": 29,
      "id": "v_M-UZW5rZil",
      "metadata": {
        "id": "v_M-UZW5rZil",
        "outputId": "1717d616-a291-4a4f-cbb5-7000ff91802a"
      },
      "outputs": [
        {
          "name": "stdout",
          "output_type": "stream",
          "text": [
            "torch.Size([32, 200])\n"
          ]
        }
      ],
      "source": [
        "# Now we focus on the first layer (show pict): h & hpreact\n",
        "\n",
        "# remember to intialize and run again\n",
        "\n",
        "# look at the +- 1 in h\n",
        "print(h.shape)"
      ]
    },
    {
      "cell_type": "code",
      "execution_count": 28,
      "id": "aYd12TWnrZil",
      "metadata": {
        "id": "aYd12TWnrZil",
        "outputId": "d3443594-953f-4176-8535-edd56c2043fb"
      },
      "outputs": [
        {
          "name": "stdout",
          "output_type": "stream",
          "text": [
            "6400\n"
          ]
        }
      ],
      "source": [
        "print(len(h.view(-1).tolist()))  # 32*200"
      ]
    },
    {
      "cell_type": "code",
      "execution_count": 30,
      "id": "v5fQWCX8rZim",
      "metadata": {
        "id": "v5fQWCX8rZim",
        "outputId": "96339089-5937-4b88-c86f-3483ec517a2a"
      },
      "outputs": [
        {
          "data": {
            "image/png": "[encoded data removed]",
            "text/plain": [
              "<Figure size 640x480 with 1 Axes>"
            ]
          },
          "metadata": {},
          "output_type": "display_data"
        }
      ],
      "source": [
        "plt.hist(h.view(-1).tolist(), 50)\n",
        "# a lot of neurons  are ' saturated'"
      ]
    },
    {
      "cell_type": "code",
      "execution_count": 31,
      "id": "anF0MSiorZim",
      "metadata": {
        "id": "anF0MSiorZim",
        "outputId": "affa01ff-09c2-4132-ded1-164f44c1522e"
      },
      "outputs": [
        {
          "data": {
            "image/png": "[encoded data removed]",
            "text/plain": [
              "<Figure size 640x480 with 1 Axes>"
            ]
          },
          "metadata": {},
          "output_type": "display_data"
        }
      ],
      "source": [
        "# now look at the \"broad\" shape of the 'hpreact' distribution.....and this is bad for learning....we want 'normality' for our brain...\n",
        "# tgh'(x)= (1-tgh(x)^2).... saturation bring to vanish gradient...no learning...\n",
        "plt.hist(hpreact.view(-1).tolist(), 50)\n",
        "# a lot of neurons  are ' saturated'"
      ]
    },
    {
      "cell_type": "code",
      "execution_count": 33,
      "id": "r1B6jsGarZim",
      "metadata": {
        "id": "r1B6jsGarZim",
        "outputId": "a109051c-8ea1-44b4-ddd4-e0b01b7ac728"
      },
      "outputs": [
        {
          "data": {
            "image/png": "[encoded data removed]",
            "text/plain": [
              "<Figure size 2000x1000 with 1 Axes>"
            ]
          },
          "metadata": {},
          "output_type": "display_data"
        }
      ],
      "source": [
        "# looking for dead neurons....comment other Activation Functions..... go back weigth the first layer and try again...\n",
        "\n",
        "plt.figure(figsize=(20, 10))\n",
        "plt.imshow(h.abs() > 0.99, cmap=\"gray\", interpolation=\"nearest\")"
      ]
    },
    {
      "cell_type": "code",
      "execution_count": 34,
      "id": "UDZCs2WrrZim",
      "metadata": {
        "id": "UDZCs2WrrZim",
        "outputId": "dad56031-45ae-4380-d4d4-f5658141314a"
      },
      "outputs": [
        {
          "name": "stdout",
          "output_type": "stream",
          "text": [
            "torch.Size([1000, 200])\n",
            "tensor(0.0148) tensor(0.9958)\n",
            "tensor(-0.0002) tensor(3.1940)\n"
          ]
        },
        {
          "data": {
            "image/png": "[encoded data removed]",
            "text/plain": [
              "<Figure size 2000x500 with 2 Axes>"
            ]
          },
          "metadata": {},
          "output_type": "display_data"
        }
      ],
      "source": [
        "# why we do not to have to worry too much about inizialization....bach normalization..\n",
        "# since 2015\n",
        "# https://arxiv.org/abs/1502.03167\n",
        "# if the problems are fluctuations and saturations (discuss in class)...then just gaussain normalize at each layer...\n",
        "# simple as that !!!...and normalizing is differentiable !!....\n",
        "\n",
        "x = torch.randn(1000, 10)\n",
        "w = torch.randn(10, 200)  # *.2 #*1/10**0.5\n",
        "y = x @ w\n",
        "print(y.shape)\n",
        "print(x.mean(), x.std())\n",
        "print(y.mean(), y.std())\n",
        "plt.figure(figsize=(20, 5))\n",
        "plt.subplot(121)\n",
        "plt.hist(x.view(-1).tolist(), 50, density=True)\n",
        "plt.subplot(122)\n",
        "plt.hist(y.view(-1).tolist(), 50, density=True)"
      ]
    }
  ],
  "metadata": {
    "colab": {
      "provenance": []
    },
    "kernelspec": {
      "display_name": "Python 3",
      "language": "python",
      "name": "python3"
    },
    "language_info": {
      "codemirror_mode": {
        "name": "ipython",
        "version": 3
      },
      "file_extension": ".py",
      "mimetype": "text/x-python",
      "name": "python",
      "nbconvert_exporter": "python",
      "pygments_lexer": "ipython3",
      "version": "3.10.6"
    }
  },
  "nbformat": 4,
  "nbformat_minor": 5
}
