{
 "cells": [
  {
   "attachments": {},
   "cell_type": "markdown",
   "metadata": {},
   "source": [
    "# Convolutional Network - MakeMore pt.4 (28/04/2023)\n",
    "\n",
    "For real the 4th was about back propagation, but we skip it in this course.\n",
    "For the final exam one may go deeper into this algorithm, maybe by hand.\n",
    "\n",
    "Last time we implemented a multilayer perceptron (with actually two layers), working at character level and building a probability distribution.\n",
    "The pipeline was:\n",
    "- embedding (2 -10 dimensional vectors)\n",
    "- glue them together, but this is not the best thing one can do\n",
    "\n",
    "Instead of looking at 3 previous char we can look at 8 previous char and so on...\n",
    "We'll see it doesn't change much.\n",
    "Idea: feed the net with information in a hierarchical way.\n",
    "Notice that we'll work with text, but we can expand this also to images.\n",
    "We want to construct a convolution network, even if it's not related to the mathematical definition of convolution.\n",
    "Glue chars together, giving it to a layer, process, glue another char and give to the next layer and so on.\n",
    "The line behind all this is entropy, we skip the compression algorithm for lack of time.\n",
    "Probability distribution, entropy and compression are actually the same thing."
   ]
  },
  {
   "cell_type": "code",
   "execution_count": 1,
   "metadata": {},
   "outputs": [],
   "source": [
    "# now we want to enlarge the context length AND ''fuse information in a hierarchical manner''\n",
    "# see the approach in https://arxiv.org/abs/1609.03499\n"
   ]
  },
  {
   "cell_type": "code",
   "execution_count": 2,
   "metadata": {},
   "outputs": [],
   "source": [
    "# The importance of embedding\n",
    "\n",
    "# word2vec: skip-gram https://arxiv.org/pdf/1301.3781v3.pdf\n",
    "# node2vec: https://arxiv.org/pdf/1607.00653.pdf\n"
   ]
  },
  {
   "attachments": {},
   "cell_type": "markdown",
   "metadata": {},
   "source": [
    "Data are not always linear, or a lattice, or on a euclidean space...\n",
    "Things are complicated.\n",
    "However, for some phenomena, they're naturally distributed in networks (or if you want, graph).\n",
    "The main concepts are neighbors, distances...\n",
    "As we can handle text we can handle images, which are just euclidean spaces.\n",
    "\n",
    "This field is going extremely fast, keep going!\n",
    "\n",
    "We deal with real numbers which can be positive, negative, very big, very small...\n",
    "The hyperbolic tangent help us to squeeze them.\n",
    "Otherwise, the neurons won't learn.\n",
    "There is still a lot to understand there...\n",
    "Take it as it is, *e più non dimandare*.\n",
    "Actually, there are many ways to squeeze without the hyperbolic tangent, but the meaning is the same.\n",
    "\n",
    "We'll assume batch normalization and focus on the method.\n",
    "We'll hierarchically glue 8 char together.\n",
    "See also WaveNet for audio generation.\n",
    "We want to pass from 2+2+2 → 6 to 2 → 3 → ... → 6, i.e. gradually.\n",
    "Convolutional layers like this are very spread and useful for text analysis."
   ]
  },
  {
   "cell_type": "code",
   "execution_count": 3,
   "metadata": {},
   "outputs": [],
   "source": [
    "import random\n",
    "import torch\n",
    "import torch.nn.functional as F\n",
    "import torch.nn as nn\n",
    "import matplotlib.pyplot as plt\n",
    "%matplotlib inline\n"
   ]
  },
  {
   "cell_type": "code",
   "execution_count": 4,
   "metadata": {},
   "outputs": [
    {
     "name": "stdout",
     "output_type": "stream",
     "text": [
      "9105\n",
      "['argento', 'giovannino', 'licurga', 'elvira', 'marena', 'sirio', 'emilia', 'bisio']\n"
     ]
    }
   ],
   "source": [
    "# read in all the words\n",
    "random.seed(158)\n",
    "words = (\n",
    "    open(\"data/nomi_italiani.txt\", \"r\").read().splitlines()\n",
    ")  # each line is an element of the list\n",
    "random.shuffle(words)\n",
    "print(len(words))\n",
    "print(words[0:8])\n"
   ]
  },
  {
   "cell_type": "code",
   "execution_count": 5,
   "metadata": {},
   "outputs": [
    {
     "name": "stdout",
     "output_type": "stream",
     "text": [
      "{1: '-', 2: 'a', 3: 'b', 4: 'c', 5: 'd', 6: 'e', 7: 'f', 8: 'g', 9: 'h', 10: 'i', 11: 'j', 12: 'k', 13: 'l', 14: 'm', 15: 'n', 16: 'o', 17: 'p', 18: 'q', 19: 'r', 20: 's', 21: 't', 22: 'u', 23: 'v', 24: 'w', 25: 'x', 26: 'y', 27: 'z', 0: '.'}\n",
      "28\n"
     ]
    }
   ],
   "source": [
    "# build the vocabulary of characters and mappings to/from integers (encoder/decoder)\n",
    "chars = sorted(list(set(\"\".join(words))))\n",
    "stoi = {s: i + 1 for i, s in enumerate(chars)}\n",
    "stoi[\".\"] = 0\n",
    "itos = {i: s for s, i in stoi.items()}\n",
    "vocab_size = len(stoi)\n",
    "print(itos)\n",
    "print(vocab_size)\n"
   ]
  },
  {
   "cell_type": "code",
   "execution_count": 6,
   "metadata": {},
   "outputs": [
    {
     "name": "stdout",
     "output_type": "stream",
     "text": [
      "torch.Size([59049, 8]) torch.Size([59049])\n",
      "torch.Size([7332, 8]) torch.Size([7332])\n",
      "torch.Size([7262, 8]) torch.Size([7262])\n"
     ]
    }
   ],
   "source": [
    "# build the dataset\n",
    "block_size = 8  # 8 context length: how many characters do we take to predict the next one?\n",
    "\n",
    "\n",
    "def build_dataset(words):\n",
    "    X, Y = [], []\n",
    "\n",
    "    for w in words:\n",
    "        context = [0] * block_size\n",
    "        for ch in w + \".\":\n",
    "            ix = stoi[ch]\n",
    "            X.append(context)\n",
    "            Y.append(ix)\n",
    "            context = context[1:] + [ix]  # crop and append\n",
    "\n",
    "    X = torch.tensor(X)\n",
    "    Y = torch.tensor(Y)\n",
    "    print(X.shape, Y.shape)\n",
    "    return X, Y\n",
    "\n",
    "\n",
    "n1 = int(0.8 * len(words))\n",
    "n2 = int(0.9 * len(words))\n",
    "Xtr, Ytr = build_dataset(words[:n1])  # 80%\n",
    "Xdev, Ydev = build_dataset(words[n1:n2])  # 10%\n",
    "Xte, Yte = build_dataset(words[n2:])  # 10%\n"
   ]
  },
  {
   "cell_type": "code",
   "execution_count": 7,
   "metadata": {},
   "outputs": [
    {
     "name": "stdout",
     "output_type": "stream",
     "text": [
      "........ --> a\n",
      ".......a --> r\n",
      "......ar --> g\n",
      ".....arg --> e\n",
      "....arge --> n\n",
      "...argen --> t\n",
      "..argent --> o\n",
      ".argento --> .\n",
      "........ --> g\n",
      ".......g --> i\n",
      "......gi --> o\n",
      ".....gio --> v\n",
      "....giov --> a\n",
      "...giova --> n\n",
      "..giovan --> n\n",
      ".giovann --> i\n",
      "giovanni --> n\n",
      "iovannin --> o\n",
      "ovannino --> .\n",
      "........ --> l\n"
     ]
    }
   ],
   "source": [
    "for x, y in zip(Xtr[:20], Ytr[:20]):\n",
    "    print(\"\".join(itos[ix.item()] for ix in x), \"-->\", itos[y.item()])\n"
   ]
  },
  {
   "attachments": {},
   "cell_type": "markdown",
   "metadata": {},
   "source": [
    "Let's do it in an object-oriented way.\n",
    "These things are already contained in PyTorch, so we don't need to write them by hand.\n",
    "All these classes are into _torch.nn.*_"
   ]
  },
  {
   "cell_type": "code",
   "execution_count": 8,
   "metadata": {},
   "outputs": [],
   "source": [
    "# Near copy paste of the layers we have developed in Part 3\n",
    "# all these definitions work as in PyTorch, but we won't use it as a black box\n",
    "\n",
    "\n",
    "# -----------------------------------------------------------------------------------------------\n",
    "class Linear:\n",
    "    def __init__(self, fan_in, fan_out, bias=True):\n",
    "        self.weight = (\n",
    "            torch.randn((fan_in, fan_out)) / fan_in**0.5\n",
    "        )  # note: kaiming init\n",
    "        self.bias = torch.zeros(fan_out) if bias else None\n",
    "\n",
    "    def __call__(self, x):\n",
    "        self.out = x @ self.weight\n",
    "        if self.bias is not None:\n",
    "            self.out += self.bias\n",
    "        return self.out\n",
    "\n",
    "    def parameters(self):\n",
    "        return [self.weight] + ([] if self.bias is None else [self.bias])\n",
    "\n",
    "\n",
    "# -----------------------------------------------------------------------------------------------\n",
    "class BatchNorm1d:\n",
    "    def __init__(self, dim, eps=1e-5, momentum=0.1):\n",
    "        self.eps = eps\n",
    "        self.momentum = momentum\n",
    "        self.training = True\n",
    "        # parameters (trained with backprop)\n",
    "        self.gamma = torch.ones(dim)\n",
    "        self.beta = torch.zeros(dim)\n",
    "        # buffers (trained with a running 'momentum update')\n",
    "        self.running_mean = torch.zeros(dim)\n",
    "        self.running_var = torch.ones(dim)\n",
    "\n",
    "    def __call__(self, x):\n",
    "        # calculate the forward pass\n",
    "        if self.training:\n",
    "            if x.ndim == 2:\n",
    "                dim = 0\n",
    "            elif x.ndim == 3:\n",
    "                dim = (0, 1)\n",
    "            xmean = x.mean(dim, keepdim=True)  # batch mean\n",
    "            xvar = x.var(dim, keepdim=True)  # batch variance\n",
    "        else:\n",
    "            xmean = self.running_mean\n",
    "            xvar = self.running_var\n",
    "        # normalize to unit variance\n",
    "        xhat = (x - xmean) / torch.sqrt(xvar + self.eps)\n",
    "        self.out = self.gamma * xhat + self.beta\n",
    "        # update the buffers\n",
    "        if self.training:\n",
    "            with torch.no_grad():\n",
    "                self.running_mean = (\n",
    "                    1 - self.momentum\n",
    "                ) * self.running_mean + self.momentum * xmean\n",
    "                self.running_var = (\n",
    "                    1 - self.momentum\n",
    "                ) * self.running_var + self.momentum * xvar\n",
    "        return self.out\n",
    "\n",
    "    def parameters(self):\n",
    "        return [self.gamma, self.beta]\n",
    "\n",
    "\n",
    "# -----------------------------------------------------------------------------------------------\n",
    "class Tanh:\n",
    "    def __call__(self, x):\n",
    "        self.out = torch.tanh(x)\n",
    "        return self.out\n",
    "\n",
    "    def parameters(self):\n",
    "        return []\n",
    "\n",
    "\n",
    "# -----------------------------------------------------------------------------------------------\n",
    "class Embedding:\n",
    "    def __init__(self, num_embeddings, embedding_dim):\n",
    "        self.weight = torch.randn((num_embeddings, embedding_dim))\n",
    "\n",
    "    def __call__(self, IX):\n",
    "        self.out = self.weight[IX]\n",
    "        return self.out\n",
    "\n",
    "    def parameters(self):\n",
    "        return [self.weight]\n",
    "\n",
    "\n",
    "# -----------------------------------------------------------------------------------------------\n",
    "class Flatten:\n",
    "    def __init__(self, n):\n",
    "        self.n = n\n",
    "\n",
    "    def __call__(self, x):\n",
    "        self.out = x.view(x.shape[0], -1)\n",
    "        return self.out\n",
    "\n",
    "    def parameters(self):\n",
    "        return []\n",
    "\n",
    "\n",
    "# -----------------------------------------------------------------------------------------------\n",
    "class FlattenConsecutive:\n",
    "    def __init__(self, n):\n",
    "        self.n = n\n",
    "\n",
    "    def __call__(self, x):\n",
    "        B, T, C = x.shape\n",
    "        x = x.view(B, T // self.n, C * self.n)\n",
    "        if x.shape[1] == 1:\n",
    "            x = x.squeeze(1)\n",
    "        self.out = x\n",
    "        return self.out\n",
    "\n",
    "    def parameters(self):\n",
    "        return []\n",
    "\n",
    "\n",
    "# -----------------------------------------------------------------------------------------------\n",
    "class Sequential:\n",
    "    def __init__(self, layers):\n",
    "        self.layers = layers\n",
    "\n",
    "    def __call__(self, x):\n",
    "        for layer in self.layers:\n",
    "            x = layer(x)\n",
    "        self.out = x\n",
    "        return self.out\n",
    "\n",
    "    def parameters(self):\n",
    "        # get parameters of all layers and stretch them out into one list\n",
    "        return [p for layer in self.layers for p in layer.parameters()]\n"
   ]
  },
  {
   "cell_type": "code",
   "execution_count": 9,
   "metadata": {},
   "outputs": [
    {
     "data": {
      "text/plain": [
       "<torch._C.Generator at 0x7ff1d570b370>"
      ]
     },
     "execution_count": 9,
     "metadata": {},
     "output_type": "execute_result"
    }
   ],
   "source": [
    "torch.manual_seed(42)\n"
   ]
  },
  {
   "attachments": {},
   "cell_type": "markdown",
   "metadata": {},
   "source": [
    "C is our embedding matrix 28x10 which contains the 10 dimensional embedding for each of 28 chars.\n",
    "Context length is 8, multiply by 10 so 80 is the dimension of the input layer."
   ]
  },
  {
   "cell_type": "code",
   "execution_count": 10,
   "metadata": {},
   "outputs": [
    {
     "name": "stdout",
     "output_type": "stream",
     "text": [
      "22308\n"
     ]
    }
   ],
   "source": [
    "# original network https://jmlr.org/papers/volume3/tmp/bengio03a.pdf\n",
    "\n",
    "n_embd = 10  # the dimensionality of the character embedding vectors\n",
    "n_hidden = 200  # the number of neurons in the hidden layer of the MLP\n",
    "\n",
    "C = torch.randn(vocab_size, n_embd)\n",
    "layers = [\n",
    "    Linear(n_embd * block_size, n_hidden, bias=False),\n",
    "    BatchNorm1d(n_hidden),  # normalize, otherwise learning stops\n",
    "    Tanh(),\n",
    "    Linear(n_hidden, vocab_size),\n",
    "]\n",
    "\n",
    "# parameter initialization\n",
    "\n",
    "with torch.no_grad():\n",
    "    layers[-1].weight *= 0.1  # last layer make less confident\n",
    "\n",
    "parameters = [C] + [p for layer in layers for p in layer.parameters()]\n",
    "print(sum(p.nelement() for p in parameters))  # number of parameters in total\n",
    "for p in parameters:\n",
    "    p.requires_grad = True\n"
   ]
  },
  {
   "cell_type": "code",
   "execution_count": 11,
   "metadata": {},
   "outputs": [
    {
     "name": "stdout",
     "output_type": "stream",
     "text": [
      "      0/ 200000: 3.3371\n",
      "  10000/ 200000: 2.1734\n",
      "  20000/ 200000: 1.9819\n",
      "  30000/ 200000: 1.6350\n",
      "  40000/ 200000: 1.3981\n",
      "  50000/ 200000: 1.6659\n",
      "  60000/ 200000: 1.8349\n",
      "  70000/ 200000: 1.6599\n",
      "  80000/ 200000: 1.2059\n",
      "  90000/ 200000: 1.6775\n",
      " 100000/ 200000: 1.3948\n",
      " 110000/ 200000: 1.3727\n",
      " 120000/ 200000: 1.7746\n",
      " 130000/ 200000: 1.5139\n",
      " 140000/ 200000: 1.3102\n",
      " 150000/ 200000: 1.4078\n",
      " 160000/ 200000: 1.3451\n",
      " 170000/ 200000: 1.2467\n",
      " 180000/ 200000: 1.4784\n",
      " 190000/ 200000: 1.3532\n"
     ]
    }
   ],
   "source": [
    "# same optimization as last time\n",
    "max_steps = 200000\n",
    "batch_size = 32\n",
    "lossi = []\n",
    "\n",
    "for i in range(max_steps):\n",
    "    # minibatch construct\n",
    "    ix = torch.randint(0, Xtr.shape[0], (batch_size,))\n",
    "    Xb, Yb = Xtr[ix], Ytr[ix]  # batch X,Y\n",
    "\n",
    "    # forward pass\n",
    "\n",
    "    emb = C[Xb]  # embed the characters into vectors\n",
    "    x = emb.view(\n",
    "        emb.shape[0], -1\n",
    "    )  # concatenate the vectors, view is not memory consuming\n",
    "    for layer in layers:\n",
    "        x = layer(x)\n",
    "    loss = F.cross_entropy(x, Yb)  # loss function\n",
    "\n",
    "    # backward pass, now we're using our black box\n",
    "    for p in parameters:\n",
    "        p.grad = None\n",
    "    loss.backward()\n",
    "\n",
    "    # update: simple SGD\n",
    "    lr = 0.1 if i < 150000 else 0.01  # step learning rate decay\n",
    "    for p in parameters:\n",
    "        p.data += -lr * p.grad\n",
    "        # track stats\n",
    "    if i % 10000 == 0:  # print every once in a while\n",
    "        print(f\"{i:7d}/{max_steps:7d}: {loss.item():.4f}\")\n",
    "    lossi.append(loss.log10().item())\n"
   ]
  },
  {
   "attachments": {},
   "cell_type": "markdown",
   "metadata": {},
   "source": [
    "Why 3.3 at the beginning?\n",
    "Assuming all random, $-\\log\\frac{1}{28}$ is about that number...\n",
    "\n",
    "**NOTE** that with 8 the decrease is very slow, we're fusing info too quickly!\n",
    "\n",
    "Small batch implies fluctuating a lot, so we can use view to split in pieces of one thousand."
   ]
  },
  {
   "cell_type": "code",
   "execution_count": 12,
   "metadata": {},
   "outputs": [
    {
     "name": "stdout",
     "output_type": "stream",
     "text": [
      "tensor(3.3322)\n"
     ]
    },
    {
     "data": {
      "text/plain": [
       "[<matplotlib.lines.Line2D at 0x7ff113d62230>]"
      ]
     },
     "execution_count": 12,
     "metadata": {},
     "output_type": "execute_result"
    },
    {
     "data": {
      "image/png": "[encoded data removed]",
      "text/plain": [
       "<Figure size 1200x400 with 2 Axes>"
      ]
     },
     "metadata": {},
     "output_type": "display_data"
    }
   ],
   "source": [
    "print(-torch.tensor(1 / 28).log())\n",
    "# 32 batches are few... so you can get very lucky or unlucky\n",
    "\n",
    "fig, ax = plt.subplots(ncols=2, figsize=(12, 4))\n",
    "\n",
    "ax[0].plot(torch.tensor(lossi))\n",
    "ax[1].plot(torch.tensor(lossi).view(-1, 1000).mean(1))  # mean on each row\n"
   ]
  },
  {
   "attachments": {},
   "cell_type": "markdown",
   "metadata": {},
   "source": [
    "But look now at the first plot of the loss function.\n",
    "It's very bad, but why?\n",
    "Because a size of $32$ is very small for our batches, therefore we have that sometimes (luckily) the system is very right about its predictions and sometimes (unluckily) it is not.\n",
    "But we are physicists, we know tensors can be manipulated... what if we split the $200000$ components of the loss into lines of length $1000$?\n",
    "Then we could take the average of that and plot it...\n",
    "The second plot is much better, and we didn't change the data!\n",
    "So averaged over time, we are doing very good: $H$ is decreasing, and also notice that at the $150$ step it makes another downward jump (SGD). \n",
    "\n",
    "Now our training is over, and we want to evaluate our results.\n",
    "We need to tell PyTorch that we're not in the training phase anymore.\n",
    "**BE CAREFUL**, or you'll get weird results due to batch normalization, which for us is a black box."
   ]
  },
  {
   "cell_type": "code",
   "execution_count": 13,
   "metadata": {},
   "outputs": [],
   "source": [
    "# put layers into eval mode (needed for batchnorm especially)\n",
    "for layer in layers:\n",
    "    layer.training = False\n"
   ]
  },
  {
   "cell_type": "code",
   "execution_count": 14,
   "metadata": {},
   "outputs": [
    {
     "name": "stdout",
     "output_type": "stream",
     "text": [
      "train 1.372538447380066\n",
      "val 1.7553904056549072\n"
     ]
    }
   ],
   "source": [
    "# evaluate the loss\n",
    "@torch.no_grad()  # this decorator disables gradient tracking inside pytorch\n",
    "def split_loss(split):\n",
    "    x, y = {\n",
    "        \"train\": (Xtr, Ytr),\n",
    "        \"val\": (Xdev, Ydev),\n",
    "        \"test\": (Xte, Yte),\n",
    "    }[split]\n",
    "    emb = C[x]  # embed the characters into vectors (N, block_size)\n",
    "    x = emb.view(emb.shape[0], -1)  # concatenate the vectors\n",
    "    for layer in layers:\n",
    "        x = layer(x)\n",
    "    loss = F.cross_entropy(x, y)  # loss function\n",
    "    print(split, loss.item())\n",
    "\n",
    "\n",
    "split_loss(\"train\")\n",
    "split_loss(\"val\")\n"
   ]
  },
  {
   "cell_type": "code",
   "execution_count": 15,
   "metadata": {},
   "outputs": [
    {
     "name": "stdout",
     "output_type": "stream",
     "text": [
      "amode.\n",
      "leandro.\n",
      "alfisio.\n",
      "fabbions.\n",
      "amperia.\n",
      "oreino.\n",
      "silvina.\n",
      "wantie.\n",
      "olderiza.\n",
      "orea.\n",
      "consolita.\n",
      "mariacrostelfino.\n",
      "emerande.\n",
      "giandamaro.\n",
      "fiero.\n",
      "slorena-gettto.\n",
      "morino.\n",
      "morietta.\n",
      "alcidisso.\n",
      "artemine.\n"
     ]
    }
   ],
   "source": [
    "# sample from the model\n",
    "for _ in range(20):\n",
    "    out = []\n",
    "    context = [0] * block_size  # initialize with all ...\n",
    "    while True:\n",
    "        # forward pass the neural net\n",
    "        emb = C[\n",
    "            torch.tensor([context])\n",
    "        ]  # embed the characters into vectors (N,block_size)\n",
    "        x = emb.view(emb.shape[0], -1)  # concatenate the vectors\n",
    "        for layer in layers:\n",
    "            x = layer(x)\n",
    "        logits = x\n",
    "        probs = F.softmax(logits, dim=1)\n",
    "        # sample from the distribution\n",
    "        ix = torch.multinomial(probs, num_samples=1).item()\n",
    "        # shift the context window and track the samples\n",
    "        context = context[1:] + [ix]\n",
    "        out.append(ix)\n",
    "        # if we sample the special '.' token, break\n",
    "        if ix == 0:\n",
    "            break\n",
    "\n",
    "    print(\"\".join(itos[i] for i in out))  # decode and print the generated word\n"
   ]
  },
  {
   "attachments": {},
   "cell_type": "markdown",
   "metadata": {},
   "source": [
    "Not that bad.\n",
    "But still, we can improve this.\n",
    "We actually skipped the embedding, which we could now introduce with our classes defined earlier.\n",
    "But instead we want to \"torchify\" now our code, i.e. start to use Torch functions to improve the efficiency of our system."
   ]
  },
  {
   "cell_type": "code",
   "execution_count": 16,
   "metadata": {},
   "outputs": [
    {
     "name": "stdout",
     "output_type": "stream",
     "text": [
      "22308\n"
     ]
    }
   ],
   "source": [
    "# we can do better and use \"Embedding\" (as pytorch) to see C as a first layer\n",
    "\n",
    "n_embd = 10  # the dimensionality of the character embedding vectors\n",
    "n_hidden = 200  # the number of neurons in the hidden layer of the MLP\n",
    "\n",
    "layers = [\n",
    "    Embedding(vocab_size, n_embd),  # C = torch.randn(vocab_size,n_embd)\n",
    "    Flatten(block_size),\n",
    "    Linear(n_embd * block_size, n_hidden, bias=False),\n",
    "    BatchNorm1d(n_hidden),\n",
    "    Tanh(),\n",
    "    Linear(n_hidden, vocab_size),\n",
    "]\n",
    "\n",
    "# parameter initialization\n",
    "\n",
    "with torch.no_grad():\n",
    "    layers[-1].weight *= 0.1  # last layer make less confident\n",
    "\n",
    "# [C] + [p for layer in layers for p in layer.parameters()]\n",
    "parameters = [p for layer in layers for p in layer.parameters()]\n",
    "print(sum(p.nelement() for p in parameters))  # number of parameters in total\n",
    "for p in parameters:\n",
    "    p.requires_grad = True\n"
   ]
  },
  {
   "attachments": {},
   "cell_type": "markdown",
   "metadata": {},
   "source": [
    "In PyTorch one can write this as a sequential list of layer, with the same function names."
   ]
  },
  {
   "cell_type": "code",
   "execution_count": 17,
   "metadata": {},
   "outputs": [
    {
     "name": "stdout",
     "output_type": "stream",
     "text": [
      "22308\n"
     ]
    }
   ],
   "source": [
    "n_embd = 10  # the dimensionality of the character embedding vectors\n",
    "n_hidden = 200  # the number of neurons in the hidden layer of the MLP\n",
    "\n",
    "model = nn.Sequential(\n",
    "    nn.Embedding(vocab_size, n_embd),\n",
    "    nn.Flatten(block_size),\n",
    "    nn.Linear(n_embd * block_size, n_hidden, bias=False),\n",
    "    nn.BatchNorm1d(n_hidden),\n",
    "    nn.Tanh(),\n",
    "    nn.Linear(n_hidden, vocab_size),\n",
    ")\n",
    "\n",
    "# number of parameters in total\n",
    "print(sum(p.nelement() for p in model.parameters()))\n",
    "for p in model.parameters():\n",
    "    p.requires_grad = True\n"
   ]
  },
  {
   "cell_type": "code",
   "execution_count": 18,
   "metadata": {},
   "outputs": [
    {
     "name": "stdout",
     "output_type": "stream",
     "text": [
      "22308\n"
     ]
    }
   ],
   "source": [
    "# or with 'karpathy' definitions...\n",
    "\n",
    "n_embd = 10  # the dimensionality of the character embedding vectors\n",
    "n_hidden = 200  # the number of neurons in the hidden layer of the MLP\n",
    "\n",
    "model = Sequential(\n",
    "    [\n",
    "        Embedding(vocab_size, n_embd),\n",
    "        Flatten(block_size),\n",
    "        Linear(n_embd * block_size, n_hidden, bias=False),\n",
    "        BatchNorm1d(n_hidden),\n",
    "        Tanh(),\n",
    "        Linear(n_hidden, vocab_size),\n",
    "    ]\n",
    ")\n",
    "\n",
    "# number of parameters in total\n",
    "print(sum(p.nelement() for p in model.parameters()))\n",
    "for p in model.parameters():\n",
    "    p.requires_grad = True\n"
   ]
  },
  {
   "cell_type": "code",
   "execution_count": 19,
   "metadata": {},
   "outputs": [],
   "source": [
    "# put layers into eval mode (needed for batchnorm especially)\n",
    "for layer in model.layers:\n",
    "    layer.training = True\n",
    "\n",
    "# model.train(True)\n"
   ]
  },
  {
   "cell_type": "code",
   "execution_count": 20,
   "metadata": {},
   "outputs": [
    {
     "name": "stdout",
     "output_type": "stream",
     "text": [
      "      0/ 200000: 3.5427\n",
      "  10000/ 200000: 1.6889\n",
      "  20000/ 200000: 1.7099\n",
      "  30000/ 200000: 1.7663\n",
      "  40000/ 200000: 1.6661\n",
      "  50000/ 200000: 1.5461\n",
      "  60000/ 200000: 1.8788\n",
      "  70000/ 200000: 1.7811\n",
      "  80000/ 200000: 1.9472\n",
      "  90000/ 200000: 1.3643\n",
      " 100000/ 200000: 1.5458\n",
      " 110000/ 200000: 1.4089\n",
      " 120000/ 200000: 1.6715\n",
      " 130000/ 200000: 2.0241\n",
      " 140000/ 200000: 1.6338\n",
      " 150000/ 200000: 1.5033\n",
      " 160000/ 200000: 1.5036\n",
      " 170000/ 200000: 1.5975\n",
      " 180000/ 200000: 1.3502\n",
      " 190000/ 200000: 1.6590\n"
     ]
    }
   ],
   "source": [
    "# same optimization as before time\n",
    "max_steps = 200000\n",
    "batch_size = 32\n",
    "lossi = []\n",
    "\n",
    "for i in range(max_steps):\n",
    "    # minibatch construct\n",
    "    ix = torch.randint(0, Xtr.shape[0], (batch_size,))\n",
    "    Xb, Yb = Xtr[ix], Ytr[ix]  # batch X,Y\n",
    "\n",
    "    # forward pass\n",
    "    #   emb=C[Xb] # embed the characters into vectors\n",
    "    #   x=emb.view(emb.shape[0],-1) #concatenate the vectors\n",
    "    #   for layer in layers:\n",
    "    #     x=layer(x)\n",
    "\n",
    "    logits = model(Xb)\n",
    "    loss = F.cross_entropy(logits, Yb)  # loss function\n",
    "\n",
    "    # backward pass\n",
    "    for p in model.parameters():\n",
    "        p.grad = None\n",
    "\n",
    "    loss.backward()\n",
    "\n",
    "    # update: simple SGD\n",
    "    lr = 0.1 if i < 150000 else 0.01  # step learning rate decay\n",
    "    for p in model.parameters():\n",
    "        p.data += -lr * p.grad\n",
    "\n",
    "    # track stats\n",
    "    if i % 10000 == 0:  # print every once in a while\n",
    "        print(f\"{i:7d}/{max_steps:7d}: {loss.item():.4f}\")\n",
    "    lossi.append(loss.log10().item())\n",
    "# break\n"
   ]
  },
  {
   "cell_type": "code",
   "execution_count": 21,
   "metadata": {},
   "outputs": [
    {
     "data": {
      "text/plain": [
       "[<matplotlib.lines.Line2D at 0x7ff113d63790>]"
      ]
     },
     "execution_count": 21,
     "metadata": {},
     "output_type": "execute_result"
    },
    {
     "data": {
      "image/png": "[encoded data removed]",
      "text/plain": [
       "<Figure size 1200x400 with 2 Axes>"
      ]
     },
     "metadata": {},
     "output_type": "display_data"
    }
   ],
   "source": [
    "fig, ax = plt.subplots(ncols=2, figsize=(12, 4))\n",
    "\n",
    "ax[0].plot(torch.tensor(lossi))\n",
    "ax[1].plot(torch.tensor(lossi).view(-1, 1000).mean(1))  # mean on each row\n"
   ]
  },
  {
   "cell_type": "code",
   "execution_count": 22,
   "metadata": {},
   "outputs": [],
   "source": [
    "# put layers into eval mode (needed for batchnorm especially)\n",
    "\n",
    "for layer in model.layers:\n",
    "    layer.training = False\n",
    "\n",
    "# model.train(True)\n"
   ]
  },
  {
   "cell_type": "code",
   "execution_count": 23,
   "metadata": {},
   "outputs": [
    {
     "name": "stdout",
     "output_type": "stream",
     "text": [
      "train 1.3757604360580444\n",
      "val 1.7395519018173218\n"
     ]
    }
   ],
   "source": [
    "# evaluate the loss\n",
    "@torch.no_grad()  # this decorator disables gradient tracking inside pytorch\n",
    "def split_loss(split):\n",
    "    x, y = {\n",
    "        \"train\": (Xtr, Ytr),\n",
    "        \"val\": (Xdev, Ydev),\n",
    "        \"test\": (Xte, Yte),\n",
    "    }[split]\n",
    "\n",
    "    #   emb=C[x] # embed the characters into vectors (N,block_size) before\n",
    "    #   x=emb.view(emb.shape[0],-1) #concatenate the vectors\n",
    "\n",
    "    #     for layer in layers:\n",
    "    #         x=layer(x)\n",
    "\n",
    "    logits = model(x)\n",
    "\n",
    "    loss = F.cross_entropy(logits, y)  # loss function\n",
    "\n",
    "    print(split, loss.item())\n",
    "\n",
    "\n",
    "split_loss(\"train\")\n",
    "split_loss(\"val\")\n"
   ]
  },
  {
   "cell_type": "code",
   "execution_count": 24,
   "metadata": {},
   "outputs": [
    {
     "name": "stdout",
     "output_type": "stream",
     "text": [
      "tima.\n",
      "andrea.\n",
      "laurezio.\n",
      "loriela.\n",
      "anio.\n",
      "lucido.\n",
      "eriscondo.\n",
      "guerriana.\n",
      "ginepro.\n",
      "umbra.\n",
      "angeloce.\n",
      "raffoso.\n",
      "marziano.\n",
      "erlene.\n",
      "bonulana.\n",
      "eva.\n",
      "abelda.\n",
      "riziaddino.\n",
      "calaria.\n",
      "eride.\n"
     ]
    }
   ],
   "source": [
    "# sample from the model\n",
    "for _ in range(20):\n",
    "    out = []\n",
    "    context = [0] * block_size  # initialize with all ...\n",
    "    while True:\n",
    "        # forward pass the neural net\n",
    "        #         emb=C[torch.tensor([context])] # embed the characters into vectors (N,block_size)\n",
    "        #         x=emb.view(emb.shape[0],-1) #concatenate the vectors\n",
    "        #         for layer in layers:\n",
    "        #             x=layer(x)\n",
    "        #         logits = x\n",
    "        logits = model(torch.tensor([context]))\n",
    "        probs = F.softmax(logits, dim=1)\n",
    "        # sample from the distribution\n",
    "        ix = torch.multinomial(probs, num_samples=1).item()\n",
    "        # shift the context window and track the samples\n",
    "        context = context[1:] + [ix]\n",
    "        out.append(ix)\n",
    "        # if we sample the special '.' token, break\n",
    "        if ix == 0:\n",
    "            break\n",
    "\n",
    "    print(\"\".join(itos[i] for i in out))  # decode and print the generated word\n"
   ]
  },
  {
   "attachments": {},
   "cell_type": "markdown",
   "metadata": {},
   "source": [
    "Now embedding is accounted for, and we could generate names in this way.\n",
    "This is a little better, but still, there is room for improvement.\n",
    "We could for example add more layer and make ourselves a nice **deep network**: but this wouldn't improve much our system at the moment.\n",
    "Why is that?\n",
    "It's because we still didn't introduce any hierarchical organization in our data, which will be a definitive improvement for our Neural Network structure.\n",
    "We want to change the step between the embedding and the feeding to the hidden layer, in the sense that we do not want anymore to fuse the information coming from the data altogether into a single vector which is then fed to the $\\tanh$.\n",
    "We want instead to introduce a hierarchical structure of our embedded data."
   ]
  },
  {
   "cell_type": "code",
   "execution_count": 25,
   "metadata": {},
   "outputs": [
    {
     "name": "stdout",
     "output_type": "stream",
     "text": [
      "torch.Size([4, 8])\n",
      "tensor([[ 0,  0,  0,  0,  7, 10, 15,  2],\n",
      "        [ 0,  8,  2,  3, 19, 10,  6, 13],\n",
      "        [ 0,  0,  0,  0,  0,  0,  0,  8],\n",
      "        [10, 23,  2, 13,  5, 10, 15, 16]])\n"
     ]
    }
   ],
   "source": [
    "# let's look at a batch of just 4 example\n",
    "ix = torch.randint(0, Xtr.shape[0], (4,))\n",
    "Xb, Yb = Xtr[ix], Ytr[ix]\n",
    "logits = model(Xb)\n",
    "print(Xb.shape)\n",
    "print(Xb)\n"
   ]
  },
  {
   "cell_type": "code",
   "execution_count": 26,
   "metadata": {},
   "outputs": [
    {
     "name": "stdout",
     "output_type": "stream",
     "text": [
      "torch.Size([4, 8, 10])\n",
      "torch.Size([4, 80])\n",
      "torch.Size([4, 200])\n"
     ]
    }
   ],
   "source": [
    "print(model.layers[0].out.shape)  # output of the embedding layer\n",
    "print(model.layers[1].out.shape)  # output of the Flatten layer\n",
    "print(model.layers[2].out.shape)  # output of the Linear layer\n"
   ]
  },
  {
   "attachments": {},
   "cell_type": "markdown",
   "metadata": {},
   "source": [
    "Now multiply each vector for the matrix and take a 200dim vector as output"
   ]
  },
  {
   "cell_type": "code",
   "execution_count": 27,
   "metadata": {},
   "outputs": [
    {
     "data": {
      "text/plain": [
       "torch.Size([4, 200])"
      ]
     },
     "execution_count": 27,
     "metadata": {},
     "output_type": "execute_result"
    }
   ],
   "source": [
    "# now a nice surprise about the Linear Layer https://pytorch.org/docs/stable/generated/torch.nn.Linear.html#torch.nn.Linear\n",
    "\n",
    "# just to look at the dimensions\n",
    "\n",
    "(\n",
    "    torch.randn(4, 80) @ torch.randn(80, 200) + torch.randn(200)\n",
    ").shape  # broadcasting in the last term....\n"
   ]
  },
  {
   "attachments": {},
   "cell_type": "markdown",
   "metadata": {},
   "source": [
    "We can also add more dimensions... and PyTorch will work on the right one."
   ]
  },
  {
   "cell_type": "code",
   "execution_count": 28,
   "metadata": {},
   "outputs": [
    {
     "name": "stdout",
     "output_type": "stream",
     "text": [
      "torch.Size([4, 2, 200])\n",
      "torch.Size([4, 4, 200])\n"
     ]
    }
   ],
   "source": [
    "# but also !!\n",
    "print((torch.randn(4, 2, 80) @ torch.randn(80, 200) + torch.randn(200)).shape)\n",
    "# or also !!\n",
    "print((torch.randn(4, 4, 20) @ torch.randn(20, 200) + torch.randn(200)).shape)\n"
   ]
  },
  {
   "attachments": {},
   "cell_type": "markdown",
   "metadata": {},
   "source": [
    "Instead of one vector of 80 we can use four vectors of 20."
   ]
  },
  {
   "cell_type": "code",
   "execution_count": 29,
   "metadata": {},
   "outputs": [
    {
     "name": "stdout",
     "output_type": "stream",
     "text": [
      "torch.Size([4, 4, 200])\n"
     ]
    }
   ],
   "source": [
    "# 1 2 3 4 5 6 7 8 -> (1 2) (3 4) (5 6) (7 8)\n",
    "# we want to fuse vectors in pairs and acts in parallel on the 4 pairs of characters.\n",
    "# i.e. we go from (torch.randn(4,80) @ torch.randn(80,200) + torch.randn(200)).shape\n",
    "\n",
    "print((torch.randn(4, 4, 20) @ torch.randn(20, 200) + torch.randn(200)).shape)\n"
   ]
  },
  {
   "cell_type": "code",
   "execution_count": 30,
   "metadata": {},
   "outputs": [],
   "source": [
    "# so now we need to change the Flatten layer to produce a (4,4,20) tensor and NOT (4,80)\n",
    "e = torch.randn(\n",
    "    4, 8, 10\n",
    ")\n"
   ]
  },
  {
   "cell_type": "code",
   "execution_count": 31,
   "metadata": {},
   "outputs": [
    {
     "name": "stdout",
     "output_type": "stream",
     "text": [
      "[0, 1, 2, 3, 4, 5, 6, 7, 8, 9]\n",
      "[0, 2, 4, 6, 8]\n",
      "[1, 3, 5, 7, 9]\n"
     ]
    }
   ],
   "source": [
    "# all the numbers from 0 to 9\n",
    "print(list(range(10)))\n",
    "# all the numbers from 0 to 9 by 2 - i.e. even numbers\n",
    "print(list(range(10))[::2])\n",
    "# all the numbers from 1 to 9 by 2 - i.e. odd numbers\n",
    "print(list(range(10))[1::2])\n"
   ]
  },
  {
   "cell_type": "code",
   "execution_count": 32,
   "metadata": {},
   "outputs": [
    {
     "name": "stdout",
     "output_type": "stream",
     "text": [
      "torch.Size([4, 8, 10])\n",
      "torch.Size([4, 4, 20])\n"
     ]
    }
   ],
   "source": [
    "# so we want this...\n",
    "print(e.shape)\n",
    "explicit = torch.cat([e[:, ::2, :], e[:, 1::2, :]], dim=2)\n",
    "print(explicit.shape)\n"
   ]
  },
  {
   "cell_type": "code",
   "execution_count": 33,
   "metadata": {},
   "outputs": [
    {
     "name": "stdout",
     "output_type": "stream",
     "text": [
      "torch.Size([4, 8, 10])\n",
      "torch.Size([4, 80])\n"
     ]
    }
   ],
   "source": [
    "input = torch.randn(4, 8, 10)\n",
    "print(input.shape)\n",
    "m = nn.Flatten()\n",
    "output = m(input)\n",
    "print(output.shape)\n"
   ]
  },
  {
   "attachments": {},
   "cell_type": "markdown",
   "metadata": {},
   "source": [
    "Let's adapt the model to the hierarchical way."
   ]
  },
  {
   "cell_type": "code",
   "execution_count": 34,
   "metadata": {},
   "outputs": [],
   "source": [
    "# -----------------------------------------------------------------------------------------------\n",
    "class FlattenConsecutive:\n",
    "    def __init__(self, n):\n",
    "        self.n = n\n",
    "\n",
    "    def __call__(self, x):\n",
    "        B, T, C = x.shape\n",
    "        x = x.view(B, T // self.n, C * self.n)\n",
    "        if x.shape[1] == 1:\n",
    "            x = x.squeeze(1)\n",
    "        self.out = x\n",
    "        return self.out\n",
    "\n",
    "    def parameters(self):\n",
    "        return []\n"
   ]
  },
  {
   "cell_type": "code",
   "execution_count": 35,
   "metadata": {},
   "outputs": [
    {
     "name": "stdout",
     "output_type": "stream",
     "text": [
      "22308\n"
     ]
    }
   ],
   "source": [
    "# Back to the Model... here we recover the previous one with FlattenConsecutive(block_size)\n",
    "\n",
    "n_embd = 10  # the dimensionality of the character embedding vectors\n",
    "n_hidden = 200  # the number of neurons in the hidden layer of the MLP\n",
    "\n",
    "model = Sequential(\n",
    "    [\n",
    "        Embedding(vocab_size, n_embd),\n",
    "        FlattenConsecutive(block_size),\n",
    "        Linear(n_embd * block_size, n_hidden, bias=False),\n",
    "        BatchNorm1d(n_hidden),\n",
    "        nn.Tanh(),\n",
    "        Linear(n_hidden, vocab_size),\n",
    "    ]\n",
    ")\n",
    "\n",
    "# number of parameters in total\n",
    "print(sum(p.nelement() for p in model.parameters()))\n",
    "for p in model.parameters():\n",
    "    p.requires_grad = True\n"
   ]
  },
  {
   "cell_type": "code",
   "execution_count": 36,
   "metadata": {},
   "outputs": [
    {
     "name": "stdout",
     "output_type": "stream",
     "text": [
      "torch.Size([4, 8])\n",
      "tensor([[ 0,  0,  0,  0,  0,  0,  0,  0],\n",
      "        [ 0,  0,  0,  0,  0,  0,  0,  4],\n",
      "        [ 0,  0,  0,  0,  0,  0,  0,  0],\n",
      "        [ 0,  0,  0,  0, 16, 13, 10, 23]])\n"
     ]
    }
   ],
   "source": [
    "# let's look at a batch of just 4 example\n",
    "ix = torch.randint(0, Xtr.shape[0], (4,))\n",
    "Xb, Yb = Xtr[ix], Ytr[ix]\n",
    "logits = model(Xb)\n",
    "print(Xb.shape)\n",
    "print(Xb)\n"
   ]
  },
  {
   "cell_type": "code",
   "execution_count": 37,
   "metadata": {},
   "outputs": [
    {
     "name": "stdout",
     "output_type": "stream",
     "text": [
      "Embedding : (4, 8, 10)\n",
      "FlattenConsecutive : (4, 80)\n",
      "Linear : (4, 200)\n",
      "BatchNorm1d : (4, 200)\n"
     ]
    }
   ],
   "source": [
    "for layer in model.layers[:-2]:\n",
    "    print(layer.__class__.__name__, \":\", tuple(layer.out.shape))\n"
   ]
  },
  {
   "cell_type": "code",
   "execution_count": 38,
   "metadata": {},
   "outputs": [
    {
     "name": "stdout",
     "output_type": "stream",
     "text": [
      "171108\n"
     ]
    }
   ],
   "source": [
    "# we now move to a hierarchical approach\n",
    "\n",
    "n_embd = 10  # the dimensionality of the character embedding vectors\n",
    "n_hidden = 200  # the number of neurons in the hidden layer of the MLP\n",
    "\n",
    "model = Sequential(\n",
    "    [\n",
    "        Embedding(vocab_size, n_embd),\n",
    "        FlattenConsecutive(2),\n",
    "        Linear(n_embd * 2, n_hidden, bias=False),\n",
    "        BatchNorm1d(n_hidden),\n",
    "        Tanh(),\n",
    "        FlattenConsecutive(2),\n",
    "        Linear(n_hidden * 2, n_hidden, bias=False),\n",
    "        BatchNorm1d(n_hidden),\n",
    "        Tanh(),\n",
    "        FlattenConsecutive(2),\n",
    "        Linear(n_hidden * 2, n_hidden, bias=False),\n",
    "        BatchNorm1d(n_hidden),\n",
    "        Tanh(),\n",
    "        Linear(n_hidden, vocab_size),\n",
    "    ]\n",
    ")\n",
    "\n",
    "\n",
    "# number of parameters in total\n",
    "print(sum(p.nelement() for p in model.parameters()))\n",
    "for p in model.parameters():\n",
    "    p.requires_grad = True\n"
   ]
  },
  {
   "cell_type": "code",
   "execution_count": 39,
   "metadata": {},
   "outputs": [
    {
     "name": "stdout",
     "output_type": "stream",
     "text": [
      "torch.Size([4, 8])\n",
      "tensor([[ 0,  0,  0,  0,  0, 14,  2, 19],\n",
      "        [ 0,  0,  0,  0,  0,  0,  0,  8],\n",
      "        [ 0,  0,  0,  0,  0,  0,  0,  0],\n",
      "        [ 0,  0,  0,  8, 22, 20, 21,  2]])\n"
     ]
    }
   ],
   "source": [
    "# let's look at a batch of just 4 example\n",
    "ix = torch.randint(0, Xtr.shape[0], (4,))\n",
    "Xb, Yb = Xtr[ix], Ytr[ix]\n",
    "logits = model(Xb)\n",
    "print(Xb.shape)\n",
    "print(Xb)\n"
   ]
  },
  {
   "cell_type": "code",
   "execution_count": 40,
   "metadata": {},
   "outputs": [
    {
     "name": "stdout",
     "output_type": "stream",
     "text": [
      "Embedding : (4, 8, 10)\n",
      "FlattenConsecutive : (4, 4, 20)\n",
      "Linear : (4, 4, 200)\n",
      "BatchNorm1d : (4, 4, 200)\n",
      "Tanh : (4, 4, 200)\n",
      "FlattenConsecutive : (4, 2, 400)\n",
      "Linear : (4, 2, 200)\n",
      "BatchNorm1d : (4, 2, 200)\n",
      "Tanh : (4, 2, 200)\n",
      "FlattenConsecutive : (4, 400)\n",
      "Linear : (4, 200)\n",
      "BatchNorm1d : (4, 200)\n",
      "Tanh : (4, 200)\n",
      "Linear : (4, 28)\n"
     ]
    }
   ],
   "source": [
    "for layer in model.layers:\n",
    "    print(layer.__class__.__name__, \":\", tuple(layer.out.shape))\n"
   ]
  },
  {
   "cell_type": "code",
   "execution_count": 41,
   "metadata": {},
   "outputs": [
    {
     "name": "stdout",
     "output_type": "stream",
     "text": [
      "torch.Size([4, 28])\n"
     ]
    }
   ],
   "source": [
    "print(logits.shape)\n"
   ]
  },
  {
   "attachments": {},
   "cell_type": "markdown",
   "metadata": {},
   "source": [
    "Now we build the net in a hierarchical way, so the first input will be 20-dim and the others 200-dim, as shown previously."
   ]
  },
  {
   "cell_type": "code",
   "execution_count": 42,
   "metadata": {},
   "outputs": [
    {
     "name": "stdout",
     "output_type": "stream",
     "text": [
      "22476\n"
     ]
    }
   ],
   "source": [
    "n_embd = 10  # the dimensionality of the character embedding vectors\n",
    "n_hidden = 68  # to have the same number of parameters as the previous model\n",
    "\n",
    "model = Sequential(\n",
    "    [\n",
    "        Embedding(vocab_size, n_embd),\n",
    "        FlattenConsecutive(2),\n",
    "        Linear(n_embd * 2, n_hidden, bias=False),\n",
    "        BatchNorm1d(n_hidden),\n",
    "        Tanh(),\n",
    "        FlattenConsecutive(2),\n",
    "        Linear(n_hidden * 2, n_hidden, bias=False),\n",
    "        BatchNorm1d(n_hidden),\n",
    "        Tanh(),\n",
    "        FlattenConsecutive(2),\n",
    "        Linear(n_hidden * 2, n_hidden, bias=False),\n",
    "        BatchNorm1d(n_hidden),\n",
    "        Tanh(),\n",
    "        Linear(n_hidden, vocab_size),\n",
    "    ]\n",
    ")\n",
    "\n",
    "# number of parameters in total\n",
    "print(sum(p.nelement() for p in model.parameters()))\n",
    "for p in model.parameters():\n",
    "    p.requires_grad = True\n"
   ]
  },
  {
   "cell_type": "code",
   "execution_count": 43,
   "metadata": {},
   "outputs": [
    {
     "name": "stdout",
     "output_type": "stream",
     "text": [
      "      0/ 200000: 3.6892\n",
      "  10000/ 200000: 1.5753\n",
      "  20000/ 200000: 1.6228\n",
      "  30000/ 200000: 1.5849\n",
      "  40000/ 200000: 2.0534\n",
      "  50000/ 200000: 1.3141\n",
      "  60000/ 200000: 1.7441\n",
      "  70000/ 200000: 1.5046\n",
      "  80000/ 200000: 1.3641\n",
      "  90000/ 200000: 1.3019\n",
      " 100000/ 200000: 1.9296\n",
      " 110000/ 200000: 1.3937\n",
      " 120000/ 200000: 1.8871\n",
      " 130000/ 200000: 1.4249\n",
      " 140000/ 200000: 1.3084\n",
      " 150000/ 200000: 1.3827\n",
      " 160000/ 200000: 1.4391\n",
      " 170000/ 200000: 1.1624\n",
      " 180000/ 200000: 1.3080\n",
      " 190000/ 200000: 1.4213\n"
     ]
    }
   ],
   "source": [
    "# same optimization as before\n",
    "max_steps = 200000\n",
    "batch_size = 32\n",
    "lossi = []\n",
    "\n",
    "for i in range(max_steps):\n",
    "    # minibatch construct\n",
    "    ix = torch.randint(0, Xtr.shape[0], (batch_size,))\n",
    "    Xb, Yb = Xtr[ix], Ytr[ix]  # batch X,Y\n",
    "\n",
    "    # forward pass\n",
    "\n",
    "    logits = model(Xb)\n",
    "    loss = F.cross_entropy(logits, Yb)  # loss function\n",
    "\n",
    "    # backward pass\n",
    "\n",
    "    for p in model.parameters():\n",
    "        p.grad = None\n",
    "\n",
    "    loss.backward()\n",
    "\n",
    "    # update: simple SGD\n",
    "    lr = 0.1 if i < 150000 else 0.01  # step learning rate decay\n",
    "    for p in model.parameters():\n",
    "        p.data += -lr * p.grad\n",
    "\n",
    "    # track stats\n",
    "    if i % 10000 == 0:  # print every once in a while\n",
    "        print(f\"{i:7d}/{max_steps:7d}: {loss.item():.4f}\")\n",
    "    lossi.append(loss.log10().item())\n"
   ]
  },
  {
   "cell_type": "code",
   "execution_count": 44,
   "metadata": {},
   "outputs": [
    {
     "data": {
      "text/plain": [
       "[<matplotlib.lines.Line2D at 0x7ff113dc91b0>]"
      ]
     },
     "execution_count": 44,
     "metadata": {},
     "output_type": "execute_result"
    },
    {
     "data": {
      "image/png": "[encoded data removed]",
      "text/plain": [
       "<Figure size 1200x400 with 2 Axes>"
      ]
     },
     "metadata": {},
     "output_type": "display_data"
    }
   ],
   "source": [
    "fig, ax = plt.subplots(ncols=2, figsize=(12, 4))\n",
    "\n",
    "ax[0].plot(torch.tensor(lossi))\n",
    "ax[1].plot(torch.tensor(lossi).view(-1, 1000).mean(1))  # mean on each row\n"
   ]
  },
  {
   "cell_type": "code",
   "execution_count": 45,
   "metadata": {},
   "outputs": [],
   "source": [
    "# put layers into eval mode (needed for batchnorm especially)...comment in class !\n",
    "for layer in model.layers:\n",
    "    layer.training = False\n"
   ]
  },
  {
   "cell_type": "code",
   "execution_count": 46,
   "metadata": {},
   "outputs": [
    {
     "name": "stdout",
     "output_type": "stream",
     "text": [
      "train 1.3675501346588135\n",
      "val 1.741621732711792\n"
     ]
    }
   ],
   "source": [
    "# evaluate the loss\n",
    "@torch.no_grad()  # this decorator disables gradient tracking inside pytorch\n",
    "def split_loss(split):\n",
    "    x, y = {\n",
    "        \"train\": (Xtr, Ytr),\n",
    "        \"val\": (Xdev, Ydev),\n",
    "        \"test\": (Xte, Yte),\n",
    "    }[split]\n",
    "\n",
    "    logits = model(x)\n",
    "\n",
    "    loss = F.cross_entropy(logits, y)  # loss function\n",
    "\n",
    "    print(split, loss.item())\n",
    "\n",
    "\n",
    "split_loss(\"train\")\n",
    "split_loss(\"val\")\n"
   ]
  },
  {
   "cell_type": "code",
   "execution_count": 47,
   "metadata": {},
   "outputs": [
    {
     "name": "stdout",
     "output_type": "stream",
     "text": [
      "abelisia.\n",
      "ferrio.\n",
      "oliveria.\n",
      "rosimo.\n",
      "gueralda.\n",
      "filinentino.\n",
      "fiumquinto.\n",
      "maricosa.\n",
      "carfro.\n",
      "olmerino.\n",
      "anberino.\n",
      "irbenzio.\n",
      "ciciala.\n",
      "boneldo.\n",
      "violo.\n",
      "fiorentino.\n",
      "onellina.\n",
      "oviglio.\n",
      "ardenato.\n",
      "lauriano.\n"
     ]
    }
   ],
   "source": [
    "# sample from the model\n",
    "for _ in range(20):\n",
    "    out = []\n",
    "    context = [0] * block_size  # initialize with all ...\n",
    "    while True:\n",
    "        logits = model(torch.tensor([context]))\n",
    "        probs = F.softmax(logits, dim=1)\n",
    "        # sample from the distribution\n",
    "        ix = torch.multinomial(probs, num_samples=1).item()\n",
    "        # shift the context window and track the samples\n",
    "        context = context[1:] + [ix]\n",
    "        out.append(ix)\n",
    "        # if we sample the special '.' token, break\n",
    "        if ix == 0:\n",
    "            break\n",
    "\n",
    "    print(\"\".join(itos[i] for i in out))  # decode and print the generated word\n"
   ]
  }
 ],
 "metadata": {
  "kernelspec": {
   "display_name": "Python 3",
   "language": "python",
   "name": "python3"
  },
  "language_info": {
   "codemirror_mode": {
    "name": "ipython",
    "version": 3
   },
   "file_extension": ".py",
   "mimetype": "text/x-python",
   "name": "python",
   "nbconvert_exporter": "python",
   "pygments_lexer": "ipython3",
   "version": "3.10.6"
  }
 },
 "nbformat": 4,
 "nbformat_minor": 4
}
