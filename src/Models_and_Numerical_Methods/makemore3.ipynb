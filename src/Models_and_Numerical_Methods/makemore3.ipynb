{
  "cells": [
    {
      "cell_type": "code",
      "execution_count": null,
      "id": "ng0KPKejrZia",
      "metadata": {
        "id": "ng0KPKejrZia"
      },
      "outputs": [],
      "source": [
        "# https://youtu.be/P6sfmUTpUmc\n",
        "# https://github.com/karpathy/makemore"
      ]
    },
    {
      "cell_type": "code",
      "execution_count": null,
      "id": "rkahwvfDrZid",
      "metadata": {
        "id": "rkahwvfDrZid"
      },
      "outputs": [],
      "source": [
        "# we now want to dig more into neural activity and learning to understand the RNN and LSTM architecture and properties...\n",
        "\n",
        "import random\n",
        "import torch\n",
        "import torch.nn.functional as  F\n",
        "import matplotlib.pyplot as plt #for making figures\n",
        "%matplotlib inline"
      ]
    },
    {
      "cell_type": "code",
      "execution_count": null,
      "id": "NCBuWJU9rZie",
      "metadata": {
        "colab": {
          "base_uri": "https://localhost:8080/"
        },
        "id": "NCBuWJU9rZie",
        "outputId": "6ba4e52b-e0b9-4e2c-f1aa-26fa20083cb3"
      },
      "outputs": [
        {
          "data": {
            "text/plain": [
              "['argento',\n",
              " 'giovannino',\n",
              " 'licurga',\n",
              " 'elvira',\n",
              " 'marena',\n",
              " 'sirio',\n",
              " 'emilia',\n",
              " 'bisio']"
            ]
          },
          "execution_count": 4,
          "metadata": {},
          "output_type": "execute_result"
        }
      ],
      "source": [
        "# read in all the words\n",
        "random.seed(158)\n",
        "words=open('nomi_italiani.txt','r').read().splitlines()\n",
        "random.shuffle(words)\n",
        "words[0:8]"
      ]
    },
    {
      "cell_type": "code",
      "execution_count": null,
      "id": "p86mEQfkrZif",
      "metadata": {
        "colab": {
          "base_uri": "https://localhost:8080/"
        },
        "id": "p86mEQfkrZif",
        "outputId": "fdad4903-125d-45e5-e4ad-d37b7aac4c2d"
      },
      "outputs": [
        {
          "data": {
            "text/plain": [
              "9105"
            ]
          },
          "execution_count": 5,
          "metadata": {},
          "output_type": "execute_result"
        }
      ],
      "source": [
        "len(words)"
      ]
    },
    {
      "cell_type": "code",
      "execution_count": null,
      "id": "xLp1yX1trZif",
      "metadata": {
        "colab": {
          "base_uri": "https://localhost:8080/"
        },
        "id": "xLp1yX1trZif",
        "outputId": "2ed4eb46-d9c2-4b50-9caa-d5fd61b58122"
      },
      "outputs": [
        {
          "name": "stdout",
          "output_type": "stream",
          "text": [
            "{1: '-', 2: 'a', 3: 'b', 4: 'c', 5: 'd', 6: 'e', 7: 'f', 8: 'g', 9: 'h', 10: 'i', 11: 'j', 12: 'k', 13: 'l', 14: 'm', 15: 'n', 16: 'o', 17: 'p', 18: 'q', 19: 'r', 20: 's', 21: 't', 22: 'u', 23: 'v', 24: 'w', 25: 'x', 26: 'y', 27: 'z', 0: '.'}\n",
            "28\n"
          ]
        }
      ],
      "source": [
        "# build the vocabulary of characters and mapping to/from integers\n",
        "chars=sorted(list(set(''.join(words))))\n",
        "\n",
        "stoi={s:i+1 for i,s in enumerate(chars)}\n",
        "stoi['.']=0\n",
        "itos ={i:s for s,i in stoi.items()}\n",
        "#new\n",
        "vocab_size = len(itos)\n",
        "print(itos)\n",
        "print(vocab_size)"
      ]
    },
    {
      "cell_type": "code",
      "execution_count": null,
      "id": "BQeJ7lmurZig",
      "metadata": {
        "id": "BQeJ7lmurZig"
      },
      "outputs": [],
      "source": [
        "# build the dataset\n",
        "\n",
        "block_size =3 #context length: how many characters do we take to predict the next one ...\n",
        "\n",
        "def build_dataset(words):\n",
        "   \n",
        "    X,Y = [],[]  # input & label\n",
        "\n",
        "   \n",
        "    for w in words:\n",
        "        context=[0]*block_size\n",
        "        for ch in w +'.':\n",
        "            ix=stoi[ch]\n",
        "            X.append(context)\n",
        "            Y.append(ix)\n",
        "      #  print(''.join(itos[i] for i in context), '--->', itos[ix])\n",
        "            context=context[1:]+[ix]  # shift: crop and append\n",
        "    X=torch.tensor(X)\n",
        "    Y=torch.tensor(Y)\n",
        "    print(X.shape,Y.shape)\n",
        "    return X,Y\n",
        "\n",
        "\n"
      ]
    },
    {
      "cell_type": "code",
      "execution_count": null,
      "id": "NkfA6sFkrZig",
      "metadata": {
        "colab": {
          "base_uri": "https://localhost:8080/"
        },
        "id": "NkfA6sFkrZig",
        "outputId": "f6d56d84-5577-4aeb-c249-e201674e3fa7"
      },
      "outputs": [
        {
          "name": "stdout",
          "output_type": "stream",
          "text": [
            "torch.Size([58867, 3]) torch.Size([58867])\n",
            "torch.Size([7404, 3]) torch.Size([7404])\n",
            "torch.Size([7372, 3]) torch.Size([7372])\n"
          ]
        }
      ],
      "source": [
        "import random\n",
        "random.seed(42)\n",
        "random.shuffle(words)\n",
        "n1=int(0.8*len(words))\n",
        "n2=int(0.9*len(words))\n",
        "\n",
        "Xtr,Ytr = build_dataset(words[:n1])\n",
        "Xdev,Ydev = build_dataset(words[n1:n2])\n",
        "Xte, Yte = build_dataset(words[n2:])\n"
      ]
    },
    {
      "cell_type": "code",
      "execution_count": null,
      "id": "_31gSzTrrZih",
      "metadata": {
        "colab": {
          "base_uri": "https://localhost:8080/"
        },
        "id": "_31gSzTrrZih",
        "outputId": "1b6447b5-8860-4077-ebe9-ad3848bf4737"
      },
      "outputs": [
        {
          "name": "stdout",
          "output_type": "stream",
          "text": [
            "12108\n"
          ]
        }
      ],
      "source": [
        "# MLP revisited\n",
        "n_embd = 10 # the dimensionality of the character embedding vectors\n",
        "n_hidden = 200 # the number of neurons in the hidden layer of MLP\n",
        "\n",
        "g=torch.Generator().manual_seed(123456780)# for reproducibility\n",
        "C=torch.randn((vocab_size,n_embd), generator=g)\n",
        "W1=torch.randn((n_embd*block_size,n_hidden), generator=g)\n",
        "b1=torch.randn(n_hidden, generator=g)\n",
        "W2=torch.randn((n_hidden,vocab_size), generator=g)\n",
        "b2=torch.randn(vocab_size, generator=g)\n",
        "parameters=[C,W1,b1,W2,b2]\n",
        "print(sum(p.nelement() for p in parameters))# number of parameter in total...\n",
        "for p in parameters:\n",
        "    p.requires_grad = True\n"
      ]
    },
    {
      "cell_type": "code",
      "execution_count": null,
      "id": "JY6Q0EXUrZih",
      "metadata": {
        "colab": {
          "base_uri": "https://localhost:8080/"
        },
        "id": "JY6Q0EXUrZih",
        "outputId": "501bc028-b49f-441e-a1aa-92d5c552fa98"
      },
      "outputs": [
        {
          "name": "stdout",
          "output_type": "stream",
          "text": [
            "      0/ 200000:25.2234\n",
            "  10000/ 200000:2.2866\n",
            "  20000/ 200000:2.1046\n",
            "  30000/ 200000:2.1317\n",
            "  40000/ 200000:1.8162\n",
            "  50000/ 200000:1.6176\n",
            "  60000/ 200000:1.8486\n",
            "  70000/ 200000:1.9469\n",
            "  80000/ 200000:1.9792\n",
            "  90000/ 200000:2.3596\n",
            " 100000/ 200000:1.3009\n",
            " 110000/ 200000:1.9542\n",
            " 120000/ 200000:1.5188\n",
            " 130000/ 200000:1.7100\n",
            " 140000/ 200000:1.6153\n",
            " 150000/ 200000:2.0907\n",
            " 160000/ 200000:1.2940\n",
            " 170000/ 200000:1.3712\n",
            " 180000/ 200000:1.7790\n",
            " 190000/ 200000:1.5750\n"
          ]
        }
      ],
      "source": [
        "# same optimization as last time\n",
        "max_steps=200000\n",
        "batch_size=32\n",
        "lossi=[]\n",
        "\n",
        "for i in range(max_steps):\n",
        "     # mini batch construct\n",
        "    ix=torch.randint(0,Xtr.shape[0],(batch_size,), generator=g)\n",
        "    Xb, Yb = Xtr[ix], Ytr[ix] #batch X,Y\n",
        "        \n",
        "    # forward bass \n",
        "    emb=C[Xb] # embed characters into vectors\n",
        "    embcat=emb.view(emb.shape[0],-1) #concatenate the vectors\n",
        "    hpreact = embcat @ W1 + b1 # hidden layer pre-activation\n",
        "    h=torch.tanh(hpreact) # hidden layer\n",
        "    logits= h @ W2 + b2 # output layer\n",
        "    loss=F.cross_entropy(logits,Yb) #loss function\n",
        "    \n",
        "    # backward pass \n",
        "    for p in parameters:\n",
        "        p.grad=None\n",
        "    loss.backward()\n",
        "    \n",
        "    #update\n",
        "    lr= 0.1 if i < 100000 else 0.01 #step learning rate decay\n",
        "    for p in parameters:\n",
        "        p.data += -lr*p.grad\n",
        "        \n",
        "    # track stats\n",
        "    \n",
        "    if i % 10000 ==0: # print every once in a while\n",
        "        print(f'{i:7d}/{max_steps:7d}:{loss.item():.4f}')\n",
        "    lossi.append(loss.log10().item())\n",
        "    "
      ]
    },
    {
      "cell_type": "code",
      "execution_count": null,
      "id": "Y1lCC60XrZii",
      "metadata": {
        "id": "Y1lCC60XrZii",
        "outputId": "525946e9-5c55-4d78-d5d7-aa383e7bd901"
      },
      "outputs": [
        {
          "data": {
            "text/plain": [
              "tensor(3.3322)"
            ]
          },
          "execution_count": 10,
          "metadata": {},
          "output_type": "execute_result"
        }
      ],
      "source": [
        "# comment that\n",
        "\n",
        "-torch.tensor(1/28).log()"
      ]
    },
    {
      "cell_type": "code",
      "execution_count": null,
      "id": "p76ygmM5rZii",
      "metadata": {
        "colab": {
          "base_uri": "https://localhost:8080/",
          "height": 447
        },
        "id": "p76ygmM5rZii",
        "outputId": "0843ca29-9450-42e1-ed46-a91f5118cfcc"
      },
      "outputs": [
        {
          "data": {
            "text/plain": [
              "[<matplotlib.lines.Line2D at 0x7f6ebee2a580>]"
            ]
          },
          "execution_count": 11,
          "metadata": {},
          "output_type": "execute_result"
        },
        {
          "data": {
            "image/png": "[encoded data removed]",
            "text/plain": [
              "<Figure size 640x480 with 1 Axes>"
            ]
          },
          "metadata": {},
          "output_type": "display_data"
        }
      ],
      "source": [
        "plt.plot(lossi)"
      ]
    },
    {
      "cell_type": "code",
      "execution_count": null,
      "id": "S6pqmwwwrZij",
      "metadata": {
        "id": "S6pqmwwwrZij"
      },
      "outputs": [],
      "source": [
        "@torch.no_grad() #this decorator disables gradient tracking....discuss in class....\n",
        "\n",
        "def split_loss(split):\n",
        "    x,y={\n",
        "        'train':(Xtr,Ytr),\n",
        "        'val':(Xdev, Ydev),\n",
        "        'test': (Xte,Yte),\n",
        "    }[split]\n",
        "    emb=C[x] #(N,block_size, n_embd)\n",
        "    embcat=emb.view(emb.shape[0],-1) #concat into (N,block_size*n_embd)\n",
        "    hpreact = embcat @ W1 + b1 # hidden layer pre-activation\n",
        "    h=torch.tanh(hpreact) # hidden layer (N, h_hidden)\n",
        "    logits= h @ W2 + b2 # output layer (N, vocab_size)\n",
        "    loss=F.cross_entropy(logits,y) #loss function\n",
        "    print(split, loss.item())\n"
      ]
    },
    {
      "cell_type": "code",
      "execution_count": null,
      "id": "kA9w4R5BrZij",
      "metadata": {
        "colab": {
          "base_uri": "https://localhost:8080/"
        },
        "id": "kA9w4R5BrZij",
        "outputId": "af905276-d31d-4c8d-938d-354ac99f799c"
      },
      "outputs": [
        {
          "name": "stdout",
          "output_type": "stream",
          "text": [
            "train 1.6465901136398315\n",
            "val 1.8485839366912842\n"
          ]
        }
      ],
      "source": [
        "split_loss('train')\n",
        "split_loss('val')"
      ]
    },
    {
      "cell_type": "code",
      "execution_count": null,
      "id": "3XUFn74LrZij",
      "metadata": {
        "colab": {
          "base_uri": "https://localhost:8080/"
        },
        "id": "3XUFn74LrZij",
        "outputId": "0ea763bd-969d-4799-ac5d-3fe6409fe598"
      },
      "outputs": [
        {
          "name": "stdout",
          "output_type": "stream",
          "text": [
            "albo.\n",
            "giovanno.\n",
            "rizio.\n",
            "siside.\n",
            "polina.\n",
            "gio.\n",
            "assimo.\n",
            "cecchiarosinda.\n",
            "benuartinaippirenziana.\n",
            "peppio.\n",
            "abdocchia.\n",
            "bella.\n",
            "benio.\n",
            "mohettala.\n",
            "elino.\n",
            "erma.\n",
            "ernella.\n",
            "filosca.\n",
            "esaro.\n",
            "euto.\n"
          ]
        }
      ],
      "source": [
        "# sampling from the model.....\n",
        "\n",
        "g=torch.Generator().manual_seed(12345678+10)\n",
        "\n",
        "for _ in range(20):\n",
        "    out=[]\n",
        "    context=[0]*block_size\n",
        "    while True:\n",
        "        emb=C[torch.tensor([context])] #(1,block_size,n_embed)\n",
        "        h=torch.tanh(emb.view(1,-1) @ W1 + b1) \n",
        "        logits= h @ W2 + b2\n",
        "        probs=F.softmax(logits,dim=1)\n",
        "        # sample from the distribuion\n",
        "        ix=torch.multinomial(probs,num_samples=1,generator=g).item()\n",
        "        # shift the context window and track the samples\n",
        "        context=context[1:]+[ix]\n",
        "        out.append(ix)\n",
        "        # if we sample the special '.' token, break\n",
        "        if ix==0:\n",
        "            break\n",
        "        \n",
        "    print(''.join(itos[i] for i in out)) #decode and print the generated word"
      ]
    },
    {
      "cell_type": "code",
      "execution_count": null,
      "id": "OYeZW1aMrZik",
      "metadata": {
        "colab": {
          "base_uri": "https://localhost:8080/",
          "height": 235
        },
        "id": "OYeZW1aMrZik",
        "outputId": "35128c6c-98a5-4999-f3af-8fac7c80d451"
      },
      "outputs": [
        {
          "ename": "TypeError",
          "evalue": "ignored",
          "output_type": "error",
          "traceback": [
            "\u001b[0;31m---------------------------------------------------------------------------\u001b[0m",
            "\u001b[0;31mTypeError\u001b[0m                                 Traceback (most recent call last)",
            "\u001b[0;32m<ipython-input-19-ec579e81a44f>\u001b[0m in \u001b[0;36m<cell line: 4>\u001b[0;34m()\u001b[0m\n\u001b[1;32m      2\u001b[0m \u001b[0;34m\u001b[0m\u001b[0m\n\u001b[1;32m      3\u001b[0m \u001b[0mlogits\u001b[0m\u001b[0;34m=\u001b[0m\u001b[0mtorch\u001b[0m\u001b[0;34m.\u001b[0m\u001b[0mrandn\u001b[0m\u001b[0;34m(\u001b[0m\u001b[0;36m4\u001b[0m\u001b[0;34m)\u001b[0m\u001b[0;34m*\u001b[0m\u001b[0;36m100\u001b[0m\u001b[0;34m\u001b[0m\u001b[0;34m\u001b[0m\u001b[0m\n\u001b[0;32m----> 4\u001b[0;31m \u001b[0mlogits\u001b[0m\u001b[0;34m=\u001b[0m\u001b[0mtorch\u001b[0m\u001b[0;34m.\u001b[0m\u001b[0mtensor\u001b[0m\u001b[0;34m(\u001b[0m\u001b[0;36m2\u001b[0m\u001b[0;34m,\u001b[0m\u001b[0;36m2\u001b[0m\u001b[0;34m,\u001b[0m\u001b[0;36m2\u001b[0m\u001b[0;34m,\u001b[0m\u001b[0;36m2\u001b[0m\u001b[0;34m)\u001b[0m\u001b[0;34m\u001b[0m\u001b[0;34m\u001b[0m\u001b[0m\n\u001b[0m\u001b[1;32m      5\u001b[0m \u001b[0mprobs\u001b[0m\u001b[0;34m=\u001b[0m\u001b[0mtorch\u001b[0m\u001b[0;34m.\u001b[0m\u001b[0msoftmax\u001b[0m\u001b[0;34m(\u001b[0m\u001b[0mlogits\u001b[0m\u001b[0;34m,\u001b[0m\u001b[0mdim\u001b[0m\u001b[0;34m=\u001b[0m\u001b[0;36m0\u001b[0m\u001b[0;34m)\u001b[0m\u001b[0;34m\u001b[0m\u001b[0;34m\u001b[0m\u001b[0m\n\u001b[1;32m      6\u001b[0m \u001b[0mloss\u001b[0m\u001b[0;34m=\u001b[0m\u001b[0;34m-\u001b[0m\u001b[0mprobs\u001b[0m\u001b[0;34m[\u001b[0m\u001b[0;36m2\u001b[0m\u001b[0;34m]\u001b[0m\u001b[0;34m.\u001b[0m\u001b[0mlog\u001b[0m\u001b[0;34m(\u001b[0m\u001b[0;34m)\u001b[0m\u001b[0;34m\u001b[0m\u001b[0;34m\u001b[0m\u001b[0m\n",
            "\u001b[0;31mTypeError\u001b[0m: tensor() takes 1 positional argument but 4 were given"
          ]
        }
      ],
      "source": [
        "#let us focus on the last laeyer ....logits and then softmax \n",
        "\n",
        "logits=torch.randn(4)*100\n",
        "logits=torch.tensor(2,2,2,20)\n",
        "probs=torch.softmax(logits,dim=0)\n",
        "loss=-probs[2].log()\n",
        "print('logits:', logits)\n",
        "print('probs:',probs)\n",
        "print('loss:',loss)"
      ]
    },
    {
      "cell_type": "code",
      "execution_count": null,
      "id": "mdsrI0GVrZik",
      "metadata": {
        "colab": {
          "base_uri": "https://localhost:8080/"
        },
        "id": "mdsrI0GVrZik",
        "outputId": "55bd213a-4e96-4571-ec36-56264ad65ebd"
      },
      "outputs": [
        {
          "name": "stdout",
          "output_type": "stream",
          "text": [
            "12108\n"
          ]
        }
      ],
      "source": [
        "#back to our examples and look at the logit just after the first pass and understand normalization....\n",
        "\n",
        "\n",
        "# MLP revisited\n",
        "n_embd = 10 # the dimensionality of the character embedding vectors\n",
        "n_hidden = 200 # the number of neurons in the hidden layer of MLP\n",
        "\n",
        "g=torch.Generator().manual_seed(123456780)# for reproducibility\n",
        "C=torch.randn((vocab_size,n_embd), generator=g)\n",
        "W1=torch.randn((n_embd*block_size,n_hidden), generator=g)#*0.20         \n",
        "b1=torch.randn(n_hidden, generator=g)#*0.01\n",
        "W2=torch.randn((n_hidden,vocab_size), generator=g)#*0.01\n",
        "b2=torch.randn(vocab_size, generator=g)#*0\n",
        "parameters=[C,W1,b1,W2,b2]\n",
        "print(sum(p.nelement() for p in parameters))# number of parameter in total...\n",
        "for p in parameters:\n",
        "    p.requires_grad = True\n"
      ]
    },
    {
      "cell_type": "code",
      "execution_count": null,
      "id": "rH5JR91qrZik",
      "metadata": {
        "colab": {
          "base_uri": "https://localhost:8080/"
        },
        "id": "rH5JR91qrZik",
        "outputId": "a5b5188b-edca-4c93-b664-ffb1d0d065cc"
      },
      "outputs": [
        {
          "name": "stdout",
          "output_type": "stream",
          "text": [
            "      0/ 200000:25.2234\n"
          ]
        }
      ],
      "source": [
        "# same optimization as last time...try, look at logits then go up and change W2 and b2 normalization.....\n",
        "max_steps=200000\n",
        "batch_size=32\n",
        "lossi=[]\n",
        "\n",
        "for i in range(max_steps):\n",
        "     # mini batch construct\n",
        "    ix=torch.randint(0,Xtr.shape[0],(batch_size,), generator=g)\n",
        "    Xb, Yb = Xtr[ix], Ytr[ix] #batch X,Y\n",
        "        \n",
        "    # forward bass \n",
        "    emb=C[Xb] # embed characters into vectors\n",
        "    embcat=emb.view(emb.shape[0],-1) #concatenate the vectors\n",
        "    hpreact = embcat @ W1 + b1 # hidden layer pre-activation\n",
        "    h=torch.tanh(hpreact) # hidden layer\n",
        "    logits= h @ W2 + b2 # output layer\n",
        "    loss=F.cross_entropy(logits,Yb) #loss function\n",
        "    \n",
        "    # backward pass \n",
        "    for p in parameters:\n",
        "        p.grad=None\n",
        "    loss.backward()\n",
        "    \n",
        "    #update\n",
        "    lr= 0.1 if i < 100000 else 0.01 #step learning rate decay\n",
        "    for p in parameters:\n",
        "        p.data += -lr*p.grad\n",
        "        \n",
        "    # track stats\n",
        "    \n",
        "    if i % 10000 ==0: # print every once in a while\n",
        "        print(f'{i:7d}/{max_steps:7d}:{loss.item():.4f}')\n",
        "    lossi.append(loss.log10().item())\n",
        "    break"
      ]
    },
    {
      "cell_type": "code",
      "execution_count": null,
      "id": "4mJuys1mrZil",
      "metadata": {
        "id": "4mJuys1mrZil",
        "outputId": "4669d011-b452-407a-9e69-739e3efc52e5"
      },
      "outputs": [
        {
          "data": {
            "text/plain": [
              "tensor([ 1.7737e-02, -1.2171e-01,  2.3439e-01, -3.4404e-02, -8.2072e-03,\n",
              "        -1.1706e-03, -3.1911e-02,  6.7048e-02,  7.6216e-02,  1.4230e-02,\n",
              "         6.3418e-02,  1.2050e-01,  1.3893e-01,  2.5791e-02,  1.4228e-01,\n",
              "        -8.5727e-02, -1.4190e-01, -1.4446e-01,  1.0751e-01,  4.5441e-02,\n",
              "         9.7540e-03,  4.0968e-02,  4.4945e-02,  4.4076e-02,  8.1509e-02,\n",
              "        -5.1188e-02,  5.4436e-05, -4.4057e-02], grad_fn=<SelectBackward>)"
            ]
          },
          "execution_count": 124,
          "metadata": {},
          "output_type": "execute_result"
        }
      ],
      "source": [
        "logits[1]   #confidently wrong......but with weigth is better....'squashing down the neurons....'"
      ]
    },
    {
      "cell_type": "code",
      "execution_count": null,
      "id": "FSZJBsUJrZil",
      "metadata": {
        "id": "FSZJBsUJrZil",
        "outputId": "ce2e75ba-de9e-46d9-91aa-1bc92be9853b"
      },
      "outputs": [
        {
          "data": {
            "text/plain": [
              "tensor(3.3322)"
            ]
          },
          "execution_count": 125,
          "metadata": {},
          "output_type": "execute_result"
        }
      ],
      "source": [
        "# comment that\n",
        "\n",
        "-torch.tensor(1/28).log()"
      ]
    },
    {
      "cell_type": "code",
      "execution_count": null,
      "id": "LGgoyK35rZil",
      "metadata": {
        "id": "LGgoyK35rZil"
      },
      "outputs": [],
      "source": [
        "# Exercise: try the followi ng normalization, train , evaluate and sample the MLP"
      ]
    },
    {
      "cell_type": "code",
      "execution_count": null,
      "id": "v_M-UZW5rZil",
      "metadata": {
        "id": "v_M-UZW5rZil",
        "outputId": "1717d616-a291-4a4f-cbb5-7000ff91802a"
      },
      "outputs": [
        {
          "data": {
            "text/plain": [
              "tensor([[-0.0270,  0.8200,  0.5795,  ..., -0.7067,  0.1829, -0.2438],\n",
              "        [ 0.5184,  0.7766,  0.8988,  ...,  0.1447, -0.1182,  0.9988],\n",
              "        [ 0.6728,  0.9586,  0.6098,  ..., -0.8293, -0.0165,  0.8832],\n",
              "        ...,\n",
              "        [ 0.5977, -0.0139, -0.3177,  ..., -0.7498,  0.0445,  0.8136],\n",
              "        [-0.0270,  0.8200,  0.5795,  ..., -0.7067,  0.1829, -0.2438],\n",
              "        [-0.0270,  0.8200,  0.5795,  ..., -0.7067,  0.1829, -0.2438]],\n",
              "       grad_fn=<TanhBackward>)"
            ]
          },
          "execution_count": 127,
          "metadata": {},
          "output_type": "execute_result"
        }
      ],
      "source": [
        "# Now we focus on the first layer (show pict): h & hpreact\n",
        "\n",
        "# remember to intialize and run again \n",
        "\n",
        "# look at the +- 1 in h\n",
        "h"
      ]
    },
    {
      "cell_type": "code",
      "execution_count": null,
      "id": "aYd12TWnrZil",
      "metadata": {
        "id": "aYd12TWnrZil",
        "outputId": "d3443594-953f-4176-8535-edd56c2043fb"
      },
      "outputs": [
        {
          "name": "stdout",
          "output_type": "stream",
          "text": [
            "6400\n"
          ]
        }
      ],
      "source": [
        "print(len(h.view(-1).tolist()))  #32*200"
      ]
    },
    {
      "cell_type": "code",
      "execution_count": null,
      "id": "v5fQWCX8rZim",
      "metadata": {
        "id": "v5fQWCX8rZim",
        "outputId": "96339089-5937-4b88-c86f-3483ec517a2a"
      },
      "outputs": [
        {
          "data": {
            "image/png": "[encoded data removed]",
            "text/plain": [
              "<Figure size 432x288 with 1 Axes>"
            ]
          },
          "metadata": {
            "needs_background": "light"
          },
          "output_type": "display_data"
        }
      ],
      "source": [
        "plt.hist(h.view(-1).tolist(),50) # a lot of neurons  are ' saturated'\n",
        "plt.show()"
      ]
    },
    {
      "cell_type": "code",
      "execution_count": null,
      "id": "anF0MSiorZim",
      "metadata": {
        "id": "anF0MSiorZim",
        "outputId": "affa01ff-09c2-4132-ded1-164f44c1522e"
      },
      "outputs": [
        {
          "data": {
            "image/png": "[encoded data removed]",
            "text/plain": [
              "<Figure size 432x288 with 1 Axes>"
            ]
          },
          "metadata": {
            "needs_background": "light"
          },
          "output_type": "display_data"
        }
      ],
      "source": [
        "# now look at the \"broad\" shape of the 'hpreact' distribution.....and this is bad for learning....we want 'normality' for our brain...\n",
        "#tgh'(x)= (1-tgh(x)^2).... saturation bring to vanish gradient...no learning...\n",
        "plt.hist(hpreact.view(-1).tolist(),50) # a lot of neurons  are ' saturated'\n",
        "plt.show()"
      ]
    },
    {
      "cell_type": "code",
      "execution_count": null,
      "id": "r1B6jsGarZim",
      "metadata": {
        "id": "r1B6jsGarZim",
        "outputId": "a109051c-8ea1-44b4-ddd4-e0b01b7ac728"
      },
      "outputs": [
        {
          "data": {
            "text/plain": [
              "<matplotlib.image.AxesImage at 0x7ff777936280>"
            ]
          },
          "execution_count": 131,
          "metadata": {},
          "output_type": "execute_result"
        },
        {
          "data": {
            "image/png": "[encoded data removed]",
            "text/plain": [
              "<Figure size 1440x720 with 1 Axes>"
            ]
          },
          "metadata": {
            "needs_background": "light"
          },
          "output_type": "display_data"
        }
      ],
      "source": [
        "# looking for dead neurons....comment other Activation Functions..... go back weigth the first layer and try again...\n",
        "\n",
        "plt.figure(figsize=(20,10))\n",
        "plt.imshow(h.abs()>0.99, cmap='gray', interpolation='nearest')"
      ]
    },
    {
      "cell_type": "code",
      "execution_count": null,
      "id": "UDZCs2WrrZim",
      "metadata": {
        "id": "UDZCs2WrrZim",
        "outputId": "dad56031-45ae-4380-d4d4-f5658141314a"
      },
      "outputs": [
        {
          "name": "stdout",
          "output_type": "stream",
          "text": [
            "torch.Size([1000, 200])\n",
            "tensor(0.0031) tensor(1.0027)\n",
            "tensor(-0.0002) tensor(1.0037)\n"
          ]
        },
        {
          "data": {
            "image/png": "[encoded data removed]",
            "text/plain": [
              "<Figure size 1440x360 with 2 Axes>"
            ]
          },
          "metadata": {
            "needs_background": "light"
          },
          "output_type": "display_data"
        }
      ],
      "source": [
        "# why we do not to have to worry too much about inizialization....bach normalization..\n",
        "# since 2015 \n",
        "https://arxiv.org/abs/1502.03167\n",
        "# if the problems are fluctuations and saturations (discuss in class)...then just gaussain normalize at each layer...\n",
        "# simple as that !!!...and normalizing is differentiable !!....\n",
        "\n",
        "x=torch.randn(1000,10)\n",
        "w=torch.randn(10,200)# *.2 #*1/10**0.5\n",
        "y=x@w\n",
        "print(y.shape)\n",
        "print(x.mean(),x.std())\n",
        "print(y.mean(),y.std())\n",
        "plt.figure(figsize=(20,5))\n",
        "plt.subplot(121)\n",
        "plt.hist(x.view(-1).tolist(),50, density=True);\n",
        "plt.subplot(122)\n",
        "plt.hist(y.view(-1).tolist(),50, density=True);\n",
        "\n",
        "\n"
      ]
    },
    {
      "cell_type": "code",
      "execution_count": null,
      "id": "hAB_0-wUrZin",
      "metadata": {
        "id": "hAB_0-wUrZin"
      },
      "outputs": [],
      "source": [
        "# summary from 1:18 after the discussion about batch normalization...."
      ]
    }
  ],
  "metadata": {
    "colab": {
      "provenance": []
    },
    "kernelspec": {
      "display_name": "Python 3",
      "language": "python",
      "name": "python3"
    },
    "language_info": {
      "codemirror_mode": {
        "name": "ipython",
        "version": 3
      },
      "file_extension": ".py",
      "mimetype": "text/x-python",
      "name": "python",
      "nbconvert_exporter": "python",
      "pygments_lexer": "ipython3",
      "version": "3.8.3"
    }
  },
  "nbformat": 4,
  "nbformat_minor": 5
}
