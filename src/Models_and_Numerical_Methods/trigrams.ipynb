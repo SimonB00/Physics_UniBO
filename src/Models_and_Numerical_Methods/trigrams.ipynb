{
 "cells": [
  {
   "attachments": {},
   "cell_type": "markdown",
   "id": "8c18f141",
   "metadata": {},
   "source": [
    "# Trigrams - MakeMore2 (19/04/2023)"
   ]
  },
  {
   "cell_type": "code",
   "execution_count": 119,
   "id": "5cca4296",
   "metadata": {},
   "outputs": [],
   "source": [
    "# https://youtu.be/TCH_1BHY58I\n",
    "# https://github.com/karpathy/makemore "
   ]
  },
  {
   "attachments": {},
   "cell_type": "markdown",
   "id": "5e5dbd02",
   "metadata": {},
   "source": [
    "Now we'll try to build a multilayer perceptron (MLP).\n",
    "Each character is going to be embedded in a 2D space.\n",
    "We've three vectors 30D, so 90D as total dimension. (28 chars + 2)\n",
    "Training the network the embedding will change.\n",
    "We'll have a linear transformation which transpose in an intermediate layer we can see as 100D vector.\n",
    "Transforming this non-linearly (with a hyperbolic tangent) it will construct the derivatives (back propagation).\n",
    "With another linear transform we'll connect all.\n",
    "Exponentiating and normalizing we'll get the desired probability distribution.\n",
    "Hyperparameters are the a priori defined parameters.\n",
    "To do things in a good way one needs to know how to tune the hyperparameters."
   ]
  },
  {
   "cell_type": "code",
   "execution_count": 120,
   "id": "e238a95a",
   "metadata": {},
   "outputs": [],
   "source": [
    "# we now go to MLP (multilayer perceptron)....(using NLP (natural language processing))\n",
    "# 'a neural probabilistic language model' (2003) chrome-extension://efaidnbmnnnibpcajpcglclefindmkaj/\n",
    "# https://www.jmlr.org/papers/volume3/bengio03a/bengio03a.pdf\n",
    "# fig 1: 4th word predicted after the three....\n",
    "import random\n",
    "import torch\n",
    "import torch.nn.functional as  F\n",
    "import matplotlib.pyplot as plt\n",
    "%matplotlib inline"
   ]
  },
  {
   "cell_type": "code",
   "execution_count": 121,
   "id": "e63e6dbb",
   "metadata": {},
   "outputs": [
    {
     "name": "stdout",
     "output_type": "stream",
     "text": [
      "['argento', 'giovannino', 'licurga', 'elvira', 'marena', 'sirio', 'emilia', 'bisio', 'preziosa', 'perpetua']\n",
      "9105\n"
     ]
    }
   ],
   "source": [
    "# read in all the words\n",
    "random.seed(158)\n",
    "words=open('data/nomi_italiani.txt','r').read().splitlines()\n",
    "random.shuffle(words)\n",
    "print(words[0:10])\n",
    "print(len(words))"
   ]
  },
  {
   "cell_type": "code",
   "execution_count": 122,
   "id": "3506c24c",
   "metadata": {},
   "outputs": [
    {
     "name": "stdout",
     "output_type": "stream",
     "text": [
      "{1: '-', 2: 'a', 3: 'b', 4: 'c', 5: 'd', 6: 'e', 7: 'f', 8: 'g', 9: 'h', 10: 'i', 11: 'j', 12: 'k', 13: 'l', 14: 'm', 15: 'n', 16: 'o', 17: 'p', 18: 'q', 19: 'r', 20: 's', 21: 't', 22: 'u', 23: 'v', 24: 'w', 25: 'x', 26: 'y', 27: 'z', 0: '.'}\n",
      "{'-': 1, 'a': 2, 'b': 3, 'c': 4, 'd': 5, 'e': 6, 'f': 7, 'g': 8, 'h': 9, 'i': 10, 'j': 11, 'k': 12, 'l': 13, 'm': 14, 'n': 15, 'o': 16, 'p': 17, 'q': 18, 'r': 19, 's': 20, 't': 21, 'u': 22, 'v': 23, 'w': 24, 'x': 25, 'y': 26, 'z': 27, '.': 0}\n"
     ]
    }
   ],
   "source": [
    "# build the vocabulary of characters and mapping to/from integers\n",
    "chars=sorted(list(set(''.join(words))))\n",
    "\n",
    "stoi={s:i+1 for i,s in enumerate(chars)}\n",
    "stoi['.']=0\n",
    "itos ={i:s for s,i in stoi.items()}\n",
    "print(itos)\n",
    "print(stoi)"
   ]
  },
  {
   "attachments": {},
   "cell_type": "markdown",
   "id": "59f6dff2",
   "metadata": {},
   "source": [
    "Previous example - Markov chain, so the block size was 1.\n",
    "Updating the contest means shift over the string and add the last character.\n",
    "X contains the samples (what I'm looking at).\n",
    "Each row of X is a trigram.\n",
    "Y contains the correct answers."
   ]
  },
  {
   "cell_type": "code",
   "execution_count": 123,
   "id": "dae3f065",
   "metadata": {},
   "outputs": [
    {
     "name": "stdout",
     "output_type": "stream",
     "text": [
      "argento\n",
      "... ---> a\n",
      "..a ---> r\n",
      ".ar ---> g\n",
      "arg ---> e\n",
      "rge ---> n\n",
      "gen ---> t\n",
      "ent ---> o\n",
      "nto ---> .\n",
      "giovannino\n",
      "... ---> g\n",
      "..g ---> i\n",
      ".gi ---> o\n",
      "gio ---> v\n",
      "iov ---> a\n",
      "ova ---> n\n",
      "van ---> n\n",
      "ann ---> i\n",
      "nni ---> n\n",
      "nin ---> o\n",
      "ino ---> .\n",
      "licurga\n",
      "... ---> l\n",
      "..l ---> i\n",
      ".li ---> c\n",
      "lic ---> u\n",
      "icu ---> r\n",
      "cur ---> g\n",
      "urg ---> a\n",
      "rga ---> .\n",
      "elvira\n",
      "... ---> e\n",
      "..e ---> l\n",
      ".el ---> v\n",
      "elv ---> i\n",
      "lvi ---> r\n",
      "vir ---> a\n",
      "ira ---> .\n",
      "marena\n",
      "... ---> m\n",
      "..m ---> a\n",
      ".ma ---> r\n",
      "mar ---> e\n",
      "are ---> n\n",
      "ren ---> a\n",
      "ena ---> .\n"
     ]
    }
   ],
   "source": [
    "# build the dataset\n",
    "\n",
    "block_size = 3 #context length: how many characters do we take to predict the next one ... change it !!\n",
    "# try: block_size=1 ...Markov Chain, then try = 2 and =10\n",
    "X,Y = [],[]  # input & label\n",
    "\n",
    "for w in words[0:5]:\n",
    "    print(w)\n",
    "    context=[0]*block_size # 000 corresponds to the character '...'\n",
    "    for ch in w +'.':\n",
    "        ix=stoi[ch]\n",
    "        X.append(context)\n",
    "        Y.append(ix)\n",
    "        print(''.join(itos[i] for i in context), '--->', itos[ix])\n",
    "        context=context[1:]+[ix]  # shift: crop and append\n",
    "X=torch.tensor(X)\n",
    "Y=torch.tensor(Y)"
   ]
  },
  {
   "cell_type": "code",
   "execution_count": 124,
   "id": "8f1500c0",
   "metadata": {},
   "outputs": [
    {
     "name": "stdout",
     "output_type": "stream",
     "text": [
      "tensor([[ 0,  0,  0],\n",
      "        [ 0,  0,  2],\n",
      "        [ 0,  2, 19],\n",
      "        [ 2, 19,  8],\n",
      "        [19,  8,  6],\n",
      "        [ 8,  6, 15],\n",
      "        [ 6, 15, 21],\n",
      "        [15, 21, 16],\n",
      "        [ 0,  0,  0],\n",
      "        [ 0,  0,  8],\n",
      "        [ 0,  8, 10],\n",
      "        [ 8, 10, 16],\n",
      "        [10, 16, 23],\n",
      "        [16, 23,  2],\n",
      "        [23,  2, 15],\n",
      "        [ 2, 15, 15],\n",
      "        [15, 15, 10],\n",
      "        [15, 10, 15],\n",
      "        [10, 15, 16],\n",
      "        [ 0,  0,  0],\n",
      "        [ 0,  0, 13],\n",
      "        [ 0, 13, 10],\n",
      "        [13, 10,  4],\n",
      "        [10,  4, 22],\n",
      "        [ 4, 22, 19],\n",
      "        [22, 19,  8],\n",
      "        [19,  8,  2],\n",
      "        [ 0,  0,  0],\n",
      "        [ 0,  0,  6],\n",
      "        [ 0,  6, 13],\n",
      "        [ 6, 13, 23],\n",
      "        [13, 23, 10],\n",
      "        [23, 10, 19],\n",
      "        [10, 19,  2],\n",
      "        [ 0,  0,  0],\n",
      "        [ 0,  0, 14],\n",
      "        [ 0, 14,  2],\n",
      "        [14,  2, 19],\n",
      "        [ 2, 19,  6],\n",
      "        [19,  6, 15],\n",
      "        [ 6, 15,  2]])\n",
      "tensor([ 2, 19,  8,  6, 15, 21, 16,  0,  8, 10, 16, 23,  2, 15, 15, 10, 15, 16,\n",
      "         0, 13, 10,  4, 22, 19,  8,  2,  0,  6, 13, 23, 10, 19,  2,  0, 14,  2,\n",
      "        19,  6, 15,  2,  0])\n"
     ]
    }
   ],
   "source": [
    "print(X)\n",
    "print(Y)"
   ]
  },
  {
   "cell_type": "code",
   "execution_count": 125,
   "id": "3fd86d6a",
   "metadata": {},
   "outputs": [
    {
     "name": "stdout",
     "output_type": "stream",
     "text": [
      "torch.Size([41, 3]) torch.int64 torch.Size([41]) torch.int64\n"
     ]
    }
   ],
   "source": [
    "print(X.shape, X.dtype, Y.shape, Y.dtype)"
   ]
  },
  {
   "attachments": {},
   "cell_type": "markdown",
   "id": "2a419f60",
   "metadata": {},
   "source": [
    "Now we want to predict the next character starting from trigrams.\n",
    "We're going to take a 2D embedding of the 28 characters.\n",
    "There are many pre-calculated embeddings in the world.\n",
    "\n",
    "We can generate a random (normal) matrix 28x2.\n",
    "In deep data analysis (what we're doing) the world is going really fast.\n",
    "There is a lot of material, 99% of which are bullshits."
   ]
  },
  {
   "cell_type": "code",
   "execution_count": 126,
   "id": "cd4cc509",
   "metadata": {},
   "outputs": [],
   "source": [
    "C = torch.randn((28,2))  #https://pytorch.org/docs/stable/generated/torch.randn.html"
   ]
  },
  {
   "cell_type": "code",
   "execution_count": 127,
   "id": "69744acd",
   "metadata": {},
   "outputs": [
    {
     "name": "stdout",
     "output_type": "stream",
     "text": [
      "tensor([0.1602, 1.6865])\n",
      "torch.Size([28, 2])\n"
     ]
    }
   ],
   "source": [
    "print(C[5])\n",
    "print(C.shape)"
   ]
  },
  {
   "attachments": {},
   "cell_type": "markdown",
   "id": "1c6a7816",
   "metadata": {},
   "source": [
    "Here is a plot of the embedding.\n",
    "Letters are random, after the training this picture is going to change.\n",
    "From this plot we can learn how characters are related each other."
   ]
  },
  {
   "cell_type": "code",
   "execution_count": 128,
   "id": "33c3de1e",
   "metadata": {},
   "outputs": [
    {
     "data": {
      "image/png": "[encoded data removed]",
      "text/plain": [
       "<Figure size 800x800 with 1 Axes>"
      ]
     },
     "metadata": {},
     "output_type": "display_data"
    }
   ],
   "source": [
    "plt.figure(figsize=(8,8))\n",
    "plt.scatter(C[:,0].data, C[:,1].data,s=200)\n",
    "for i in range(C.shape[0]):\n",
    "    plt.text(C[i,0].item(), C[i,1].item(),itos[i], ha=\"center\",va=\"center\", color=\"white\")\n",
    "    plt.grid('minor')\n"
   ]
  },
  {
   "attachments": {},
   "cell_type": "markdown",
   "id": "e34cb3f7",
   "metadata": {},
   "source": [
    "Another way to embed characters is the one-hot embedding discussed last lecture.\n",
    "We can see this embedding as the first layer of our network, even if there's no linearity in it.\n",
    "In fact, they're completely equivalent.\n",
    "One can also see all the embeddings."
   ]
  },
  {
   "cell_type": "code",
   "execution_count": 129,
   "id": "ac89a83b",
   "metadata": {},
   "outputs": [
    {
     "name": "stdout",
     "output_type": "stream",
     "text": [
      "tensor([0, 0, 0, 0, 0, 1, 0, 0, 0, 0, 0, 0, 0, 0, 0, 0, 0, 0, 0, 0, 0, 0, 0, 0,\n",
      "        0, 0, 0, 0])\n",
      "tensor([0.1602, 1.6865])\n",
      "tensor([0.1602, 1.6865])\n",
      "tensor([[ 0.2558,  0.4712],\n",
      "        [ 0.1004, -1.2394],\n",
      "        [-0.6255,  0.5749],\n",
      "        [-0.0888,  0.3804],\n",
      "        [ 0.5361, -0.0062],\n",
      "        [ 0.9571, -0.1212],\n",
      "        [-0.4138,  0.9524],\n",
      "        [ 0.2496,  0.0927],\n",
      "        [-0.6255,  0.5749],\n",
      "        [-0.0697,  0.9788],\n",
      "        [-0.4138,  0.9524],\n",
      "        [ 1.3095,  0.2283],\n",
      "        [ 0.2558,  0.4712],\n",
      "        [ 0.5361, -0.0062],\n",
      "        [ 0.5361, -0.0062],\n",
      "        [-0.0697,  0.9788],\n",
      "        [ 0.5361, -0.0062],\n",
      "        [-0.4138,  0.9524],\n",
      "        [ 0.2496,  0.0927],\n",
      "        [ 0.1741,  0.5519],\n",
      "        [-0.0697,  0.9788],\n",
      "        [-0.5335, -3.2989],\n",
      "        [ 0.2131, -0.0609],\n",
      "        [ 0.1004, -1.2394],\n",
      "        [-0.6255,  0.5749],\n",
      "        [ 0.2558,  0.4712],\n",
      "        [ 0.2496,  0.0927],\n",
      "        [-0.0888,  0.3804],\n",
      "        [ 0.1741,  0.5519],\n",
      "        [ 1.3095,  0.2283],\n",
      "        [-0.0697,  0.9788],\n",
      "        [ 0.1004, -1.2394],\n",
      "        [ 0.2558,  0.4712],\n",
      "        [ 0.2496,  0.0927],\n",
      "        [-0.0245,  0.7741],\n",
      "        [ 0.2558,  0.4712],\n",
      "        [ 0.1004, -1.2394],\n",
      "        [-0.0888,  0.3804],\n",
      "        [ 0.5361, -0.0062],\n",
      "        [ 0.2558,  0.4712],\n",
      "        [ 0.2496,  0.0927]])\n"
     ]
    }
   ],
   "source": [
    "print(F.one_hot(torch.tensor(5),num_classes=28))\n",
    "print(F.one_hot(torch.tensor(5),num_classes=28).float()@C)\n",
    "print(C[5])\n",
    "print(C[Y])"
   ]
  },
  {
   "attachments": {},
   "cell_type": "markdown",
   "id": "0929e527",
   "metadata": {},
   "source": [
    "How to embed the 41 trigrams we have?"
   ]
  },
  {
   "cell_type": "code",
   "execution_count": 130,
   "id": "1cbddf91",
   "metadata": {},
   "outputs": [
    {
     "name": "stdout",
     "output_type": "stream",
     "text": [
      "torch.Size([41, 3, 2])\n"
     ]
    }
   ],
   "source": [
    "emb = C[X]\n",
    "print(emb.shape)"
   ]
  },
  {
   "attachments": {},
   "cell_type": "markdown",
   "id": "ac7cef98",
   "metadata": {},
   "source": [
    "Moreover, we can *differentiate* C!\n",
    "Input has dimension 6 = 3 * 2"
   ]
  },
  {
   "cell_type": "code",
   "execution_count": 140,
   "id": "7aadf1fc",
   "metadata": {},
   "outputs": [],
   "source": [
    "# construct the Layer.... x.W+ b ... so the input has dimension 6=3*2 for (say) 100 neurons...\n",
    "W1 = torch.randn(6,100)\n",
    "b1 = torch.randn(100)\n"
   ]
  },
  {
   "attachments": {},
   "cell_type": "markdown",
   "id": "c3898181",
   "metadata": {},
   "source": [
    "We want to concatenate tensors.\n",
    "And maybe unbind them."
   ]
  },
  {
   "cell_type": "code",
   "execution_count": 141,
   "id": "09c72bff",
   "metadata": {},
   "outputs": [
    {
     "name": "stdout",
     "output_type": "stream",
     "text": [
      "tensor([0.2496, 0.0927, 0.2496, 0.0927, 0.2558, 0.4712])\n",
      "tensor([[0.2496, 0.0927],\n",
      "        [0.2496, 0.0927],\n",
      "        [0.2558, 0.4712]])\n"
     ]
    }
   ],
   "source": [
    "# https://pytorch.org/docs/stable/torch.html search for concatenate...\n",
    "\n",
    "print(torch.cat([emb[:,0,:],emb[:,1,:],emb[:,2,:]],1)[1])\n",
    "print(emb[1])\n",
    "#torch.cat([emb[:,0,:],emb[:,1,:],emb[:,2,:]],1).shape\n"
   ]
  },
  {
   "cell_type": "code",
   "execution_count": 142,
   "id": "ab8264cd",
   "metadata": {},
   "outputs": [
    {
     "data": {
      "text/plain": [
       "3"
      ]
     },
     "execution_count": 142,
     "metadata": {},
     "output_type": "execute_result"
    }
   ],
   "source": [
    "# we want a code for general n-grams..... \n",
    "# use 'unbind' https://pytorch.org/docs/stable/generated/torch.unbind.html#torch.unbind\n",
    "len(torch.unbind(emb,1))\n"
   ]
  },
  {
   "cell_type": "code",
   "execution_count": 143,
   "id": "dc97758d",
   "metadata": {},
   "outputs": [
    {
     "data": {
      "text/plain": [
       "tensor([[ 0.2496,  0.0927,  0.2496,  0.0927,  0.2496,  0.0927],\n",
       "        [ 0.2496,  0.0927,  0.2496,  0.0927,  0.2558,  0.4712],\n",
       "        [ 0.2496,  0.0927,  0.2558,  0.4712,  0.1004, -1.2394],\n",
       "        [ 0.2558,  0.4712,  0.1004, -1.2394, -0.6255,  0.5749],\n",
       "        [ 0.1004, -1.2394, -0.6255,  0.5749, -0.0888,  0.3804],\n",
       "        [-0.6255,  0.5749, -0.0888,  0.3804,  0.5361, -0.0062],\n",
       "        [-0.0888,  0.3804,  0.5361, -0.0062,  0.9571, -0.1212],\n",
       "        [ 0.5361, -0.0062,  0.9571, -0.1212, -0.4138,  0.9524],\n",
       "        [ 0.2496,  0.0927,  0.2496,  0.0927,  0.2496,  0.0927],\n",
       "        [ 0.2496,  0.0927,  0.2496,  0.0927, -0.6255,  0.5749],\n",
       "        [ 0.2496,  0.0927, -0.6255,  0.5749, -0.0697,  0.9788],\n",
       "        [-0.6255,  0.5749, -0.0697,  0.9788, -0.4138,  0.9524],\n",
       "        [-0.0697,  0.9788, -0.4138,  0.9524,  1.3095,  0.2283],\n",
       "        [-0.4138,  0.9524,  1.3095,  0.2283,  0.2558,  0.4712],\n",
       "        [ 1.3095,  0.2283,  0.2558,  0.4712,  0.5361, -0.0062],\n",
       "        [ 0.2558,  0.4712,  0.5361, -0.0062,  0.5361, -0.0062],\n",
       "        [ 0.5361, -0.0062,  0.5361, -0.0062, -0.0697,  0.9788],\n",
       "        [ 0.5361, -0.0062, -0.0697,  0.9788,  0.5361, -0.0062],\n",
       "        [-0.0697,  0.9788,  0.5361, -0.0062, -0.4138,  0.9524],\n",
       "        [ 0.2496,  0.0927,  0.2496,  0.0927,  0.2496,  0.0927],\n",
       "        [ 0.2496,  0.0927,  0.2496,  0.0927,  0.1741,  0.5519],\n",
       "        [ 0.2496,  0.0927,  0.1741,  0.5519, -0.0697,  0.9788],\n",
       "        [ 0.1741,  0.5519, -0.0697,  0.9788, -0.5335, -3.2989],\n",
       "        [-0.0697,  0.9788, -0.5335, -3.2989,  0.2131, -0.0609],\n",
       "        [-0.5335, -3.2989,  0.2131, -0.0609,  0.1004, -1.2394],\n",
       "        [ 0.2131, -0.0609,  0.1004, -1.2394, -0.6255,  0.5749],\n",
       "        [ 0.1004, -1.2394, -0.6255,  0.5749,  0.2558,  0.4712],\n",
       "        [ 0.2496,  0.0927,  0.2496,  0.0927,  0.2496,  0.0927],\n",
       "        [ 0.2496,  0.0927,  0.2496,  0.0927, -0.0888,  0.3804],\n",
       "        [ 0.2496,  0.0927, -0.0888,  0.3804,  0.1741,  0.5519],\n",
       "        [-0.0888,  0.3804,  0.1741,  0.5519,  1.3095,  0.2283],\n",
       "        [ 0.1741,  0.5519,  1.3095,  0.2283, -0.0697,  0.9788],\n",
       "        [ 1.3095,  0.2283, -0.0697,  0.9788,  0.1004, -1.2394],\n",
       "        [-0.0697,  0.9788,  0.1004, -1.2394,  0.2558,  0.4712],\n",
       "        [ 0.2496,  0.0927,  0.2496,  0.0927,  0.2496,  0.0927],\n",
       "        [ 0.2496,  0.0927,  0.2496,  0.0927, -0.0245,  0.7741],\n",
       "        [ 0.2496,  0.0927, -0.0245,  0.7741,  0.2558,  0.4712],\n",
       "        [-0.0245,  0.7741,  0.2558,  0.4712,  0.1004, -1.2394],\n",
       "        [ 0.2558,  0.4712,  0.1004, -1.2394, -0.0888,  0.3804],\n",
       "        [ 0.1004, -1.2394, -0.0888,  0.3804,  0.5361, -0.0062],\n",
       "        [-0.0888,  0.3804,  0.5361, -0.0062,  0.2558,  0.4712]])"
      ]
     },
     "execution_count": 143,
     "metadata": {},
     "output_type": "execute_result"
    }
   ],
   "source": [
    "# and this work fore any context length.......\n",
    "\n",
    "torch.cat(torch.unbind(emb,1),1)"
   ]
  },
  {
   "attachments": {},
   "cell_type": "markdown",
   "id": "79423926",
   "metadata": {},
   "source": [
    "Let's see a better way."
   ]
  },
  {
   "cell_type": "code",
   "execution_count": 144,
   "id": "9047edfc",
   "metadata": {},
   "outputs": [
    {
     "name": "stdout",
     "output_type": "stream",
     "text": [
      "tensor([ 0,  1,  2,  3,  4,  5,  6,  7,  8,  9, 10, 11, 12, 13, 14, 15, 16, 17])\n",
      "torch.Size([18])\n",
      "tensor([[ 0,  1],\n",
      "        [ 2,  3],\n",
      "        [ 4,  5],\n",
      "        [ 6,  7],\n",
      "        [ 8,  9],\n",
      "        [10, 11],\n",
      "        [12, 13],\n",
      "        [14, 15],\n",
      "        [16, 17]])\n",
      "tensor([[ 0,  1,  2,  3,  4,  5,  6,  7,  8],\n",
      "        [ 9, 10, 11, 12, 13, 14, 15, 16, 17]])\n"
     ]
    }
   ],
   "source": [
    "# https://pytorch.org/docs/stable/generated/torch.Tensor.view.html\n",
    "\n",
    "# https://pytorch.org/docs/stable/generated/torch.Tensor.stride.html\n",
    "\n",
    "# use google image and discuss in class....\n",
    "\n",
    "a = torch.arange(18)\n",
    "print(a)\n",
    "print(a.shape)\n",
    "print(a.view(9, 2))\n",
    "print(a.view(2, 9))\n",
    "print(a.storage()) # very efficient in torch"
   ]
  },
  {
   "cell_type": "code",
   "execution_count": 139,
   "id": "229b1e60",
   "metadata": {},
   "outputs": [
    {
     "name": "stdout",
     "output_type": "stream",
     "text": [
      "tensor([[True, True, True, True, True, True],\n",
      "        [True, True, True, True, True, True],\n",
      "        [True, True, True, True, True, True],\n",
      "        [True, True, True, True, True, True],\n",
      "        [True, True, True, True, True, True],\n",
      "        [True, True, True, True, True, True],\n",
      "        [True, True, True, True, True, True],\n",
      "        [True, True, True, True, True, True],\n",
      "        [True, True, True, True, True, True],\n",
      "        [True, True, True, True, True, True],\n",
      "        [True, True, True, True, True, True],\n",
      "        [True, True, True, True, True, True],\n",
      "        [True, True, True, True, True, True],\n",
      "        [True, True, True, True, True, True],\n",
      "        [True, True, True, True, True, True],\n",
      "        [True, True, True, True, True, True],\n",
      "        [True, True, True, True, True, True],\n",
      "        [True, True, True, True, True, True],\n",
      "        [True, True, True, True, True, True],\n",
      "        [True, True, True, True, True, True],\n",
      "        [True, True, True, True, True, True],\n",
      "        [True, True, True, True, True, True],\n",
      "        [True, True, True, True, True, True],\n",
      "        [True, True, True, True, True, True],\n",
      "        [True, True, True, True, True, True],\n",
      "        [True, True, True, True, True, True],\n",
      "        [True, True, True, True, True, True],\n",
      "        [True, True, True, True, True, True],\n",
      "        [True, True, True, True, True, True],\n",
      "        [True, True, True, True, True, True],\n",
      "        [True, True, True, True, True, True],\n",
      "        [True, True, True, True, True, True],\n",
      "        [True, True, True, True, True, True],\n",
      "        [True, True, True, True, True, True],\n",
      "        [True, True, True, True, True, True],\n",
      "        [True, True, True, True, True, True],\n",
      "        [True, True, True, True, True, True],\n",
      "        [True, True, True, True, True, True],\n",
      "        [True, True, True, True, True, True],\n",
      "        [True, True, True, True, True, True],\n",
      "        [True, True, True, True, True, True]])\n"
     ]
    }
   ],
   "source": [
    "print(emb.view(41,6) == torch.cat(torch.unbind(emb,1),1))"
   ]
  },
  {
   "cell_type": "code",
   "execution_count": 145,
   "id": "97a73e4e",
   "metadata": {},
   "outputs": [],
   "source": [
    "# so we can use\n",
    "\n",
    "h = emb.view(41,6) @ W1 + b1"
   ]
  },
  {
   "cell_type": "code",
   "execution_count": 148,
   "id": "e16bb82b",
   "metadata": {},
   "outputs": [
    {
     "name": "stdout",
     "output_type": "stream",
     "text": [
      "tensor([[ 1.3434, -1.3053, -0.1253,  ...,  0.4856,  0.8637, -1.0863],\n",
      "        [ 1.3132, -1.3141, -0.2957,  ...,  0.2071,  0.8518, -1.0113],\n",
      "        [ 1.5203, -1.2366,  0.4327,  ...,  1.4067,  1.0521, -1.4640],\n",
      "        ...,\n",
      "        [ 1.4513,  0.3415, -0.0687,  ..., -0.4671, -0.4637, -2.1596],\n",
      "        [-0.6621, -3.4901, -3.7313,  ...,  1.5579,  2.8168,  1.3091],\n",
      "        [ 2.3470, -1.3804,  0.3965,  ...,  0.3139, -0.0835, -1.0840]])\n",
      "torch.Size([41, 100])\n",
      "tensor([[ 1.3434, -1.3053, -0.1253,  ...,  0.4856,  0.8637, -1.0863],\n",
      "        [ 1.3132, -1.3141, -0.2957,  ...,  0.2071,  0.8518, -1.0113],\n",
      "        [ 1.5203, -1.2366,  0.4327,  ...,  1.4067,  1.0521, -1.4640],\n",
      "        ...,\n",
      "        [ 1.4513,  0.3415, -0.0687,  ..., -0.4671, -0.4637, -2.1596],\n",
      "        [-0.6621, -3.4901, -3.7313,  ...,  1.5579,  2.8168,  1.3091],\n",
      "        [ 2.3470, -1.3804,  0.3965,  ...,  0.3139, -0.0835, -1.0840]])\n"
     ]
    }
   ],
   "source": [
    "print(h)\n",
    "print(h.shape)\n",
    "print(emb.view(-1,6) @ W1 + b1)"
   ]
  },
  {
   "attachments": {},
   "cell_type": "markdown",
   "id": "601b58f8",
   "metadata": {},
   "source": [
    "Embed (glue) + apply matrix + add b1"
   ]
  },
  {
   "cell_type": "code",
   "execution_count": 149,
   "id": "0f9faf39",
   "metadata": {},
   "outputs": [],
   "source": [
    "# first layer\n",
    "\n",
    "# https://pytorch.org/docs/stable/generated/torch.tanh.html\n",
    "\n",
    "h = torch.tanh(emb.view(-1,6) @ W1 + b1)"
   ]
  },
  {
   "cell_type": "code",
   "execution_count": 150,
   "id": "dc35f755",
   "metadata": {},
   "outputs": [
    {
     "name": "stdout",
     "output_type": "stream",
     "text": [
      "tensor([[ 0.8725, -0.8631, -0.1246,  ...,  0.4507,  0.6982, -0.7955],\n",
      "        [ 0.8651, -0.8653, -0.2874,  ...,  0.2042,  0.6920, -0.7663],\n",
      "        [ 0.9088, -0.8445,  0.4075,  ...,  0.8868,  0.7826, -0.8984],\n",
      "        ...,\n",
      "        [ 0.8959,  0.3288, -0.0686,  ..., -0.4359, -0.4331, -0.9737],\n",
      "        [-0.5797, -0.9981, -0.9989,  ...,  0.9151,  0.9929,  0.8641],\n",
      "        [ 0.9819, -0.8810,  0.3769,  ...,  0.3040, -0.0833, -0.7947]])\n"
     ]
    }
   ],
   "source": [
    "print(h)"
   ]
  },
  {
   "attachments": {},
   "cell_type": "markdown",
   "id": "92889ea2",
   "metadata": {},
   "source": [
    "Second layer must take in 100D vector and give out a 28D vector."
   ]
  },
  {
   "cell_type": "code",
   "execution_count": 151,
   "id": "dc58619c",
   "metadata": {},
   "outputs": [],
   "source": [
    "# second layer\n",
    "    \n",
    "W2 = torch.randn((100,28))\n",
    "b2 = torch.randn(28)"
   ]
  },
  {
   "attachments": {},
   "cell_type": "markdown",
   "id": "a26e6bb1",
   "metadata": {},
   "source": [
    "h is coming out from the first layer, then we feed with h the layer here."
   ]
  },
  {
   "cell_type": "code",
   "execution_count": 152,
   "id": "2b211524",
   "metadata": {},
   "outputs": [
    {
     "name": "stdout",
     "output_type": "stream",
     "text": [
      "torch.Size([41, 28])\n"
     ]
    }
   ],
   "source": [
    "logits= h @ W2 +b2\n",
    "print(logits.shape)"
   ]
  },
  {
   "attachments": {},
   "cell_type": "markdown",
   "id": "5afaec94",
   "metadata": {},
   "source": [
    "Logits means log of the counting..."
   ]
  },
  {
   "cell_type": "code",
   "execution_count": 153,
   "id": "4c70e941",
   "metadata": {},
   "outputs": [],
   "source": [
    "counts = logits.exp()"
   ]
  },
  {
   "attachments": {},
   "cell_type": "markdown",
   "id": "1eea9582",
   "metadata": {},
   "source": [
    "Normalize to interpret this as a measure, i.e. a probability distribution coming out from the network when fed with three chars."
   ]
  },
  {
   "cell_type": "code",
   "execution_count": 154,
   "id": "9a67d79d",
   "metadata": {},
   "outputs": [],
   "source": [
    "prob = counts / counts.sum(1,keepdims=True)"
   ]
  },
  {
   "cell_type": "code",
   "execution_count": 157,
   "id": "9e30313b",
   "metadata": {},
   "outputs": [
    {
     "name": "stdout",
     "output_type": "stream",
     "text": [
      "tensor([5.3342e-04, 8.2845e-05, 1.0276e-05, 3.3730e-02, 1.9690e-06, 5.6190e-08,\n",
      "        2.7615e-04, 1.5236e-11, 2.0635e-05, 1.0794e-07, 5.0292e-13, 9.4978e-01,\n",
      "        1.8419e-06, 7.6991e-06, 2.5484e-04, 3.4987e-06, 7.5746e-09, 2.3832e-03,\n",
      "        1.5989e-09, 3.6961e-08, 2.1476e-06, 2.3458e-12, 1.1254e-07, 5.9252e-09,\n",
      "        1.2816e-02, 5.8524e-09, 8.6479e-05, 1.1578e-05])\n",
      "tensor(1.)\n",
      "tensor(8.2845e-05)\n",
      "tensor([1.0276e-05, 4.4738e-07])\n"
     ]
    }
   ],
   "source": [
    "print(prob[0])\n",
    "print(prob[0].sum())\n",
    "print(prob[0, 1])\n",
    "print(prob[[0,1],[2,5]])"
   ]
  },
  {
   "attachments": {},
   "cell_type": "markdown",
   "id": "884f6d12",
   "metadata": {},
   "source": [
    "Model is initialized with random weights, so it's making mistakes."
   ]
  },
  {
   "cell_type": "code",
   "execution_count": 159,
   "id": "8c12f1b6",
   "metadata": {},
   "outputs": [
    {
     "name": "stdout",
     "output_type": "stream",
     "text": [
      "tensor([ 2, 19,  8,  6, 15, 21, 16,  0,  8, 10, 16, 23,  2, 15, 15, 10, 15, 16,\n",
      "         0, 13, 10,  4, 22, 19,  8,  2,  0,  6, 13, 23, 10, 19,  2,  0, 14,  2,\n",
      "        19,  6, 15,  2,  0])\n",
      "tensor([ 0,  1,  2,  3,  4,  5,  6,  7,  8,  9, 10, 11, 12, 13, 14, 15, 16, 17,\n",
      "        18, 19, 20, 21, 22, 23, 24, 25, 26, 27, 28, 29, 30, 31, 32, 33, 34, 35,\n",
      "        36, 37, 38, 39, 40])\n",
      "tensor([1.0276e-05, 6.4533e-07, 1.3380e-06, 1.2077e-05, 1.1760e-06, 5.1298e-06,\n",
      "        1.1362e-07, 6.1300e-01, 2.0635e-05, 3.6782e-09, 2.6240e-15, 4.9966e-08,\n",
      "        7.7345e-11, 3.9684e-05, 1.1333e-06, 6.6873e-13, 8.8303e-04, 2.5064e-13,\n",
      "        7.5127e-02, 7.6991e-06, 4.2047e-10, 4.0904e-06, 3.8478e-11, 1.2565e-13,\n",
      "        2.8409e-08, 1.4099e-03, 2.6910e-04, 2.7615e-04, 6.2277e-05, 3.7940e-07,\n",
      "        5.4847e-12, 6.7872e-09, 1.8759e-12, 1.5365e-06, 2.5484e-04, 3.2291e-02,\n",
      "        6.0698e-09, 3.3290e-06, 6.6961e-05, 4.3583e-06, 8.4486e-02])\n"
     ]
    }
   ],
   "source": [
    "print(Y)\n",
    "print(torch.arange(41))\n",
    "print(prob[torch.arange(41),Y])"
   ]
  },
  {
   "attachments": {},
   "cell_type": "markdown",
   "id": "602fea83",
   "metadata": {},
   "source": [
    "We, of course, want the model to predict the right answer.\n",
    "Probability going to one implies loss going to zero."
   ]
  },
  {
   "cell_type": "code",
   "execution_count": 160,
   "id": "128709ca",
   "metadata": {},
   "outputs": [
    {
     "name": "stdout",
     "output_type": "stream",
     "text": [
      "tensor(14.7402)\n"
     ]
    }
   ],
   "source": [
    "loss= - prob[torch.arange(41),Y].log().mean()\n",
    "print(loss)  # very bad of course....."
   ]
  },
  {
   "attachments": {},
   "cell_type": "markdown",
   "id": "64787ee4",
   "metadata": {},
   "source": [
    "Let's put things together.\n",
    "Parameters will contain all the objects we're going to change."
   ]
  },
  {
   "cell_type": "code",
   "execution_count": 161,
   "id": "32e94c68",
   "metadata": {},
   "outputs": [],
   "source": [
    "g=torch.Generator().manual_seed(123456780)# for reproducibility\n",
    "C=torch.randn((28,2), generator=g)\n",
    "W1=torch.randn((6,100), generator=g)\n",
    "b1=torch.randn(100, generator=g)\n",
    "W2=torch.randn((100,28), generator=g)\n",
    "b2=torch.randn(28, generator=g)\n",
    "parameters=[C,W1,b1,W2,b2]"
   ]
  },
  {
   "attachments": {},
   "cell_type": "markdown",
   "id": "11bcb57f",
   "metadata": {},
   "source": [
    "How many parameters are fixable?"
   ]
  },
  {
   "cell_type": "code",
   "execution_count": 163,
   "id": "24c58c51",
   "metadata": {},
   "outputs": [
    {
     "name": "stdout",
     "output_type": "stream",
     "text": [
      "3584\n"
     ]
    }
   ],
   "source": [
    "print(sum(p.nelement() for p in parameters)) # number of parameter in total..."
   ]
  },
  {
   "cell_type": "code",
   "execution_count": 165,
   "id": "b7bbb813",
   "metadata": {},
   "outputs": [
    {
     "name": "stdout",
     "output_type": "stream",
     "text": [
      "tensor(17.2342)\n"
     ]
    }
   ],
   "source": [
    "emb=C[X] # torch.Size([41, 3, 2])\n",
    "h=torch.tanh(emb.view(-1,6) @ W1 + b1) #(41,100)\n",
    "logits= h @ W2 + b2 #(41,27)\n",
    "counts=logits.exp()\n",
    "prob=counts/counts.sum(1,keepdims=True)\n",
    "loss=-prob[torch.arange(41),Y].log().mean()\n",
    "print(loss)"
   ]
  },
  {
   "cell_type": "code",
   "execution_count": 166,
   "id": "cdc82d00",
   "metadata": {},
   "outputs": [
    {
     "name": "stdout",
     "output_type": "stream",
     "text": [
      "tensor(17.2342)\n"
     ]
    }
   ],
   "source": [
    "# we can make it more efficient using the build in cross entropy loss function...\n",
    "print(F.cross_entropy(logits,Y))"
   ]
  },
  {
   "attachments": {},
   "cell_type": "markdown",
   "id": "c9dddb38",
   "metadata": {},
   "source": [
    "Now the loss has to be minimized."
   ]
  },
  {
   "cell_type": "code",
   "execution_count": 167,
   "id": "07815716",
   "metadata": {},
   "outputs": [
    {
     "name": "stdout",
     "output_type": "stream",
     "text": [
      "tensor(17.2342)\n"
     ]
    }
   ],
   "source": [
    "# so..... https://pytorch.org/docs/stable/generated/torch.nn.functional.cross_entropy.html\n",
    "emb = C[X] # torch.Size([41, 3, 2])\n",
    "h = torch.tanh(emb.view(-1,6) @ W1 + b1) #(41,100)\n",
    "logits = h @ W2 + b2 #(41,27)\n",
    "#counts=logits.exp()\n",
    "#prob=counts/counts.sum(1,keepdims=True)\n",
    "#loss=-prob[torch.arange(41),Y].log().mean()\n",
    "loss=F.cross_entropy(logits,Y)\n",
    "print(loss)"
   ]
  },
  {
   "attachments": {},
   "cell_type": "markdown",
   "id": "f7daa8c1",
   "metadata": {},
   "source": [
    "We'll use the cross_entropy function because the exponentiation of just -500 will result in 0"
   ]
  },
  {
   "cell_type": "code",
   "execution_count": 168,
   "id": "a30fb0f6",
   "metadata": {},
   "outputs": [
    {
     "name": "stdout",
     "output_type": "stream",
     "text": [
      "tensor([6.7379e-03, 4.9787e-02, 1.0000e+00, 2.2026e+04])\n",
      "tensor([3.0589e-07, 2.2602e-06, 4.5398e-05, 9.9995e-01])\n"
     ]
    }
   ],
   "source": [
    "# two very good reasons to use 'cross_entropy': more efficient (no tensor) and substract the maximum to avoid nan....discuss....\n",
    "\n",
    "logits=torch.tensor([-5,-3,0,10]) # -100\n",
    "counts=logits.exp()\n",
    "prob=counts/counts.sum()\n",
    "print(counts)\n",
    "print(prob)"
   ]
  },
  {
   "attachments": {},
   "cell_type": "markdown",
   "id": "c91b1116",
   "metadata": {},
   "source": [
    "Put the gradient to zero, then compute the backward derivative and update all parameters in order to decrease the loss."
   ]
  },
  {
   "cell_type": "code",
   "execution_count": 169,
   "id": "70093b02",
   "metadata": {},
   "outputs": [],
   "source": [
    "for p in parameters:\n",
    "    p.requires_grad = True\n",
    "\n",
    "for _ in range(1000):\n",
    "    # now we learn...forward bass \n",
    "    emb=C[X] # torch.Size([41, 3, 2])\n",
    "    h=torch.tanh(emb.view(-1,6) @ W1 + b1) #(41,100)\n",
    "    logits= h @ W2 + b2 #(41,27)\n",
    "    loss=F.cross_entropy(logits,Y)\n",
    "    # backward pass \n",
    "    for p in parameters:\n",
    "        p.grad=None\n",
    "    loss.backward()\n",
    "    # update\n",
    "    for p in parameters:\n",
    "        p.data += -0.1*p.grad"
   ]
  },
  {
   "cell_type": "code",
   "execution_count": 170,
   "id": "aa6c3cc3",
   "metadata": {},
   "outputs": [
    {
     "name": "stdout",
     "output_type": "stream",
     "text": [
      "elvira.\n",
      "marena.\n",
      "giovannino.\n",
      "giovannino.\n",
      "giovannino.\n",
      "giovannino.\n",
      "elvira.\n",
      "marena.\n",
      "argento.\n",
      "argento.\n",
      "argento.\n",
      "elvira.\n",
      "argento.\n",
      "licurga.\n",
      "licurga.\n",
      "marena.\n",
      "giovannino.\n",
      "marena.\n",
      "giovannino.\n",
      "licurga.\n"
     ]
    }
   ],
   "source": [
    "# sampling from the model.....\n",
    "\n",
    "g=torch.Generator().manual_seed(12345678+10)\n",
    "\n",
    "for _ in range(20):\n",
    "    out=[]\n",
    "    context=[0]*block_size\n",
    "    while True:\n",
    "        emb=C[torch.tensor([context])]\n",
    "        h=torch.tanh(emb.view(1,-1) @ W1 + b1) \n",
    "        logits= h @ W2 + b2\n",
    "        probs=F.softmax(logits,dim=1)\n",
    "        ix=torch.multinomial(probs,num_samples=1,generator=g).item()\n",
    "        context=context[1:]+[ix]\n",
    "        out.append(ix)\n",
    "        if ix==0:\n",
    "            break\n",
    "        \n",
    "    print(''.join(itos[i] for i in out))\n",
    "        "
   ]
  },
  {
   "attachments": {},
   "cell_type": "markdown",
   "id": "01fd5294",
   "metadata": {},
   "source": [
    "Model is overfitting: we've given it only 5 samples out of 7000+...\n",
    "Actually we've 41 examples (trigrams) and 3584 parameters."
   ]
  },
  {
   "cell_type": "code",
   "execution_count": 171,
   "id": "8a6074e3",
   "metadata": {},
   "outputs": [
    {
     "name": "stdout",
     "output_type": "stream",
     "text": [
      "0.19916315376758575\n"
     ]
    }
   ],
   "source": [
    "for p in parameters:\n",
    "    p.requires_grad = True\n",
    "\n",
    "for _ in range(1000):\n",
    "    # now we learn...forward bass \n",
    "    emb=C[X] # torch.Size([41, 3, 2])\n",
    "    h=torch.tanh(emb.view(-1,6) @ W1 + b1) #(41,100)\n",
    "    logits= h @ W2 + b2 #(41,27)\n",
    "    loss=F.cross_entropy(logits,Y)\n",
    "    #print(loss.item())\n",
    "    # backward pass \n",
    "    for p in parameters:\n",
    "        p.grad=None\n",
    "    loss.backward()\n",
    "    #update\n",
    "    for p in parameters:\n",
    "        p.data += -0.1*p.grad\n",
    "print(loss.item())"
   ]
  },
  {
   "cell_type": "code",
   "execution_count": 172,
   "id": "2ca4bf6e",
   "metadata": {},
   "outputs": [
    {
     "name": "stdout",
     "output_type": "stream",
     "text": [
      "torch.return_types.max(\n",
      "values=tensor([12.1724, 14.1847, 15.8096, 16.5460, 12.5090, 14.7062, 15.2590, 15.4024,\n",
      "        12.1724, 19.3660, 15.9273, 12.4720, 13.9841, 17.1356, 14.9285, 13.9812,\n",
      "        13.8305, 15.1462, 14.5532, 12.1724, 15.2042, 17.6397, 14.6976, 14.7785,\n",
      "        22.7934, 18.4190, 15.3254, 12.1724, 18.8153, 16.9008, 17.9443, 18.5473,\n",
      "        15.9427, 15.7163, 12.1724, 19.9722, 15.4614, 16.7053, 16.1372, 18.4218,\n",
      "        15.9050], grad_fn=<MaxBackward0>),\n",
      "indices=tensor([13, 19,  8,  6, 15, 21, 16,  0, 13, 10, 16, 23,  2, 15, 15, 10, 15, 16,\n",
      "         0, 13, 10,  4, 22, 19,  8,  2,  0, 13, 13, 23, 10, 19,  2,  0, 13,  2,\n",
      "        19,  6, 15,  2,  0]))\n",
      "tensor([ 2, 19,  8,  6, 15, 21, 16,  0,  8, 10, 16, 23,  2, 15, 15, 10, 15, 16,\n",
      "         0, 13, 10,  4, 22, 19,  8,  2,  0,  6, 13, 23, 10, 19,  2,  0, 14,  2,\n",
      "        19,  6, 15,  2,  0])\n"
     ]
    }
   ],
   "source": [
    "print(logits.max(1))\n",
    "print(Y)"
   ]
  },
  {
   "attachments": {},
   "cell_type": "markdown",
   "id": "c07abceb",
   "metadata": {},
   "source": [
    "Taking all words we get a very big example dataset."
   ]
  },
  {
   "cell_type": "code",
   "execution_count": 173,
   "id": "db780882",
   "metadata": {},
   "outputs": [],
   "source": [
    "block_size = 3 #context length: how many characters do we take to predict the next one ... change it !!\n",
    "X,Y = [],[]  # input & label\n",
    "\n",
    "for w in words:\n",
    "  #  print(w)\n",
    "    context=[0]*block_size\n",
    "    for ch in w +'.':\n",
    "        ix=stoi[ch]\n",
    "        X.append(context)\n",
    "        Y.append(ix)\n",
    "      #  print(''.join(itos[i] for i in context), '--->', itos[ix])\n",
    "        context=context[1:]+[ix]  # shift: crop and append\n",
    "X=torch.tensor(X)\n",
    "Y=torch.tensor(Y)"
   ]
  },
  {
   "cell_type": "code",
   "execution_count": 174,
   "id": "8dbc4e08",
   "metadata": {},
   "outputs": [
    {
     "name": "stdout",
     "output_type": "stream",
     "text": [
      "torch.Size([73643, 3]) torch.Size([73643])\n"
     ]
    }
   ],
   "source": [
    "print(X.shape, Y.shape)"
   ]
  },
  {
   "cell_type": "code",
   "execution_count": 175,
   "id": "d8aa5705",
   "metadata": {},
   "outputs": [],
   "source": [
    "# exactly as before....\n",
    "g=torch.Generator().manual_seed(123456780)# for reproducibility\n",
    "C=torch.randn((28,2), generator=g)\n",
    "W1=torch.randn((6,100), generator=g)\n",
    "b1=torch.randn(100, generator=g)\n",
    "W2=torch.randn((100,28), generator=g)\n",
    "b2=torch.randn(28, generator=g)\n",
    "parameters=[C,W1,b1,W2,b2]"
   ]
  },
  {
   "cell_type": "code",
   "execution_count": 177,
   "id": "2133baf9",
   "metadata": {},
   "outputs": [
    {
     "name": "stdout",
     "output_type": "stream",
     "text": [
      "17.754497528076172\n",
      "15.824396133422852\n",
      "14.187442779541016\n",
      "13.052315711975098\n",
      "12.071907043457031\n",
      "11.263842582702637\n",
      "10.603142738342285\n",
      "10.075034141540527\n",
      "9.627379417419434\n",
      "9.222493171691895\n",
      "9.222493171691895\n"
     ]
    }
   ],
   "source": [
    "for p in parameters:\n",
    "    p.requires_grad = True\n",
    "\n",
    "for _ in range(10):\n",
    "    # now we learn...forward bass -- = 73643\n",
    "    emb=C[X] # torch.Size([--, 3, 2])\n",
    "    h=torch.tanh(emb.view(-1,6) @ W1 + b1) #(--,100)\n",
    "    logits= h @ W2 + b2 #(--,27)\n",
    "    loss=F.cross_entropy(logits,Y)\n",
    "    print(loss.item())\n",
    "    # backward pass \n",
    "    for p in parameters:\n",
    "        p.grad=None\n",
    "    loss.backward()\n",
    "    #update\n",
    "    for p in parameters:\n",
    "        p.data += -0.1*p.grad\n",
    "print(loss.item())"
   ]
  },
  {
   "attachments": {},
   "cell_type": "markdown",
   "id": "9ec6a61a",
   "metadata": {},
   "source": [
    "See how it's slowing down...\n",
    "Every time we give all samples to it.\n",
    "Let's subdivide the dataset in batches."
   ]
  },
  {
   "cell_type": "code",
   "execution_count": 178,
   "id": "921206f9",
   "metadata": {},
   "outputs": [
    {
     "name": "stdout",
     "output_type": "stream",
     "text": [
      "tensor([23343,  7919,  2361, 56298, 48047, 59013, 68005, 67676, 34842, 59663])\n"
     ]
    }
   ],
   "source": [
    "ix=torch.randint(0,X.shape[0],(10,)) #try ix=torch.randint(0,X.shape[0],(10,2)) and explain\n",
    "#https://pytorch.org/docs/stable/generated/torch.randint.html\n",
    "print(ix)"
   ]
  },
  {
   "cell_type": "code",
   "execution_count": 179,
   "id": "13457f3e",
   "metadata": {},
   "outputs": [
    {
     "name": "stdout",
     "output_type": "stream",
     "text": [
      "tensor([[66830],\n",
      "        [60346],\n",
      "        [59151],\n",
      "        [ 7064],\n",
      "        [ 7115],\n",
      "        [11580],\n",
      "        [ 3603],\n",
      "        [29192],\n",
      "        [20149],\n",
      "        [24173]])\n"
     ]
    }
   ],
   "source": [
    "ix=torch.randint(0,X.shape[0],(10,1))\n",
    "print(ix)"
   ]
  },
  {
   "cell_type": "code",
   "execution_count": 180,
   "id": "a957e768",
   "metadata": {},
   "outputs": [
    {
     "name": "stdout",
     "output_type": "stream",
     "text": [
      "7.6831207275390625\n",
      "10.258496284484863\n",
      "7.767445087432861\n",
      "9.230972290039062\n",
      "7.994351387023926\n",
      "5.282442569732666\n",
      "7.301580905914307\n",
      "6.192886829376221\n",
      "6.842996120452881\n",
      "5.002564907073975\n",
      "5.002564907073975\n"
     ]
    }
   ],
   "source": [
    "for _ in range(10):\n",
    "    \n",
    "    # mini batch construct of size ...\n",
    "    ix=torch.randint(0,X.shape[0],(32,))\n",
    "    # now we learn...forward bass -- = 73643\n",
    "    emb=C[X[ix]] # torch.Size([--, 3, 2])\n",
    "    h=torch.tanh(emb.view(-1,6) @ W1 + b1) #(--,100)\n",
    "    logits= h @ W2 + b2 #(--,27)\n",
    "    loss=F.cross_entropy(logits,Y[ix])\n",
    "    print(loss.item())\n",
    "    # backward pass \n",
    "    for p in parameters:\n",
    "        p.grad=None\n",
    "    loss.backward()\n",
    "    #update\n",
    "    for p in parameters:\n",
    "        p.data += -0.1*p.grad\n",
    "print(loss.item())"
   ]
  },
  {
   "cell_type": "code",
   "execution_count": null,
   "id": "46d55ceb",
   "metadata": {},
   "outputs": [],
   "source": [
    "# how we define the 'learning rate' ? p.data += -0.1*p.grad\n",
    "# play with learning rate from .01 to 100.... and discuss\n",
    "\n"
   ]
  },
  {
   "cell_type": "code",
   "execution_count": 181,
   "id": "a53b007f",
   "metadata": {},
   "outputs": [
    {
     "name": "stdout",
     "output_type": "stream",
     "text": [
      "6.5291032791137695\n",
      "6.093523979187012\n",
      "6.599755764007568\n",
      "5.115520000457764\n",
      "5.535536289215088\n",
      "4.451743125915527\n",
      "5.9591145515441895\n",
      "5.277091026306152\n",
      "5.898592948913574\n",
      "4.3571295738220215\n",
      "5.146317005157471\n",
      "5.136113166809082\n",
      "4.445413112640381\n",
      "4.266791820526123\n",
      "4.742341995239258\n",
      "4.358969688415527\n",
      "4.628392219543457\n",
      "5.392787933349609\n",
      "4.305118560791016\n",
      "4.580636024475098\n",
      "4.129046440124512\n",
      "4.125763416290283\n",
      "3.957634925842285\n",
      "4.19047737121582\n",
      "3.8574957847595215\n",
      "3.928654670715332\n",
      "4.016496658325195\n",
      "4.432901382446289\n",
      "3.476517677307129\n",
      "3.523608922958374\n",
      "4.029623031616211\n",
      "3.309096574783325\n",
      "3.990032434463501\n",
      "3.4100048542022705\n",
      "3.7746741771698\n",
      "3.5564229488372803\n",
      "4.275806427001953\n",
      "3.755242347717285\n",
      "3.566833257675171\n",
      "4.057140350341797\n",
      "3.622175931930542\n",
      "3.329075574874878\n",
      "3.600081205368042\n",
      "3.834233045578003\n",
      "3.8135268688201904\n",
      "3.2416775226593018\n",
      "3.1123034954071045\n",
      "3.5335631370544434\n",
      "3.439405918121338\n",
      "2.8269588947296143\n"
     ]
    }
   ],
   "source": [
    "for _ in range(50):\n",
    "    \n",
    "    # mini batch construct\n",
    "    ix=torch.randint(0,X.shape[0],(100,))\n",
    "    # now we learn...forward bass -- = 73643\n",
    "    emb=C[X[ix]] # torch.Size([--, 3, 2])\n",
    "    h=torch.tanh(emb.view(-1,6) @ W1 + b1) #(--,100)\n",
    "    logits= h @ W2 + b2 #(--,27)\n",
    "    loss=F.cross_entropy(logits,Y[ix])\n",
    "    print(loss.item())\n",
    "    # backward pass \n",
    "    for p in parameters:\n",
    "        p.grad=None\n",
    "    loss.backward()\n",
    "    #update\n",
    "    for p in parameters:\n",
    "        p.data += -.1*p.grad\n",
    "#print(loss.item())"
   ]
  },
  {
   "cell_type": "code",
   "execution_count": 183,
   "id": "d496d66a",
   "metadata": {},
   "outputs": [
    {
     "name": "stdout",
     "output_type": "stream",
     "text": [
      "torch.Size([1000])\n"
     ]
    }
   ],
   "source": [
    "lre=torch.linspace(-3,0,1000)\n",
    "lrs = 10**lre\n",
    "print(lrs.shape)"
   ]
  },
  {
   "cell_type": "code",
   "execution_count": 184,
   "id": "cefe44d1",
   "metadata": {},
   "outputs": [
    {
     "name": "stdout",
     "output_type": "stream",
     "text": [
      "0 3.368565559387207\n",
      "1 3.3664727210998535\n",
      "2 3.4953267574310303\n",
      "3 3.3325986862182617\n",
      "4 3.2518723011016846\n",
      "5 4.31472635269165\n",
      "6 3.1592676639556885\n",
      "7 3.8317620754241943\n",
      "8 3.298553705215454\n",
      "9 3.1296677589416504\n",
      "10 3.358022451400757\n",
      "11 3.630650520324707\n",
      "12 3.58305287361145\n",
      "13 2.855726718902588\n",
      "14 3.7441742420196533\n",
      "15 3.8501763343811035\n",
      "16 3.0986745357513428\n",
      "17 3.1704657077789307\n",
      "18 3.554344892501831\n",
      "19 3.810911178588867\n",
      "20 3.0671846866607666\n",
      "21 3.793652296066284\n",
      "22 3.7225987911224365\n",
      "23 3.2587337493896484\n",
      "24 3.36344575881958\n",
      "25 3.4489786624908447\n",
      "26 3.571763277053833\n",
      "27 3.320463180541992\n",
      "28 3.2562789916992188\n",
      "29 3.291074275970459\n",
      "30 2.9411258697509766\n",
      "31 3.4360809326171875\n",
      "32 3.621157646179199\n",
      "33 3.011439800262451\n",
      "34 3.204313278198242\n",
      "35 3.4823782444000244\n",
      "36 3.455514430999756\n",
      "37 3.5534515380859375\n",
      "38 3.4047818183898926\n",
      "39 3.1920828819274902\n",
      "40 3.8184332847595215\n",
      "41 3.511240005493164\n",
      "42 2.8429675102233887\n",
      "43 3.3335821628570557\n",
      "44 3.4385530948638916\n",
      "45 3.4955034255981445\n",
      "46 3.166571617126465\n",
      "47 3.43709659576416\n",
      "48 3.1786587238311768\n",
      "49 3.3599021434783936\n",
      "50 3.4221248626708984\n",
      "51 3.715975761413574\n",
      "52 3.328756332397461\n",
      "53 3.441025495529175\n",
      "54 3.2741315364837646\n",
      "55 2.942453384399414\n",
      "56 3.277151584625244\n",
      "57 3.086737871170044\n",
      "58 2.924403190612793\n",
      "59 2.9526891708374023\n",
      "60 3.2894299030303955\n",
      "61 3.612443447113037\n",
      "62 2.988185405731201\n",
      "63 3.4664793014526367\n",
      "64 3.5642056465148926\n",
      "65 3.253649950027466\n",
      "66 3.523576021194458\n",
      "67 3.367588520050049\n",
      "68 3.512418746948242\n",
      "69 3.651489496231079\n",
      "70 3.6059887409210205\n",
      "71 3.2201621532440186\n",
      "72 3.6048526763916016\n",
      "73 3.605699062347412\n",
      "74 3.408055305480957\n",
      "75 3.524237632751465\n",
      "76 3.309563398361206\n",
      "77 3.045605182647705\n",
      "78 3.170614242553711\n",
      "79 3.7039034366607666\n",
      "80 3.231813907623291\n",
      "81 3.422236919403076\n",
      "82 3.3998219966888428\n",
      "83 3.587212562561035\n",
      "84 3.813384771347046\n",
      "85 3.075934648513794\n",
      "86 3.4042727947235107\n",
      "87 3.0051093101501465\n",
      "88 3.331113576889038\n",
      "89 3.3928704261779785\n",
      "90 3.169755458831787\n",
      "91 3.6731178760528564\n",
      "92 2.8914144039154053\n",
      "93 2.9132845401763916\n",
      "94 3.577617883682251\n",
      "95 3.0108940601348877\n",
      "96 4.448530673980713\n",
      "97 3.192938804626465\n",
      "98 3.5093560218811035\n",
      "99 3.044001817703247\n",
      "100 3.4355175495147705\n",
      "101 3.1937050819396973\n",
      "102 3.140918493270874\n",
      "103 3.3757801055908203\n",
      "104 3.5198557376861572\n",
      "105 3.417923927307129\n",
      "106 3.47444224357605\n",
      "107 2.9564473628997803\n",
      "108 3.4265475273132324\n",
      "109 3.4937965869903564\n",
      "110 3.110823392868042\n",
      "111 3.981203317642212\n",
      "112 3.3077869415283203\n",
      "113 3.891127347946167\n",
      "114 3.8442494869232178\n",
      "115 3.3506364822387695\n",
      "116 3.218149423599243\n",
      "117 3.3766181468963623\n",
      "118 3.3038430213928223\n",
      "119 2.867716073989868\n",
      "120 2.8291590213775635\n",
      "121 3.2625789642333984\n",
      "122 3.2001330852508545\n",
      "123 3.7399749755859375\n",
      "124 3.5858187675476074\n",
      "125 3.5809454917907715\n",
      "126 3.290879487991333\n",
      "127 3.6248996257781982\n",
      "128 3.6202423572540283\n",
      "129 3.2860376834869385\n",
      "130 3.551058769226074\n",
      "131 3.071249485015869\n",
      "132 3.2099783420562744\n",
      "133 3.3731164932250977\n",
      "134 3.6908178329467773\n",
      "135 2.9895660877227783\n",
      "136 2.8823513984680176\n",
      "137 3.436248779296875\n",
      "138 3.310481071472168\n",
      "139 3.432511568069458\n",
      "140 3.510920524597168\n",
      "141 3.494830369949341\n",
      "142 3.197693109512329\n",
      "143 3.2770886421203613\n",
      "144 3.6542928218841553\n",
      "145 3.4557018280029297\n",
      "146 2.911531925201416\n",
      "147 3.673590898513794\n",
      "148 3.486738920211792\n",
      "149 3.275378942489624\n",
      "150 2.677957773208618\n",
      "151 3.6084718704223633\n",
      "152 3.303556203842163\n",
      "153 3.355301856994629\n",
      "154 2.994384765625\n",
      "155 3.2091586589813232\n",
      "156 3.2800726890563965\n",
      "157 3.2679104804992676\n",
      "158 3.3803343772888184\n",
      "159 3.233146905899048\n",
      "160 2.9462239742279053\n",
      "161 2.977583646774292\n",
      "162 3.338350296020508\n",
      "163 3.400210380554199\n",
      "164 3.4217891693115234\n",
      "165 3.165132522583008\n",
      "166 3.399757146835327\n",
      "167 3.2236716747283936\n",
      "168 3.92677640914917\n",
      "169 3.4546871185302734\n",
      "170 2.8929636478424072\n",
      "171 3.679647922515869\n",
      "172 3.385781764984131\n",
      "173 3.5026116371154785\n",
      "174 3.433652639389038\n",
      "175 3.4170241355895996\n",
      "176 2.95969295501709\n",
      "177 3.7280359268188477\n",
      "178 3.3751332759857178\n",
      "179 3.3512744903564453\n",
      "180 3.423409938812256\n",
      "181 3.372194290161133\n",
      "182 3.437695264816284\n",
      "183 3.764794111251831\n",
      "184 3.476607084274292\n",
      "185 3.0900962352752686\n",
      "186 3.0852673053741455\n",
      "187 3.522122859954834\n",
      "188 2.955281972885132\n",
      "189 3.219339370727539\n",
      "190 3.2647037506103516\n",
      "191 3.226046085357666\n",
      "192 2.8706929683685303\n",
      "193 3.119503974914551\n",
      "194 2.902148723602295\n",
      "195 3.6805410385131836\n",
      "196 3.642153024673462\n",
      "197 3.088996171951294\n",
      "198 3.2966253757476807\n",
      "199 3.4838593006134033\n",
      "200 3.323925256729126\n",
      "201 3.174582004547119\n",
      "202 3.311347246170044\n",
      "203 3.1300899982452393\n",
      "204 3.3968701362609863\n",
      "205 3.6900079250335693\n",
      "206 2.800421953201294\n",
      "207 3.435776472091675\n",
      "208 3.467444658279419\n",
      "209 3.8812029361724854\n",
      "210 3.5461313724517822\n",
      "211 3.559304714202881\n",
      "212 3.1173858642578125\n",
      "213 3.4173314571380615\n",
      "214 3.1116020679473877\n",
      "215 3.1431033611297607\n",
      "216 2.9616620540618896\n",
      "217 3.2486350536346436\n",
      "218 3.8015317916870117\n",
      "219 3.5365021228790283\n",
      "220 3.6221935749053955\n",
      "221 3.1714413166046143\n",
      "222 2.8705968856811523\n",
      "223 2.8804397583007812\n",
      "224 3.4574837684631348\n",
      "225 3.4642486572265625\n",
      "226 3.2447190284729004\n",
      "227 3.3527040481567383\n",
      "228 3.6571340560913086\n",
      "229 2.9900002479553223\n",
      "230 3.273615837097168\n",
      "231 3.116642713546753\n",
      "232 3.634432077407837\n",
      "233 3.3679685592651367\n",
      "234 3.0221948623657227\n",
      "235 3.524319648742676\n",
      "236 2.8563687801361084\n",
      "237 3.281198501586914\n",
      "238 2.959376811981201\n",
      "239 3.319976568222046\n",
      "240 3.0742440223693848\n",
      "241 3.008101224899292\n",
      "242 2.7543745040893555\n",
      "243 3.420478582382202\n",
      "244 3.6450252532958984\n",
      "245 3.0180017948150635\n",
      "246 3.204850196838379\n",
      "247 3.5554311275482178\n",
      "248 3.0593063831329346\n",
      "249 3.134538173675537\n",
      "250 3.3206119537353516\n",
      "251 3.3029329776763916\n",
      "252 2.8007652759552\n",
      "253 3.230151414871216\n",
      "254 2.7701354026794434\n",
      "255 3.3801331520080566\n",
      "256 3.5134060382843018\n",
      "257 3.1987130641937256\n",
      "258 2.931061029434204\n",
      "259 3.2602267265319824\n",
      "260 3.194653034210205\n",
      "261 3.283210039138794\n",
      "262 3.1986804008483887\n",
      "263 3.075181484222412\n",
      "264 3.8836376667022705\n",
      "265 3.2937941551208496\n",
      "266 3.1930947303771973\n",
      "267 3.029971122741699\n",
      "268 3.4090709686279297\n",
      "269 3.2964282035827637\n",
      "270 3.164367437362671\n",
      "271 3.123687982559204\n",
      "272 3.047442674636841\n",
      "273 3.395817518234253\n",
      "274 3.099458694458008\n",
      "275 2.595115900039673\n",
      "276 3.1284706592559814\n",
      "277 2.8909811973571777\n",
      "278 3.36845326423645\n",
      "279 3.3316423892974854\n",
      "280 3.859677791595459\n",
      "281 3.364177942276001\n",
      "282 2.928238868713379\n",
      "283 3.149791955947876\n",
      "284 3.4341790676116943\n",
      "285 3.009725570678711\n",
      "286 2.930516242980957\n",
      "287 3.2549567222595215\n",
      "288 2.828164577484131\n",
      "289 3.008175849914551\n",
      "290 3.3851256370544434\n",
      "291 3.026778221130371\n",
      "292 3.5192885398864746\n",
      "293 3.51713228225708\n",
      "294 3.6593210697174072\n",
      "295 3.3085412979125977\n",
      "296 3.1579012870788574\n",
      "297 3.5025577545166016\n",
      "298 2.799424171447754\n",
      "299 3.583674907684326\n",
      "300 2.8986878395080566\n",
      "301 2.9512929916381836\n",
      "302 3.531770706176758\n",
      "303 3.554638385772705\n",
      "304 2.9750566482543945\n",
      "305 3.2037229537963867\n",
      "306 3.2442641258239746\n",
      "307 2.8939876556396484\n",
      "308 3.2180960178375244\n",
      "309 3.1371266841888428\n",
      "310 3.4231109619140625\n",
      "311 3.3662264347076416\n",
      "312 3.3524463176727295\n",
      "313 3.513162136077881\n",
      "314 3.3761556148529053\n",
      "315 3.1554818153381348\n",
      "316 3.2798197269439697\n",
      "317 3.748898506164551\n",
      "318 3.3811638355255127\n",
      "319 3.2606680393218994\n",
      "320 3.1610991954803467\n",
      "321 3.133202314376831\n",
      "322 3.562572717666626\n",
      "323 3.254274368286133\n",
      "324 2.8934688568115234\n",
      "325 3.2841076850891113\n",
      "326 2.7626051902770996\n",
      "327 2.874668836593628\n",
      "328 3.3557631969451904\n",
      "329 3.7203927040100098\n",
      "330 3.2794904708862305\n",
      "331 3.098936080932617\n",
      "332 3.5009427070617676\n",
      "333 3.3485097885131836\n",
      "334 3.325188636779785\n",
      "335 3.025573492050171\n",
      "336 3.3571765422821045\n",
      "337 3.3692357540130615\n",
      "338 3.070960283279419\n",
      "339 3.0462942123413086\n",
      "340 2.7592720985412598\n",
      "341 3.381018877029419\n",
      "342 3.0518736839294434\n",
      "343 3.7046523094177246\n",
      "344 3.007112979888916\n",
      "345 3.1018459796905518\n",
      "346 2.809976100921631\n",
      "347 3.02366304397583\n",
      "348 3.4695558547973633\n",
      "349 3.4030730724334717\n",
      "350 3.3116445541381836\n",
      "351 3.5778796672821045\n",
      "352 3.2664928436279297\n",
      "353 2.897252082824707\n",
      "354 2.927306890487671\n",
      "355 3.0571627616882324\n",
      "356 3.189826250076294\n",
      "357 3.499350070953369\n",
      "358 3.597278118133545\n",
      "359 3.1664998531341553\n",
      "360 2.830753803253174\n",
      "361 3.0598642826080322\n",
      "362 2.8061838150024414\n",
      "363 2.772953748703003\n",
      "364 3.0026051998138428\n",
      "365 2.848095178604126\n",
      "366 2.9154248237609863\n",
      "367 3.2378387451171875\n",
      "368 2.924988031387329\n",
      "369 3.2079269886016846\n",
      "370 2.9939827919006348\n",
      "371 2.817033290863037\n",
      "372 3.118879795074463\n",
      "373 2.821356773376465\n",
      "374 2.642263412475586\n",
      "375 3.086087942123413\n",
      "376 3.2098586559295654\n",
      "377 3.524332284927368\n",
      "378 3.5938963890075684\n",
      "379 3.238248586654663\n",
      "380 3.3452627658843994\n",
      "381 2.8591060638427734\n",
      "382 3.238459825515747\n",
      "383 3.3979434967041016\n",
      "384 2.9239890575408936\n",
      "385 3.150371789932251\n",
      "386 3.1229593753814697\n",
      "387 3.3355050086975098\n",
      "388 3.4194869995117188\n",
      "389 3.067376136779785\n",
      "390 3.0113525390625\n",
      "391 3.121950626373291\n",
      "392 2.905177593231201\n",
      "393 2.9266748428344727\n",
      "394 3.051527738571167\n",
      "395 2.8744707107543945\n",
      "396 3.383523464202881\n",
      "397 2.7894484996795654\n",
      "398 2.8617677688598633\n",
      "399 2.9933502674102783\n",
      "400 2.855421781539917\n",
      "401 3.5733988285064697\n",
      "402 2.7231533527374268\n",
      "403 3.0137927532196045\n",
      "404 2.9054510593414307\n",
      "405 3.154116153717041\n",
      "406 2.9471089839935303\n",
      "407 3.161195755004883\n",
      "408 2.9415128231048584\n",
      "409 3.152350425720215\n",
      "410 2.7957773208618164\n",
      "411 2.8579955101013184\n",
      "412 3.115152359008789\n",
      "413 2.5546436309814453\n",
      "414 3.2877259254455566\n",
      "415 2.899298667907715\n",
      "416 3.4139139652252197\n",
      "417 2.706333637237549\n",
      "418 3.336010456085205\n",
      "419 3.2335169315338135\n",
      "420 2.885723352432251\n",
      "421 3.273909091949463\n",
      "422 3.166339635848999\n",
      "423 3.2288107872009277\n",
      "424 2.72308349609375\n",
      "425 3.3882598876953125\n",
      "426 3.022958278656006\n",
      "427 2.635282516479492\n",
      "428 3.026548385620117\n",
      "429 2.857386589050293\n",
      "430 3.0989151000976562\n",
      "431 2.9168055057525635\n",
      "432 3.0377001762390137\n",
      "433 3.08835506439209\n",
      "434 3.1350479125976562\n",
      "435 3.1471641063690186\n",
      "436 2.999971628189087\n",
      "437 3.33388614654541\n",
      "438 3.0180325508117676\n",
      "439 2.9946255683898926\n",
      "440 2.972132921218872\n",
      "441 2.9881885051727295\n",
      "442 2.6071202754974365\n",
      "443 2.934708595275879\n",
      "444 2.8849520683288574\n",
      "445 3.231245756149292\n",
      "446 2.7478084564208984\n",
      "447 3.1996407508850098\n",
      "448 3.050327777862549\n",
      "449 2.621274948120117\n",
      "450 2.947100877761841\n",
      "451 2.9088363647460938\n",
      "452 2.7093589305877686\n",
      "453 2.7790050506591797\n",
      "454 2.9154741764068604\n",
      "455 3.3409223556518555\n",
      "456 3.2292706966400146\n",
      "457 3.025913953781128\n",
      "458 3.224745750427246\n",
      "459 2.942160129547119\n",
      "460 2.676873207092285\n",
      "461 2.763417959213257\n",
      "462 3.2205851078033447\n",
      "463 2.962998390197754\n",
      "464 2.7654263973236084\n",
      "465 3.1091604232788086\n",
      "466 2.69291353225708\n",
      "467 2.8166205883026123\n",
      "468 2.9169387817382812\n",
      "469 2.6801135540008545\n",
      "470 2.9816763401031494\n",
      "471 2.7780370712280273\n",
      "472 2.9010794162750244\n",
      "473 2.7236168384552\n",
      "474 2.6044070720672607\n",
      "475 2.867539167404175\n",
      "476 3.280625104904175\n",
      "477 3.20982027053833\n",
      "478 3.0985171794891357\n",
      "479 2.917315721511841\n",
      "480 3.548637628555298\n",
      "481 2.693073034286499\n",
      "482 2.7968900203704834\n",
      "483 2.979485273361206\n",
      "484 3.205214023590088\n",
      "485 2.6897499561309814\n",
      "486 2.9309067726135254\n",
      "487 3.50565767288208\n",
      "488 2.9428255558013916\n",
      "489 3.3500638008117676\n",
      "490 2.7204248905181885\n",
      "491 3.2661473751068115\n",
      "492 2.909092903137207\n",
      "493 2.7498080730438232\n",
      "494 3.251218557357788\n",
      "495 2.8625519275665283\n",
      "496 2.9257702827453613\n",
      "497 3.229346513748169\n",
      "498 2.9337124824523926\n",
      "499 3.6464929580688477\n",
      "500 2.8254218101501465\n",
      "501 3.1172680854797363\n",
      "502 2.8531088829040527\n",
      "503 3.431419610977173\n",
      "504 2.9979538917541504\n",
      "505 2.7028961181640625\n",
      "506 2.6872591972351074\n",
      "507 3.0689055919647217\n",
      "508 2.8846230506896973\n",
      "509 2.646343946456909\n",
      "510 2.76210880279541\n",
      "511 2.6861767768859863\n",
      "512 2.8577163219451904\n",
      "513 2.9829704761505127\n",
      "514 2.82833194732666\n",
      "515 2.79848575592041\n",
      "516 3.1098110675811768\n",
      "517 2.962223529815674\n",
      "518 2.802461862564087\n",
      "519 2.9682860374450684\n",
      "520 3.0579869747161865\n",
      "521 2.899334192276001\n",
      "522 3.2203595638275146\n",
      "523 3.069228172302246\n",
      "524 2.8897697925567627\n",
      "525 2.6049299240112305\n",
      "526 3.141502618789673\n",
      "527 2.6733222007751465\n",
      "528 2.7230560779571533\n",
      "529 2.7941064834594727\n",
      "530 2.7253472805023193\n",
      "531 3.3265042304992676\n",
      "532 2.8313074111938477\n",
      "533 2.6191763877868652\n",
      "534 2.711698055267334\n",
      "535 3.063369035720825\n",
      "536 2.6643857955932617\n",
      "537 2.871986150741577\n",
      "538 2.8693230152130127\n",
      "539 2.7283151149749756\n",
      "540 2.803831100463867\n",
      "541 3.4454398155212402\n",
      "542 2.894249200820923\n",
      "543 2.811328411102295\n",
      "544 2.984988212585449\n",
      "545 2.5948195457458496\n",
      "546 2.9101290702819824\n",
      "547 2.864316463470459\n",
      "548 2.8413279056549072\n",
      "549 2.9976186752319336\n",
      "550 3.176149368286133\n",
      "551 2.8533904552459717\n",
      "552 3.1890785694122314\n",
      "553 2.8550586700439453\n",
      "554 2.8725430965423584\n",
      "555 2.6060009002685547\n",
      "556 2.938995361328125\n",
      "557 2.739750623703003\n",
      "558 2.854048490524292\n",
      "559 2.825047492980957\n",
      "560 3.1895031929016113\n",
      "561 2.7887039184570312\n",
      "562 2.695512056350708\n",
      "563 2.806709051132202\n",
      "564 2.93525767326355\n",
      "565 2.706650495529175\n",
      "566 2.7681472301483154\n",
      "567 2.7280523777008057\n",
      "568 2.804875373840332\n",
      "569 2.5904815196990967\n",
      "570 2.8186495304107666\n",
      "571 2.7118782997131348\n",
      "572 2.662334680557251\n",
      "573 2.5102791786193848\n",
      "574 2.9711270332336426\n",
      "575 2.808506727218628\n",
      "576 2.8910372257232666\n",
      "577 2.374541997909546\n",
      "578 2.6644208431243896\n",
      "579 2.419074296951294\n",
      "580 2.8435163497924805\n",
      "581 2.8947761058807373\n",
      "582 2.585866928100586\n",
      "583 2.968327045440674\n",
      "584 2.8784902095794678\n",
      "585 2.8559212684631348\n",
      "586 2.5591650009155273\n",
      "587 2.9122180938720703\n",
      "588 2.926649570465088\n",
      "589 2.5865590572357178\n",
      "590 2.6397290229797363\n",
      "591 2.7186050415039062\n",
      "592 2.9177980422973633\n",
      "593 2.865870714187622\n",
      "594 2.344822883605957\n",
      "595 2.647308588027954\n",
      "596 3.0604751110076904\n",
      "597 3.105963945388794\n",
      "598 3.0636868476867676\n",
      "599 2.6809027194976807\n",
      "600 2.7519829273223877\n",
      "601 2.625455379486084\n",
      "602 2.696248769760132\n",
      "603 2.5447494983673096\n",
      "604 2.4846527576446533\n",
      "605 2.983638048171997\n",
      "606 2.446133613586426\n",
      "607 2.5966382026672363\n",
      "608 2.6113193035125732\n",
      "609 2.8103408813476562\n",
      "610 2.7688567638397217\n",
      "611 2.5789060592651367\n",
      "612 2.736567735671997\n",
      "613 2.6724157333374023\n",
      "614 2.321218967437744\n",
      "615 2.748096227645874\n",
      "616 2.8014907836914062\n",
      "617 2.677384376525879\n",
      "618 2.4063735008239746\n",
      "619 2.5228989124298096\n",
      "620 2.9600343704223633\n",
      "621 2.8471269607543945\n",
      "622 2.592604398727417\n",
      "623 2.8195462226867676\n",
      "624 2.54400634765625\n",
      "625 2.747821569442749\n",
      "626 3.02854585647583\n",
      "627 2.899521589279175\n",
      "628 2.752659559249878\n",
      "629 2.812784194946289\n",
      "630 2.265432834625244\n",
      "631 2.670365333557129\n",
      "632 2.638631820678711\n",
      "633 2.615255355834961\n",
      "634 2.590616464614868\n",
      "635 2.6507275104522705\n",
      "636 2.6845390796661377\n",
      "637 2.791379451751709\n",
      "638 2.448686122894287\n",
      "639 2.7412269115448\n",
      "640 2.654921054840088\n",
      "641 2.6929826736450195\n",
      "642 2.441467761993408\n",
      "643 3.0208358764648438\n",
      "644 2.4320549964904785\n",
      "645 2.6706411838531494\n",
      "646 2.5770139694213867\n",
      "647 2.8002822399139404\n",
      "648 2.7446181774139404\n",
      "649 2.4636831283569336\n",
      "650 2.8112618923187256\n",
      "651 2.6913399696350098\n",
      "652 2.6000876426696777\n",
      "653 2.5115456581115723\n",
      "654 2.4278812408447266\n",
      "655 2.527833938598633\n",
      "656 2.8081235885620117\n",
      "657 2.674211025238037\n",
      "658 2.392359972000122\n",
      "659 2.8465735912323\n",
      "660 2.6146771907806396\n",
      "661 2.55708909034729\n",
      "662 2.408869981765747\n",
      "663 2.881540298461914\n",
      "664 2.741403102874756\n",
      "665 2.7430548667907715\n",
      "666 2.387519598007202\n",
      "667 2.6068758964538574\n",
      "668 2.7736282348632812\n",
      "669 2.4286468029022217\n",
      "670 2.355428695678711\n",
      "671 2.495431900024414\n",
      "672 2.5413901805877686\n",
      "673 2.5133161544799805\n",
      "674 2.547729253768921\n",
      "675 2.612048387527466\n",
      "676 3.13362979888916\n",
      "677 3.061984062194824\n",
      "678 2.644684076309204\n",
      "679 2.607219934463501\n",
      "680 2.429110288619995\n",
      "681 2.7419979572296143\n",
      "682 2.5701661109924316\n",
      "683 2.589033842086792\n",
      "684 2.5812268257141113\n",
      "685 2.512939929962158\n",
      "686 2.5755574703216553\n",
      "687 2.301943302154541\n",
      "688 2.7445883750915527\n",
      "689 2.6086716651916504\n",
      "690 2.630246162414551\n",
      "691 2.6157054901123047\n",
      "692 2.548997640609741\n",
      "693 2.6486034393310547\n",
      "694 2.525155544281006\n",
      "695 2.5759830474853516\n",
      "696 2.560793161392212\n",
      "697 2.4460418224334717\n",
      "698 2.5208425521850586\n",
      "699 2.3102822303771973\n",
      "700 2.3781321048736572\n",
      "701 2.2180464267730713\n",
      "702 2.52298641204834\n",
      "703 2.833921432495117\n",
      "704 2.8250491619110107\n",
      "705 2.3605992794036865\n",
      "706 2.570383310317993\n",
      "707 2.682004690170288\n",
      "708 2.5974419116973877\n",
      "709 2.498528480529785\n",
      "710 2.8265445232391357\n",
      "711 2.560995578765869\n",
      "712 2.683722734451294\n",
      "713 2.5534145832061768\n",
      "714 2.5733401775360107\n",
      "715 2.3682758808135986\n",
      "716 2.6593267917633057\n",
      "717 2.5261166095733643\n",
      "718 2.6035263538360596\n",
      "719 2.612839698791504\n",
      "720 2.570493459701538\n",
      "721 2.706211805343628\n",
      "722 2.409219741821289\n",
      "723 2.607243299484253\n",
      "724 2.812448740005493\n",
      "725 2.5376176834106445\n",
      "726 2.506314277648926\n",
      "727 2.45821475982666\n",
      "728 2.363083600997925\n",
      "729 2.384004592895508\n",
      "730 2.4132652282714844\n",
      "731 2.4869420528411865\n",
      "732 2.818833827972412\n",
      "733 2.343726873397827\n",
      "734 2.6504323482513428\n",
      "735 2.6104748249053955\n",
      "736 2.753882646560669\n",
      "737 2.834806203842163\n",
      "738 2.5448269844055176\n",
      "739 2.5227930545806885\n",
      "740 2.296536922454834\n",
      "741 2.536158323287964\n",
      "742 2.358847141265869\n",
      "743 2.514897346496582\n",
      "744 2.5177271366119385\n",
      "745 2.374752998352051\n",
      "746 2.6605565547943115\n",
      "747 2.72856068611145\n",
      "748 2.332005500793457\n",
      "749 2.533356189727783\n",
      "750 2.5224337577819824\n",
      "751 2.6599843502044678\n",
      "752 2.4592125415802\n",
      "753 2.598015069961548\n",
      "754 2.4982688426971436\n",
      "755 2.433941125869751\n",
      "756 2.4541993141174316\n",
      "757 2.7498831748962402\n",
      "758 2.5209739208221436\n",
      "759 2.647899866104126\n",
      "760 2.6898245811462402\n",
      "761 2.618220329284668\n",
      "762 2.7541568279266357\n",
      "763 2.7984328269958496\n",
      "764 3.0083565711975098\n",
      "765 2.8047940731048584\n",
      "766 3.020328998565674\n",
      "767 2.7699780464172363\n",
      "768 2.4263041019439697\n",
      "769 2.523061752319336\n",
      "770 3.0203051567077637\n",
      "771 3.503978967666626\n",
      "772 3.064119815826416\n",
      "773 2.8727712631225586\n",
      "774 2.5470457077026367\n",
      "775 2.5643091201782227\n",
      "776 2.5743143558502197\n",
      "777 2.813014507293701\n",
      "778 3.3911232948303223\n",
      "779 2.640977382659912\n",
      "780 2.503171682357788\n",
      "781 2.7478537559509277\n",
      "782 2.864737033843994\n",
      "783 2.4875800609588623\n",
      "784 3.012516975402832\n",
      "785 2.9336888790130615\n",
      "786 2.5992681980133057\n",
      "787 2.474804401397705\n",
      "788 2.412301540374756\n",
      "789 2.7891201972961426\n",
      "790 2.626106023788452\n",
      "791 2.620687246322632\n",
      "792 2.713364362716675\n",
      "793 2.5281684398651123\n",
      "794 2.7838470935821533\n",
      "795 2.7255568504333496\n",
      "796 2.7019503116607666\n",
      "797 2.536053419113159\n",
      "798 2.793275833129883\n",
      "799 2.840730905532837\n",
      "800 2.7707462310791016\n",
      "801 2.9855921268463135\n",
      "802 2.9479362964630127\n",
      "803 2.455980062484741\n",
      "804 2.556575059890747\n",
      "805 2.5705132484436035\n",
      "806 2.701108455657959\n",
      "807 3.186415195465088\n",
      "808 3.5011630058288574\n",
      "809 3.474022626876831\n",
      "810 2.8865292072296143\n",
      "811 3.30795955657959\n",
      "812 2.8336870670318604\n",
      "813 2.8489410877227783\n",
      "814 2.5724878311157227\n",
      "815 2.850032091140747\n",
      "816 2.9632153511047363\n",
      "817 2.7034366130828857\n",
      "818 3.3791635036468506\n",
      "819 2.789328098297119\n",
      "820 2.778690814971924\n",
      "821 2.618312120437622\n",
      "822 2.5395517349243164\n",
      "823 2.64540433883667\n",
      "824 2.4916574954986572\n",
      "825 2.3776962757110596\n",
      "826 2.8559818267822266\n",
      "827 2.7788851261138916\n",
      "828 3.660330295562744\n",
      "829 3.779418706893921\n",
      "830 3.0847606658935547\n",
      "831 2.72788143157959\n",
      "832 2.9574837684631348\n",
      "833 2.5721981525421143\n",
      "834 3.0969598293304443\n",
      "835 3.3228118419647217\n",
      "836 3.5831048488616943\n",
      "837 4.651346206665039\n",
      "838 3.8016247749328613\n",
      "839 2.461911201477051\n",
      "840 2.7837917804718018\n",
      "841 3.407264471054077\n",
      "842 3.8073015213012695\n",
      "843 3.723144292831421\n",
      "844 2.7730343341827393\n",
      "845 3.5082449913024902\n",
      "846 3.1027581691741943\n",
      "847 2.9641425609588623\n",
      "848 3.4414708614349365\n",
      "849 3.0168979167938232\n",
      "850 3.6061513423919678\n",
      "851 3.3529164791107178\n",
      "852 3.406219720840454\n",
      "853 3.426222562789917\n",
      "854 2.934068202972412\n",
      "855 3.89113187789917\n",
      "856 3.3203887939453125\n",
      "857 2.9170076847076416\n",
      "858 3.048875331878662\n",
      "859 3.0816845893859863\n",
      "860 3.381786823272705\n",
      "861 2.81706166267395\n",
      "862 3.2628486156463623\n",
      "863 3.24599027633667\n",
      "864 3.473100185394287\n",
      "865 2.979487657546997\n",
      "866 3.8315329551696777\n",
      "867 4.064713478088379\n",
      "868 3.2881014347076416\n",
      "869 3.8660199642181396\n",
      "870 3.3609652519226074\n",
      "871 3.0190930366516113\n",
      "872 3.5851244926452637\n",
      "873 3.7807717323303223\n",
      "874 3.874617338180542\n",
      "875 4.772902011871338\n",
      "876 4.323575019836426\n",
      "877 5.272405624389648\n",
      "878 3.9626171588897705\n",
      "879 3.199336290359497\n",
      "880 3.241105556488037\n",
      "881 3.32765531539917\n",
      "882 3.9662978649139404\n",
      "883 5.067581653594971\n",
      "884 4.760202407836914\n",
      "885 4.308162689208984\n",
      "886 4.399972438812256\n",
      "887 3.974750280380249\n",
      "888 4.107245922088623\n",
      "889 3.2719826698303223\n",
      "890 3.3775339126586914\n",
      "891 3.3985238075256348\n",
      "892 3.8015143871307373\n",
      "893 4.130348205566406\n",
      "894 4.078455924987793\n",
      "895 3.730961561203003\n",
      "896 3.3504488468170166\n",
      "897 3.095583438873291\n",
      "898 3.381599187850952\n",
      "899 3.4277842044830322\n",
      "900 3.0536892414093018\n",
      "901 3.569718599319458\n",
      "902 3.4113054275512695\n",
      "903 3.498684883117676\n",
      "904 4.044469833374023\n",
      "905 4.320045471191406\n",
      "906 3.7183568477630615\n",
      "907 4.185582160949707\n",
      "908 3.312917709350586\n",
      "909 3.850055456161499\n",
      "910 3.84141206741333\n",
      "911 2.9338784217834473\n",
      "912 3.424072027206421\n",
      "913 3.8424293994903564\n",
      "914 4.489358901977539\n",
      "915 4.957143306732178\n",
      "916 4.236574172973633\n",
      "917 4.554518222808838\n",
      "918 4.2018914222717285\n",
      "919 4.0829243659973145\n",
      "920 4.722506999969482\n",
      "921 4.544500350952148\n",
      "922 3.493424415588379\n",
      "923 3.709352970123291\n",
      "924 5.084047794342041\n",
      "925 5.04269552230835\n",
      "926 4.635468006134033\n",
      "927 4.44883394241333\n",
      "928 3.8216240406036377\n",
      "929 3.5534427165985107\n",
      "930 4.006283760070801\n",
      "931 4.177349090576172\n",
      "932 5.4109392166137695\n",
      "933 5.171278476715088\n",
      "934 6.207318305969238\n",
      "935 5.114595413208008\n",
      "936 4.290966987609863\n",
      "937 5.135807514190674\n",
      "938 4.069039821624756\n",
      "939 5.488536357879639\n",
      "940 4.893245220184326\n",
      "941 4.7949700355529785\n",
      "942 3.6622800827026367\n",
      "943 3.534407615661621\n",
      "944 4.235979080200195\n",
      "945 4.816856861114502\n",
      "946 4.860227108001709\n",
      "947 4.861949920654297\n",
      "948 3.814201593399048\n",
      "949 3.276745319366455\n",
      "950 3.656010627746582\n",
      "951 4.322011947631836\n",
      "952 4.168172359466553\n",
      "953 4.881052494049072\n",
      "954 4.350264549255371\n",
      "955 3.827319383621216\n",
      "956 3.974656581878662\n",
      "957 4.287317752838135\n",
      "958 3.3925724029541016\n",
      "959 3.4328835010528564\n",
      "960 4.126375198364258\n",
      "961 5.307992935180664\n",
      "962 3.9827404022216797\n",
      "963 4.32673978805542\n",
      "964 4.116459846496582\n",
      "965 3.758046865463257\n",
      "966 4.447051525115967\n",
      "967 4.56601095199585\n",
      "968 3.1690869331359863\n",
      "969 4.33090353012085\n",
      "970 4.6004958152771\n",
      "971 5.9803290367126465\n",
      "972 6.6266584396362305\n",
      "973 6.692086219787598\n",
      "974 4.692742824554443\n",
      "975 7.091777801513672\n",
      "976 5.47673225402832\n",
      "977 5.352108001708984\n",
      "978 5.175652503967285\n",
      "979 4.574439525604248\n",
      "980 4.556912422180176\n",
      "981 5.279070854187012\n",
      "982 4.878084182739258\n",
      "983 3.9116861820220947\n",
      "984 4.627847194671631\n",
      "985 4.479369640350342\n",
      "986 4.239612102508545\n",
      "987 3.702117681503296\n",
      "988 4.290469169616699\n",
      "989 5.659959316253662\n",
      "990 5.236414909362793\n",
      "991 4.024868965148926\n",
      "992 4.048742294311523\n",
      "993 4.591125011444092\n",
      "994 5.536630153656006\n",
      "995 6.566038131713867\n",
      "996 6.935812950134277\n",
      "997 7.321219444274902\n",
      "998 5.606709003448486\n",
      "999 4.989220142364502\n"
     ]
    }
   ],
   "source": [
    "for p in parameters:\n",
    "    p.requires_grad = True\n",
    "    \n",
    "lri=[]\n",
    "lriex=[]\n",
    "lossi=[]\n",
    "    \n",
    "\n",
    "for i in range(1000):\n",
    "    \n",
    "    # mini batch construct\n",
    "    ix=torch.randint(0,X.shape[0],(100,))\n",
    "    # now we learn...forward bass -- = 73643\n",
    "    emb=C[X[ix]] # torch.Size([--, 3, 2])\n",
    "    h=torch.tanh(emb.view(-1,6) @ W1 + b1) #(--,100)\n",
    "    logits= h @ W2 + b2 #(--,27)\n",
    "    loss=F.cross_entropy(logits,Y[ix])\n",
    "    print(i,loss.item())\n",
    "    # backward pass \n",
    "    for p in parameters:\n",
    "        p.grad=None\n",
    "    loss.backward()\n",
    "    #update\n",
    "    lr=lrs[i]\n",
    "    # lr= .01\n",
    "    for p in parameters:\n",
    "        p.data += -lr*p.grad\n",
    "#print(loss.item())\n",
    "\n",
    "#track stats\n",
    "    lri.append(lr)\n",
    "    lriex.append(lre[i])\n",
    "    lossi.append(loss.item())"
   ]
  },
  {
   "cell_type": "code",
   "execution_count": 185,
   "id": "991439c6",
   "metadata": {},
   "outputs": [
    {
     "data": {
      "text/plain": [
       "[<matplotlib.lines.Line2D at 0x7fc3ce7efdf0>]"
      ]
     },
     "execution_count": 185,
     "metadata": {},
     "output_type": "execute_result"
    },
    {
     "data": {
      "image/png": "[encoded data removed]",
      "text/plain": [
       "<Figure size 640x480 with 1 Axes>"
      ]
     },
     "metadata": {},
     "output_type": "display_data"
    }
   ],
   "source": [
    "plt.plot(lri,lossi)  # discuss......"
   ]
  },
  {
   "cell_type": "code",
   "execution_count": 186,
   "id": "a63b8db7",
   "metadata": {},
   "outputs": [
    {
     "data": {
      "text/plain": [
       "[<matplotlib.lines.Line2D at 0x7fc3ceb377c0>]"
      ]
     },
     "execution_count": 186,
     "metadata": {},
     "output_type": "execute_result"
    },
    {
     "data": {
      "image/png": "[encoded data removed]",
      "text/plain": [
       "<Figure size 640x480 with 1 Axes>"
      ]
     },
     "metadata": {},
     "output_type": "display_data"
    }
   ],
   "source": [
    "plt.plot(lriex,lossi)  # discuss......"
   ]
  },
  {
   "cell_type": "code",
   "execution_count": 187,
   "id": "595916e7",
   "metadata": {},
   "outputs": [
    {
     "data": {
      "text/plain": [
       "tensor(5.3478, grad_fn=<NllLossBackward0>)"
      ]
     },
     "execution_count": 187,
     "metadata": {},
     "output_type": "execute_result"
    }
   ],
   "source": [
    "# we can do already much better than bigram....almost...remember overfitting.... \n",
    "\n",
    "emb=C[X] # torch.Size([41, 3, 2])\n",
    "h=torch.tanh(emb.view(-1,6) @ W1 + b1) #(41,100)\n",
    "logits= h @ W2 + b2 #(41,27)\n",
    "loss=F.cross_entropy(logits,Y)\n",
    "loss"
   ]
  },
  {
   "cell_type": "code",
   "execution_count": 188,
   "id": "28d52c0b",
   "metadata": {},
   "outputs": [],
   "source": [
    "# training split, dev/validation split (for hypermarameters !!), test split\n",
    "# 80%, 10%, 10%\n",
    "# be careful with the test eugene.....\n",
    "\n",
    "def build_dataset(words):\n",
    "    block_size =3 #context length: how many characters do we take to predict the next one ... change it !!\n",
    "    X,Y = [],[]  # input & label\n",
    "\n",
    "   \n",
    "    for w in words:\n",
    "        context=[0]*block_size\n",
    "        for ch in w +'.':\n",
    "            ix=stoi[ch]\n",
    "            X.append(context)\n",
    "            Y.append(ix)\n",
    "      #  print(''.join(itos[i] for i in context), '--->', itos[ix])\n",
    "            context=context[1:]+[ix]  # shift: crop and append\n",
    "    X=torch.tensor(X)\n",
    "    Y=torch.tensor(Y)\n",
    "    print(X.shape,Y.shape)\n",
    "    return X,Y\n",
    "\n",
    "\n",
    "\n",
    "    "
   ]
  },
  {
   "cell_type": "code",
   "execution_count": 189,
   "id": "e3b5ea38",
   "metadata": {},
   "outputs": [
    {
     "name": "stdout",
     "output_type": "stream",
     "text": [
      "torch.Size([58867, 3]) torch.Size([58867])\n",
      "torch.Size([7404, 3]) torch.Size([7404])\n",
      "torch.Size([7372, 3]) torch.Size([7372])\n"
     ]
    }
   ],
   "source": [
    "import random\n",
    "random.seed(42)\n",
    "random.shuffle(words)\n",
    "n1=int(0.8*len(words))\n",
    "n2=int(0.9*len(words))\n",
    "\n",
    "Xtr,Ytr = build_dataset(words[:n1])\n",
    "Xdev,Ydev = build_dataset(words[n1:n2])\n",
    "Xte, Yte = build_dataset(words[n2:])\n",
    "\n"
   ]
  },
  {
   "cell_type": "code",
   "execution_count": 190,
   "id": "e7f180a2",
   "metadata": {},
   "outputs": [
    {
     "name": "stdout",
     "output_type": "stream",
     "text": [
      "torch.Size([58867, 3]) torch.Size([58867])\n"
     ]
    }
   ],
   "source": [
    "# and we do it again with the new datasets.......\n",
    "print(Xtr.shape, Ytr.shape)\n",
    "\n",
    "# exactly as before....\n",
    "g=torch.Generator().manual_seed(123456780)# for reproducibility\n",
    "C=torch.randn((28,2), generator=g)\n",
    "W1=torch.randn((6,100), generator=g)\n",
    "b1=torch.randn(100, generator=g)\n",
    "W2=torch.randn((100,28), generator=g)\n",
    "b2=torch.randn(28, generator=g)\n",
    "parameters=[C,W1,b1,W2,b2]"
   ]
  },
  {
   "cell_type": "code",
   "execution_count": 191,
   "id": "2ef6a3bb",
   "metadata": {},
   "outputs": [],
   "source": [
    "for p in parameters:\n",
    "    p.requires_grad = True\n",
    "    \n",
    "    \n",
    "lre=torch.linspace(-3,0,1000)\n",
    "lrs= 10**lre\n"
   ]
  },
  {
   "cell_type": "code",
   "execution_count": 192,
   "id": "5e1035ff",
   "metadata": {},
   "outputs": [
    {
     "name": "stdout",
     "output_type": "stream",
     "text": [
      "1.973708152770996\n"
     ]
    }
   ],
   "source": [
    "# now we train only on Xtr\n",
    "\n",
    "lri=[]\n",
    "lriex=[]\n",
    "lossi=[]\n",
    "    \n",
    "\n",
    "for i in range(10000):\n",
    "    \n",
    "    # mini batch construct\n",
    "    ix=torch.randint(0,Xtr.shape[0],(40,))\n",
    "    # now we learn...forward bass -- = 73643\n",
    "    emb=C[Xtr[ix]] # torch.Size([--, 3, 2])\n",
    "    h=torch.tanh(emb.view(-1,6) @ W1 + b1) #(--,100)\n",
    "    logits= h @ W2 + b2 #(--,27)\n",
    "    loss=F.cross_entropy(logits,Ytr[ix])\n",
    "   # print(i,loss.item())\n",
    "    # backward pass \n",
    "    for p in parameters:\n",
    "        p.grad=None\n",
    "    loss.backward()\n",
    "    #update\n",
    "    #lr=lrs[i]\n",
    "    lr= .1\n",
    "    for p in parameters:\n",
    "        p.data += -lr*p.grad\n",
    "print(loss.item())\n",
    "\n",
    "#track stats\n",
    "#    lri.append(lr)\n",
    "#    lriex.append(lre[i])\n",
    "#    lossi.append(loss.item())"
   ]
  },
  {
   "cell_type": "code",
   "execution_count": 194,
   "id": "49673949",
   "metadata": {},
   "outputs": [
    {
     "name": "stdout",
     "output_type": "stream",
     "text": [
      "tensor(2.2224, grad_fn=<NllLossBackward0>)\n"
     ]
    }
   ],
   "source": [
    "# now we evaluate on Xdev\n",
    "emb=C[Xdev]\n",
    "h=torch.tanh(emb.view(-1,6) @ W1 + b1) #(--,100)\n",
    "logits= h @ W2 + b2 #(--,27)\n",
    "loss=F.cross_entropy(logits,Ydev)\n",
    "print(loss)"
   ]
  },
  {
   "cell_type": "code",
   "execution_count": 195,
   "id": "89f0012e",
   "metadata": {},
   "outputs": [
    {
     "name": "stdout",
     "output_type": "stream",
     "text": [
      "tensor(2.2002, grad_fn=<NllLossBackward0>)\n"
     ]
    }
   ],
   "source": [
    "# now we evaluate on Xtr..... we are NOT overfitting\n",
    "emb=C[Xtr]\n",
    "h=torch.tanh(emb.view(-1,6) @ W1 + b1) #(--,100)\n",
    "logits= h @ W2 + b2 #(--,27)\n",
    "loss=F.cross_entropy(logits,Ytr)\n",
    "print(loss)"
   ]
  },
  {
   "cell_type": "code",
   "execution_count": 196,
   "id": "6664ab75",
   "metadata": {},
   "outputs": [],
   "source": [
    "# now we cahnge the hyper parameters....\n",
    "# before....\n",
    "#g=torch.Generator().manual_seed(123456780)# for reproducibility\n",
    "#C=torch.randn((28,2), generator=g)\n",
    "#W1=torch.randn((6,100), generator=g)\n",
    "#b1=torch.randn(100, generator=g)\n",
    "#W2=torch.randn((100,28), generator=g)\n",
    "#b2=torch.randn(28, generator=g)\n",
    "#parameters=[C,W1,b1,W2,b2]\n",
    "\n",
    "g=torch.Generator().manual_seed(123456780)# for reproducibility\n",
    "C=torch.randn((28,2), generator=g)\n",
    "W1=torch.randn((6,300), generator=g)\n",
    "b1=torch.randn(300, generator=g)\n",
    "W2=torch.randn((300,28), generator=g)\n",
    "b2=torch.randn(28, generator=g)\n",
    "parameters=[C,W1,b1,W2,b2]"
   ]
  },
  {
   "cell_type": "code",
   "execution_count": 197,
   "id": "dd0f0073",
   "metadata": {},
   "outputs": [
    {
     "name": "stdout",
     "output_type": "stream",
     "text": [
      "10584\n"
     ]
    }
   ],
   "source": [
    "print(sum(p.nelement() for p in parameters)) # number of parameter in total... before 3584"
   ]
  },
  {
   "cell_type": "code",
   "execution_count": 198,
   "id": "10ee3bb8",
   "metadata": {},
   "outputs": [],
   "source": [
    "lri=[]\n",
    "lriex=[]\n",
    "lossi=[]\n",
    "stepi=[]\n",
    "for p in parameters:\n",
    "    p.requires_grad = True\n",
    "\n",
    "for i in range(10000):\n",
    "    \n",
    "    # mini batch construct\n",
    "    ix=torch.randint(0,Xtr.shape[0],(40,))\n",
    "    # now we learn...forward bass -- = 73643\n",
    "    emb=C[Xtr[ix]] # torch.Size([--, 3, 2])\n",
    "    h=torch.tanh(emb.view(-1,6) @ W1 + b1) #(--,100)\n",
    "    logits= h @ W2 + b2 #(--,27)\n",
    "    loss=F.cross_entropy(logits,Ytr[ix])\n",
    "   # print(i,loss.item())\n",
    "    # backward pass \n",
    "    for p in parameters:\n",
    "        p.grad=None\n",
    "    loss.backward()\n",
    "    #update\n",
    "    #lr=lrs[i]\n",
    "    lr= .1\n",
    "    for p in parameters:\n",
    "        p.data += -lr*p.grad\n",
    "    stepi.append(i)\n",
    "    lossi.append(loss.item())"
   ]
  },
  {
   "cell_type": "code",
   "execution_count": 199,
   "id": "8792910e",
   "metadata": {},
   "outputs": [
    {
     "data": {
      "text/plain": [
       "[<matplotlib.lines.Line2D at 0x7fc3ce871750>]"
      ]
     },
     "execution_count": 199,
     "metadata": {},
     "output_type": "execute_result"
    },
    {
     "data": {
      "image/png": "[encoded data removed]",
      "text/plain": [
       "<Figure size 640x480 with 1 Axes>"
      ]
     },
     "metadata": {},
     "output_type": "display_data"
    }
   ],
   "source": [
    "plt.plot(stepi,lossi)"
   ]
  },
  {
   "cell_type": "code",
   "execution_count": null,
   "id": "a4b9d70c",
   "metadata": {},
   "outputs": [],
   "source": [
    "# Exercise with different hypermarameters and learning rate.....describe and discuss results...."
   ]
  },
  {
   "cell_type": "code",
   "execution_count": 200,
   "id": "bfb30813",
   "metadata": {},
   "outputs": [
    {
     "data": {
      "image/png": "[encoded data removed]",
      "text/plain": [
       "<Figure size 800x800 with 1 Axes>"
      ]
     },
     "metadata": {},
     "output_type": "display_data"
    }
   ],
   "source": [
    "#visualizing the embedding.....\n",
    "\n",
    "plt.figure(figsize=(8,8))\n",
    "plt.scatter(C[:,0].data, C[:,1].data, s=200)\n",
    "for i in range(C.shape[0]):\n",
    "    plt.text(C[i,0].item(), C[i,1].item(),itos[i], ha=\"center\",va=\"center\", color=\"white\")\n",
    "    plt.grid('minor')"
   ]
  },
  {
   "cell_type": "code",
   "execution_count": 201,
   "id": "89362b2e",
   "metadata": {},
   "outputs": [],
   "source": [
    "# we scale up the embedding dimension and see what happen\n",
    "\n",
    "\n",
    "g=torch.Generator().manual_seed(123456780)# for reproducibility\n",
    "C=torch.randn((28,10), generator=g)\n",
    "W1=torch.randn((30,200), generator=g)\n",
    "b1=torch.randn(200, generator=g)\n",
    "W2=torch.randn((200,28), generator=g)\n",
    "b2=torch.randn(28, generator=g)\n",
    "parameters=[C,W1,b1,W2,b2]"
   ]
  },
  {
   "cell_type": "code",
   "execution_count": 202,
   "id": "b5a009ec",
   "metadata": {},
   "outputs": [
    {
     "name": "stdout",
     "output_type": "stream",
     "text": [
      "12108\n"
     ]
    }
   ],
   "source": [
    "print(sum(p.nelement() for p in parameters)) # number of parameter in total"
   ]
  },
  {
   "cell_type": "code",
   "execution_count": 203,
   "id": "0ebcf936",
   "metadata": {},
   "outputs": [],
   "source": [
    "lri=[]\n",
    "lriex=[]\n",
    "lossi=[]\n",
    "stepi=[]\n",
    "\n",
    "for p in parameters:\n",
    "    p.requires_grad = True"
   ]
  },
  {
   "cell_type": "code",
   "execution_count": 204,
   "id": "e8174994",
   "metadata": {},
   "outputs": [
    {
     "ename": "KeyboardInterrupt",
     "evalue": "",
     "output_type": "error",
     "traceback": [
      "\u001b[0;31m---------------------------------------------------------------------------\u001b[0m",
      "\u001b[0;31mKeyboardInterrupt\u001b[0m                         Traceback (most recent call last)",
      "Cell \u001b[0;32mIn[204], line 17\u001b[0m\n\u001b[1;32m     15\u001b[0m \u001b[39mfor\u001b[39;00m p \u001b[39min\u001b[39;00m parameters:\n\u001b[1;32m     16\u001b[0m     p\u001b[39m.\u001b[39mgrad\u001b[39m=\u001b[39m\u001b[39mNone\u001b[39;00m\n\u001b[0;32m---> 17\u001b[0m loss\u001b[39m.\u001b[39;49mbackward()\n\u001b[1;32m     18\u001b[0m \u001b[39m#update\u001b[39;00m\n\u001b[1;32m     19\u001b[0m \u001b[39m#lr=lrs[i]\u001b[39;00m\n\u001b[1;32m     20\u001b[0m lr\u001b[39m=\u001b[39m \u001b[39m.1\u001b[39m \u001b[39mif\u001b[39;00m i \u001b[39m<\u001b[39m \u001b[39m100000\u001b[39m \u001b[39melse\u001b[39;00m \u001b[39m0.01\u001b[39m\n",
      "File \u001b[0;32m~/.local/lib/python3.10/site-packages/torch/_tensor.py:487\u001b[0m, in \u001b[0;36mTensor.backward\u001b[0;34m(self, gradient, retain_graph, create_graph, inputs)\u001b[0m\n\u001b[1;32m    477\u001b[0m \u001b[39mif\u001b[39;00m has_torch_function_unary(\u001b[39mself\u001b[39m):\n\u001b[1;32m    478\u001b[0m     \u001b[39mreturn\u001b[39;00m handle_torch_function(\n\u001b[1;32m    479\u001b[0m         Tensor\u001b[39m.\u001b[39mbackward,\n\u001b[1;32m    480\u001b[0m         (\u001b[39mself\u001b[39m,),\n\u001b[0;32m   (...)\u001b[0m\n\u001b[1;32m    485\u001b[0m         inputs\u001b[39m=\u001b[39minputs,\n\u001b[1;32m    486\u001b[0m     )\n\u001b[0;32m--> 487\u001b[0m torch\u001b[39m.\u001b[39;49mautograd\u001b[39m.\u001b[39;49mbackward(\n\u001b[1;32m    488\u001b[0m     \u001b[39mself\u001b[39;49m, gradient, retain_graph, create_graph, inputs\u001b[39m=\u001b[39;49minputs\n\u001b[1;32m    489\u001b[0m )\n",
      "File \u001b[0;32m~/.local/lib/python3.10/site-packages/torch/autograd/__init__.py:200\u001b[0m, in \u001b[0;36mbackward\u001b[0;34m(tensors, grad_tensors, retain_graph, create_graph, grad_variables, inputs)\u001b[0m\n\u001b[1;32m    195\u001b[0m     retain_graph \u001b[39m=\u001b[39m create_graph\n\u001b[1;32m    197\u001b[0m \u001b[39m# The reason we repeat same the comment below is that\u001b[39;00m\n\u001b[1;32m    198\u001b[0m \u001b[39m# some Python versions print out the first line of a multi-line function\u001b[39;00m\n\u001b[1;32m    199\u001b[0m \u001b[39m# calls in the traceback and some print out the last line\u001b[39;00m\n\u001b[0;32m--> 200\u001b[0m Variable\u001b[39m.\u001b[39;49m_execution_engine\u001b[39m.\u001b[39;49mrun_backward(  \u001b[39m# Calls into the C++ engine to run the backward pass\u001b[39;49;00m\n\u001b[1;32m    201\u001b[0m     tensors, grad_tensors_, retain_graph, create_graph, inputs,\n\u001b[1;32m    202\u001b[0m     allow_unreachable\u001b[39m=\u001b[39;49m\u001b[39mTrue\u001b[39;49;00m, accumulate_grad\u001b[39m=\u001b[39;49m\u001b[39mTrue\u001b[39;49;00m)\n",
      "\u001b[0;31mKeyboardInterrupt\u001b[0m: "
     ]
    }
   ],
   "source": [
    "# do lr =0.1 and then 0.01 and look at the performance....\n",
    "\n",
    "\n",
    "for i in range(200000):\n",
    "    \n",
    "    # mini batch construct\n",
    "    ix=torch.randint(0,Xtr.shape[0],(40,))\n",
    "    # now we learn...forward bass -- = 73643\n",
    "    emb=C[Xtr[ix]] # torch.Size([--, 3, 2])\n",
    "    h=torch.tanh(emb.view(-1,30) @ W1 + b1) #(--,100)\n",
    "    logits= h @ W2 + b2 #(--,27)\n",
    "    loss=F.cross_entropy(logits,Ytr[ix])\n",
    "   # print(i,loss.item())\n",
    "    # backward pass \n",
    "    for p in parameters:\n",
    "        p.grad=None\n",
    "    loss.backward()\n",
    "    #update\n",
    "    #lr=lrs[i]\n",
    "    lr= .1 if i < 100000 else 0.01\n",
    "    for p in parameters:\n",
    "        p.data += -lr*p.grad\n",
    "    stepi.append(i)\n",
    "    lossi.append(loss.log10().item()) # note the log10 !!"
   ]
  },
  {
   "cell_type": "code",
   "execution_count": null,
   "id": "c615c76a",
   "metadata": {},
   "outputs": [],
   "source": [
    "plt.plot(stepi,lossi)"
   ]
  },
  {
   "cell_type": "code",
   "execution_count": null,
   "id": "9f337a6c",
   "metadata": {},
   "outputs": [],
   "source": [
    "emb=C[Xtr]\n",
    "h=torch.tanh(emb.view(-1,30) @ W1 + b1) #(--,100)   30 not 6 !\n",
    "logits= h @ W2 + b2 #(--,27)\n",
    "loss=F.cross_entropy(logits,Ytr)\n",
    "loss"
   ]
  },
  {
   "cell_type": "code",
   "execution_count": null,
   "id": "80a8a9ca",
   "metadata": {},
   "outputs": [],
   "source": [
    "emb=C[Xdev]\n",
    "h=torch.tanh(emb.view(-1,30) @ W1 + b1) #(--,100)\n",
    "logits= h @ W2 + b2 #(--,27)\n",
    "loss=F.cross_entropy(logits,Ydev)\n",
    "loss"
   ]
  },
  {
   "cell_type": "code",
   "execution_count": null,
   "id": "50dd7e6c",
   "metadata": {},
   "outputs": [],
   "source": [
    "# several (hyper)parameters to paly with: number of layer, numbers of neurons fro layers, embedding dimensions..dimension of the batches, learning rate....\n",
    "# now you can read the cited paper on language models......\n"
   ]
  },
  {
   "cell_type": "code",
   "execution_count": null,
   "id": "fbe87be7",
   "metadata": {},
   "outputs": [],
   "source": [
    "# sampling from the model.....\n",
    "\n",
    "g=torch.Generator().manual_seed(12345678+10)\n",
    "\n",
    "for _ in range(30):\n",
    "    out=[]\n",
    "    context=[0]*block_size\n",
    "    while True:\n",
    "        emb=C[torch.tensor([context])]\n",
    "        h=torch.tanh(emb.view(1,-1) @ W1 + b1) \n",
    "        logits= h @ W2 + b2\n",
    "        probs=F.softmax(logits,dim=1)\n",
    "        ix=torch.multinomial(probs,num_samples=1,generator=g).item()\n",
    "        context=context[1:]+[ix]\n",
    "        out.append(ix)\n",
    "        if ix==0:\n",
    "            break\n",
    "        \n",
    "    print(''.join(itos[i] for i in out))\n",
    "        "
   ]
  },
  {
   "cell_type": "code",
   "execution_count": null,
   "id": "324b8ab8",
   "metadata": {},
   "outputs": [],
   "source": []
  }
 ],
 "metadata": {
  "kernelspec": {
   "display_name": "Python 3",
   "language": "python",
   "name": "python3"
  },
  "language_info": {
   "codemirror_mode": {
    "name": "ipython",
    "version": 3
   },
   "file_extension": ".py",
   "mimetype": "text/x-python",
   "name": "python",
   "nbconvert_exporter": "python",
   "pygments_lexer": "ipython3",
   "version": "3.10.6"
  }
 },
 "nbformat": 4,
 "nbformat_minor": 5
}
