{
 "cells": [
  {
   "attachments": {},
   "cell_type": "markdown",
   "id": "8c18f141",
   "metadata": {},
   "source": [
    "# Trigrams - MakeMore2 (19/04/2023)\n",
    "\n",
    "What if we wanted to guess the fourth character by knowing the first $3$ ones?\n",
    "We should have a counting matrix $N$ of size (in this case) $28 \\cdot 28 \\cdot 28 = 21952$.\n",
    "For some applications we would like to look at strings of $9, 10$ characters or even more: the situation becomes exponentially untreatable.\n",
    "\n",
    "We must find another way to \"train\" our system, one that does not involve counting since the latter is not scalable to $n-$grams.\n",
    "We are going to ask a **Neural Network** to predict the (conditioned) probability distribution over all characters.\n",
    "Furthermore, we are going to see the most simple case of Neural Network now, but then we are going to complexify it and get incredible results."
   ]
  },
  {
   "cell_type": "code",
   "execution_count": 443,
   "id": "5cca4296",
   "metadata": {},
   "outputs": [],
   "source": [
    "# https://youtu.be/TCH_1BHY58I\n",
    "# https://github.com/karpathy/makemore"
   ]
  },
  {
   "attachments": {},
   "cell_type": "markdown",
   "id": "5e5dbd02",
   "metadata": {},
   "source": [
    "Now we'll try to build a multilayer perceptron (MLP).\n",
    "Each character is going to be embedded in a 2D space.\n",
    "We've three vectors 30D, so 90D as total dimension (28 chars + 2).\n",
    "Training the network the embedding will change.\n",
    "We'll have a linear transformation which transpose in an intermediate layer we can see as 100D vector.\n",
    "Transforming this non-linearly (with a hyperbolic tangent) it will construct the derivatives (back propagation).\n",
    "With another linear transform we'll connect all.\n",
    "Exponentiating and normalizing we'll get the desired probability distribution.\n",
    "Hyperparameters are the a priori defined parameters.\n",
    "To do things in a good way one needs to know how to tune the hyperparameters."
   ]
  },
  {
   "cell_type": "code",
   "execution_count": 444,
   "id": "e238a95a",
   "metadata": {},
   "outputs": [],
   "source": [
    "# we now go to MLP (multilayer perceptron)....(using NLP (natural language processing))\n",
    "# 'a neural probabilistic language model' (2003) chrome-extension://efaidnbmnnnibpcajpcglclefindmkaj/\n",
    "# https://www.jmlr.org/papers/volume3/bengio03a/bengio03a.pdf\n",
    "# fig 1: 4th word predicted after the three....\n",
    "import random\n",
    "import torch\n",
    "import torch.nn.functional as  F\n",
    "import matplotlib.pyplot as plt\n",
    "%matplotlib inline"
   ]
  },
  {
   "cell_type": "code",
   "execution_count": 445,
   "id": "e63e6dbb",
   "metadata": {},
   "outputs": [
    {
     "name": "stdout",
     "output_type": "stream",
     "text": [
      "['argento', 'giovannino', 'licurga', 'elvira', 'marena', 'sirio', 'emilia', 'bisio', 'preziosa', 'perpetua']\n",
      "9105\n"
     ]
    }
   ],
   "source": [
    "# read in all the words\n",
    "random.seed(158)\n",
    "words = open('data/nomi_italiani.txt', 'r').read().splitlines()\n",
    "random.shuffle(words)\n",
    "print(words[0:10])\n",
    "print(len(words))"
   ]
  },
  {
   "cell_type": "code",
   "execution_count": 446,
   "id": "3506c24c",
   "metadata": {},
   "outputs": [
    {
     "name": "stdout",
     "output_type": "stream",
     "text": [
      "{1: '-', 2: 'a', 3: 'b', 4: 'c', 5: 'd', 6: 'e', 7: 'f', 8: 'g', 9: 'h', 10: 'i', 11: 'j', 12: 'k', 13: 'l', 14: 'm', 15: 'n', 16: 'o', 17: 'p', 18: 'q', 19: 'r', 20: 's', 21: 't', 22: 'u', 23: 'v', 24: 'w', 25: 'x', 26: 'y', 27: 'z', 0: '.'}\n",
      "{'-': 1, 'a': 2, 'b': 3, 'c': 4, 'd': 5, 'e': 6, 'f': 7, 'g': 8, 'h': 9, 'i': 10, 'j': 11, 'k': 12, 'l': 13, 'm': 14, 'n': 15, 'o': 16, 'p': 17, 'q': 18, 'r': 19, 's': 20, 't': 21, 'u': 22, 'v': 23, 'w': 24, 'x': 25, 'y': 26, 'z': 27, '.': 0}\n"
     ]
    }
   ],
   "source": [
    "# build the vocabulary of characters and mapping to/from integers\n",
    "chars = sorted(list(set(''.join(words))))\n",
    "\n",
    "stoi = {s: i+1 for i, s in enumerate(chars)}\n",
    "stoi['.'] = 0\n",
    "itos = {i: s for s, i in stoi.items()}\n",
    "print(itos)\n",
    "print(stoi)"
   ]
  },
  {
   "attachments": {},
   "cell_type": "markdown",
   "id": "59f6dff2",
   "metadata": {},
   "source": [
    "Previous example - Markov chain, so the block size was 1.\n",
    "Updating the contest means shift over the string and add the last character.\n",
    "X contains the samples (what I'm looking at).\n",
    "Each row of X is a trigram.\n",
    "Y contains the correct answers."
   ]
  },
  {
   "cell_type": "code",
   "execution_count": 447,
   "id": "dae3f065",
   "metadata": {},
   "outputs": [
    {
     "name": "stdout",
     "output_type": "stream",
     "text": [
      "argento\n",
      "... ---> a\n",
      "..a ---> r\n",
      ".ar ---> g\n",
      "arg ---> e\n",
      "rge ---> n\n",
      "gen ---> t\n",
      "ent ---> o\n",
      "nto ---> .\n",
      "giovannino\n",
      "... ---> g\n",
      "..g ---> i\n",
      ".gi ---> o\n",
      "gio ---> v\n",
      "iov ---> a\n",
      "ova ---> n\n",
      "van ---> n\n",
      "ann ---> i\n",
      "nni ---> n\n",
      "nin ---> o\n",
      "ino ---> .\n",
      "licurga\n",
      "... ---> l\n",
      "..l ---> i\n",
      ".li ---> c\n",
      "lic ---> u\n",
      "icu ---> r\n",
      "cur ---> g\n",
      "urg ---> a\n",
      "rga ---> .\n",
      "elvira\n",
      "... ---> e\n",
      "..e ---> l\n",
      ".el ---> v\n",
      "elv ---> i\n",
      "lvi ---> r\n",
      "vir ---> a\n",
      "ira ---> .\n",
      "marena\n",
      "... ---> m\n",
      "..m ---> a\n",
      ".ma ---> r\n",
      "mar ---> e\n",
      "are ---> n\n",
      "ren ---> a\n",
      "ena ---> .\n"
     ]
    }
   ],
   "source": [
    "# build the dataset\n",
    "\n",
    "block_size = 3  # context length: how many characters do we take to predict the next one ... change it !!\n",
    "# try: block_size=1 ...Markov Chain, then try = 2 and =10\n",
    "X, Y = [], []  # input & label\n",
    "\n",
    "for w in words[0:5]:\n",
    "    print(w)\n",
    "    context = [0]*block_size  # 000 corresponds to the character '...'\n",
    "    for ch in w + '.':\n",
    "        ix = stoi[ch]\n",
    "        X.append(context)\n",
    "        Y.append(ix)\n",
    "        print(''.join(itos[i] for i in context), '--->', itos[ix])\n",
    "        context = context[1:]+[ix]  # shift: crop and append\n",
    "X = torch.tensor(X)\n",
    "Y = torch.tensor(Y)"
   ]
  },
  {
   "attachments": {},
   "cell_type": "markdown",
   "id": "2c95b493",
   "metadata": {},
   "source": [
    "If I present to my system $0 = \\cdot$ I expect to find $2=a$, and so on."
   ]
  },
  {
   "cell_type": "code",
   "execution_count": 448,
   "id": "8f1500c0",
   "metadata": {},
   "outputs": [
    {
     "name": "stdout",
     "output_type": "stream",
     "text": [
      "tensor([[ 0,  0,  0],\n",
      "        [ 0,  0,  2],\n",
      "        [ 0,  2, 19],\n",
      "        [ 2, 19,  8],\n",
      "        [19,  8,  6],\n",
      "        [ 8,  6, 15],\n",
      "        [ 6, 15, 21],\n",
      "        [15, 21, 16],\n",
      "        [ 0,  0,  0],\n",
      "        [ 0,  0,  8],\n",
      "        [ 0,  8, 10],\n",
      "        [ 8, 10, 16],\n",
      "        [10, 16, 23],\n",
      "        [16, 23,  2],\n",
      "        [23,  2, 15],\n",
      "        [ 2, 15, 15],\n",
      "        [15, 15, 10],\n",
      "        [15, 10, 15],\n",
      "        [10, 15, 16],\n",
      "        [ 0,  0,  0],\n",
      "        [ 0,  0, 13],\n",
      "        [ 0, 13, 10],\n",
      "        [13, 10,  4],\n",
      "        [10,  4, 22],\n",
      "        [ 4, 22, 19],\n",
      "        [22, 19,  8],\n",
      "        [19,  8,  2],\n",
      "        [ 0,  0,  0],\n",
      "        [ 0,  0,  6],\n",
      "        [ 0,  6, 13],\n",
      "        [ 6, 13, 23],\n",
      "        [13, 23, 10],\n",
      "        [23, 10, 19],\n",
      "        [10, 19,  2],\n",
      "        [ 0,  0,  0],\n",
      "        [ 0,  0, 14],\n",
      "        [ 0, 14,  2],\n",
      "        [14,  2, 19],\n",
      "        [ 2, 19,  6],\n",
      "        [19,  6, 15],\n",
      "        [ 6, 15,  2]])\n",
      "tensor([ 2, 19,  8,  6, 15, 21, 16,  0,  8, 10, 16, 23,  2, 15, 15, 10, 15, 16,\n",
      "         0, 13, 10,  4, 22, 19,  8,  2,  0,  6, 13, 23, 10, 19,  2,  0, 14,  2,\n",
      "        19,  6, 15,  2,  0])\n"
     ]
    }
   ],
   "source": [
    "print(X)\n",
    "print(Y)"
   ]
  },
  {
   "cell_type": "code",
   "execution_count": 449,
   "id": "3fd86d6a",
   "metadata": {},
   "outputs": [
    {
     "name": "stdout",
     "output_type": "stream",
     "text": [
      "torch.Size([41, 3]) torch.int64 torch.Size([41]) torch.int64\n"
     ]
    }
   ],
   "source": [
    "print(X.shape, X.dtype, Y.shape, Y.dtype)"
   ]
  },
  {
   "attachments": {},
   "cell_type": "markdown",
   "id": "2a419f60",
   "metadata": {},
   "source": [
    "Now we want to predict the next character starting from trigrams.\n",
    "We're going to take a 2D embedding of the 28 characters.\n",
    "There are many pre-calculated embeddings in the world.\n",
    "\n",
    "We can generate a random (normal) matrix 28x2.\n",
    "In deep data analysis (what we're doing) the world is going really fast.\n",
    "There is a lot of material, 99% of which are bullshits."
   ]
  },
  {
   "cell_type": "code",
   "execution_count": 450,
   "id": "cd4cc509",
   "metadata": {},
   "outputs": [],
   "source": [
    "# https://pytorch.org/docs/stable/generated/torch.randn.html\n",
    "C = torch.randn((28, 2))"
   ]
  },
  {
   "cell_type": "code",
   "execution_count": 451,
   "id": "69744acd",
   "metadata": {},
   "outputs": [
    {
     "name": "stdout",
     "output_type": "stream",
     "text": [
      "tensor([-0.7776,  0.3077])\n",
      "torch.Size([28, 2])\n"
     ]
    }
   ],
   "source": [
    "print(C[5])\n",
    "print(C.shape)"
   ]
  },
  {
   "attachments": {},
   "cell_type": "markdown",
   "id": "1c6a7816",
   "metadata": {},
   "source": [
    "Here is a plot of the embedding.\n",
    "Letters are random, after the training this picture is going to change.\n",
    "From this plot we can learn how characters are related each other."
   ]
  },
  {
   "cell_type": "code",
   "execution_count": 452,
   "id": "33c3de1e",
   "metadata": {},
   "outputs": [
    {
     "data": {
      "image/png": "[encoded data removed]",
      "text/plain": [
       "<Figure size 800x800 with 1 Axes>"
      ]
     },
     "metadata": {},
     "output_type": "display_data"
    }
   ],
   "source": [
    "plt.figure(figsize=(8, 8))\n",
    "plt.scatter(C[:, 0].data, C[:, 1].data, s=200)\n",
    "for i in range(C.shape[0]):\n",
    "    plt.text(C[i, 0].item(), C[i, 1].item(), itos[i],\n",
    "             ha=\"center\", va=\"center\", color=\"white\")\n",
    "    plt.grid('minor')"
   ]
  },
  {
   "attachments": {},
   "cell_type": "markdown",
   "id": "e34cb3f7",
   "metadata": {},
   "source": [
    "Another way to embed characters is the [**one-hot encoding**](https://pytorch.org/docs/stable/generated/torch.nn.functional.one_hot.html) discussed last lecture.\n",
    "We can see this embedding as the first layer of our network, even if there's no linearity in it.\n",
    "In fact, they're completely equivalent.\n",
    "One can also see all the embeddings."
   ]
  },
  {
   "cell_type": "code",
   "execution_count": 453,
   "id": "ac89a83b",
   "metadata": {},
   "outputs": [
    {
     "name": "stdout",
     "output_type": "stream",
     "text": [
      "tensor([0, 0, 0, 0, 0, 1, 0, 0, 0, 0, 0, 0, 0, 0, 0, 0, 0, 0, 0, 0, 0, 0, 0, 0,\n",
      "        0, 0, 0, 0])\n",
      "tensor([-0.7776,  0.3077])\n",
      "tensor([-0.7776,  0.3077])\n",
      "tensor([[ 0.9940, -0.8991],\n",
      "        [ 0.0061, -0.6300],\n",
      "        [-0.5460,  3.0955],\n",
      "        [-1.6397, -0.6131],\n",
      "        [ 0.3087, -0.8025],\n",
      "        [ 0.4220,  0.3822],\n",
      "        [-0.3936,  0.4641],\n",
      "        [-0.1584,  0.0036],\n",
      "        [-0.5460,  3.0955],\n",
      "        [-1.4187, -1.2333],\n",
      "        [-0.3936,  0.4641],\n",
      "        [ 0.0970, -0.2923],\n",
      "        [ 0.9940, -0.8991],\n",
      "        [ 0.3087, -0.8025],\n",
      "        [ 0.3087, -0.8025],\n",
      "        [-1.4187, -1.2333],\n",
      "        [ 0.3087, -0.8025],\n",
      "        [-0.3936,  0.4641],\n",
      "        [-0.1584,  0.0036],\n",
      "        [-0.5780, -0.1284],\n",
      "        [-1.4187, -1.2333],\n",
      "        [ 1.3726,  0.5412],\n",
      "        [ 1.2897,  0.9605],\n",
      "        [ 0.0061, -0.6300],\n",
      "        [-0.5460,  3.0955],\n",
      "        [ 0.9940, -0.8991],\n",
      "        [-0.1584,  0.0036],\n",
      "        [-1.6397, -0.6131],\n",
      "        [-0.5780, -0.1284],\n",
      "        [ 0.0970, -0.2923],\n",
      "        [-1.4187, -1.2333],\n",
      "        [ 0.0061, -0.6300],\n",
      "        [ 0.9940, -0.8991],\n",
      "        [-0.1584,  0.0036],\n",
      "        [-1.3297, -0.9474],\n",
      "        [ 0.9940, -0.8991],\n",
      "        [ 0.0061, -0.6300],\n",
      "        [-1.6397, -0.6131],\n",
      "        [ 0.3087, -0.8025],\n",
      "        [ 0.9940, -0.8991],\n",
      "        [-0.1584,  0.0036]])\n"
     ]
    }
   ],
   "source": [
    "print(F.one_hot(torch.tensor(5), num_classes=28))\n",
    "print(F.one_hot(torch.tensor(5), num_classes=28).float()@C)\n",
    "print(C[5])\n",
    "print(C[Y])"
   ]
  },
  {
   "attachments": {},
   "cell_type": "markdown",
   "id": "0929e527",
   "metadata": {},
   "source": [
    "How to embed the 41 trigrams we have?"
   ]
  },
  {
   "cell_type": "code",
   "execution_count": 454,
   "id": "1cbddf91",
   "metadata": {},
   "outputs": [
    {
     "name": "stdout",
     "output_type": "stream",
     "text": [
      "torch.Size([41, 3, 2])\n"
     ]
    }
   ],
   "source": [
    "emb = C[X]\n",
    "print(emb.shape)"
   ]
  },
  {
   "attachments": {},
   "cell_type": "markdown",
   "id": "ac7cef98",
   "metadata": {},
   "source": [
    "Moreover, we can *differentiate* C!\n",
    "Input has dimension 6 = 3 * 2"
   ]
  },
  {
   "cell_type": "code",
   "execution_count": 455,
   "id": "7aadf1fc",
   "metadata": {},
   "outputs": [],
   "source": [
    "# construct the Layer.... x.W+ b ... so the input has dimension 6=3*2 for (say) 100 neurons...\n",
    "W1 = torch.randn(6, 100)\n",
    "b1 = torch.randn(100)"
   ]
  },
  {
   "attachments": {},
   "cell_type": "markdown",
   "id": "c3898181",
   "metadata": {},
   "source": [
    "We want to concatenate tensors.\n",
    "And maybe unbind them."
   ]
  },
  {
   "cell_type": "code",
   "execution_count": 456,
   "id": "09c72bff",
   "metadata": {},
   "outputs": [
    {
     "name": "stdout",
     "output_type": "stream",
     "text": [
      "tensor([-0.1584,  0.0036, -0.1584,  0.0036,  0.9940, -0.8991])\n",
      "tensor([[-0.1584,  0.0036],\n",
      "        [-0.1584,  0.0036],\n",
      "        [ 0.9940, -0.8991]])\n"
     ]
    }
   ],
   "source": [
    "# https://pytorch.org/docs/stable/torch.html search for concatenate...\n",
    "\n",
    "print(torch.cat([emb[:, 0, :], emb[:, 1, :], emb[:, 2, :]], 1)[1])\n",
    "print(emb[1])"
   ]
  },
  {
   "cell_type": "code",
   "execution_count": 457,
   "id": "ab8264cd",
   "metadata": {},
   "outputs": [
    {
     "data": {
      "text/plain": [
       "3"
      ]
     },
     "execution_count": 457,
     "metadata": {},
     "output_type": "execute_result"
    }
   ],
   "source": [
    "# we want a code for general n-grams.....\n",
    "# use 'unbind' https://pytorch.org/docs/stable/generated/torch.unbind.html#torch.unbind\n",
    "len(torch.unbind(emb, 1))"
   ]
  },
  {
   "cell_type": "code",
   "execution_count": 458,
   "id": "dc97758d",
   "metadata": {},
   "outputs": [
    {
     "data": {
      "text/plain": [
       "tensor([[-0.1584,  0.0036, -0.1584,  0.0036, -0.1584,  0.0036],\n",
       "        [-0.1584,  0.0036, -0.1584,  0.0036,  0.9940, -0.8991],\n",
       "        [-0.1584,  0.0036,  0.9940, -0.8991,  0.0061, -0.6300],\n",
       "        [ 0.9940, -0.8991,  0.0061, -0.6300, -0.5460,  3.0955],\n",
       "        [ 0.0061, -0.6300, -0.5460,  3.0955, -1.6397, -0.6131],\n",
       "        [-0.5460,  3.0955, -1.6397, -0.6131,  0.3087, -0.8025],\n",
       "        [-1.6397, -0.6131,  0.3087, -0.8025,  0.4220,  0.3822],\n",
       "        [ 0.3087, -0.8025,  0.4220,  0.3822, -0.3936,  0.4641],\n",
       "        [-0.1584,  0.0036, -0.1584,  0.0036, -0.1584,  0.0036],\n",
       "        [-0.1584,  0.0036, -0.1584,  0.0036, -0.5460,  3.0955],\n",
       "        [-0.1584,  0.0036, -0.5460,  3.0955, -1.4187, -1.2333],\n",
       "        [-0.5460,  3.0955, -1.4187, -1.2333, -0.3936,  0.4641],\n",
       "        [-1.4187, -1.2333, -0.3936,  0.4641,  0.0970, -0.2923],\n",
       "        [-0.3936,  0.4641,  0.0970, -0.2923,  0.9940, -0.8991],\n",
       "        [ 0.0970, -0.2923,  0.9940, -0.8991,  0.3087, -0.8025],\n",
       "        [ 0.9940, -0.8991,  0.3087, -0.8025,  0.3087, -0.8025],\n",
       "        [ 0.3087, -0.8025,  0.3087, -0.8025, -1.4187, -1.2333],\n",
       "        [ 0.3087, -0.8025, -1.4187, -1.2333,  0.3087, -0.8025],\n",
       "        [-1.4187, -1.2333,  0.3087, -0.8025, -0.3936,  0.4641],\n",
       "        [-0.1584,  0.0036, -0.1584,  0.0036, -0.1584,  0.0036],\n",
       "        [-0.1584,  0.0036, -0.1584,  0.0036, -0.5780, -0.1284],\n",
       "        [-0.1584,  0.0036, -0.5780, -0.1284, -1.4187, -1.2333],\n",
       "        [-0.5780, -0.1284, -1.4187, -1.2333,  1.3726,  0.5412],\n",
       "        [-1.4187, -1.2333,  1.3726,  0.5412,  1.2897,  0.9605],\n",
       "        [ 1.3726,  0.5412,  1.2897,  0.9605,  0.0061, -0.6300],\n",
       "        [ 1.2897,  0.9605,  0.0061, -0.6300, -0.5460,  3.0955],\n",
       "        [ 0.0061, -0.6300, -0.5460,  3.0955,  0.9940, -0.8991],\n",
       "        [-0.1584,  0.0036, -0.1584,  0.0036, -0.1584,  0.0036],\n",
       "        [-0.1584,  0.0036, -0.1584,  0.0036, -1.6397, -0.6131],\n",
       "        [-0.1584,  0.0036, -1.6397, -0.6131, -0.5780, -0.1284],\n",
       "        [-1.6397, -0.6131, -0.5780, -0.1284,  0.0970, -0.2923],\n",
       "        [-0.5780, -0.1284,  0.0970, -0.2923, -1.4187, -1.2333],\n",
       "        [ 0.0970, -0.2923, -1.4187, -1.2333,  0.0061, -0.6300],\n",
       "        [-1.4187, -1.2333,  0.0061, -0.6300,  0.9940, -0.8991],\n",
       "        [-0.1584,  0.0036, -0.1584,  0.0036, -0.1584,  0.0036],\n",
       "        [-0.1584,  0.0036, -0.1584,  0.0036, -1.3297, -0.9474],\n",
       "        [-0.1584,  0.0036, -1.3297, -0.9474,  0.9940, -0.8991],\n",
       "        [-1.3297, -0.9474,  0.9940, -0.8991,  0.0061, -0.6300],\n",
       "        [ 0.9940, -0.8991,  0.0061, -0.6300, -1.6397, -0.6131],\n",
       "        [ 0.0061, -0.6300, -1.6397, -0.6131,  0.3087, -0.8025],\n",
       "        [-1.6397, -0.6131,  0.3087, -0.8025,  0.9940, -0.8991]])"
      ]
     },
     "execution_count": 458,
     "metadata": {},
     "output_type": "execute_result"
    }
   ],
   "source": [
    "# and this work fore any context length.......\n",
    "\n",
    "torch.cat(torch.unbind(emb, 1), 1)"
   ]
  },
  {
   "attachments": {},
   "cell_type": "markdown",
   "id": "79423926",
   "metadata": {},
   "source": [
    "Let's see a better way."
   ]
  },
  {
   "cell_type": "code",
   "execution_count": 459,
   "id": "9047edfc",
   "metadata": {},
   "outputs": [
    {
     "name": "stdout",
     "output_type": "stream",
     "text": [
      "tensor([ 0,  1,  2,  3,  4,  5,  6,  7,  8,  9, 10, 11, 12, 13, 14, 15, 16, 17])\n",
      "torch.Size([18])\n",
      "tensor([[ 0,  1],\n",
      "        [ 2,  3],\n",
      "        [ 4,  5],\n",
      "        [ 6,  7],\n",
      "        [ 8,  9],\n",
      "        [10, 11],\n",
      "        [12, 13],\n",
      "        [14, 15],\n",
      "        [16, 17]])\n",
      "tensor([[ 0,  1,  2,  3,  4,  5,  6,  7,  8],\n",
      "        [ 9, 10, 11, 12, 13, 14, 15, 16, 17]])\n",
      " 0\n",
      " 1\n",
      " 2\n",
      " 3\n",
      " 4\n",
      " 5\n",
      " 6\n",
      " 7\n",
      " 8\n",
      " 9\n",
      " 10\n",
      " 11\n",
      " 12\n",
      " 13\n",
      " 14\n",
      " 15\n",
      " 16\n",
      " 17\n",
      "[torch.storage.TypedStorage(dtype=torch.int64, device=cpu) of size 18]\n"
     ]
    },
    {
     "name": "stderr",
     "output_type": "stream",
     "text": [
      "/tmp/ipykernel_494/1622729900.py:12: UserWarning: TypedStorage is deprecated. It will be removed in the future and UntypedStorage will be the only storage class. This should only matter to you if you are using storages directly.  To access UntypedStorage directly, use tensor.untyped_storage() instead of tensor.storage()\n",
      "  print(a.storage()) # very efficient in torch\n"
     ]
    }
   ],
   "source": [
    "# https://pytorch.org/docs/stable/generated/torch.Tensor.view.html\n",
    "\n",
    "# https://pytorch.org/docs/stable/generated/torch.Tensor.stride.html\n",
    "\n",
    "a = torch.arange(18)\n",
    "print(a)\n",
    "print(a.shape)\n",
    "print(a.view(9, 2))\n",
    "print(a.view(2, 9))\n",
    "print(a.untyped_storage())  # very efficient in torch"
   ]
  },
  {
   "cell_type": "code",
   "execution_count": 460,
   "id": "229b1e60",
   "metadata": {},
   "outputs": [
    {
     "name": "stdout",
     "output_type": "stream",
     "text": [
      "tensor([[True, True, True, True, True, True],\n",
      "        [True, True, True, True, True, True],\n",
      "        [True, True, True, True, True, True],\n",
      "        [True, True, True, True, True, True],\n",
      "        [True, True, True, True, True, True],\n",
      "        [True, True, True, True, True, True],\n",
      "        [True, True, True, True, True, True],\n",
      "        [True, True, True, True, True, True],\n",
      "        [True, True, True, True, True, True],\n",
      "        [True, True, True, True, True, True],\n",
      "        [True, True, True, True, True, True],\n",
      "        [True, True, True, True, True, True],\n",
      "        [True, True, True, True, True, True],\n",
      "        [True, True, True, True, True, True],\n",
      "        [True, True, True, True, True, True],\n",
      "        [True, True, True, True, True, True],\n",
      "        [True, True, True, True, True, True],\n",
      "        [True, True, True, True, True, True],\n",
      "        [True, True, True, True, True, True],\n",
      "        [True, True, True, True, True, True],\n",
      "        [True, True, True, True, True, True],\n",
      "        [True, True, True, True, True, True],\n",
      "        [True, True, True, True, True, True],\n",
      "        [True, True, True, True, True, True],\n",
      "        [True, True, True, True, True, True],\n",
      "        [True, True, True, True, True, True],\n",
      "        [True, True, True, True, True, True],\n",
      "        [True, True, True, True, True, True],\n",
      "        [True, True, True, True, True, True],\n",
      "        [True, True, True, True, True, True],\n",
      "        [True, True, True, True, True, True],\n",
      "        [True, True, True, True, True, True],\n",
      "        [True, True, True, True, True, True],\n",
      "        [True, True, True, True, True, True],\n",
      "        [True, True, True, True, True, True],\n",
      "        [True, True, True, True, True, True],\n",
      "        [True, True, True, True, True, True],\n",
      "        [True, True, True, True, True, True],\n",
      "        [True, True, True, True, True, True],\n",
      "        [True, True, True, True, True, True],\n",
      "        [True, True, True, True, True, True]])\n"
     ]
    }
   ],
   "source": [
    "print(emb.view(41, 6) == torch.cat(torch.unbind(emb, 1), 1))"
   ]
  },
  {
   "attachments": {},
   "cell_type": "markdown",
   "id": "f8a2a8ea",
   "metadata": {},
   "source": [
    "So we can use"
   ]
  },
  {
   "cell_type": "code",
   "execution_count": 461,
   "id": "97a73e4e",
   "metadata": {},
   "outputs": [],
   "source": [
    "h = emb.view(41, 6) @ W1 + b1"
   ]
  },
  {
   "cell_type": "code",
   "execution_count": 462,
   "id": "e16bb82b",
   "metadata": {},
   "outputs": [
    {
     "name": "stdout",
     "output_type": "stream",
     "text": [
      "tensor([[-0.0127, -1.5797,  0.3777,  ...,  0.8798,  0.8424,  0.3150],\n",
      "        [ 0.4762, -1.6867,  2.4601,  ..., -1.1835,  1.1385,  1.0527],\n",
      "        [-2.4161, -1.6783,  2.7843,  ..., -1.8970, -1.9951,  0.8419],\n",
      "        ...,\n",
      "        [ 0.0383, -0.0525,  3.2570,  ...,  2.5062, -3.9853, -0.9087],\n",
      "        [ 1.8422, -0.6354,  2.8349,  ...,  1.2162, -0.9053, -1.1034],\n",
      "        [-0.7111, -4.3180,  3.8939,  ..., -3.6111,  0.0440,  2.0282]])\n",
      "torch.Size([41, 100])\n",
      "tensor([[-0.0127, -1.5797,  0.3777,  ...,  0.8798,  0.8424,  0.3150],\n",
      "        [ 0.4762, -1.6867,  2.4601,  ..., -1.1835,  1.1385,  1.0527],\n",
      "        [-2.4161, -1.6783,  2.7843,  ..., -1.8970, -1.9951,  0.8419],\n",
      "        ...,\n",
      "        [ 0.0383, -0.0525,  3.2570,  ...,  2.5062, -3.9853, -0.9087],\n",
      "        [ 1.8422, -0.6354,  2.8349,  ...,  1.2162, -0.9053, -1.1034],\n",
      "        [-0.7111, -4.3180,  3.8939,  ..., -3.6111,  0.0440,  2.0282]])\n"
     ]
    }
   ],
   "source": [
    "print(h)\n",
    "print(h.shape)\n",
    "# -1 means 'infer' the dimension from the other dimensions (sort-of auto)\n",
    "print(emb.view(-1, 6) @ W1 + b1)"
   ]
  },
  {
   "attachments": {},
   "cell_type": "markdown",
   "id": "601b58f8",
   "metadata": {},
   "source": [
    "Embed (glue) + apply matrix + add b1.\n",
    "Now apply a non-linear transformation like hyperbolic tangent."
   ]
  },
  {
   "cell_type": "code",
   "execution_count": 463,
   "id": "0f9faf39",
   "metadata": {},
   "outputs": [],
   "source": [
    "# first layer\n",
    "\n",
    "# https://pytorch.org/docs/stable/generated/torch.tanh.html\n",
    "\n",
    "h = torch.tanh(emb.view(-1, 6) @ W1 + b1)"
   ]
  },
  {
   "cell_type": "code",
   "execution_count": 464,
   "id": "dc35f755",
   "metadata": {},
   "outputs": [
    {
     "name": "stdout",
     "output_type": "stream",
     "text": [
      "tensor([[-0.0127, -0.9185,  0.3607,  ...,  0.7063,  0.6871,  0.3050],\n",
      "        [ 0.4432, -0.9337,  0.9855,  ..., -0.8285,  0.8139,  0.7829],\n",
      "        [-0.9842, -0.9326,  0.9924,  ..., -0.9560, -0.9637,  0.6868],\n",
      "        ...,\n",
      "        [ 0.0383, -0.0525,  0.9970,  ...,  0.9868, -0.9993, -0.7205],\n",
      "        [ 0.9510, -0.5618,  0.9931,  ...,  0.8385, -0.7189, -0.8017],\n",
      "        [-0.6113, -0.9996,  0.9992,  ..., -0.9985,  0.0440,  0.9660]])\n"
     ]
    }
   ],
   "source": [
    "print(h)"
   ]
  },
  {
   "attachments": {},
   "cell_type": "markdown",
   "id": "92889ea2",
   "metadata": {},
   "source": [
    "Second layer must take in 100D vector and give out a 28D vector."
   ]
  },
  {
   "cell_type": "code",
   "execution_count": 465,
   "id": "dc58619c",
   "metadata": {},
   "outputs": [],
   "source": [
    "# second layer\n",
    "\n",
    "W2 = torch.randn((100, 28))\n",
    "b2 = torch.randn(28)"
   ]
  },
  {
   "attachments": {},
   "cell_type": "markdown",
   "id": "a26e6bb1",
   "metadata": {},
   "source": [
    "h is coming out from the first layer, then we feed with h the layer here."
   ]
  },
  {
   "cell_type": "code",
   "execution_count": 466,
   "id": "2b211524",
   "metadata": {},
   "outputs": [
    {
     "name": "stdout",
     "output_type": "stream",
     "text": [
      "torch.Size([41, 28])\n"
     ]
    }
   ],
   "source": [
    "logits = h @ W2 + b2\n",
    "print(logits.shape)"
   ]
  },
  {
   "attachments": {},
   "cell_type": "markdown",
   "id": "5afaec94",
   "metadata": {},
   "source": [
    "Logits means log of the counting..."
   ]
  },
  {
   "cell_type": "code",
   "execution_count": 467,
   "id": "4c70e941",
   "metadata": {},
   "outputs": [],
   "source": [
    "counts = logits.exp()"
   ]
  },
  {
   "attachments": {},
   "cell_type": "markdown",
   "id": "1eea9582",
   "metadata": {},
   "source": [
    "Normalize to interpret this as a measure, i.e. a probability distribution coming out from the network when fed with three chars."
   ]
  },
  {
   "cell_type": "code",
   "execution_count": 468,
   "id": "9a67d79d",
   "metadata": {},
   "outputs": [],
   "source": [
    "prob = counts / counts.sum(1, keepdims=True)"
   ]
  },
  {
   "cell_type": "code",
   "execution_count": 469,
   "id": "9e30313b",
   "metadata": {},
   "outputs": [
    {
     "name": "stdout",
     "output_type": "stream",
     "text": [
      "tensor([9.7717e-07, 1.1903e-09, 1.1622e-03, 1.3884e-04, 1.2119e-07, 1.4373e-08,\n",
      "        3.7337e-08, 5.9759e-07, 4.1920e-10, 1.5534e-08, 9.1641e-01, 4.8512e-11,\n",
      "        6.0606e-07, 1.0638e-03, 9.7434e-06, 3.2012e-06, 3.8229e-08, 1.5657e-07,\n",
      "        3.3748e-03, 1.0385e-06, 2.4357e-05, 6.0491e-09, 2.8107e-14, 7.6021e-12,\n",
      "        7.7808e-02, 1.6660e-08, 2.7311e-11, 9.1822e-10])\n",
      "tensor(1.0000)\n",
      "tensor(1.1903e-09)\n",
      "tensor([1.1622e-03, 1.7094e-10])\n"
     ]
    }
   ],
   "source": [
    "print(prob[0])\n",
    "print(prob[0].sum())\n",
    "print(prob[0, 1])\n",
    "print(prob[[0, 1], [2, 5]])"
   ]
  },
  {
   "attachments": {},
   "cell_type": "markdown",
   "id": "884f6d12",
   "metadata": {},
   "source": [
    "Model is initialized with random weights, so it's making mistakes."
   ]
  },
  {
   "cell_type": "code",
   "execution_count": 470,
   "id": "8c12f1b6",
   "metadata": {},
   "outputs": [
    {
     "name": "stdout",
     "output_type": "stream",
     "text": [
      "tensor([ 2, 19,  8,  6, 15, 21, 16,  0,  8, 10, 16, 23,  2, 15, 15, 10, 15, 16,\n",
      "         0, 13, 10,  4, 22, 19,  8,  2,  0,  6, 13, 23, 10, 19,  2,  0, 14,  2,\n",
      "        19,  6, 15,  2,  0])\n",
      "tensor([ 0,  1,  2,  3,  4,  5,  6,  7,  8,  9, 10, 11, 12, 13, 14, 15, 16, 17,\n",
      "        18, 19, 20, 21, 22, 23, 24, 25, 26, 27, 28, 29, 30, 31, 32, 33, 34, 35,\n",
      "        36, 37, 38, 39, 40])\n",
      "tensor([1.1622e-03, 1.3647e-10, 1.2721e-10, 7.4825e-06, 4.3084e-15, 2.0606e-09,\n",
      "        4.9061e-08, 5.3828e-07, 4.1920e-10, 7.6886e-08, 4.0766e-01, 1.1818e-09,\n",
      "        2.8867e-08, 3.2134e-04, 5.7727e-05, 3.4768e-12, 1.0444e-11, 7.0611e-15,\n",
      "        1.1958e-08, 1.0638e-03, 9.8603e-01, 5.7557e-09, 1.4726e-06, 7.5069e-07,\n",
      "        5.9529e-17, 3.8195e-05, 4.3590e-09, 3.7337e-08, 1.0221e-06, 1.0162e-11,\n",
      "        3.0114e-01, 4.2972e-04, 5.7576e-08, 1.1595e-06, 9.7434e-06, 1.8131e-09,\n",
      "        6.9818e-13, 2.9324e-11, 1.8745e-15, 9.2900e-11, 6.4576e-09])\n"
     ]
    }
   ],
   "source": [
    "print(Y)\n",
    "print(torch.arange(41))\n",
    "print(prob[torch.arange(41), Y])"
   ]
  },
  {
   "attachments": {},
   "cell_type": "markdown",
   "id": "602fea83",
   "metadata": {},
   "source": [
    "We, of course, want the model to predict the right answer.\n",
    "Probability going to one implies loss going to zero."
   ]
  },
  {
   "cell_type": "code",
   "execution_count": 471,
   "id": "128709ca",
   "metadata": {},
   "outputs": [
    {
     "name": "stdout",
     "output_type": "stream",
     "text": [
      "tensor(17.5833)\n"
     ]
    }
   ],
   "source": [
    "loss = - prob[torch.arange(41), Y].log().mean()\n",
    "print(loss)  # very bad of course....."
   ]
  },
  {
   "attachments": {},
   "cell_type": "markdown",
   "id": "64787ee4",
   "metadata": {},
   "source": [
    "Let's put things together.\n",
    "Parameters will contain all the objects we're going to change.\n",
    "Why is the embedding dimension 2? We'll try with 10...\n",
    "$\\tanh 0 = 0$ and that will be important."
   ]
  },
  {
   "cell_type": "code",
   "execution_count": 472,
   "id": "32e94c68",
   "metadata": {},
   "outputs": [],
   "source": [
    "g = torch.Generator().manual_seed(123456780)  # for reproducibility\n",
    "C = torch.randn((28, 2), generator=g)\n",
    "W1 = torch.randn((6, 100), generator=g)\n",
    "b1 = torch.randn(100, generator=g)\n",
    "W2 = torch.randn((100, 28), generator=g)\n",
    "b2 = torch.randn(28, generator=g)\n",
    "parameters = [C, W1, b1, W2, b2]"
   ]
  },
  {
   "attachments": {},
   "cell_type": "markdown",
   "id": "11bcb57f",
   "metadata": {},
   "source": [
    "How many parameters are fixable?"
   ]
  },
  {
   "cell_type": "code",
   "execution_count": 473,
   "id": "24c58c51",
   "metadata": {},
   "outputs": [
    {
     "name": "stdout",
     "output_type": "stream",
     "text": [
      "3584\n"
     ]
    }
   ],
   "source": [
    "print(sum(p.nelement() for p in parameters))  # number of parameter in total..."
   ]
  },
  {
   "attachments": {},
   "cell_type": "markdown",
   "id": "aa617306",
   "metadata": {},
   "source": [
    "For each sample I compute the log → high loss."
   ]
  },
  {
   "cell_type": "code",
   "execution_count": 474,
   "id": "b7bbb813",
   "metadata": {},
   "outputs": [
    {
     "name": "stdout",
     "output_type": "stream",
     "text": [
      "tensor(17.2342)\n"
     ]
    }
   ],
   "source": [
    "emb = C[X]  # torch.Size([41, 3, 2])\n",
    "h = torch.tanh(emb.view(-1, 6) @ W1 + b1)  # (41,100)\n",
    "logits = h @ W2 + b2  # (41,27)\n",
    "counts = logits.exp()\n",
    "prob = counts/counts.sum(1, keepdims=True)\n",
    "loss = -prob[torch.arange(41), Y].log().mean()\n",
    "print(loss)"
   ]
  },
  {
   "attachments": {},
   "cell_type": "markdown",
   "id": "c1798f1d",
   "metadata": {},
   "source": [
    "Very efficient and can compute the exponential of big terms"
   ]
  },
  {
   "cell_type": "code",
   "execution_count": 475,
   "id": "cdc82d00",
   "metadata": {},
   "outputs": [
    {
     "name": "stdout",
     "output_type": "stream",
     "text": [
      "tensor(17.2342)\n"
     ]
    }
   ],
   "source": [
    "print(F.cross_entropy(logits, Y))"
   ]
  },
  {
   "attachments": {},
   "cell_type": "markdown",
   "id": "c9dddb38",
   "metadata": {},
   "source": [
    "Now the loss has to be minimized."
   ]
  },
  {
   "cell_type": "code",
   "execution_count": 476,
   "id": "07815716",
   "metadata": {},
   "outputs": [
    {
     "name": "stdout",
     "output_type": "stream",
     "text": [
      "tensor(17.2342)\n"
     ]
    }
   ],
   "source": [
    "# so..... https://pytorch.org/docs/stable/generated/torch.nn.functional.cross_entropy.html\n",
    "emb = C[X]  # torch.Size([41, 3, 2])\n",
    "h = torch.tanh(emb.view(-1, 6) @ W1 + b1)  # (41,100)\n",
    "logits = h @ W2 + b2  # (41,27)\n",
    "loss = F.cross_entropy(logits, Y)\n",
    "print(loss)"
   ]
  },
  {
   "attachments": {},
   "cell_type": "markdown",
   "id": "f7daa8c1",
   "metadata": {},
   "source": [
    "We'll use the cross_entropy function because the exponentiation of just -500 will result in 0"
   ]
  },
  {
   "cell_type": "code",
   "execution_count": 477,
   "id": "a30fb0f6",
   "metadata": {},
   "outputs": [
    {
     "name": "stdout",
     "output_type": "stream",
     "text": [
      "tensor([6.7379e-03, 4.9787e-02, 1.0000e+00, 2.2026e+04])\n",
      "tensor([3.0589e-07, 2.2602e-06, 4.5398e-05, 9.9995e-01])\n"
     ]
    }
   ],
   "source": [
    "# two very good reasons to use 'cross_entropy': more efficient (no tensor) and substract the maximum to avoid nan....discuss....\n",
    "\n",
    "logits = torch.tensor([-5, -3, 0, 10])  # -100\n",
    "counts = logits.exp()\n",
    "prob = counts/counts.sum()\n",
    "print(counts)\n",
    "print(prob)"
   ]
  },
  {
   "attachments": {},
   "cell_type": "markdown",
   "id": "c91b1116",
   "metadata": {},
   "source": [
    "Put the gradient to zero, then compute the backward derivative and update all parameters in order to decrease the loss.\n",
    "41 trigrams are going in layers, then calculate the loss.\n",
    "\n",
    "Backward pass means compute the derivative of the loss for each parameter.\n",
    "It's a very complex stuff.\n",
    "We're not happy with back propagation but, by now, it's the only thing which works.\n",
    "\n",
    "Learning rate -0.1 (negative direction).\n",
    "This is a magic number."
   ]
  },
  {
   "cell_type": "code",
   "execution_count": 478,
   "id": "70093b02",
   "metadata": {},
   "outputs": [],
   "source": [
    "for p in parameters:\n",
    "    p.requires_grad = True\n",
    "\n",
    "for _ in range(1000):\n",
    "    # now we learn...forward bass\n",
    "    emb = C[X]  # torch.Size([41, 3, 2])\n",
    "    h = torch.tanh(emb.view(-1, 6) @ W1 + b1)  # (41,100)\n",
    "    logits = h @ W2 + b2  # (41,27)\n",
    "    loss = F.cross_entropy(logits, Y)\n",
    "    # backward pass\n",
    "    for p in parameters:\n",
    "        p.grad = None\n",
    "    loss.backward()\n",
    "    # update\n",
    "    for p in parameters:\n",
    "        p.data += -0.1*p.grad"
   ]
  },
  {
   "attachments": {},
   "cell_type": "markdown",
   "id": "a2859fd3",
   "metadata": {},
   "source": [
    "Low loss means overfitting, then the model is going to give me one of the sample I provided.\n",
    "This is not useful at all."
   ]
  },
  {
   "cell_type": "code",
   "execution_count": 479,
   "id": "aa6c3cc3",
   "metadata": {},
   "outputs": [
    {
     "name": "stdout",
     "output_type": "stream",
     "text": [
      "elvira.\n",
      "marena.\n",
      "giovannino.\n",
      "giovannino.\n",
      "giovannino.\n",
      "giovannino.\n",
      "elvira.\n",
      "marena.\n",
      "argento.\n",
      "argento.\n",
      "argento.\n",
      "elvira.\n",
      "argento.\n",
      "licurga.\n",
      "licurga.\n",
      "marena.\n",
      "giovannino.\n",
      "marena.\n",
      "giovannino.\n",
      "licurga.\n"
     ]
    }
   ],
   "source": [
    "# sampling from the model.....\n",
    "\n",
    "g = torch.Generator().manual_seed(12345678+10)\n",
    "\n",
    "for _ in range(20):\n",
    "    out = []\n",
    "    context = [0]*block_size\n",
    "    while True:\n",
    "        emb = C[torch.tensor([context])]\n",
    "        h = torch.tanh(emb.view(1, -1) @ W1 + b1)\n",
    "        logits = h @ W2 + b2\n",
    "        probs = F.softmax(logits, dim=1)\n",
    "        ix = torch.multinomial(probs, num_samples=1, generator=g).item()\n",
    "        context = context[1:]+[ix]\n",
    "        out.append(ix)\n",
    "        if ix == 0:\n",
    "            break\n",
    "\n",
    "    print(''.join(itos[i] for i in out))"
   ]
  },
  {
   "attachments": {},
   "cell_type": "markdown",
   "id": "01fd5294",
   "metadata": {},
   "source": [
    "What is happening? Our model has gone in **overfitting**: it is spitting out the same names we put in, since we trained it only on those small samples (we've given it only 5 samples out of 7000+...)!\n",
    "So the loss is low enough now to sample, but of course our model is still useless.\n",
    "How can we fix this?\n",
    "\n",
    "If we try to train the system with the whole data set (so that all the $41$'s are changed to the dimension of the dataset, that's the only change in the code) we fix the overfitting problem, but the algorithm will of course slow down in order to make the same calculations for such high dimensionality. \n",
    "\n",
    "To fix this problem, we need to use **minibatches**."
   ]
  },
  {
   "cell_type": "code",
   "execution_count": 480,
   "id": "8a6074e3",
   "metadata": {},
   "outputs": [
    {
     "name": "stdout",
     "output_type": "stream",
     "text": [
      "0.19916315376758575\n"
     ]
    }
   ],
   "source": [
    "for p in parameters:\n",
    "    p.requires_grad = True\n",
    "\n",
    "for _ in range(1000):\n",
    "    # now we learn...forward bass\n",
    "    emb = C[X]  # torch.Size([41, 3, 2])\n",
    "    h = torch.tanh(emb.view(-1, 6) @ W1 + b1)  # (41,100)\n",
    "    logits = h @ W2 + b2  # (41,27)\n",
    "    loss = F.cross_entropy(logits, Y)\n",
    "    # print(loss.item())\n",
    "    # backward pass\n",
    "    for p in parameters:\n",
    "        p.grad = None\n",
    "    loss.backward()\n",
    "    # update\n",
    "    for p in parameters:\n",
    "        p.data += -0.1*p.grad\n",
    "print(loss.item())"
   ]
  },
  {
   "attachments": {},
   "cell_type": "markdown",
   "id": "913bc6c2",
   "metadata": {},
   "source": [
    "Logits are the neurons coming out from the last layer.\n",
    "They'll be transformed into probability."
   ]
  },
  {
   "cell_type": "code",
   "execution_count": 481,
   "id": "2ca4bf6e",
   "metadata": {},
   "outputs": [
    {
     "name": "stdout",
     "output_type": "stream",
     "text": [
      "torch.return_types.max(\n",
      "values=tensor([12.1724, 14.1847, 15.8096, 16.5460, 12.5090, 14.7062, 15.2590, 15.4024,\n",
      "        12.1724, 19.3660, 15.9273, 12.4720, 13.9841, 17.1356, 14.9285, 13.9812,\n",
      "        13.8305, 15.1462, 14.5532, 12.1724, 15.2042, 17.6397, 14.6976, 14.7785,\n",
      "        22.7934, 18.4190, 15.3254, 12.1724, 18.8153, 16.9008, 17.9443, 18.5473,\n",
      "        15.9427, 15.7163, 12.1724, 19.9722, 15.4614, 16.7053, 16.1372, 18.4218,\n",
      "        15.9050], grad_fn=<MaxBackward0>),\n",
      "indices=tensor([13, 19,  8,  6, 15, 21, 16,  0, 13, 10, 16, 23,  2, 15, 15, 10, 15, 16,\n",
      "         0, 13, 10,  4, 22, 19,  8,  2,  0, 13, 13, 23, 10, 19,  2,  0, 13,  2,\n",
      "        19,  6, 15,  2,  0]))\n",
      "tensor([ 2, 19,  8,  6, 15, 21, 16,  0,  8, 10, 16, 23,  2, 15, 15, 10, 15, 16,\n",
      "         0, 13, 10,  4, 22, 19,  8,  2,  0,  6, 13, 23, 10, 19,  2,  0, 14,  2,\n",
      "        19,  6, 15,  2,  0])\n"
     ]
    }
   ],
   "source": [
    "print(logits.max(1))\n",
    "print(Y)"
   ]
  },
  {
   "attachments": {},
   "cell_type": "markdown",
   "id": "c07abceb",
   "metadata": {},
   "source": [
    "Taking all words we get a very big example dataset."
   ]
  },
  {
   "cell_type": "code",
   "execution_count": 482,
   "id": "db780882",
   "metadata": {},
   "outputs": [],
   "source": [
    "block_size = 3  # context length: how many characters do we take to predict the next one ... change it !!\n",
    "X, Y = [], []  # input & label\n",
    "\n",
    "for w in words:\n",
    "  #  print(w)\n",
    "    context = [0]*block_size\n",
    "    for ch in w + '.':\n",
    "        ix = stoi[ch]\n",
    "        X.append(context)\n",
    "        Y.append(ix)\n",
    "      #  print(''.join(itos[i] for i in context), '--->', itos[ix])\n",
    "        context = context[1:]+[ix]  # shift: crop and append\n",
    "X = torch.tensor(X)\n",
    "Y = torch.tensor(Y)"
   ]
  },
  {
   "cell_type": "code",
   "execution_count": 483,
   "id": "8dbc4e08",
   "metadata": {},
   "outputs": [
    {
     "name": "stdout",
     "output_type": "stream",
     "text": [
      "torch.Size([73643, 3]) torch.Size([73643])\n"
     ]
    }
   ],
   "source": [
    "print(X.shape, Y.shape)"
   ]
  },
  {
   "attachments": {},
   "cell_type": "markdown",
   "id": "44acc19f",
   "metadata": {},
   "source": [
    "Again, a hidden layer of 100 neurons."
   ]
  },
  {
   "cell_type": "code",
   "execution_count": 484,
   "id": "d8aa5705",
   "metadata": {},
   "outputs": [],
   "source": [
    "# exactly as before....\n",
    "g = torch.Generator().manual_seed(123456780)  # for reproducibility\n",
    "C = torch.randn((28, 2), generator=g)\n",
    "W1 = torch.randn((6, 100), generator=g)\n",
    "b1 = torch.randn(100, generator=g)\n",
    "W2 = torch.randn((100, 28), generator=g)\n",
    "b2 = torch.randn(28, generator=g)\n",
    "parameters = [C, W1, b1, W2, b2]"
   ]
  },
  {
   "cell_type": "code",
   "execution_count": 485,
   "id": "2133baf9",
   "metadata": {},
   "outputs": [
    {
     "name": "stdout",
     "output_type": "stream",
     "text": [
      "17.754497528076172\n",
      "15.824398040771484\n",
      "14.187443733215332\n",
      "13.052313804626465\n",
      "12.071905136108398\n",
      "11.263842582702637\n",
      "10.603142738342285\n",
      "10.075033187866211\n",
      "9.627379417419434\n",
      "9.222493171691895\n"
     ]
    }
   ],
   "source": [
    "for p in parameters:\n",
    "    p.requires_grad = True\n",
    "\n",
    "for _ in range(10):\n",
    "    # now we learn...forward bass -- = 73643\n",
    "    emb = C[X]  # torch.Size([--, 3, 2])\n",
    "    h = torch.tanh(emb.view(-1, 6) @ W1 + b1)  # (--,100)\n",
    "    logits = h @ W2 + b2  # (--,27)\n",
    "    loss = F.cross_entropy(logits, Y)\n",
    "    print(loss.item())\n",
    "    # backward pass\n",
    "    for p in parameters:\n",
    "        p.grad = None\n",
    "    loss.backward()\n",
    "    # update\n",
    "    for p in parameters:\n",
    "        p.data += -0.1*p.grad"
   ]
  },
  {
   "attachments": {},
   "cell_type": "markdown",
   "id": "9ec6a61a",
   "metadata": {},
   "source": [
    "See how it's slowing down...\n",
    "Every time we give all samples to it.\n",
    "Let's subdivide the dataset in minibatches."
   ]
  },
  {
   "cell_type": "code",
   "execution_count": 486,
   "id": "921206f9",
   "metadata": {},
   "outputs": [
    {
     "name": "stdout",
     "output_type": "stream",
     "text": [
      "tensor([65739, 57246, 73039, 50426, 60229,  1076, 10994, 71617, 42058, 29497])\n"
     ]
    }
   ],
   "source": [
    "# try ix=torch.randint(0,X.shape[0],(10,2)) and explain\n",
    "ix = torch.randint(0, X.shape[0], (10,))\n",
    "# https://pytorch.org/docs/stable/generated/torch.randint.html\n",
    "print(ix)"
   ]
  },
  {
   "attachments": {},
   "cell_type": "markdown",
   "id": "39adf981",
   "metadata": {},
   "source": [
    "Weird things happen with PyTorch..."
   ]
  },
  {
   "cell_type": "code",
   "execution_count": 487,
   "id": "13457f3e",
   "metadata": {},
   "outputs": [
    {
     "name": "stdout",
     "output_type": "stream",
     "text": [
      "tensor([[57686],\n",
      "        [ 8590],\n",
      "        [18991],\n",
      "        [31694],\n",
      "        [56747],\n",
      "        [36820],\n",
      "        [19621],\n",
      "        [15325],\n",
      "        [65718],\n",
      "        [48395]])\n"
     ]
    }
   ],
   "source": [
    "ix = torch.randint(0, X.shape[0], (10, 1))\n",
    "print(ix)"
   ]
  },
  {
   "cell_type": "code",
   "execution_count": 488,
   "id": "a957e768",
   "metadata": {},
   "outputs": [
    {
     "name": "stdout",
     "output_type": "stream",
     "text": [
      "9.076169967651367\n",
      "8.107839584350586\n",
      "7.53472900390625\n",
      "8.057098388671875\n",
      "9.006769180297852\n",
      "6.839514255523682\n",
      "6.016563415527344\n",
      "7.071707725524902\n",
      "6.523996353149414\n",
      "6.122567653656006\n",
      "6.122567653656006\n"
     ]
    }
   ],
   "source": [
    "for _ in range(10):\n",
    "    # mini batch construct of size ...\n",
    "    ix = torch.randint(0, X.shape[0], (32,))\n",
    "    # now we learn...forward bass -- = 73643\n",
    "    emb = C[X[ix]]  # torch.Size([--, 3, 2])\n",
    "    h = torch.tanh(emb.view(-1, 6) @ W1 + b1)  # (--,100)\n",
    "    logits = h @ W2 + b2  # (--,27)\n",
    "    loss = F.cross_entropy(logits, Y[ix])\n",
    "    print(loss.item())\n",
    "    # backward pass\n",
    "    for p in parameters:\n",
    "        p.grad = None\n",
    "    loss.backward()\n",
    "    # update\n",
    "    for p in parameters:\n",
    "        p.data += -0.1*p.grad\n",
    "print(loss.item())"
   ]
  },
  {
   "attachments": {},
   "cell_type": "markdown",
   "id": "8dd5ab89",
   "metadata": {},
   "source": [
    "Learning rate specifies how I move through gradient.\n",
    "Using 10, the system got completely lost (too big jumps)."
   ]
  },
  {
   "cell_type": "code",
   "execution_count": 489,
   "id": "46d55ceb",
   "metadata": {},
   "outputs": [],
   "source": [
    "# how we define the 'learning rate' ? p.data += -0.1*p.grad\n",
    "# play with learning rate from .01 to 100.... and discuss"
   ]
  },
  {
   "cell_type": "code",
   "execution_count": 490,
   "id": "a53b007f",
   "metadata": {},
   "outputs": [
    {
     "name": "stdout",
     "output_type": "stream",
     "text": [
      "2.3013787269592285\n"
     ]
    }
   ],
   "source": [
    "for _ in range(1000):\n",
    "    # mini batch construct\n",
    "    ix = torch.randint(0, X.shape[0], (100,))\n",
    "    # now we learn...forward bass -- = 73643\n",
    "    emb = C[X[ix]]  # torch.Size([--, 3, 2])\n",
    "    h = torch.tanh(emb.view(-1, 6) @ W1 + b1)  # (--,100)\n",
    "    logits = h @ W2 + b2  # (--,27)\n",
    "    loss = F.cross_entropy(logits, Y[ix])\n",
    "    # print(loss.item())\n",
    "    # backward pass\n",
    "    for p in parameters:\n",
    "        p.grad = None\n",
    "    loss.backward()\n",
    "    # update\n",
    "    for p in parameters:\n",
    "        p.data += -.1*p.grad\n",
    "print(loss.item())"
   ]
  },
  {
   "cell_type": "code",
   "execution_count": 491,
   "id": "d496d66a",
   "metadata": {},
   "outputs": [
    {
     "name": "stdout",
     "output_type": "stream",
     "text": [
      "torch.Size([1000])\n"
     ]
    }
   ],
   "source": [
    "lre = torch.linspace(-3, 0, 1000)\n",
    "lrs = 10**lre  # from 10**-3 to 10**0 = 1. The exponents are linearly distributed, not the values\n",
    "print(lrs.shape)"
   ]
  },
  {
   "cell_type": "code",
   "execution_count": 492,
   "id": "cefe44d1",
   "metadata": {},
   "outputs": [
    {
     "name": "stdout",
     "output_type": "stream",
     "text": [
      "5.072561264038086\n"
     ]
    }
   ],
   "source": [
    "for p in parameters:\n",
    "    p.requires_grad = True\n",
    "\n",
    "lri = []\n",
    "lriex = []\n",
    "lossi = []\n",
    "\n",
    "\n",
    "for i in range(1000):\n",
    "    # mini batch construct\n",
    "    ix = torch.randint(0, X.shape[0], (100,))\n",
    "    # now we learn...forward bass -- = 73643\n",
    "    emb = C[X[ix]]  # torch.Size([--, 3, 2])\n",
    "    h = torch.tanh(emb.view(-1, 6) @ W1 + b1)  # (--,100)\n",
    "    logits = h @ W2 + b2  # (--,27)\n",
    "    loss = F.cross_entropy(logits, Y[ix])\n",
    "    # backward pass\n",
    "    for p in parameters:\n",
    "        p.grad = None\n",
    "    loss.backward()\n",
    "    # update\n",
    "    lr = lrs[i]\n",
    "    # lr= .01\n",
    "    for p in parameters:\n",
    "        p.data += -lr*p.grad\n",
    "\n",
    "# track stats\n",
    "    lri.append(lr)  # learning rate\n",
    "    lriex.append(lre[i])  # exponent\n",
    "    lossi.append(loss.item())  # loss function\n",
    "print(loss.item())"
   ]
  },
  {
   "attachments": {},
   "cell_type": "markdown",
   "id": "7292d8ef",
   "metadata": {},
   "source": [
    "Plotting the loss function we notice that it's growing... not good."
   ]
  },
  {
   "cell_type": "code",
   "execution_count": 493,
   "id": "991439c6",
   "metadata": {},
   "outputs": [
    {
     "data": {
      "text/plain": [
       "[<matplotlib.lines.Line2D at 0x7f0c8eb10520>]"
      ]
     },
     "execution_count": 493,
     "metadata": {},
     "output_type": "execute_result"
    },
    {
     "data": {
      "image/png": "[encoded data removed]",
      "text/plain": [
       "<Figure size 1000x500 with 2 Axes>"
      ]
     },
     "metadata": {},
     "output_type": "display_data"
    }
   ],
   "source": [
    "fig, ax = plt.subplots(1, 2, figsize=(10, 5))\n",
    "\n",
    "ax[0].plot(lri, lossi)\n",
    "ax[1].plot(lriex, lossi)"
   ]
  },
  {
   "attachments": {},
   "cell_type": "markdown",
   "id": "9b65b63b",
   "metadata": {},
   "source": [
    "What is happening to the loss? \n",
    "There are some values of the learning rate which do better for our loss function than others.\n",
    "Also, it's very much fluctuating: there is a brilliant solution for this problem which we will see later on.\n",
    "\n",
    "Usually, the convention with the training data is to have it split into $80 \\%$ to train, a $10 \\%$ to validate the hyperparameters and then a final $10 \\%$ to keep there and use only once to see if the Neural Network is actually doing good."
   ]
  },
  {
   "attachments": {},
   "cell_type": "markdown",
   "id": "f14c6d1b",
   "metadata": {},
   "source": [
    "How to validate that the network is doing something good?\n",
    "It may seem good while being completely wrong.\n",
    "We should have a test set of data to use when the hyperparameters are fixed."
   ]
  },
  {
   "cell_type": "code",
   "execution_count": 494,
   "id": "595916e7",
   "metadata": {},
   "outputs": [
    {
     "name": "stdout",
     "output_type": "stream",
     "text": [
      "tensor(4.5317, grad_fn=<NllLossBackward0>)\n"
     ]
    }
   ],
   "source": [
    "emb = C[X]  # torch.Size([41, 3, 2])\n",
    "h = torch.tanh(emb.view(-1, 6) @ W1 + b1)  # (41,100)\n",
    "logits = h @ W2 + b2  # (41,27)\n",
    "loss = F.cross_entropy(logits, Y)\n",
    "print(loss)"
   ]
  },
  {
   "attachments": {},
   "cell_type": "markdown",
   "id": "2fb6406d",
   "metadata": {},
   "source": [
    "Typically, data are divided into 80-10-10 part (test/tune/validation)\n",
    "This function shuffles the words and builds the three wanted datasets.\n",
    "\n",
    "First let's define the function *build dataset*."
   ]
  },
  {
   "cell_type": "code",
   "execution_count": 495,
   "id": "28d52c0b",
   "metadata": {},
   "outputs": [],
   "source": [
    "# be careful with the test eugene.....\n",
    "\n",
    "def build_dataset(words):\n",
    "    block_size = 3  # context length: how many characters do we take to predict the next one ... change it !!\n",
    "    X, Y = [], []  # input & label\n",
    "\n",
    "    for w in words:\n",
    "        context = [0]*block_size\n",
    "        for ch in w + '.':\n",
    "            ix = stoi[ch]\n",
    "            X.append(context)\n",
    "            Y.append(ix)\n",
    "      #  print(''.join(itos[i] for i in context), '--->', itos[ix])\n",
    "            context = context[1:]+[ix]  # shift: crop and append\n",
    "    X = torch.tensor(X)\n",
    "    Y = torch.tensor(Y)\n",
    "    print(X.shape, Y.shape)\n",
    "    return X, Y"
   ]
  },
  {
   "cell_type": "code",
   "execution_count": 496,
   "id": "e3b5ea38",
   "metadata": {},
   "outputs": [
    {
     "name": "stdout",
     "output_type": "stream",
     "text": [
      "torch.Size([58867, 3]) torch.Size([58867])\n",
      "torch.Size([7404, 3]) torch.Size([7404])\n",
      "torch.Size([7372, 3]) torch.Size([7372])\n"
     ]
    }
   ],
   "source": [
    "import random\n",
    "random.seed(42)\n",
    "random.shuffle(words)\n",
    "n1 = int(0.8*len(words))\n",
    "n2 = int(0.9*len(words))\n",
    "\n",
    "Xtr, Ytr = build_dataset(words[:n1])  # train\n",
    "Xdev, Ydev = build_dataset(words[n1:n2])  # tune hyperparameters\n",
    "Xte, Yte = build_dataset(words[n2:])  # validate"
   ]
  },
  {
   "cell_type": "code",
   "execution_count": 497,
   "id": "e7f180a2",
   "metadata": {},
   "outputs": [
    {
     "name": "stdout",
     "output_type": "stream",
     "text": [
      "torch.Size([58867, 3]) torch.Size([58867])\n"
     ]
    }
   ],
   "source": [
    "# and we do it again with the new datasets.......\n",
    "print(Xtr.shape, Ytr.shape)\n",
    "\n",
    "# exactly as before....\n",
    "g = torch.Generator().manual_seed(123456780)  # for reproducibility\n",
    "C = torch.randn((28, 2), generator=g)\n",
    "W1 = torch.randn((6, 100), generator=g)\n",
    "b1 = torch.randn(100, generator=g)\n",
    "W2 = torch.randn((100, 28), generator=g)\n",
    "b2 = torch.randn(28, generator=g)\n",
    "parameters = [C, W1, b1, W2, b2]"
   ]
  },
  {
   "cell_type": "code",
   "execution_count": 498,
   "id": "2ef6a3bb",
   "metadata": {},
   "outputs": [],
   "source": [
    "for p in parameters:\n",
    "    p.requires_grad = True\n",
    "\n",
    "\n",
    "lre = torch.linspace(-3, 0, 1000)\n",
    "lrs = 10**lre"
   ]
  },
  {
   "cell_type": "code",
   "execution_count": 499,
   "id": "5e1035ff",
   "metadata": {},
   "outputs": [
    {
     "name": "stdout",
     "output_type": "stream",
     "text": [
      "2.018704652786255\n"
     ]
    }
   ],
   "source": [
    "# now we train only on Xtr\n",
    "\n",
    "lri = []\n",
    "lriex = []\n",
    "lossi = []\n",
    "\n",
    "\n",
    "for i in range(10000):\n",
    "    # mini batch construct\n",
    "    ix = torch.randint(0, Xtr.shape[0], (40,))\n",
    "    # now we learn...forward bass -- = 73643\n",
    "    emb = C[Xtr[ix]]  # torch.Size([--, 3, 2])\n",
    "    h = torch.tanh(emb.view(-1, 6) @ W1 + b1)  # (--,100)\n",
    "    logits = h @ W2 + b2  # (--,27)\n",
    "    loss = F.cross_entropy(logits, Ytr[ix])\n",
    "   # print(i,loss.item())\n",
    "    # backward pass\n",
    "    for p in parameters:\n",
    "        p.grad = None\n",
    "    loss.backward()\n",
    "    # update\n",
    "    # lr=lrs[i]\n",
    "    lr = .1\n",
    "    for p in parameters:\n",
    "        p.data += -lr*p.grad\n",
    "print(loss.item())\n",
    "\n",
    "# track stats\n",
    "#    lri.append(lr)\n",
    "#    lriex.append(lre[i])\n",
    "#    lossi.append(loss.item())"
   ]
  },
  {
   "attachments": {},
   "cell_type": "markdown",
   "id": "950979e4",
   "metadata": {},
   "source": [
    "Now evaluate on the validation test (and also on the test)."
   ]
  },
  {
   "cell_type": "code",
   "execution_count": 500,
   "id": "49673949",
   "metadata": {},
   "outputs": [
    {
     "name": "stdout",
     "output_type": "stream",
     "text": [
      "2.1819050312042236\n"
     ]
    }
   ],
   "source": [
    "# now we evaluate on Xdev\n",
    "emb = C[Xdev]\n",
    "h = torch.tanh(emb.view(-1, 6) @ W1 + b1)  # (--,100)\n",
    "logits = h @ W2 + b2  # (--,27)\n",
    "loss = F.cross_entropy(logits, Ydev)\n",
    "print(loss.item())"
   ]
  },
  {
   "cell_type": "code",
   "execution_count": 501,
   "id": "89f0012e",
   "metadata": {},
   "outputs": [
    {
     "name": "stdout",
     "output_type": "stream",
     "text": [
      "2.172853708267212\n"
     ]
    }
   ],
   "source": [
    "# now we evaluate on Xtr..... we are NOT overfitting\n",
    "emb = C[Xtr]\n",
    "h = torch.tanh(emb.view(-1, 6) @ W1 + b1)  # (--,100)\n",
    "logits = h @ W2 + b2  # (--,27)\n",
    "loss = F.cross_entropy(logits, Ytr)\n",
    "print(loss.item())"
   ]
  },
  {
   "attachments": {},
   "cell_type": "markdown",
   "id": "33bff7bf",
   "metadata": {},
   "source": [
    "So now we know that our model has a low loss **and** we are not overfitting, my system is able to reproduce not only the data I show it in the training but also other data it has never seen before.\n",
    "Nice...\n",
    "\n",
    "Now we can change the hyperparameters: this is a very simple case, so it's not going to change much, but still we do it for pedagogical reasons.\n",
    "Even in such a simple model, changing the hyperparameters makes our parameters go from $\\sim 3000$ to $\\sim 10000$. \n",
    "Let's take a look at what happens now to the loss..."
   ]
  },
  {
   "cell_type": "code",
   "execution_count": 502,
   "id": "6664ab75",
   "metadata": {},
   "outputs": [],
   "source": [
    "g = torch.Generator().manual_seed(123456780)  # for reproducibility\n",
    "C = torch.randn((28, 2), generator=g)\n",
    "W1 = torch.randn((6, 300), generator=g)\n",
    "b1 = torch.randn(300, generator=g)\n",
    "W2 = torch.randn((300, 28), generator=g)\n",
    "b2 = torch.randn(28, generator=g)\n",
    "parameters = [C, W1, b1, W2, b2]"
   ]
  },
  {
   "cell_type": "code",
   "execution_count": 503,
   "id": "dd0f0073",
   "metadata": {},
   "outputs": [
    {
     "name": "stdout",
     "output_type": "stream",
     "text": [
      "10584\n"
     ]
    }
   ],
   "source": [
    "# number of parameter in total... before 3584\n",
    "print(sum(p.nelement() for p in parameters))"
   ]
  },
  {
   "cell_type": "code",
   "execution_count": 504,
   "id": "10ee3bb8",
   "metadata": {},
   "outputs": [],
   "source": [
    "lri = []\n",
    "lriex = []\n",
    "lossi = []\n",
    "stepi = []\n",
    "for p in parameters:\n",
    "    p.requires_grad = True\n",
    "\n",
    "for i in range(10000):\n",
    "    # mini batch construct\n",
    "    ix = torch.randint(0, Xtr.shape[0], (40,))\n",
    "    # now we learn...forward bass -- = 73643\n",
    "    emb = C[Xtr[ix]]  # torch.Size([--, 3, 2])\n",
    "    h = torch.tanh(emb.view(-1, 6) @ W1 + b1)  # (--,100)\n",
    "    logits = h @ W2 + b2  # (--,27)\n",
    "    loss = F.cross_entropy(logits, Ytr[ix])\n",
    "    # backward pass\n",
    "    for p in parameters:\n",
    "        p.grad = None\n",
    "    loss.backward()\n",
    "    # update\n",
    "    # lr=lrs[i]\n",
    "    lr = .1\n",
    "    for p in parameters:\n",
    "        p.data += -lr*p.grad\n",
    "    stepi.append(i)\n",
    "    lossi.append(loss.item())"
   ]
  },
  {
   "cell_type": "code",
   "execution_count": 505,
   "id": "8792910e",
   "metadata": {},
   "outputs": [
    {
     "data": {
      "text/plain": [
       "[<matplotlib.lines.Line2D at 0x7f0cb9541de0>]"
      ]
     },
     "execution_count": 505,
     "metadata": {},
     "output_type": "execute_result"
    },
    {
     "data": {
      "image/png": "[encoded data removed]",
      "text/plain": [
       "<Figure size 640x480 with 1 Axes>"
      ]
     },
     "metadata": {},
     "output_type": "display_data"
    }
   ],
   "source": [
    "plt.plot(stepi, lossi)"
   ]
  },
  {
   "attachments": {},
   "cell_type": "markdown",
   "id": "5d585772",
   "metadata": {},
   "source": [
    "We can see how the loss starts very high and then decreases very much with training, but still it is fluctuating: this shouldn't be very surprising, since even with training our model is based on random number and processes, so fluctuations are guaranteed.\n",
    "But as we said before, there is a nice way to reduce these fluctuations, which is called **batch normalization**.\n",
    "\n",
    "This is a transformation we make our data undergo in order to have a \"gaussian\" activity of our neurons.\n",
    "In this way we avoid $2$ things:\n",
    "1. we avoid our neurons' activity being too high, i.e. we do not want values which would mostly fall into the plateaus of our hyperbolic tangent and thus cause the \"freezing\" of our neurons, i.e. their inability to learn, since their output would always be $+1$ or $-1$ and no in between;\n",
    "2. we avoid large fluctuations in our data, since gaussian data fluctuations scale as we know with $\\frac{1}{\\sqrt{N}}$ where $N$ is the number of samples. Such transformation is (roughly speaking) just gaussian normalization of data (actually there are more complex operations going on in the *batch-normalization* functions of libraries like PyTorch, and we actually do not know much about the precise statistical effectiveness of such processes, we use them as kind of \"black box\"), before feeding them to the linear layer, i.e. data are normalized before the hyperbolic tangent application. This means that we take the sample mean of our data $\\bar{x} = \\sum_i^N \\frac{x_i}{N}$, compute the sample standard deviation $\\sigma_s$ and then transform each point $x$ of our set by\n",
    "$$\n",
    "    x \\longrightarrow \\frac{x - \\bar{x}}{\\sigma_s} \n",
    "$$\n",
    "We will use batch normalization later on.\n",
    "\n",
    "Now we can visualize the result of the embedding.\n",
    "The letters are clustered, e.g. vowels are clustered."
   ]
  },
  {
   "cell_type": "code",
   "execution_count": 506,
   "id": "bfb30813",
   "metadata": {},
   "outputs": [
    {
     "data": {
      "image/png": "[encoded data removed]",
      "text/plain": [
       "<Figure size 500x500 with 1 Axes>"
      ]
     },
     "metadata": {},
     "output_type": "display_data"
    }
   ],
   "source": [
    "plt.figure(figsize=(5, 5))\n",
    "plt.scatter(C[:, 0].data, C[:, 1].data, s=200)\n",
    "for i in range(C.shape[0]):\n",
    "    plt.text(C[i, 0].item(), C[i, 1].item(), itos[i],\n",
    "             ha=\"center\", va=\"center\", color=\"white\")\n",
    "    plt.grid('minor')"
   ]
  },
  {
   "attachments": {},
   "cell_type": "markdown",
   "id": "aba69193",
   "metadata": {},
   "source": [
    "Now increase to 10 the embedding dimension..."
   ]
  },
  {
   "cell_type": "code",
   "execution_count": 507,
   "id": "89362b2e",
   "metadata": {},
   "outputs": [],
   "source": [
    "g = torch.Generator().manual_seed(123456780)  # for reproducibility\n",
    "C = torch.randn((28, 10), generator=g)\n",
    "W1 = torch.randn((30, 200), generator=g)\n",
    "b1 = torch.randn(200, generator=g)\n",
    "W2 = torch.randn((200, 28), generator=g)\n",
    "b2 = torch.randn(28, generator=g)\n",
    "parameters = [C, W1, b1, W2, b2]"
   ]
  },
  {
   "cell_type": "code",
   "execution_count": 508,
   "id": "b5a009ec",
   "metadata": {},
   "outputs": [
    {
     "name": "stdout",
     "output_type": "stream",
     "text": [
      "12108\n"
     ]
    }
   ],
   "source": [
    "print(sum(p.nelement() for p in parameters))  # number of parameter in total"
   ]
  },
  {
   "cell_type": "code",
   "execution_count": 509,
   "id": "0ebcf936",
   "metadata": {},
   "outputs": [],
   "source": [
    "lri = []\n",
    "lriex = []\n",
    "lossi = []\n",
    "stepi = []\n",
    "\n",
    "for p in parameters:\n",
    "    p.requires_grad = True"
   ]
  },
  {
   "attachments": {},
   "cell_type": "markdown",
   "id": "80af8f32",
   "metadata": {},
   "source": [
    "Now change the learning rate..."
   ]
  },
  {
   "cell_type": "code",
   "execution_count": 510,
   "id": "e8174994",
   "metadata": {},
   "outputs": [],
   "source": [
    "for i in range(200000):\n",
    "\n",
    "    # mini batch construct\n",
    "    ix = torch.randint(0, Xtr.shape[0], (40,))\n",
    "    # now we learn...forward bass -- = 73643\n",
    "    emb = C[Xtr[ix]]  # torch.Size([--, 3, 2])\n",
    "    h = torch.tanh(emb.view(-1, 30) @ W1 + b1)  # (--,100)\n",
    "    logits = h @ W2 + b2  # (--,27)\n",
    "    loss = F.cross_entropy(logits, Ytr[ix])\n",
    "    # backward pass\n",
    "    for p in parameters:\n",
    "        p.grad = None\n",
    "    loss.backward()\n",
    "    # update\n",
    "    lr = .1 if i < 100000 else 0.01\n",
    "    for p in parameters:\n",
    "        p.data += -lr*p.grad\n",
    "    stepi.append(i)\n",
    "    lossi.append(loss.log10().item())  # note the log10 !!"
   ]
  },
  {
   "cell_type": "code",
   "execution_count": 511,
   "id": "c615c76a",
   "metadata": {},
   "outputs": [
    {
     "data": {
      "text/plain": [
       "[<matplotlib.lines.Line2D at 0x7f0cbbff3b50>]"
      ]
     },
     "execution_count": 511,
     "metadata": {},
     "output_type": "execute_result"
    },
    {
     "data": {
      "image/png": "[encoded data removed]",
      "text/plain": [
       "<Figure size 640x480 with 1 Axes>"
      ]
     },
     "metadata": {},
     "output_type": "display_data"
    }
   ],
   "source": [
    "plt.plot(stepi, lossi)"
   ]
  },
  {
   "attachments": {},
   "cell_type": "markdown",
   "id": "2a045b6f",
   "metadata": {},
   "source": [
    "We're doing well and not overfitting."
   ]
  },
  {
   "cell_type": "code",
   "execution_count": 512,
   "id": "9f337a6c",
   "metadata": {},
   "outputs": [
    {
     "name": "stdout",
     "output_type": "stream",
     "text": [
      "1.6529531478881836\n"
     ]
    }
   ],
   "source": [
    "emb = C[Xtr]\n",
    "h = torch.tanh(emb.view(-1, 30) @ W1 + b1)  # (--,100)   30 not 6 !\n",
    "logits = h @ W2 + b2  # (--,27)\n",
    "loss = F.cross_entropy(logits, Ytr)\n",
    "print(loss.item())"
   ]
  },
  {
   "cell_type": "code",
   "execution_count": 513,
   "id": "80a8a9ca",
   "metadata": {},
   "outputs": [
    {
     "name": "stdout",
     "output_type": "stream",
     "text": [
      "1.8500275611877441\n"
     ]
    }
   ],
   "source": [
    "emb = C[Xdev]\n",
    "h = torch.tanh(emb.view(-1, 30) @ W1 + b1)  # (--,100)\n",
    "logits = h @ W2 + b2  # (--,27)\n",
    "loss = F.cross_entropy(logits, Ydev)\n",
    "print(loss.item())"
   ]
  },
  {
   "attachments": {},
   "cell_type": "markdown",
   "id": "5ba5b345",
   "metadata": {},
   "source": [
    "Once trained the model we can sample from it.\n",
    "**NOTE**: there are many (many many) hyperparameters to play with, like the number of layer, numbers of neurons from layers, embedding dimensions, dimension of the batches, learning rate....\n",
    "\n",
    "We can now see words that are not in the dataset."
   ]
  },
  {
   "cell_type": "code",
   "execution_count": 514,
   "id": "fbe87be7",
   "metadata": {},
   "outputs": [
    {
     "name": "stdout",
     "output_type": "stream",
     "text": [
      "ade.\n",
      "galdina.\n",
      "crescenzu.\n",
      "erto.\n",
      "marinanto.\n",
      "divia.\n",
      "deciano.\n",
      "ermiro.\n",
      "dircolo.\n",
      "arleolomurita.\n",
      "gusina.\n",
      "ristofelastrrino.\n",
      "chrica.\n",
      "mea.\n",
      "pina.\n",
      "pedermen.\n",
      "ave.\n",
      "alimolando.\n",
      "gertaudino.\n",
      "speramina.\n",
      "orlino.\n",
      "orlide.\n",
      "venzion-idalma.\n",
      "is.\n",
      "asdina.\n",
      "clemiglia.\n",
      "zelminio.\n",
      "brunino.\n",
      "esio.\n",
      "doluttunaa.\n"
     ]
    }
   ],
   "source": [
    "# g = torch.Generator().manual_seed(12345678+10)\n",
    "\n",
    "for _ in range(30):\n",
    "    out = []\n",
    "    context = [0]*block_size\n",
    "    while True:\n",
    "        emb = C[torch.tensor([context])]\n",
    "        h = torch.tanh(emb.view(1, -1) @ W1 + b1)\n",
    "        logits = h @ W2 + b2\n",
    "        probs = F.softmax(logits, dim=1)\n",
    "        ix = torch.multinomial(probs, num_samples=1, generator=g).item()\n",
    "        context = context[1:]+[ix]\n",
    "        out.append(ix)\n",
    "        if ix == 0:\n",
    "            break\n",
    "\n",
    "    print(''.join(itos[i] for i in out))"
   ]
  },
  {
   "attachments": {},
   "cell_type": "markdown",
   "id": "05a50e17",
   "metadata": {},
   "source": [
    "Not bad!\n",
    "We see names that were not in the original dataset, and much more \"name-like\" than the previous examples."
   ]
  }
 ],
 "metadata": {
  "kernelspec": {
   "display_name": "Python 3",
   "language": "python",
   "name": "python3"
  },
  "language_info": {
   "codemirror_mode": {
    "name": "ipython",
    "version": 3
   },
   "file_extension": ".py",
   "mimetype": "text/x-python",
   "name": "python",
   "nbconvert_exporter": "python",
   "pygments_lexer": "ipython3",
   "version": "3.10.6"
  }
 },
 "nbformat": 4,
 "nbformat_minor": 5
}
