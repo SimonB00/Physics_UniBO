{
 "cells": [
  {
   "attachments": {},
   "cell_type": "markdown",
   "id": "8c18f141",
   "metadata": {},
   "source": [
    "# Trigrams - MakeMore2 (19/04/2023)"
   ]
  },
  {
   "cell_type": "code",
   "execution_count": 76,
   "id": "5cca4296",
   "metadata": {},
   "outputs": [],
   "source": [
    "# https://youtu.be/TCH_1BHY58I\n",
    "# https://github.com/karpathy/makemore "
   ]
  },
  {
   "attachments": {},
   "cell_type": "markdown",
   "id": "5e5dbd02",
   "metadata": {},
   "source": [
    "Now we'll try to build a multilayer perceptron (MLP).\n",
    "Each character is going to be embedded in a 2D space.\n",
    "We've three vectors 30D, so 90D as total dimension. (28 chars + 2)\n",
    "Training the network the embedding will change.\n",
    "We'll have a linear transformation which transpose in an intermediate layer we can see as 100D vector.\n",
    "Transforming this non-linearly (with a hyperbolic tangent) it will construct the derivatives (back propagation).\n",
    "With another linear transform we'll connect all.\n",
    "Exponentiating and normalizing we'll get the desired probability distribution.\n",
    "Hyperparameters are the a priori defined parameters.\n",
    "To do things in a good way one needs to know how to tune the hyperparameters."
   ]
  },
  {
   "cell_type": "code",
   "execution_count": 77,
   "id": "e238a95a",
   "metadata": {},
   "outputs": [],
   "source": [
    "# we now go to MLP (multilayer perceptron)....(using NLP (natural language processing))\n",
    "# 'a neural probabilistic language model' (2003) chrome-extension://efaidnbmnnnibpcajpcglclefindmkaj/\n",
    "# https://www.jmlr.org/papers/volume3/bengio03a/bengio03a.pdf\n",
    "# fig 1: 4th word predicted after the three....\n",
    "import random\n",
    "import torch\n",
    "import torch.nn.functional as  F\n",
    "import matplotlib.pyplot as plt\n",
    "%matplotlib inline"
   ]
  },
  {
   "cell_type": "code",
   "execution_count": 78,
   "id": "e63e6dbb",
   "metadata": {},
   "outputs": [
    {
     "name": "stdout",
     "output_type": "stream",
     "text": [
      "['argento', 'giovannino', 'licurga', 'elvira', 'marena', 'sirio', 'emilia', 'bisio', 'preziosa', 'perpetua']\n",
      "9105\n"
     ]
    }
   ],
   "source": [
    "# read in all the words\n",
    "random.seed(158)\n",
    "words=open('data/nomi_italiani.txt','r').read().splitlines()\n",
    "random.shuffle(words)\n",
    "print(words[0:10])\n",
    "print(len(words))"
   ]
  },
  {
   "cell_type": "code",
   "execution_count": 79,
   "id": "3506c24c",
   "metadata": {},
   "outputs": [
    {
     "name": "stdout",
     "output_type": "stream",
     "text": [
      "{1: '-', 2: 'a', 3: 'b', 4: 'c', 5: 'd', 6: 'e', 7: 'f', 8: 'g', 9: 'h', 10: 'i', 11: 'j', 12: 'k', 13: 'l', 14: 'm', 15: 'n', 16: 'o', 17: 'p', 18: 'q', 19: 'r', 20: 's', 21: 't', 22: 'u', 23: 'v', 24: 'w', 25: 'x', 26: 'y', 27: 'z', 0: '.'}\n",
      "{'-': 1, 'a': 2, 'b': 3, 'c': 4, 'd': 5, 'e': 6, 'f': 7, 'g': 8, 'h': 9, 'i': 10, 'j': 11, 'k': 12, 'l': 13, 'm': 14, 'n': 15, 'o': 16, 'p': 17, 'q': 18, 'r': 19, 's': 20, 't': 21, 'u': 22, 'v': 23, 'w': 24, 'x': 25, 'y': 26, 'z': 27, '.': 0}\n"
     ]
    }
   ],
   "source": [
    "# build the vocabulary of characters and mapping to/from integers\n",
    "chars=sorted(list(set(''.join(words))))\n",
    "\n",
    "stoi={s:i+1 for i,s in enumerate(chars)}\n",
    "stoi['.']=0\n",
    "itos ={i:s for s,i in stoi.items()}\n",
    "print(itos)\n",
    "print(stoi)"
   ]
  },
  {
   "attachments": {},
   "cell_type": "markdown",
   "id": "59f6dff2",
   "metadata": {},
   "source": [
    "Previous example - Markov chain, so the block size was 1.\n",
    "Updating the contest means shift over the string and add the last character.\n",
    "X contains the samples (what I'm looking at).\n",
    "Each row of X is a trigram.\n",
    "Y contains the correct answers."
   ]
  },
  {
   "cell_type": "code",
   "execution_count": 80,
   "id": "dae3f065",
   "metadata": {},
   "outputs": [
    {
     "name": "stdout",
     "output_type": "stream",
     "text": [
      "argento\n",
      "... ---> a\n",
      "..a ---> r\n",
      ".ar ---> g\n",
      "arg ---> e\n",
      "rge ---> n\n",
      "gen ---> t\n",
      "ent ---> o\n",
      "nto ---> .\n",
      "giovannino\n",
      "... ---> g\n",
      "..g ---> i\n",
      ".gi ---> o\n",
      "gio ---> v\n",
      "iov ---> a\n",
      "ova ---> n\n",
      "van ---> n\n",
      "ann ---> i\n",
      "nni ---> n\n",
      "nin ---> o\n",
      "ino ---> .\n",
      "licurga\n",
      "... ---> l\n",
      "..l ---> i\n",
      ".li ---> c\n",
      "lic ---> u\n",
      "icu ---> r\n",
      "cur ---> g\n",
      "urg ---> a\n",
      "rga ---> .\n",
      "elvira\n",
      "... ---> e\n",
      "..e ---> l\n",
      ".el ---> v\n",
      "elv ---> i\n",
      "lvi ---> r\n",
      "vir ---> a\n",
      "ira ---> .\n",
      "marena\n",
      "... ---> m\n",
      "..m ---> a\n",
      ".ma ---> r\n",
      "mar ---> e\n",
      "are ---> n\n",
      "ren ---> a\n",
      "ena ---> .\n"
     ]
    }
   ],
   "source": [
    "# build the dataset\n",
    "\n",
    "block_size = 3 #context length: how many characters do we take to predict the next one ... change it !!\n",
    "# try: block_size=1 ...Markov Chain, then try = 2 and =10\n",
    "X,Y = [],[]  # input & label\n",
    "\n",
    "for w in words[0:5]:\n",
    "    print(w)\n",
    "    context=[0]*block_size # 000 corresponds to the character '...'\n",
    "    for ch in w +'.':\n",
    "        ix=stoi[ch]\n",
    "        X.append(context)\n",
    "        Y.append(ix)\n",
    "        print(''.join(itos[i] for i in context), '--->', itos[ix])\n",
    "        context=context[1:]+[ix]  # shift: crop and append\n",
    "X=torch.tensor(X)\n",
    "Y=torch.tensor(Y)"
   ]
  },
  {
   "cell_type": "code",
   "execution_count": 81,
   "id": "8f1500c0",
   "metadata": {},
   "outputs": [
    {
     "name": "stdout",
     "output_type": "stream",
     "text": [
      "tensor([[ 0,  0,  0],\n",
      "        [ 0,  0,  2],\n",
      "        [ 0,  2, 19],\n",
      "        [ 2, 19,  8],\n",
      "        [19,  8,  6],\n",
      "        [ 8,  6, 15],\n",
      "        [ 6, 15, 21],\n",
      "        [15, 21, 16],\n",
      "        [ 0,  0,  0],\n",
      "        [ 0,  0,  8],\n",
      "        [ 0,  8, 10],\n",
      "        [ 8, 10, 16],\n",
      "        [10, 16, 23],\n",
      "        [16, 23,  2],\n",
      "        [23,  2, 15],\n",
      "        [ 2, 15, 15],\n",
      "        [15, 15, 10],\n",
      "        [15, 10, 15],\n",
      "        [10, 15, 16],\n",
      "        [ 0,  0,  0],\n",
      "        [ 0,  0, 13],\n",
      "        [ 0, 13, 10],\n",
      "        [13, 10,  4],\n",
      "        [10,  4, 22],\n",
      "        [ 4, 22, 19],\n",
      "        [22, 19,  8],\n",
      "        [19,  8,  2],\n",
      "        [ 0,  0,  0],\n",
      "        [ 0,  0,  6],\n",
      "        [ 0,  6, 13],\n",
      "        [ 6, 13, 23],\n",
      "        [13, 23, 10],\n",
      "        [23, 10, 19],\n",
      "        [10, 19,  2],\n",
      "        [ 0,  0,  0],\n",
      "        [ 0,  0, 14],\n",
      "        [ 0, 14,  2],\n",
      "        [14,  2, 19],\n",
      "        [ 2, 19,  6],\n",
      "        [19,  6, 15],\n",
      "        [ 6, 15,  2]])\n",
      "tensor([ 2, 19,  8,  6, 15, 21, 16,  0,  8, 10, 16, 23,  2, 15, 15, 10, 15, 16,\n",
      "         0, 13, 10,  4, 22, 19,  8,  2,  0,  6, 13, 23, 10, 19,  2,  0, 14,  2,\n",
      "        19,  6, 15,  2,  0])\n"
     ]
    }
   ],
   "source": [
    "print(X)\n",
    "print(Y)"
   ]
  },
  {
   "cell_type": "code",
   "execution_count": 82,
   "id": "3fd86d6a",
   "metadata": {},
   "outputs": [
    {
     "name": "stdout",
     "output_type": "stream",
     "text": [
      "torch.Size([41, 3]) torch.int64 torch.Size([41]) torch.int64\n"
     ]
    }
   ],
   "source": [
    "print(X.shape, X.dtype, Y.shape, Y.dtype)"
   ]
  },
  {
   "attachments": {},
   "cell_type": "markdown",
   "id": "2a419f60",
   "metadata": {},
   "source": [
    "Now we want to predict the next character starting from trigrams.\n",
    "We're going to take a 2D embedding of the 28 characters.\n",
    "There are many pre-calculated embeddings in the world.\n",
    "\n",
    "We can generate a random (normal) matrix 28x2.\n",
    "In deep data analysis (what we're doing) the world is going really fast.\n",
    "There is a lot of material, 99% of which are bullshits."
   ]
  },
  {
   "cell_type": "code",
   "execution_count": 83,
   "id": "cd4cc509",
   "metadata": {},
   "outputs": [],
   "source": [
    "C = torch.randn((28,2))  #https://pytorch.org/docs/stable/generated/torch.randn.html"
   ]
  },
  {
   "cell_type": "code",
   "execution_count": 84,
   "id": "69744acd",
   "metadata": {},
   "outputs": [
    {
     "name": "stdout",
     "output_type": "stream",
     "text": [
      "tensor([-0.1387, -0.5640])\n",
      "torch.Size([28, 2])\n"
     ]
    }
   ],
   "source": [
    "print(C[5])\n",
    "print(C.shape)"
   ]
  },
  {
   "attachments": {},
   "cell_type": "markdown",
   "id": "1c6a7816",
   "metadata": {},
   "source": [
    "Here is a plot of the embedding.\n",
    "Letters are random, after the training this picture is going to change.\n",
    "From this plot we can learn how characters are related each other."
   ]
  },
  {
   "cell_type": "code",
   "execution_count": 85,
   "id": "33c3de1e",
   "metadata": {},
   "outputs": [
    {
     "data": {
      "image/png": "[encoded data removed]",
      "text/plain": [
       "<Figure size 800x800 with 1 Axes>"
      ]
     },
     "metadata": {},
     "output_type": "display_data"
    }
   ],
   "source": [
    "plt.figure(figsize=(8,8))\n",
    "plt.scatter(C[:,0].data, C[:,1].data,s=200)\n",
    "for i in range(C.shape[0]):\n",
    "    plt.text(C[i,0].item(), C[i,1].item(),itos[i], ha=\"center\",va=\"center\", color=\"white\")\n",
    "    plt.grid('minor')\n"
   ]
  },
  {
   "attachments": {},
   "cell_type": "markdown",
   "id": "e34cb3f7",
   "metadata": {},
   "source": [
    "Another way to embed characters is the one-hot embedding discussed last lecture.\n",
    "We can see this embedding as the first layer of our network, even if there's no linearity in it.\n",
    "In fact, they're completely equivalent.\n",
    "One can also see all the embeddings."
   ]
  },
  {
   "cell_type": "code",
   "execution_count": 86,
   "id": "ac89a83b",
   "metadata": {},
   "outputs": [
    {
     "name": "stdout",
     "output_type": "stream",
     "text": [
      "tensor([0, 0, 0, 0, 0, 1, 0, 0, 0, 0, 0, 0, 0, 0, 0, 0, 0, 0, 0, 0, 0, 0, 0, 0,\n",
      "        0, 0, 0, 0])\n",
      "tensor([-0.1387, -0.5640])\n",
      "tensor([-0.1387, -0.5640])\n",
      "tensor([[-0.6134,  1.4951],\n",
      "        [ 1.9421,  0.3166],\n",
      "        [-2.3731,  0.7239],\n",
      "        [-0.1259, -0.4294],\n",
      "        [ 0.0294,  0.1952],\n",
      "        [ 0.5444,  2.0474],\n",
      "        [-0.1258,  0.7940],\n",
      "        [-1.2109, -1.6624],\n",
      "        [-2.3731,  0.7239],\n",
      "        [-1.6162,  0.5438],\n",
      "        [-0.1258,  0.7940],\n",
      "        [-1.2823, -0.3096],\n",
      "        [-0.6134,  1.4951],\n",
      "        [ 0.0294,  0.1952],\n",
      "        [ 0.0294,  0.1952],\n",
      "        [-1.6162,  0.5438],\n",
      "        [ 0.0294,  0.1952],\n",
      "        [-0.1258,  0.7940],\n",
      "        [-1.2109, -1.6624],\n",
      "        [ 0.8539,  0.1744],\n",
      "        [-1.6162,  0.5438],\n",
      "        [ 0.7506, -0.1500],\n",
      "        [ 1.8679, -0.1604],\n",
      "        [ 1.9421,  0.3166],\n",
      "        [-2.3731,  0.7239],\n",
      "        [-0.6134,  1.4951],\n",
      "        [-1.2109, -1.6624],\n",
      "        [-0.1259, -0.4294],\n",
      "        [ 0.8539,  0.1744],\n",
      "        [-1.2823, -0.3096],\n",
      "        [-1.6162,  0.5438],\n",
      "        [ 1.9421,  0.3166],\n",
      "        [-0.6134,  1.4951],\n",
      "        [-1.2109, -1.6624],\n",
      "        [-0.7718,  1.7847],\n",
      "        [-0.6134,  1.4951],\n",
      "        [ 1.9421,  0.3166],\n",
      "        [-0.1259, -0.4294],\n",
      "        [ 0.0294,  0.1952],\n",
      "        [-0.6134,  1.4951],\n",
      "        [-1.2109, -1.6624]])\n"
     ]
    }
   ],
   "source": [
    "print(F.one_hot(torch.tensor(5),num_classes=28))\n",
    "print(F.one_hot(torch.tensor(5),num_classes=28).float()@C)\n",
    "print(C[5])\n",
    "print(C[Y])"
   ]
  },
  {
   "attachments": {},
   "cell_type": "markdown",
   "id": "0929e527",
   "metadata": {},
   "source": [
    "How to embed the 41 trigrams we have?"
   ]
  },
  {
   "cell_type": "code",
   "execution_count": 87,
   "id": "1cbddf91",
   "metadata": {},
   "outputs": [
    {
     "name": "stdout",
     "output_type": "stream",
     "text": [
      "torch.Size([41, 3, 2])\n"
     ]
    }
   ],
   "source": [
    "emb = C[X]\n",
    "print(emb.shape)"
   ]
  },
  {
   "attachments": {},
   "cell_type": "markdown",
   "id": "ac7cef98",
   "metadata": {},
   "source": [
    "Moreover, we can *differentiate* C!\n",
    "Input has dimension 6 = 3 * 2"
   ]
  },
  {
   "cell_type": "code",
   "execution_count": 88,
   "id": "7aadf1fc",
   "metadata": {},
   "outputs": [],
   "source": [
    "# construct the Layer.... x.W+ b ... so the input has dimension 6=3*2 for (say) 100 neurons...\n",
    "W1 = torch.randn(6,100)\n",
    "b1 = torch.randn(100)\n"
   ]
  },
  {
   "attachments": {},
   "cell_type": "markdown",
   "id": "c3898181",
   "metadata": {},
   "source": [
    "We want to concatenate tensors.\n",
    "And maybe unbind them."
   ]
  },
  {
   "cell_type": "code",
   "execution_count": 89,
   "id": "09c72bff",
   "metadata": {},
   "outputs": [
    {
     "name": "stdout",
     "output_type": "stream",
     "text": [
      "tensor([-1.2109, -1.6624, -1.2109, -1.6624, -0.6134,  1.4951])\n",
      "tensor([[-1.2109, -1.6624],\n",
      "        [-1.2109, -1.6624],\n",
      "        [-0.6134,  1.4951]])\n"
     ]
    }
   ],
   "source": [
    "# https://pytorch.org/docs/stable/torch.html search for concatenate...\n",
    "\n",
    "print(torch.cat([emb[:,0,:],emb[:,1,:],emb[:,2,:]],1)[1])\n",
    "print(emb[1])\n",
    "#torch.cat([emb[:,0,:],emb[:,1,:],emb[:,2,:]],1).shape\n"
   ]
  },
  {
   "cell_type": "code",
   "execution_count": 90,
   "id": "ab8264cd",
   "metadata": {},
   "outputs": [
    {
     "data": {
      "text/plain": [
       "3"
      ]
     },
     "execution_count": 90,
     "metadata": {},
     "output_type": "execute_result"
    }
   ],
   "source": [
    "# we want a code for general n-grams..... \n",
    "# use 'unbind' https://pytorch.org/docs/stable/generated/torch.unbind.html#torch.unbind\n",
    "len(torch.unbind(emb,1))\n"
   ]
  },
  {
   "cell_type": "code",
   "execution_count": 91,
   "id": "dc97758d",
   "metadata": {},
   "outputs": [
    {
     "data": {
      "text/plain": [
       "tensor([[-1.2109, -1.6624, -1.2109, -1.6624, -1.2109, -1.6624],\n",
       "        [-1.2109, -1.6624, -1.2109, -1.6624, -0.6134,  1.4951],\n",
       "        [-1.2109, -1.6624, -0.6134,  1.4951,  1.9421,  0.3166],\n",
       "        [-0.6134,  1.4951,  1.9421,  0.3166, -2.3731,  0.7239],\n",
       "        [ 1.9421,  0.3166, -2.3731,  0.7239, -0.1259, -0.4294],\n",
       "        [-2.3731,  0.7239, -0.1259, -0.4294,  0.0294,  0.1952],\n",
       "        [-0.1259, -0.4294,  0.0294,  0.1952,  0.5444,  2.0474],\n",
       "        [ 0.0294,  0.1952,  0.5444,  2.0474, -0.1258,  0.7940],\n",
       "        [-1.2109, -1.6624, -1.2109, -1.6624, -1.2109, -1.6624],\n",
       "        [-1.2109, -1.6624, -1.2109, -1.6624, -2.3731,  0.7239],\n",
       "        [-1.2109, -1.6624, -2.3731,  0.7239, -1.6162,  0.5438],\n",
       "        [-2.3731,  0.7239, -1.6162,  0.5438, -0.1258,  0.7940],\n",
       "        [-1.6162,  0.5438, -0.1258,  0.7940, -1.2823, -0.3096],\n",
       "        [-0.1258,  0.7940, -1.2823, -0.3096, -0.6134,  1.4951],\n",
       "        [-1.2823, -0.3096, -0.6134,  1.4951,  0.0294,  0.1952],\n",
       "        [-0.6134,  1.4951,  0.0294,  0.1952,  0.0294,  0.1952],\n",
       "        [ 0.0294,  0.1952,  0.0294,  0.1952, -1.6162,  0.5438],\n",
       "        [ 0.0294,  0.1952, -1.6162,  0.5438,  0.0294,  0.1952],\n",
       "        [-1.6162,  0.5438,  0.0294,  0.1952, -0.1258,  0.7940],\n",
       "        [-1.2109, -1.6624, -1.2109, -1.6624, -1.2109, -1.6624],\n",
       "        [-1.2109, -1.6624, -1.2109, -1.6624,  0.8539,  0.1744],\n",
       "        [-1.2109, -1.6624,  0.8539,  0.1744, -1.6162,  0.5438],\n",
       "        [ 0.8539,  0.1744, -1.6162,  0.5438,  0.7506, -0.1500],\n",
       "        [-1.6162,  0.5438,  0.7506, -0.1500,  1.8679, -0.1604],\n",
       "        [ 0.7506, -0.1500,  1.8679, -0.1604,  1.9421,  0.3166],\n",
       "        [ 1.8679, -0.1604,  1.9421,  0.3166, -2.3731,  0.7239],\n",
       "        [ 1.9421,  0.3166, -2.3731,  0.7239, -0.6134,  1.4951],\n",
       "        [-1.2109, -1.6624, -1.2109, -1.6624, -1.2109, -1.6624],\n",
       "        [-1.2109, -1.6624, -1.2109, -1.6624, -0.1259, -0.4294],\n",
       "        [-1.2109, -1.6624, -0.1259, -0.4294,  0.8539,  0.1744],\n",
       "        [-0.1259, -0.4294,  0.8539,  0.1744, -1.2823, -0.3096],\n",
       "        [ 0.8539,  0.1744, -1.2823, -0.3096, -1.6162,  0.5438],\n",
       "        [-1.2823, -0.3096, -1.6162,  0.5438,  1.9421,  0.3166],\n",
       "        [-1.6162,  0.5438,  1.9421,  0.3166, -0.6134,  1.4951],\n",
       "        [-1.2109, -1.6624, -1.2109, -1.6624, -1.2109, -1.6624],\n",
       "        [-1.2109, -1.6624, -1.2109, -1.6624, -0.7718,  1.7847],\n",
       "        [-1.2109, -1.6624, -0.7718,  1.7847, -0.6134,  1.4951],\n",
       "        [-0.7718,  1.7847, -0.6134,  1.4951,  1.9421,  0.3166],\n",
       "        [-0.6134,  1.4951,  1.9421,  0.3166, -0.1259, -0.4294],\n",
       "        [ 1.9421,  0.3166, -0.1259, -0.4294,  0.0294,  0.1952],\n",
       "        [-0.1259, -0.4294,  0.0294,  0.1952, -0.6134,  1.4951]])"
      ]
     },
     "execution_count": 91,
     "metadata": {},
     "output_type": "execute_result"
    }
   ],
   "source": [
    "# and this work fore any context length.......\n",
    "\n",
    "torch.cat(torch.unbind(emb,1),1)"
   ]
  },
  {
   "attachments": {},
   "cell_type": "markdown",
   "id": "79423926",
   "metadata": {},
   "source": [
    "Let's see a better way."
   ]
  },
  {
   "cell_type": "code",
   "execution_count": 92,
   "id": "9047edfc",
   "metadata": {},
   "outputs": [
    {
     "name": "stdout",
     "output_type": "stream",
     "text": [
      "tensor([ 0,  1,  2,  3,  4,  5,  6,  7,  8,  9, 10, 11, 12, 13, 14, 15, 16, 17])\n",
      "torch.Size([18])\n",
      "tensor([[ 0,  1],\n",
      "        [ 2,  3],\n",
      "        [ 4,  5],\n",
      "        [ 6,  7],\n",
      "        [ 8,  9],\n",
      "        [10, 11],\n",
      "        [12, 13],\n",
      "        [14, 15],\n",
      "        [16, 17]])\n",
      "tensor([[ 0,  1,  2,  3,  4,  5,  6,  7,  8],\n",
      "        [ 9, 10, 11, 12, 13, 14, 15, 16, 17]])\n",
      " 0\n",
      " 1\n",
      " 2\n",
      " 3\n",
      " 4\n",
      " 5\n",
      " 6\n",
      " 7\n",
      " 8\n",
      " 9\n",
      " 10\n",
      " 11\n",
      " 12\n",
      " 13\n",
      " 14\n",
      " 15\n",
      " 16\n",
      " 17\n",
      "[torch.storage.TypedStorage(dtype=torch.int64, device=cpu) of size 18]\n"
     ]
    },
    {
     "name": "stderr",
     "output_type": "stream",
     "text": [
      "/tmp/ipykernel_1012/1622729900.py:12: UserWarning: TypedStorage is deprecated. It will be removed in the future and UntypedStorage will be the only storage class. This should only matter to you if you are using storages directly.  To access UntypedStorage directly, use tensor.untyped_storage() instead of tensor.storage()\n",
      "  print(a.storage()) # very efficient in torch\n",
      "/home/grufoony/.local/lib/python3.10/site-packages/torch/storage.py:636: UserWarning: TypedStorage is deprecated. It will be removed in the future and UntypedStorage will be the only storage class. This should only matter to you if you are using storages directly.  To access UntypedStorage directly, use tensor.untyped_storage() instead of tensor.storage()\n",
      "  f'device={self.device}) of size {len(self)}]')\n",
      "/home/grufoony/.local/lib/python3.10/site-packages/torch/storage.py:637: UserWarning: TypedStorage is deprecated. It will be removed in the future and UntypedStorage will be the only storage class. This should only matter to you if you are using storages directly.  To access UntypedStorage directly, use tensor.untyped_storage() instead of tensor.storage()\n",
      "  if self.device.type == 'meta':\n",
      "/home/grufoony/.local/lib/python3.10/site-packages/torch/storage.py:640: UserWarning: TypedStorage is deprecated. It will be removed in the future and UntypedStorage will be the only storage class. This should only matter to you if you are using storages directly.  To access UntypedStorage directly, use tensor.untyped_storage() instead of tensor.storage()\n",
      "  data_str = ' ' + '\\n '.join(str(self[i]) for i in range(self.size()))\n"
     ]
    }
   ],
   "source": [
    "# https://pytorch.org/docs/stable/generated/torch.Tensor.view.html\n",
    "\n",
    "# https://pytorch.org/docs/stable/generated/torch.Tensor.stride.html\n",
    "\n",
    "# use google image and discuss in class....\n",
    "\n",
    "a = torch.arange(18)\n",
    "print(a)\n",
    "print(a.shape)\n",
    "print(a.view(9, 2))\n",
    "print(a.view(2, 9))\n",
    "print(a.storage()) # very efficient in torch"
   ]
  },
  {
   "cell_type": "code",
   "execution_count": 93,
   "id": "229b1e60",
   "metadata": {},
   "outputs": [
    {
     "name": "stdout",
     "output_type": "stream",
     "text": [
      "tensor([[True, True, True, True, True, True],\n",
      "        [True, True, True, True, True, True],\n",
      "        [True, True, True, True, True, True],\n",
      "        [True, True, True, True, True, True],\n",
      "        [True, True, True, True, True, True],\n",
      "        [True, True, True, True, True, True],\n",
      "        [True, True, True, True, True, True],\n",
      "        [True, True, True, True, True, True],\n",
      "        [True, True, True, True, True, True],\n",
      "        [True, True, True, True, True, True],\n",
      "        [True, True, True, True, True, True],\n",
      "        [True, True, True, True, True, True],\n",
      "        [True, True, True, True, True, True],\n",
      "        [True, True, True, True, True, True],\n",
      "        [True, True, True, True, True, True],\n",
      "        [True, True, True, True, True, True],\n",
      "        [True, True, True, True, True, True],\n",
      "        [True, True, True, True, True, True],\n",
      "        [True, True, True, True, True, True],\n",
      "        [True, True, True, True, True, True],\n",
      "        [True, True, True, True, True, True],\n",
      "        [True, True, True, True, True, True],\n",
      "        [True, True, True, True, True, True],\n",
      "        [True, True, True, True, True, True],\n",
      "        [True, True, True, True, True, True],\n",
      "        [True, True, True, True, True, True],\n",
      "        [True, True, True, True, True, True],\n",
      "        [True, True, True, True, True, True],\n",
      "        [True, True, True, True, True, True],\n",
      "        [True, True, True, True, True, True],\n",
      "        [True, True, True, True, True, True],\n",
      "        [True, True, True, True, True, True],\n",
      "        [True, True, True, True, True, True],\n",
      "        [True, True, True, True, True, True],\n",
      "        [True, True, True, True, True, True],\n",
      "        [True, True, True, True, True, True],\n",
      "        [True, True, True, True, True, True],\n",
      "        [True, True, True, True, True, True],\n",
      "        [True, True, True, True, True, True],\n",
      "        [True, True, True, True, True, True],\n",
      "        [True, True, True, True, True, True]])\n"
     ]
    }
   ],
   "source": [
    "print(emb.view(41,6) == torch.cat(torch.unbind(emb,1),1))"
   ]
  },
  {
   "cell_type": "code",
   "execution_count": 94,
   "id": "97a73e4e",
   "metadata": {},
   "outputs": [],
   "source": [
    "# so we can use\n",
    "\n",
    "h = emb.view(41,6) @ W1 + b1"
   ]
  },
  {
   "cell_type": "code",
   "execution_count": 95,
   "id": "e16bb82b",
   "metadata": {},
   "outputs": [
    {
     "name": "stdout",
     "output_type": "stream",
     "text": [
      "tensor([[-1.3045, -0.7865, -6.5908,  ...,  4.3257,  5.5680, -0.5335],\n",
      "        [-0.0945,  1.4466,  0.9729,  ..., -0.4750,  0.1975, -2.7062],\n",
      "        [-6.2852, -7.0725, -4.0863,  ..., -1.9283, -0.7651, -2.9161],\n",
      "        ...,\n",
      "        [ 2.4809, -0.8315, -1.6788,  ..., -0.8159, -1.6434,  1.4737],\n",
      "        [ 2.5818,  2.8563,  1.4082,  ...,  0.6870,  2.8445,  0.3858],\n",
      "        [-0.5759,  1.0345,  2.3659,  ..., -1.1661, -1.2980, -0.6029]])\n",
      "torch.Size([41, 100])\n",
      "tensor([[-1.3045, -0.7865, -6.5908,  ...,  4.3257,  5.5680, -0.5335],\n",
      "        [-0.0945,  1.4466,  0.9729,  ..., -0.4750,  0.1975, -2.7062],\n",
      "        [-6.2852, -7.0725, -4.0863,  ..., -1.9283, -0.7651, -2.9161],\n",
      "        ...,\n",
      "        [ 2.4809, -0.8315, -1.6788,  ..., -0.8159, -1.6434,  1.4737],\n",
      "        [ 2.5818,  2.8563,  1.4082,  ...,  0.6870,  2.8445,  0.3858],\n",
      "        [-0.5759,  1.0345,  2.3659,  ..., -1.1661, -1.2980, -0.6029]])\n"
     ]
    }
   ],
   "source": [
    "print(h)\n",
    "print(h.shape)\n",
    "print(emb.view(-1,6) @ W1 + b1)"
   ]
  },
  {
   "attachments": {},
   "cell_type": "markdown",
   "id": "601b58f8",
   "metadata": {},
   "source": [
    "Embed (glue) + apply matrix + add b1"
   ]
  },
  {
   "cell_type": "code",
   "execution_count": 96,
   "id": "0f9faf39",
   "metadata": {},
   "outputs": [],
   "source": [
    "# first layer\n",
    "\n",
    "# https://pytorch.org/docs/stable/generated/torch.tanh.html\n",
    "\n",
    "h = torch.tanh(emb.view(-1,6) @ W1 + b1)"
   ]
  },
  {
   "cell_type": "code",
   "execution_count": 97,
   "id": "dc35f755",
   "metadata": {},
   "outputs": [
    {
     "name": "stdout",
     "output_type": "stream",
     "text": [
      "tensor([[-0.8629, -0.6564, -1.0000,  ...,  0.9997,  1.0000, -0.4880],\n",
      "        [-0.0942,  0.8950,  0.7500,  ..., -0.4422,  0.1950, -0.9911],\n",
      "        [-1.0000, -1.0000, -0.9994,  ..., -0.9586, -0.6441, -0.9942],\n",
      "        ...,\n",
      "        [ 0.9861, -0.6813, -0.9327,  ..., -0.6728, -0.9280,  0.9003],\n",
      "        [ 0.9886,  0.9934,  0.8871,  ...,  0.5960,  0.9933,  0.3677],\n",
      "        [-0.5197,  0.7757,  0.9825,  ..., -0.8230, -0.8612, -0.5391]])\n"
     ]
    }
   ],
   "source": [
    "print(h)"
   ]
  },
  {
   "attachments": {},
   "cell_type": "markdown",
   "id": "92889ea2",
   "metadata": {},
   "source": [
    "Second layer must take in 100D vector and give out a 28D vector."
   ]
  },
  {
   "cell_type": "code",
   "execution_count": 98,
   "id": "dc58619c",
   "metadata": {},
   "outputs": [],
   "source": [
    "# second layer\n",
    "    \n",
    "W2 = torch.randn((100,28))\n",
    "b2 = torch.randn(28)"
   ]
  },
  {
   "attachments": {},
   "cell_type": "markdown",
   "id": "a26e6bb1",
   "metadata": {},
   "source": [
    "h is coming out from the first layer, then we feed with h the layer here."
   ]
  },
  {
   "cell_type": "code",
   "execution_count": 99,
   "id": "2b211524",
   "metadata": {},
   "outputs": [
    {
     "name": "stdout",
     "output_type": "stream",
     "text": [
      "torch.Size([41, 28])\n"
     ]
    }
   ],
   "source": [
    "logits= h @ W2 +b2\n",
    "print(logits.shape)"
   ]
  },
  {
   "attachments": {},
   "cell_type": "markdown",
   "id": "5afaec94",
   "metadata": {},
   "source": [
    "Logits means log of the counting..."
   ]
  },
  {
   "cell_type": "code",
   "execution_count": 100,
   "id": "4c70e941",
   "metadata": {},
   "outputs": [],
   "source": [
    "counts = logits.exp()"
   ]
  },
  {
   "attachments": {},
   "cell_type": "markdown",
   "id": "1eea9582",
   "metadata": {},
   "source": [
    "Normalize to interpret this as a measure, i.e. a probability distribution coming out from the network when fed with three chars."
   ]
  },
  {
   "cell_type": "code",
   "execution_count": 101,
   "id": "9a67d79d",
   "metadata": {},
   "outputs": [],
   "source": [
    "prob = counts / counts.sum(1,keepdims=True)"
   ]
  },
  {
   "cell_type": "code",
   "execution_count": 102,
   "id": "9e30313b",
   "metadata": {},
   "outputs": [
    {
     "name": "stdout",
     "output_type": "stream",
     "text": [
      "tensor([3.0773e-08, 3.3734e-06, 5.9390e-08, 1.5905e-06, 1.0303e-05, 3.2433e-08,\n",
      "        9.8882e-09, 3.6893e-08, 7.6286e-07, 2.1819e-05, 8.0904e-04, 2.8643e-09,\n",
      "        4.5660e-12, 2.8235e-05, 3.6545e-13, 8.6095e-04, 4.5056e-05, 1.8306e-04,\n",
      "        3.8159e-12, 2.1595e-04, 2.7025e-05, 9.9708e-01, 3.9288e-12, 6.9774e-04,\n",
      "        1.5863e-05, 9.7494e-09, 4.0138e-11, 2.1206e-10])\n",
      "tensor(1.)\n",
      "tensor(3.3734e-06)\n",
      "tensor([5.9390e-08, 2.3458e-18])\n"
     ]
    }
   ],
   "source": [
    "print(prob[0])\n",
    "print(prob[0].sum())\n",
    "print(prob[0, 1])\n",
    "print(prob[[0,1],[2,5]])"
   ]
  },
  {
   "attachments": {},
   "cell_type": "markdown",
   "id": "884f6d12",
   "metadata": {},
   "source": [
    "Model is initialized with random weights, so it's making mistakes."
   ]
  },
  {
   "cell_type": "code",
   "execution_count": 103,
   "id": "8c12f1b6",
   "metadata": {},
   "outputs": [
    {
     "name": "stdout",
     "output_type": "stream",
     "text": [
      "tensor([ 2, 19,  8,  6, 15, 21, 16,  0,  8, 10, 16, 23,  2, 15, 15, 10, 15, 16,\n",
      "         0, 13, 10,  4, 22, 19,  8,  2,  0,  6, 13, 23, 10, 19,  2,  0, 14,  2,\n",
      "        19,  6, 15,  2,  0])\n",
      "tensor([ 0,  1,  2,  3,  4,  5,  6,  7,  8,  9, 10, 11, 12, 13, 14, 15, 16, 17,\n",
      "        18, 19, 20, 21, 22, 23, 24, 25, 26, 27, 28, 29, 30, 31, 32, 33, 34, 35,\n",
      "        36, 37, 38, 39, 40])\n",
      "tensor([5.9390e-08, 8.8858e-11, 1.2132e-05, 4.9871e-08, 3.3685e-09, 4.7157e-01,\n",
      "        9.3018e-06, 2.0276e-06, 7.6286e-07, 7.0948e-12, 5.6750e-07, 1.3505e-12,\n",
      "        1.9376e-08, 3.5265e-07, 1.3190e-04, 2.3236e-06, 1.3412e-01, 1.9459e-09,\n",
      "        1.7078e-03, 2.8235e-05, 3.7713e-05, 4.3189e-12, 2.7178e-18, 1.2909e-05,\n",
      "        3.0720e-09, 1.9949e-09, 6.6161e-16, 9.8882e-09, 6.7945e-12, 3.7141e-01,\n",
      "        1.0150e-08, 9.0557e-12, 2.2180e-07, 2.6731e-07, 3.6545e-13, 6.4834e-15,\n",
      "        5.9562e-06, 9.0961e-10, 3.1156e-10, 1.1032e-04, 5.6778e-10])\n"
     ]
    }
   ],
   "source": [
    "print(Y)\n",
    "print(torch.arange(41))\n",
    "print(prob[torch.arange(41),Y])"
   ]
  },
  {
   "attachments": {},
   "cell_type": "markdown",
   "id": "602fea83",
   "metadata": {},
   "source": [
    "We, of course, want the model to predict the right answer.\n",
    "Probability going to one implies loss going to zero."
   ]
  },
  {
   "cell_type": "code",
   "execution_count": 104,
   "id": "128709ca",
   "metadata": {},
   "outputs": [
    {
     "name": "stdout",
     "output_type": "stream",
     "text": [
      "tensor(17.4706)\n"
     ]
    }
   ],
   "source": [
    "loss = - prob[torch.arange(41),Y].log().mean()\n",
    "print(loss)  # very bad of course....."
   ]
  },
  {
   "attachments": {},
   "cell_type": "markdown",
   "id": "64787ee4",
   "metadata": {},
   "source": [
    "Let's put things together.\n",
    "Parameters will contain all the objects we're going to change."
   ]
  },
  {
   "cell_type": "code",
   "execution_count": 105,
   "id": "32e94c68",
   "metadata": {},
   "outputs": [],
   "source": [
    "g = torch.Generator().manual_seed(123456780)# for reproducibility\n",
    "C = torch.randn((28,2), generator=g)\n",
    "W1 = torch.randn((6,100), generator=g)\n",
    "b1 = torch.randn(100, generator=g)\n",
    "W2 = torch.randn((100,28), generator=g)\n",
    "b2 = torch.randn(28, generator=g)\n",
    "parameters = [C,W1,b1,W2,b2]"
   ]
  },
  {
   "attachments": {},
   "cell_type": "markdown",
   "id": "11bcb57f",
   "metadata": {},
   "source": [
    "How many parameters are fixable?"
   ]
  },
  {
   "cell_type": "code",
   "execution_count": 106,
   "id": "24c58c51",
   "metadata": {},
   "outputs": [
    {
     "name": "stdout",
     "output_type": "stream",
     "text": [
      "3584\n"
     ]
    }
   ],
   "source": [
    "print(sum(p.nelement() for p in parameters)) # number of parameter in total..."
   ]
  },
  {
   "cell_type": "code",
   "execution_count": 107,
   "id": "b7bbb813",
   "metadata": {},
   "outputs": [
    {
     "name": "stdout",
     "output_type": "stream",
     "text": [
      "tensor(17.2342)\n"
     ]
    }
   ],
   "source": [
    "emb = C[X] # torch.Size([41, 3, 2])\n",
    "h = torch.tanh(emb.view(-1,6) @ W1 + b1) #(41,100)\n",
    "logits = h @ W2 + b2 #(41,27)\n",
    "counts = logits.exp()\n",
    "prob = counts/counts.sum(1,keepdims=True)\n",
    "loss = -prob[torch.arange(41),Y].log().mean()\n",
    "print(loss)"
   ]
  },
  {
   "cell_type": "code",
   "execution_count": 108,
   "id": "cdc82d00",
   "metadata": {},
   "outputs": [
    {
     "name": "stdout",
     "output_type": "stream",
     "text": [
      "tensor(17.2342)\n"
     ]
    }
   ],
   "source": [
    "# we can make it more efficient using the build in cross entropy loss function...\n",
    "print(F.cross_entropy(logits,Y))"
   ]
  },
  {
   "attachments": {},
   "cell_type": "markdown",
   "id": "c9dddb38",
   "metadata": {},
   "source": [
    "Now the loss has to be minimized."
   ]
  },
  {
   "cell_type": "code",
   "execution_count": 109,
   "id": "07815716",
   "metadata": {},
   "outputs": [
    {
     "name": "stdout",
     "output_type": "stream",
     "text": [
      "tensor(17.2342)\n"
     ]
    }
   ],
   "source": [
    "# so..... https://pytorch.org/docs/stable/generated/torch.nn.functional.cross_entropy.html\n",
    "emb = C[X] # torch.Size([41, 3, 2])\n",
    "h = torch.tanh(emb.view(-1,6) @ W1 + b1) #(41,100)\n",
    "logits = h @ W2 + b2 #(41,27)\n",
    "#counts=logits.exp()\n",
    "#prob=counts/counts.sum(1,keepdims=True)\n",
    "#loss=-prob[torch.arange(41),Y].log().mean()\n",
    "loss = F.cross_entropy(logits,Y)\n",
    "print(loss)"
   ]
  },
  {
   "attachments": {},
   "cell_type": "markdown",
   "id": "f7daa8c1",
   "metadata": {},
   "source": [
    "We'll use the cross_entropy function because the exponentiation of just -500 will result in 0"
   ]
  },
  {
   "cell_type": "code",
   "execution_count": 110,
   "id": "a30fb0f6",
   "metadata": {},
   "outputs": [
    {
     "name": "stdout",
     "output_type": "stream",
     "text": [
      "tensor([6.7379e-03, 4.9787e-02, 1.0000e+00, 2.2026e+04])\n",
      "tensor([3.0589e-07, 2.2602e-06, 4.5398e-05, 9.9995e-01])\n"
     ]
    }
   ],
   "source": [
    "# two very good reasons to use 'cross_entropy': more efficient (no tensor) and substract the maximum to avoid nan....discuss....\n",
    "\n",
    "logits = torch.tensor([-5,-3,0,10]) # -100\n",
    "counts = logits.exp()\n",
    "prob = counts/counts.sum()\n",
    "print(counts)\n",
    "print(prob)"
   ]
  },
  {
   "attachments": {},
   "cell_type": "markdown",
   "id": "c91b1116",
   "metadata": {},
   "source": [
    "Put the gradient to zero, then compute the backward derivative and update all parameters in order to decrease the loss."
   ]
  },
  {
   "cell_type": "code",
   "execution_count": 111,
   "id": "70093b02",
   "metadata": {},
   "outputs": [],
   "source": [
    "for p in parameters:\n",
    "    p.requires_grad = True\n",
    "\n",
    "for _ in range(1000):\n",
    "    # now we learn...forward bass \n",
    "    emb = C[X] # torch.Size([41, 3, 2])\n",
    "    h = torch.tanh(emb.view(-1,6) @ W1 + b1) #(41,100)\n",
    "    logits = h @ W2 + b2 #(41,27)\n",
    "    loss = F.cross_entropy(logits,Y)\n",
    "    # backward pass \n",
    "    for p in parameters:\n",
    "        p.grad = None\n",
    "    loss.backward()\n",
    "    # update\n",
    "    for p in parameters:\n",
    "        p.data += -0.1*p.grad"
   ]
  },
  {
   "cell_type": "code",
   "execution_count": 112,
   "id": "aa6c3cc3",
   "metadata": {},
   "outputs": [
    {
     "name": "stdout",
     "output_type": "stream",
     "text": [
      "elvira.\n",
      "marena.\n",
      "giovannino.\n",
      "giovannino.\n",
      "giovannino.\n",
      "giovannino.\n",
      "elvira.\n",
      "marena.\n",
      "argento.\n",
      "argento.\n",
      "argento.\n",
      "elvira.\n",
      "argento.\n",
      "licurga.\n",
      "licurga.\n",
      "marena.\n",
      "giovannino.\n",
      "marena.\n",
      "giovannino.\n",
      "licurga.\n"
     ]
    }
   ],
   "source": [
    "# sampling from the model.....\n",
    "\n",
    "g = torch.Generator().manual_seed(12345678+10)\n",
    "\n",
    "for _ in range(20):\n",
    "    out = []\n",
    "    context = [0]*block_size\n",
    "    while True:\n",
    "        emb = C[torch.tensor([context])]\n",
    "        h = torch.tanh(emb.view(1,-1) @ W1 + b1) \n",
    "        logits = h @ W2 + b2\n",
    "        probs = F.softmax(logits,dim=1)\n",
    "        ix = torch.multinomial(probs,num_samples=1,generator=g).item()\n",
    "        context = context[1:]+[ix]\n",
    "        out.append(ix)\n",
    "        if ix==0:\n",
    "            break\n",
    "        \n",
    "    print(''.join(itos[i] for i in out))\n",
    "        "
   ]
  },
  {
   "attachments": {},
   "cell_type": "markdown",
   "id": "01fd5294",
   "metadata": {},
   "source": [
    "Model is overfitting: we've given it only 5 samples out of 7000+...\n",
    "Actually we've 41 examples (trigrams) and 3584 parameters."
   ]
  },
  {
   "cell_type": "code",
   "execution_count": 113,
   "id": "8a6074e3",
   "metadata": {},
   "outputs": [
    {
     "name": "stdout",
     "output_type": "stream",
     "text": [
      "0.19916315376758575\n"
     ]
    }
   ],
   "source": [
    "for p in parameters:\n",
    "    p.requires_grad = True\n",
    "\n",
    "for _ in range(1000):\n",
    "    # now we learn...forward bass \n",
    "    emb = C[X] # torch.Size([41, 3, 2])\n",
    "    h = torch.tanh(emb.view(-1,6) @ W1 + b1) #(41,100)\n",
    "    logits = h @ W2 + b2 #(41,27)\n",
    "    loss = F.cross_entropy(logits,Y)\n",
    "    #print(loss.item())\n",
    "    # backward pass \n",
    "    for p in parameters:\n",
    "        p.grad = None\n",
    "    loss.backward()\n",
    "    #update\n",
    "    for p in parameters:\n",
    "        p.data += -0.1*p.grad\n",
    "print(loss.item())"
   ]
  },
  {
   "cell_type": "code",
   "execution_count": 114,
   "id": "2ca4bf6e",
   "metadata": {},
   "outputs": [
    {
     "name": "stdout",
     "output_type": "stream",
     "text": [
      "torch.return_types.max(\n",
      "values=tensor([12.1724, 14.1847, 15.8096, 16.5460, 12.5090, 14.7062, 15.2590, 15.4024,\n",
      "        12.1724, 19.3660, 15.9274, 12.4720, 13.9841, 17.1356, 14.9285, 13.9812,\n",
      "        13.8305, 15.1462, 14.5532, 12.1724, 15.2042, 17.6397, 14.6976, 14.7785,\n",
      "        22.7934, 18.4190, 15.3254, 12.1724, 18.8153, 16.9008, 17.9443, 18.5473,\n",
      "        15.9427, 15.7163, 12.1724, 19.9722, 15.4614, 16.7053, 16.1372, 18.4218,\n",
      "        15.9050], grad_fn=<MaxBackward0>),\n",
      "indices=tensor([13, 19,  8,  6, 15, 21, 16,  0, 13, 10, 16, 23,  2, 15, 15, 10, 15, 16,\n",
      "         0, 13, 10,  4, 22, 19,  8,  2,  0, 13, 13, 23, 10, 19,  2,  0, 13,  2,\n",
      "        19,  6, 15,  2,  0]))\n",
      "tensor([ 2, 19,  8,  6, 15, 21, 16,  0,  8, 10, 16, 23,  2, 15, 15, 10, 15, 16,\n",
      "         0, 13, 10,  4, 22, 19,  8,  2,  0,  6, 13, 23, 10, 19,  2,  0, 14,  2,\n",
      "        19,  6, 15,  2,  0])\n"
     ]
    }
   ],
   "source": [
    "print(logits.max(1))\n",
    "print(Y)"
   ]
  },
  {
   "attachments": {},
   "cell_type": "markdown",
   "id": "c07abceb",
   "metadata": {},
   "source": [
    "Taking all words we get a very big example dataset."
   ]
  },
  {
   "cell_type": "code",
   "execution_count": 115,
   "id": "db780882",
   "metadata": {},
   "outputs": [],
   "source": [
    "block_size = 3 #context length: how many characters do we take to predict the next one ... change it !!\n",
    "X, Y = [], []  # input & label\n",
    "\n",
    "for w in words:\n",
    "  #  print(w)\n",
    "    context = [0]*block_size\n",
    "    for ch in w +'.':\n",
    "        ix = stoi[ch]\n",
    "        X.append(context)\n",
    "        Y.append(ix)\n",
    "      #  print(''.join(itos[i] for i in context), '--->', itos[ix])\n",
    "        context = context[1:]+[ix]  # shift: crop and append\n",
    "X=torch.tensor(X)\n",
    "Y=torch.tensor(Y)"
   ]
  },
  {
   "cell_type": "code",
   "execution_count": 116,
   "id": "8dbc4e08",
   "metadata": {},
   "outputs": [
    {
     "name": "stdout",
     "output_type": "stream",
     "text": [
      "torch.Size([73643, 3]) torch.Size([73643])\n"
     ]
    }
   ],
   "source": [
    "print(X.shape, Y.shape)"
   ]
  },
  {
   "cell_type": "code",
   "execution_count": 117,
   "id": "d8aa5705",
   "metadata": {},
   "outputs": [],
   "source": [
    "# exactly as before....\n",
    "g = torch.Generator().manual_seed(123456780)# for reproducibility\n",
    "C = torch.randn((28,2), generator=g)\n",
    "W1 = torch.randn((6,100), generator=g)\n",
    "b1 = torch.randn(100, generator=g)\n",
    "W2 = torch.randn((100,28), generator=g)\n",
    "b2 = torch.randn(28, generator=g)\n",
    "parameters = [C,W1,b1,W2,b2]"
   ]
  },
  {
   "cell_type": "code",
   "execution_count": 118,
   "id": "2133baf9",
   "metadata": {},
   "outputs": [
    {
     "name": "stdout",
     "output_type": "stream",
     "text": [
      "17.754497528076172\n",
      "15.824398040771484\n",
      "14.187442779541016\n",
      "13.052314758300781\n",
      "12.071905136108398\n",
      "11.26384162902832\n",
      "10.603142738342285\n",
      "10.075033187866211\n",
      "9.627379417419434\n",
      "9.222493171691895\n",
      "9.222493171691895\n"
     ]
    }
   ],
   "source": [
    "for p in parameters:\n",
    "    p.requires_grad = True\n",
    "\n",
    "for _ in range(10):\n",
    "    # now we learn...forward bass -- = 73643\n",
    "    emb = C[X] # torch.Size([--, 3, 2])\n",
    "    h = torch.tanh(emb.view(-1,6) @ W1 + b1) #(--,100)\n",
    "    logits = h @ W2 + b2 #(--,27)\n",
    "    loss = F.cross_entropy(logits,Y)\n",
    "    print(loss.item())\n",
    "    # backward pass \n",
    "    for p in parameters:\n",
    "        p.grad = None\n",
    "    loss.backward()\n",
    "    #update\n",
    "    for p in parameters:\n",
    "        p.data += -0.1*p.grad\n",
    "print(loss.item())"
   ]
  },
  {
   "attachments": {},
   "cell_type": "markdown",
   "id": "9ec6a61a",
   "metadata": {},
   "source": [
    "See how it's slowing down...\n",
    "Every time we give all samples to it.\n",
    "Let's subdivide the dataset in batches."
   ]
  },
  {
   "cell_type": "code",
   "execution_count": 119,
   "id": "921206f9",
   "metadata": {},
   "outputs": [
    {
     "name": "stdout",
     "output_type": "stream",
     "text": [
      "tensor([ 3406, 40709, 54717, 56273, 51644,  1443, 70213, 23916,  1380, 24011])\n"
     ]
    }
   ],
   "source": [
    "ix=torch.randint(0, X.shape[0], (10,)) #try ix=torch.randint(0,X.shape[0],(10,2)) and explain\n",
    "#https://pytorch.org/docs/stable/generated/torch.randint.html\n",
    "print(ix)"
   ]
  },
  {
   "cell_type": "code",
   "execution_count": 120,
   "id": "13457f3e",
   "metadata": {},
   "outputs": [
    {
     "name": "stdout",
     "output_type": "stream",
     "text": [
      "tensor([[ 3079],\n",
      "        [60335],\n",
      "        [27994],\n",
      "        [72581],\n",
      "        [52896],\n",
      "        [34230],\n",
      "        [65276],\n",
      "        [22427],\n",
      "        [48644],\n",
      "        [21171]])\n"
     ]
    }
   ],
   "source": [
    "ix=torch.randint(0, X.shape[0], (10,1))\n",
    "print(ix)"
   ]
  },
  {
   "cell_type": "code",
   "execution_count": 121,
   "id": "a957e768",
   "metadata": {},
   "outputs": [
    {
     "name": "stdout",
     "output_type": "stream",
     "text": [
      "7.30229377746582\n",
      "9.417058944702148\n",
      "5.193726539611816\n",
      "6.689864635467529\n",
      "8.469709396362305\n",
      "8.550464630126953\n",
      "8.491397857666016\n",
      "8.364103317260742\n",
      "5.644956111907959\n",
      "5.984501361846924\n",
      "5.984501361846924\n"
     ]
    }
   ],
   "source": [
    "for _ in range(10):\n",
    "    # mini batch construct of size ...\n",
    "    ix = torch.randint(0,X.shape[0],(32,))\n",
    "    # now we learn...forward bass -- = 73643\n",
    "    emb = C[X[ix]] # torch.Size([--, 3, 2])\n",
    "    h = torch.tanh(emb.view(-1,6) @ W1 + b1) #(--,100)\n",
    "    logits = h @ W2 + b2 #(--,27)\n",
    "    loss = F.cross_entropy(logits,Y[ix])\n",
    "    print(loss.item())\n",
    "    # backward pass \n",
    "    for p in parameters:\n",
    "        p.grad = None\n",
    "    loss.backward()\n",
    "    #update\n",
    "    for p in parameters:\n",
    "        p.data += -0.1*p.grad\n",
    "print(loss.item())"
   ]
  },
  {
   "cell_type": "code",
   "execution_count": 122,
   "id": "46d55ceb",
   "metadata": {},
   "outputs": [],
   "source": [
    "# how we define the 'learning rate' ? p.data += -0.1*p.grad\n",
    "# play with learning rate from .01 to 100.... and discuss"
   ]
  },
  {
   "cell_type": "code",
   "execution_count": 123,
   "id": "a53b007f",
   "metadata": {},
   "outputs": [
    {
     "name": "stdout",
     "output_type": "stream",
     "text": [
      "6.352814197540283\n",
      "5.745189666748047\n",
      "5.619042873382568\n",
      "5.047020435333252\n",
      "6.099915027618408\n",
      "5.776467800140381\n",
      "6.162656784057617\n",
      "5.84634256362915\n",
      "5.1438798904418945\n",
      "4.591708183288574\n",
      "5.034064769744873\n",
      "4.842540740966797\n",
      "4.109856128692627\n",
      "4.809081554412842\n",
      "4.829516887664795\n",
      "4.298920154571533\n",
      "4.443389892578125\n",
      "4.66321325302124\n",
      "4.386630535125732\n",
      "4.707630634307861\n",
      "4.1620988845825195\n",
      "4.900666236877441\n",
      "3.9293692111968994\n",
      "4.090272426605225\n",
      "4.326892375946045\n",
      "3.888510227203369\n",
      "3.7192318439483643\n",
      "3.7005066871643066\n",
      "3.776442766189575\n",
      "3.537832021713257\n",
      "4.038181781768799\n",
      "4.225849628448486\n",
      "3.707176446914673\n",
      "3.4348883628845215\n",
      "3.7892093658447266\n",
      "3.621366024017334\n",
      "3.710712194442749\n",
      "4.205099105834961\n",
      "3.7120473384857178\n",
      "3.945746421813965\n",
      "3.1517748832702637\n",
      "3.506485939025879\n",
      "3.8938164710998535\n",
      "3.5666685104370117\n",
      "3.9406888484954834\n",
      "3.7563321590423584\n",
      "3.9478847980499268\n",
      "3.4152672290802\n",
      "3.301408290863037\n",
      "3.3562445640563965\n"
     ]
    }
   ],
   "source": [
    "for _ in range(50):  \n",
    "    # mini batch construct\n",
    "    ix = torch.randint(0,X.shape[0],(100,))\n",
    "    # now we learn...forward bass -- = 73643\n",
    "    emb = C[X[ix]] # torch.Size([--, 3, 2])\n",
    "    h = torch.tanh(emb.view(-1,6) @ W1 + b1) #(--,100)\n",
    "    logits = h @ W2 + b2 #(--,27)\n",
    "    loss = F.cross_entropy(logits,Y[ix])\n",
    "    print(loss.item())\n",
    "    # backward pass \n",
    "    for p in parameters:\n",
    "        p.grad = None\n",
    "    loss.backward()\n",
    "    #update\n",
    "    for p in parameters:\n",
    "        p.data += -.1*p.grad\n",
    "#print(loss.item())"
   ]
  },
  {
   "cell_type": "code",
   "execution_count": 124,
   "id": "d496d66a",
   "metadata": {},
   "outputs": [
    {
     "name": "stdout",
     "output_type": "stream",
     "text": [
      "torch.Size([1000])\n"
     ]
    }
   ],
   "source": [
    "lre = torch.linspace(-3,0,1000)\n",
    "lrs = 10**lre\n",
    "print(lrs.shape)"
   ]
  },
  {
   "cell_type": "code",
   "execution_count": 125,
   "id": "cefe44d1",
   "metadata": {},
   "outputs": [
    {
     "name": "stdout",
     "output_type": "stream",
     "text": [
      "0 3.6702959537506104\n",
      "1 3.4717462062835693\n",
      "2 3.8229663372039795\n",
      "3 3.269500494003296\n",
      "4 3.497579336166382\n",
      "5 3.3738362789154053\n",
      "6 3.536966323852539\n",
      "7 3.5905911922454834\n",
      "8 3.3715546131134033\n",
      "9 3.2676877975463867\n",
      "10 3.2474236488342285\n",
      "11 3.3944809436798096\n",
      "12 3.545369863510132\n",
      "13 3.052788019180298\n",
      "14 3.257672071456909\n",
      "15 3.212407112121582\n",
      "16 3.4199962615966797\n",
      "17 3.407318353652954\n",
      "18 3.3791232109069824\n",
      "19 3.1567492485046387\n",
      "20 3.988377094268799\n",
      "21 3.369558811187744\n",
      "22 3.3583288192749023\n",
      "23 3.0475058555603027\n",
      "24 3.177821159362793\n",
      "25 3.3432602882385254\n",
      "26 3.536677598953247\n",
      "27 3.399963617324829\n",
      "28 3.4546027183532715\n",
      "29 3.355734348297119\n",
      "30 3.409982204437256\n",
      "31 3.0014843940734863\n",
      "32 2.945284366607666\n",
      "33 3.528552770614624\n",
      "34 3.026615858078003\n",
      "35 3.4188954830169678\n",
      "36 3.328660011291504\n",
      "37 3.5925967693328857\n",
      "38 2.9964160919189453\n",
      "39 3.8644118309020996\n",
      "40 3.4175937175750732\n",
      "41 3.1122047901153564\n",
      "42 3.11641788482666\n",
      "43 3.54695463180542\n",
      "44 3.705383062362671\n",
      "45 3.520034074783325\n",
      "46 3.145904779434204\n",
      "47 3.9558277130126953\n",
      "48 3.448727607727051\n",
      "49 3.7312381267547607\n",
      "50 3.1671721935272217\n",
      "51 3.1441965103149414\n",
      "52 3.040562629699707\n",
      "53 3.6869897842407227\n",
      "54 2.8974714279174805\n",
      "55 3.510025978088379\n",
      "56 3.122722864151001\n",
      "57 3.077397108078003\n",
      "58 3.305797815322876\n",
      "59 2.9646310806274414\n",
      "60 3.0215933322906494\n",
      "61 2.993591547012329\n",
      "62 3.319679021835327\n",
      "63 3.8193416595458984\n",
      "64 2.828425884246826\n",
      "65 3.415371894836426\n",
      "66 3.667401075363159\n",
      "67 3.8114492893218994\n",
      "68 2.9603641033172607\n",
      "69 3.373394250869751\n",
      "70 2.5799524784088135\n",
      "71 3.38838267326355\n",
      "72 3.0376064777374268\n",
      "73 3.6250600814819336\n",
      "74 3.0008885860443115\n",
      "75 4.226430892944336\n",
      "76 3.3167285919189453\n",
      "77 3.374291181564331\n",
      "78 3.6593732833862305\n",
      "79 3.473583459854126\n",
      "80 3.4276340007781982\n",
      "81 3.3885281085968018\n",
      "82 3.3285720348358154\n",
      "83 3.3264379501342773\n",
      "84 3.7391059398651123\n",
      "85 2.9745583534240723\n",
      "86 3.047361135482788\n",
      "87 3.151773691177368\n",
      "88 3.3714094161987305\n",
      "89 3.3209192752838135\n",
      "90 3.380124807357788\n",
      "91 3.0187883377075195\n",
      "92 3.133107900619507\n",
      "93 3.2518787384033203\n",
      "94 3.333939552307129\n",
      "95 3.3706467151641846\n",
      "96 2.8971173763275146\n",
      "97 2.719674587249756\n",
      "98 3.781019926071167\n",
      "99 3.799072504043579\n",
      "100 3.4220802783966064\n",
      "101 3.4109387397766113\n",
      "102 3.037130832672119\n",
      "103 3.132284164428711\n",
      "104 3.619488477706909\n",
      "105 3.205291748046875\n",
      "106 3.543417453765869\n",
      "107 3.0497560501098633\n",
      "108 2.9518990516662598\n",
      "109 3.3796353340148926\n",
      "110 3.3841216564178467\n",
      "111 3.1316978931427\n",
      "112 3.1135952472686768\n",
      "113 3.1312813758850098\n",
      "114 3.081416368484497\n",
      "115 3.2160751819610596\n",
      "116 3.413905143737793\n",
      "117 3.498809576034546\n",
      "118 3.359625816345215\n",
      "119 3.134484052658081\n",
      "120 3.2637524604797363\n",
      "121 3.381244421005249\n",
      "122 3.200227737426758\n",
      "123 3.2193872928619385\n",
      "124 3.1752207279205322\n",
      "125 3.444565773010254\n",
      "126 3.3841772079467773\n",
      "127 3.719461679458618\n",
      "128 3.0472207069396973\n",
      "129 3.4740493297576904\n",
      "130 3.257661819458008\n",
      "131 3.363370418548584\n",
      "132 2.9909350872039795\n",
      "133 3.3575799465179443\n",
      "134 3.2325243949890137\n",
      "135 3.4551033973693848\n",
      "136 2.9065566062927246\n",
      "137 3.5841875076293945\n",
      "138 2.891986131668091\n",
      "139 3.058945894241333\n",
      "140 3.156019926071167\n",
      "141 2.9190597534179688\n",
      "142 2.9192421436309814\n",
      "143 3.308885097503662\n",
      "144 3.2644715309143066\n",
      "145 3.270559072494507\n",
      "146 3.476834297180176\n",
      "147 3.723655939102173\n",
      "148 3.505901575088501\n",
      "149 3.187107801437378\n",
      "150 3.238320827484131\n",
      "151 3.3559069633483887\n",
      "152 2.980895757675171\n",
      "153 3.2121453285217285\n",
      "154 3.6846091747283936\n",
      "155 3.3038570880889893\n",
      "156 2.868375778198242\n",
      "157 2.7506558895111084\n",
      "158 3.5118448734283447\n",
      "159 3.2325375080108643\n",
      "160 3.2663516998291016\n",
      "161 3.589871406555176\n",
      "162 3.5304131507873535\n",
      "163 3.5517773628234863\n",
      "164 3.0398590564727783\n",
      "165 3.2573180198669434\n",
      "166 2.8647561073303223\n",
      "167 3.410754680633545\n",
      "168 3.2578296661376953\n",
      "169 3.4103152751922607\n",
      "170 3.2262380123138428\n",
      "171 2.503323554992676\n",
      "172 3.1800122261047363\n",
      "173 3.4221177101135254\n",
      "174 3.192483425140381\n",
      "175 3.1924092769622803\n",
      "176 3.779543876647949\n",
      "177 3.712294816970825\n",
      "178 3.278437852859497\n",
      "179 2.962111234664917\n",
      "180 3.2618753910064697\n",
      "181 3.2048511505126953\n",
      "182 2.7634737491607666\n",
      "183 3.5268096923828125\n",
      "184 3.2478625774383545\n",
      "185 3.1944353580474854\n",
      "186 3.1799044609069824\n",
      "187 2.9055941104888916\n",
      "188 3.42476749420166\n",
      "189 3.01584529876709\n",
      "190 3.5560801029205322\n",
      "191 3.361304998397827\n",
      "192 3.6890790462493896\n",
      "193 2.977108955383301\n",
      "194 3.6363468170166016\n",
      "195 3.2662670612335205\n",
      "196 3.4486615657806396\n",
      "197 2.8242435455322266\n",
      "198 3.7277441024780273\n",
      "199 3.227736473083496\n",
      "200 3.3645312786102295\n",
      "201 3.1389882564544678\n",
      "202 3.1150667667388916\n",
      "203 3.047525405883789\n",
      "204 3.556553363800049\n",
      "205 3.061661720275879\n",
      "206 3.537571430206299\n",
      "207 2.6924405097961426\n",
      "208 3.6113197803497314\n",
      "209 3.4849307537078857\n",
      "210 3.240689992904663\n",
      "211 3.1492433547973633\n",
      "212 3.356767177581787\n",
      "213 3.3870108127593994\n",
      "214 3.0894386768341064\n",
      "215 3.072491407394409\n",
      "216 3.6315810680389404\n",
      "217 2.8839430809020996\n",
      "218 3.179436683654785\n",
      "219 3.1258251667022705\n",
      "220 3.1899304389953613\n",
      "221 3.2425284385681152\n",
      "222 2.9737110137939453\n",
      "223 2.953451633453369\n",
      "224 3.330113410949707\n",
      "225 3.6290478706359863\n",
      "226 3.3853628635406494\n",
      "227 3.307797431945801\n",
      "228 3.1500978469848633\n",
      "229 3.6120312213897705\n",
      "230 3.1185474395751953\n",
      "231 3.1038546562194824\n",
      "232 3.4587554931640625\n",
      "233 3.264651298522949\n",
      "234 3.1976516246795654\n",
      "235 2.8699686527252197\n",
      "236 2.9479610919952393\n",
      "237 2.8663015365600586\n",
      "238 3.063816547393799\n",
      "239 3.510150194168091\n",
      "240 3.3306362628936768\n",
      "241 3.302966833114624\n",
      "242 3.351936101913452\n",
      "243 3.5685744285583496\n",
      "244 3.337085247039795\n",
      "245 3.757272720336914\n",
      "246 3.1609137058258057\n",
      "247 2.793679714202881\n",
      "248 3.5439934730529785\n",
      "249 2.9508495330810547\n",
      "250 3.384864568710327\n",
      "251 2.8914225101470947\n",
      "252 3.1219451427459717\n",
      "253 3.605415105819702\n",
      "254 3.7168893814086914\n",
      "255 3.3782036304473877\n",
      "256 3.046037197113037\n",
      "257 3.1299550533294678\n",
      "258 3.417238473892212\n",
      "259 3.5840859413146973\n",
      "260 3.291958808898926\n",
      "261 3.2611377239227295\n",
      "262 3.4608523845672607\n",
      "263 2.7588324546813965\n",
      "264 3.0105392932891846\n",
      "265 3.278775691986084\n",
      "266 3.229311943054199\n",
      "267 2.9696743488311768\n",
      "268 3.1543526649475098\n",
      "269 2.931156635284424\n",
      "270 3.010338544845581\n",
      "271 2.9456517696380615\n",
      "272 3.20377254486084\n",
      "273 3.4556918144226074\n",
      "274 3.3312079906463623\n",
      "275 3.173572063446045\n",
      "276 3.272268056869507\n",
      "277 3.3654472827911377\n",
      "278 3.795971632003784\n",
      "279 3.2631518840789795\n",
      "280 3.3304717540740967\n",
      "281 3.4187238216400146\n",
      "282 3.389453411102295\n",
      "283 3.2249948978424072\n",
      "284 3.506906747817993\n",
      "285 3.8407034873962402\n",
      "286 2.7572765350341797\n",
      "287 2.9829187393188477\n",
      "288 3.4683899879455566\n",
      "289 2.948559045791626\n",
      "290 2.9628806114196777\n",
      "291 2.7092831134796143\n",
      "292 2.9247493743896484\n",
      "293 3.1892547607421875\n",
      "294 3.0098066329956055\n",
      "295 3.2102510929107666\n",
      "296 3.366461992263794\n",
      "297 2.811581611633301\n",
      "298 3.4752984046936035\n",
      "299 2.8739278316497803\n",
      "300 3.1823270320892334\n",
      "301 2.9322762489318848\n",
      "302 2.882556676864624\n",
      "303 2.9104409217834473\n",
      "304 3.6209561824798584\n",
      "305 3.635345458984375\n",
      "306 3.0871059894561768\n",
      "307 3.1632087230682373\n",
      "308 2.9214816093444824\n",
      "309 3.2492918968200684\n",
      "310 3.3894731998443604\n",
      "311 2.9339077472686768\n",
      "312 3.139827013015747\n",
      "313 3.1115469932556152\n",
      "314 2.688800573348999\n",
      "315 2.9709055423736572\n",
      "316 3.1463985443115234\n",
      "317 3.23441219329834\n",
      "318 3.3542981147766113\n",
      "319 2.9587395191192627\n",
      "320 2.6687912940979004\n",
      "321 3.3880929946899414\n",
      "322 3.226966142654419\n",
      "323 2.5248095989227295\n",
      "324 4.084941387176514\n",
      "325 3.6889801025390625\n",
      "326 2.7606422901153564\n",
      "327 3.0669755935668945\n",
      "328 3.201267719268799\n",
      "329 3.3033154010772705\n",
      "330 3.358414649963379\n",
      "331 3.1678130626678467\n",
      "332 3.281961679458618\n",
      "333 3.555544376373291\n",
      "334 2.7543044090270996\n",
      "335 3.477487802505493\n",
      "336 3.321122646331787\n",
      "337 3.5147294998168945\n",
      "338 2.6754932403564453\n",
      "339 3.1475765705108643\n",
      "340 3.282881736755371\n",
      "341 2.921381950378418\n",
      "342 3.741534948348999\n",
      "343 3.1862480640411377\n",
      "344 2.9293692111968994\n",
      "345 3.5298285484313965\n",
      "346 2.856062889099121\n",
      "347 2.9571962356567383\n",
      "348 3.2145049571990967\n",
      "349 3.3747546672821045\n",
      "350 3.1780354976654053\n",
      "351 2.971637010574341\n",
      "352 3.173060655593872\n",
      "353 3.042515516281128\n",
      "354 3.5387420654296875\n",
      "355 3.6138525009155273\n",
      "356 2.609226703643799\n",
      "357 3.6810598373413086\n",
      "358 3.243255615234375\n",
      "359 2.9570250511169434\n",
      "360 2.9021804332733154\n",
      "361 3.235805034637451\n",
      "362 2.963223934173584\n",
      "363 3.2274694442749023\n",
      "364 2.9485056400299072\n",
      "365 2.824157476425171\n",
      "366 2.620086908340454\n",
      "367 3.3011865615844727\n",
      "368 3.4856748580932617\n",
      "369 2.7570507526397705\n",
      "370 3.409414768218994\n",
      "371 3.6299889087677\n",
      "372 3.398268461227417\n",
      "373 2.8591127395629883\n",
      "374 3.190089225769043\n",
      "375 3.634575128555298\n",
      "376 3.3428211212158203\n",
      "377 2.876596450805664\n",
      "378 3.3606622219085693\n",
      "379 3.009671688079834\n",
      "380 3.327866792678833\n",
      "381 2.8917343616485596\n",
      "382 3.382265329360962\n",
      "383 2.875962018966675\n",
      "384 3.1122264862060547\n",
      "385 2.9137990474700928\n",
      "386 2.876757860183716\n",
      "387 2.976048231124878\n",
      "388 2.9371674060821533\n",
      "389 3.0258471965789795\n",
      "390 3.009803056716919\n",
      "391 3.052495002746582\n",
      "392 2.8516411781311035\n",
      "393 3.314115285873413\n",
      "394 2.9809463024139404\n",
      "395 2.825735569000244\n",
      "396 2.926259756088257\n",
      "397 2.7978622913360596\n",
      "398 2.8771533966064453\n",
      "399 3.3820204734802246\n",
      "400 3.161539316177368\n",
      "401 2.9736132621765137\n",
      "402 2.780916213989258\n",
      "403 3.1615264415740967\n",
      "404 2.8533904552459717\n",
      "405 2.780198097229004\n",
      "406 2.8359076976776123\n",
      "407 3.0265722274780273\n",
      "408 3.0582337379455566\n",
      "409 3.0694708824157715\n",
      "410 2.9893929958343506\n",
      "411 3.133833646774292\n",
      "412 3.002074956893921\n",
      "413 2.817744255065918\n",
      "414 2.9579105377197266\n",
      "415 3.0492305755615234\n",
      "416 2.8521478176116943\n",
      "417 3.14152193069458\n",
      "418 2.9168832302093506\n",
      "419 3.0322113037109375\n",
      "420 2.7091100215911865\n",
      "421 3.441066265106201\n",
      "422 2.8794126510620117\n",
      "423 2.8924448490142822\n",
      "424 3.136944532394409\n",
      "425 3.037235975265503\n",
      "426 2.858896255493164\n",
      "427 3.2462079524993896\n",
      "428 2.928715467453003\n",
      "429 2.7491238117218018\n",
      "430 2.811735153198242\n",
      "431 2.8391549587249756\n",
      "432 3.004817247390747\n",
      "433 2.766381025314331\n",
      "434 2.6049187183380127\n",
      "435 2.8508102893829346\n",
      "436 2.940938949584961\n",
      "437 3.3312482833862305\n",
      "438 3.517275094985962\n",
      "439 2.834022283554077\n",
      "440 2.6030941009521484\n",
      "441 2.8361032009124756\n",
      "442 3.09840726852417\n",
      "443 3.0339412689208984\n",
      "444 2.9989326000213623\n",
      "445 3.0198235511779785\n",
      "446 2.845475435256958\n",
      "447 2.996889352798462\n",
      "448 3.1892926692962646\n",
      "449 2.9511849880218506\n",
      "450 2.7929861545562744\n",
      "451 2.69797945022583\n",
      "452 3.0518457889556885\n",
      "453 3.3691086769104004\n",
      "454 2.8844332695007324\n",
      "455 3.3337371349334717\n",
      "456 3.26047420501709\n",
      "457 3.2461307048797607\n",
      "458 2.891791582107544\n",
      "459 3.0138750076293945\n",
      "460 3.0470621585845947\n",
      "461 2.560048818588257\n",
      "462 2.738119125366211\n",
      "463 2.767179489135742\n",
      "464 3.023463726043701\n",
      "465 2.87968373298645\n",
      "466 3.1935412883758545\n",
      "467 3.0676498413085938\n",
      "468 2.833021879196167\n",
      "469 3.4162986278533936\n",
      "470 2.752908229827881\n",
      "471 2.929041862487793\n",
      "472 3.2939963340759277\n",
      "473 3.1288647651672363\n",
      "474 3.0496103763580322\n",
      "475 3.0516369342803955\n",
      "476 2.8577511310577393\n",
      "477 2.9391679763793945\n",
      "478 3.015070915222168\n",
      "479 3.0686898231506348\n",
      "480 3.005297899246216\n",
      "481 2.7462661266326904\n",
      "482 2.9400076866149902\n",
      "483 3.1801819801330566\n",
      "484 2.769848108291626\n",
      "485 2.8393867015838623\n",
      "486 2.8985755443573\n",
      "487 3.0897932052612305\n",
      "488 2.8647453784942627\n",
      "489 2.8595221042633057\n",
      "490 2.823301076889038\n",
      "491 3.2487168312072754\n",
      "492 2.9068665504455566\n",
      "493 2.52262282371521\n",
      "494 2.8137686252593994\n",
      "495 2.7551043033599854\n",
      "496 3.0071091651916504\n",
      "497 3.109635829925537\n",
      "498 3.0080971717834473\n",
      "499 3.3270022869110107\n",
      "500 2.6834466457366943\n",
      "501 2.7565197944641113\n",
      "502 3.1845288276672363\n",
      "503 2.617549419403076\n",
      "504 2.9330508708953857\n",
      "505 2.569403648376465\n",
      "506 2.8852145671844482\n",
      "507 2.7688934803009033\n",
      "508 2.8108742237091064\n",
      "509 3.132749080657959\n",
      "510 2.8234786987304688\n",
      "511 2.950360059738159\n",
      "512 2.783008098602295\n",
      "513 2.7549800872802734\n",
      "514 2.640329599380493\n",
      "515 2.7018260955810547\n",
      "516 2.392977476119995\n",
      "517 3.045552968978882\n",
      "518 2.751675605773926\n",
      "519 2.641421318054199\n",
      "520 2.835084915161133\n",
      "521 3.0801315307617188\n",
      "522 2.840496778488159\n",
      "523 2.956935405731201\n",
      "524 2.746041774749756\n",
      "525 2.6895058155059814\n",
      "526 2.60506534576416\n",
      "527 2.8625314235687256\n",
      "528 2.6097278594970703\n",
      "529 2.662187099456787\n",
      "530 2.818418025970459\n",
      "531 2.9157235622406006\n",
      "532 2.918886661529541\n",
      "533 3.234466791152954\n",
      "534 2.7893996238708496\n",
      "535 3.080761432647705\n",
      "536 3.1609151363372803\n",
      "537 2.6800451278686523\n",
      "538 2.746497869491577\n",
      "539 2.632908821105957\n",
      "540 3.249000310897827\n",
      "541 3.295677900314331\n",
      "542 2.647505283355713\n",
      "543 2.755035638809204\n",
      "544 2.9241743087768555\n",
      "545 3.0901098251342773\n",
      "546 3.0070960521698\n",
      "547 3.012180805206299\n",
      "548 2.9811739921569824\n",
      "549 3.2437849044799805\n",
      "550 2.4265332221984863\n",
      "551 2.708677291870117\n",
      "552 2.8902406692504883\n",
      "553 2.7486681938171387\n",
      "554 2.754068374633789\n",
      "555 2.520735740661621\n",
      "556 2.442800521850586\n",
      "557 2.5721535682678223\n",
      "558 2.674355983734131\n",
      "559 2.283250570297241\n",
      "560 2.956674098968506\n",
      "561 2.980173349380493\n",
      "562 2.8618764877319336\n",
      "563 3.338090419769287\n",
      "564 2.5369582176208496\n",
      "565 2.53143572807312\n",
      "566 2.9846694469451904\n",
      "567 2.6514196395874023\n",
      "568 2.669389247894287\n",
      "569 2.8946492671966553\n",
      "570 2.753720283508301\n",
      "571 3.170114755630493\n",
      "572 2.6238439083099365\n",
      "573 3.2673778533935547\n",
      "574 3.2128100395202637\n",
      "575 2.7716362476348877\n",
      "576 3.049069404602051\n",
      "577 2.8576595783233643\n",
      "578 2.5528922080993652\n",
      "579 2.7373857498168945\n",
      "580 2.8204421997070312\n",
      "581 2.5920937061309814\n",
      "582 2.6111698150634766\n",
      "583 2.8859739303588867\n",
      "584 2.9133481979370117\n",
      "585 2.8558433055877686\n",
      "586 2.7500200271606445\n",
      "587 2.8915798664093018\n",
      "588 2.6392505168914795\n",
      "589 2.769965171813965\n",
      "590 2.5274763107299805\n",
      "591 2.3358333110809326\n",
      "592 2.457826614379883\n",
      "593 3.1336045265197754\n",
      "594 2.613170862197876\n",
      "595 2.5211143493652344\n",
      "596 2.552190065383911\n",
      "597 2.7114551067352295\n",
      "598 2.434032917022705\n",
      "599 2.5139057636260986\n",
      "600 2.3782339096069336\n",
      "601 2.586452007293701\n",
      "602 2.8068063259124756\n",
      "603 2.9200286865234375\n",
      "604 2.4391443729400635\n",
      "605 2.7012767791748047\n",
      "606 2.487884521484375\n",
      "607 2.980668306350708\n",
      "608 2.5192980766296387\n",
      "609 2.7433249950408936\n",
      "610 2.8836913108825684\n",
      "611 2.691591262817383\n",
      "612 2.8001861572265625\n",
      "613 2.9434072971343994\n",
      "614 3.014406204223633\n",
      "615 2.869016408920288\n",
      "616 2.774862289428711\n",
      "617 2.963045120239258\n",
      "618 2.5901100635528564\n",
      "619 2.634664297103882\n",
      "620 2.7329342365264893\n",
      "621 2.9570422172546387\n",
      "622 2.511157751083374\n",
      "623 2.4057960510253906\n",
      "624 2.7254409790039062\n",
      "625 2.5777251720428467\n",
      "626 2.7119555473327637\n",
      "627 2.475656509399414\n",
      "628 2.4547243118286133\n",
      "629 2.5798819065093994\n",
      "630 2.6553237438201904\n",
      "631 2.3251543045043945\n",
      "632 2.4443581104278564\n",
      "633 2.4180469512939453\n",
      "634 2.341555595397949\n",
      "635 2.5150339603424072\n",
      "636 2.6262481212615967\n",
      "637 2.535606622695923\n",
      "638 2.545884132385254\n",
      "639 2.5896384716033936\n",
      "640 2.8454723358154297\n",
      "641 2.245374917984009\n",
      "642 2.6583194732666016\n",
      "643 2.331465721130371\n",
      "644 2.5524544715881348\n",
      "645 2.568537950515747\n",
      "646 2.7572999000549316\n",
      "647 2.569990634918213\n",
      "648 2.467740058898926\n",
      "649 2.847414970397949\n",
      "650 2.5905652046203613\n",
      "651 2.6522057056427\n",
      "652 2.7763354778289795\n",
      "653 2.474142551422119\n",
      "654 2.9462180137634277\n",
      "655 2.724590539932251\n",
      "656 2.5912773609161377\n",
      "657 2.713968515396118\n",
      "658 2.69976806640625\n",
      "659 2.867326021194458\n",
      "660 2.6722965240478516\n",
      "661 2.8730809688568115\n",
      "662 2.9420158863067627\n",
      "663 2.7459237575531006\n",
      "664 3.0398454666137695\n",
      "665 2.6970322132110596\n",
      "666 2.628526210784912\n",
      "667 2.7134804725646973\n",
      "668 2.5758237838745117\n",
      "669 2.5718600749969482\n",
      "670 2.6332361698150635\n",
      "671 2.5019350051879883\n",
      "672 2.8352770805358887\n",
      "673 2.632251501083374\n",
      "674 2.82208251953125\n",
      "675 2.457550287246704\n",
      "676 2.5669777393341064\n",
      "677 2.6508517265319824\n",
      "678 2.688511848449707\n",
      "679 2.4586679935455322\n",
      "680 2.7375335693359375\n",
      "681 2.7300102710723877\n",
      "682 2.529836416244507\n",
      "683 2.2822585105895996\n",
      "684 2.5821802616119385\n",
      "685 2.438399314880371\n",
      "686 2.548375129699707\n",
      "687 2.3375260829925537\n",
      "688 2.394118070602417\n",
      "689 2.2881057262420654\n",
      "690 2.527733564376831\n",
      "691 2.7483713626861572\n",
      "692 2.347323179244995\n",
      "693 2.3883004188537598\n",
      "694 2.5574278831481934\n",
      "695 2.3739161491394043\n",
      "696 2.527731418609619\n",
      "697 2.5266335010528564\n",
      "698 2.4757161140441895\n",
      "699 2.575294256210327\n",
      "700 2.648500442504883\n",
      "701 2.3016247749328613\n",
      "702 2.331894636154175\n",
      "703 2.7017107009887695\n",
      "704 2.5709328651428223\n",
      "705 2.532355308532715\n",
      "706 2.6576356887817383\n",
      "707 2.4404244422912598\n",
      "708 2.5351266860961914\n",
      "709 2.2805655002593994\n",
      "710 2.7641003131866455\n",
      "711 2.754037380218506\n",
      "712 2.3763694763183594\n",
      "713 2.430650234222412\n",
      "714 2.7241415977478027\n",
      "715 2.6876654624938965\n",
      "716 2.762917995452881\n",
      "717 2.6297197341918945\n",
      "718 2.4974470138549805\n",
      "719 2.3765461444854736\n",
      "720 2.3274104595184326\n",
      "721 2.823460340499878\n",
      "722 2.5800564289093018\n",
      "723 2.588319778442383\n",
      "724 2.578714609146118\n",
      "725 2.3295397758483887\n",
      "726 2.407045364379883\n",
      "727 2.3904058933258057\n",
      "728 2.440220594406128\n",
      "729 2.2506825923919678\n",
      "730 2.542451858520508\n",
      "731 2.3378117084503174\n",
      "732 2.5192930698394775\n",
      "733 2.8979427814483643\n",
      "734 2.3381247520446777\n",
      "735 2.4574193954467773\n",
      "736 2.460131883621216\n",
      "737 2.669140100479126\n",
      "738 2.4947762489318848\n",
      "739 2.503542900085449\n",
      "740 2.4989309310913086\n",
      "741 2.6661224365234375\n",
      "742 2.524203300476074\n",
      "743 2.6897127628326416\n",
      "744 2.2764358520507812\n",
      "745 2.2886781692504883\n",
      "746 2.3357338905334473\n",
      "747 2.9133145809173584\n",
      "748 2.8879339694976807\n",
      "749 2.796715497970581\n",
      "750 2.8045341968536377\n",
      "751 2.7583937644958496\n",
      "752 2.481123685836792\n",
      "753 3.1181418895721436\n",
      "754 3.027806043624878\n",
      "755 2.189570188522339\n",
      "756 2.685549020767212\n",
      "757 2.6817150115966797\n",
      "758 3.021487236022949\n",
      "759 2.4692161083221436\n",
      "760 2.561169385910034\n",
      "761 3.074594497680664\n",
      "762 2.5597333908081055\n",
      "763 2.669964551925659\n",
      "764 2.313359022140503\n",
      "765 2.508326292037964\n",
      "766 2.6704297065734863\n",
      "767 2.61722993850708\n",
      "768 2.4449281692504883\n",
      "769 2.520425796508789\n",
      "770 2.4198434352874756\n",
      "771 2.752547025680542\n",
      "772 2.407474994659424\n",
      "773 2.4143881797790527\n",
      "774 2.388468027114868\n",
      "775 2.365912914276123\n",
      "776 2.6101608276367188\n",
      "777 2.7868833541870117\n",
      "778 2.62723445892334\n",
      "779 2.849270820617676\n",
      "780 3.3152856826782227\n",
      "781 2.8048932552337646\n",
      "782 2.773592472076416\n",
      "783 2.800642728805542\n",
      "784 2.455806255340576\n",
      "785 2.475388765335083\n",
      "786 2.409693956375122\n",
      "787 2.5590317249298096\n",
      "788 2.55672550201416\n",
      "789 2.669637680053711\n",
      "790 2.765775442123413\n",
      "791 3.0589239597320557\n",
      "792 2.953680992126465\n",
      "793 2.6346426010131836\n",
      "794 2.612560749053955\n",
      "795 2.9103140830993652\n",
      "796 2.538585662841797\n",
      "797 2.9784607887268066\n",
      "798 2.6469173431396484\n",
      "799 2.8058419227600098\n",
      "800 2.7045297622680664\n",
      "801 2.281373977661133\n",
      "802 3.1511075496673584\n",
      "803 3.8570640087127686\n",
      "804 3.194537878036499\n",
      "805 3.056171178817749\n",
      "806 2.8147473335266113\n",
      "807 2.8339269161224365\n",
      "808 2.88801646232605\n",
      "809 2.9450228214263916\n",
      "810 2.8655881881713867\n",
      "811 2.506535291671753\n",
      "812 2.33442759513855\n",
      "813 2.820202350616455\n",
      "814 3.1680686473846436\n",
      "815 2.3286030292510986\n",
      "816 2.8495473861694336\n",
      "817 2.463452100753784\n",
      "818 2.797642707824707\n",
      "819 2.776883125305176\n",
      "820 2.8068718910217285\n",
      "821 3.250140905380249\n",
      "822 3.1379103660583496\n",
      "823 2.5752639770507812\n",
      "824 2.687941789627075\n",
      "825 3.267888069152832\n",
      "826 2.745218515396118\n",
      "827 3.4217844009399414\n",
      "828 3.4450342655181885\n",
      "829 3.1883089542388916\n",
      "830 3.0619277954101562\n",
      "831 3.0669944286346436\n",
      "832 2.889738082885742\n",
      "833 4.145829200744629\n",
      "834 4.378486156463623\n",
      "835 3.051833152770996\n",
      "836 2.841153860092163\n",
      "837 2.4491279125213623\n",
      "838 3.112983465194702\n",
      "839 3.7958645820617676\n",
      "840 3.139596462249756\n",
      "841 3.0034408569335938\n",
      "842 2.5240962505340576\n",
      "843 3.2491095066070557\n",
      "844 2.5620226860046387\n",
      "845 2.8821237087249756\n",
      "846 2.988737106323242\n",
      "847 2.4380719661712646\n",
      "848 2.8959057331085205\n",
      "849 2.917525053024292\n",
      "850 3.3398942947387695\n",
      "851 2.816013813018799\n",
      "852 2.644610643386841\n",
      "853 2.928664207458496\n",
      "854 3.415073871612549\n",
      "855 3.060457229614258\n",
      "856 2.826178550720215\n",
      "857 3.2324609756469727\n",
      "858 3.2878577709198\n",
      "859 3.1070010662078857\n",
      "860 3.1134679317474365\n",
      "861 2.5879640579223633\n",
      "862 3.1545474529266357\n",
      "863 3.2291765213012695\n",
      "864 3.0354223251342773\n",
      "865 3.017226457595825\n",
      "866 3.308720588684082\n",
      "867 3.0755059719085693\n",
      "868 4.0142903327941895\n",
      "869 4.720256805419922\n",
      "870 4.20720911026001\n",
      "871 3.2206032276153564\n",
      "872 4.114574432373047\n",
      "873 3.7802248001098633\n",
      "874 3.560434341430664\n",
      "875 3.9398698806762695\n",
      "876 3.835256338119507\n",
      "877 3.130052089691162\n",
      "878 3.1615488529205322\n",
      "879 3.102388620376587\n",
      "880 2.883171319961548\n",
      "881 4.394552230834961\n",
      "882 4.024892330169678\n",
      "883 4.293270111083984\n",
      "884 3.440249443054199\n",
      "885 3.3271303176879883\n",
      "886 4.289468765258789\n",
      "887 3.861027479171753\n",
      "888 3.3966381549835205\n",
      "889 3.483628749847412\n",
      "890 3.2355642318725586\n",
      "891 2.968607187271118\n",
      "892 3.069981098175049\n",
      "893 2.9755992889404297\n",
      "894 2.5507068634033203\n",
      "895 3.054943323135376\n",
      "896 3.121946334838867\n",
      "897 3.905233144760132\n",
      "898 4.084872245788574\n",
      "899 4.8890156745910645\n",
      "900 6.537031650543213\n",
      "901 6.032242298126221\n",
      "902 5.985896110534668\n",
      "903 5.586207866668701\n",
      "904 3.4534084796905518\n",
      "905 3.978328227996826\n",
      "906 3.257333755493164\n",
      "907 3.4605863094329834\n",
      "908 4.481387138366699\n",
      "909 4.2060017585754395\n",
      "910 3.356844186782837\n",
      "911 3.2707672119140625\n",
      "912 3.446094036102295\n",
      "913 4.15495491027832\n",
      "914 3.9569480419158936\n",
      "915 4.31242036819458\n",
      "916 4.490274429321289\n",
      "917 3.4352567195892334\n",
      "918 3.79799747467041\n",
      "919 4.227302074432373\n",
      "920 4.888906955718994\n",
      "921 4.510961532592773\n",
      "922 4.137609481811523\n",
      "923 4.737308025360107\n",
      "924 4.577997207641602\n",
      "925 3.497097969055176\n",
      "926 3.440512180328369\n",
      "927 3.7407445907592773\n",
      "928 3.886613368988037\n",
      "929 4.775665760040283\n",
      "930 4.042665481567383\n",
      "931 4.308278560638428\n",
      "932 5.5793375968933105\n",
      "933 4.6554856300354\n",
      "934 4.505275726318359\n",
      "935 3.9091796875\n",
      "936 5.438098907470703\n",
      "937 4.166327953338623\n",
      "938 4.402312278747559\n",
      "939 4.015594005584717\n",
      "940 4.092911720275879\n",
      "941 4.085379123687744\n",
      "942 4.460231781005859\n",
      "943 5.831486701965332\n",
      "944 6.507061958312988\n",
      "945 3.103522539138794\n",
      "946 3.720226764678955\n",
      "947 3.025291681289673\n",
      "948 3.91121768951416\n",
      "949 4.36293363571167\n",
      "950 4.086773872375488\n",
      "951 4.075590133666992\n",
      "952 5.21212100982666\n",
      "953 5.124271392822266\n",
      "954 5.5598673820495605\n",
      "955 6.563302993774414\n",
      "956 5.913885593414307\n",
      "957 4.616158962249756\n",
      "958 5.003815174102783\n",
      "959 4.83610725402832\n",
      "960 3.769526720046997\n",
      "961 4.409152030944824\n",
      "962 6.264437198638916\n",
      "963 6.180781364440918\n",
      "964 5.131240367889404\n",
      "965 4.3053998947143555\n",
      "966 3.2753424644470215\n",
      "967 4.155233860015869\n",
      "968 4.313543319702148\n",
      "969 4.013461589813232\n",
      "970 3.9096710681915283\n",
      "971 4.2493205070495605\n",
      "972 4.581364631652832\n",
      "973 5.2648606300354\n",
      "974 5.070436000823975\n",
      "975 4.307769298553467\n",
      "976 3.9291574954986572\n",
      "977 4.405928611755371\n",
      "978 5.310060501098633\n",
      "979 4.941555500030518\n",
      "980 7.6883158683776855\n",
      "981 5.909267425537109\n",
      "982 8.598153114318848\n",
      "983 5.294661045074463\n",
      "984 5.074078559875488\n",
      "985 5.216670036315918\n",
      "986 4.878086566925049\n",
      "987 6.193690299987793\n",
      "988 7.011387348175049\n",
      "989 4.244174957275391\n",
      "990 4.613736152648926\n",
      "991 5.984472274780273\n",
      "992 5.720829963684082\n",
      "993 4.998159408569336\n",
      "994 5.833402633666992\n",
      "995 7.761282444000244\n",
      "996 7.308630466461182\n",
      "997 5.365952014923096\n",
      "998 4.915060520172119\n",
      "999 4.316468715667725\n"
     ]
    }
   ],
   "source": [
    "for p in parameters:\n",
    "    p.requires_grad = True\n",
    "    \n",
    "lri = []\n",
    "lriex = []\n",
    "lossi = []\n",
    "    \n",
    "\n",
    "for i in range(1000):\n",
    "    # mini batch construct\n",
    "    ix = torch.randint(0,X.shape[0],(100,))\n",
    "    # now we learn...forward bass -- = 73643\n",
    "    emb = C[X[ix]] # torch.Size([--, 3, 2])\n",
    "    h = torch.tanh(emb.view(-1,6) @ W1 + b1) #(--,100)\n",
    "    logits = h @ W2 + b2 #(--,27)\n",
    "    loss = F.cross_entropy(logits,Y[ix])\n",
    "    print(i,loss.item())\n",
    "    # backward pass \n",
    "    for p in parameters:\n",
    "        p.grad = None\n",
    "    loss.backward()\n",
    "    #update\n",
    "    lr = lrs[i]\n",
    "    # lr= .01\n",
    "    for p in parameters:\n",
    "        p.data += -lr*p.grad\n",
    "#print(loss.item())\n",
    "\n",
    "#track stats\n",
    "    lri.append(lr)\n",
    "    lriex.append(lre[i])\n",
    "    lossi.append(loss.item())"
   ]
  },
  {
   "cell_type": "code",
   "execution_count": 126,
   "id": "991439c6",
   "metadata": {},
   "outputs": [
    {
     "data": {
      "text/plain": [
       "[<matplotlib.lines.Line2D at 0x7fb00c7b14e0>]"
      ]
     },
     "execution_count": 126,
     "metadata": {},
     "output_type": "execute_result"
    },
    {
     "data": {
      "image/png": "[encoded data removed]",
      "text/plain": [
       "<Figure size 640x480 with 1 Axes>"
      ]
     },
     "metadata": {},
     "output_type": "display_data"
    }
   ],
   "source": [
    "plt.plot(lri, lossi)  # discuss......"
   ]
  },
  {
   "cell_type": "code",
   "execution_count": 127,
   "id": "a63b8db7",
   "metadata": {},
   "outputs": [
    {
     "data": {
      "text/plain": [
       "[<matplotlib.lines.Line2D at 0x7fb00177ca00>]"
      ]
     },
     "execution_count": 127,
     "metadata": {},
     "output_type": "execute_result"
    },
    {
     "data": {
      "image/png": "[encoded data removed]",
      "text/plain": [
       "<Figure size 640x480 with 1 Axes>"
      ]
     },
     "metadata": {},
     "output_type": "display_data"
    }
   ],
   "source": [
    "plt.plot(lriex, lossi)  # discuss......"
   ]
  },
  {
   "cell_type": "code",
   "execution_count": 128,
   "id": "595916e7",
   "metadata": {},
   "outputs": [
    {
     "name": "stdout",
     "output_type": "stream",
     "text": [
      "tensor(4.5970, grad_fn=<NllLossBackward0>)\n"
     ]
    }
   ],
   "source": [
    "# we can do already much better than bigram....almost...remember overfitting.... \n",
    "\n",
    "emb = C[X] # torch.Size([41, 3, 2])\n",
    "h = torch.tanh(emb.view(-1,6) @ W1 + b1) # (41,100)\n",
    "logits = h @ W2 + b2 # (41,27)\n",
    "loss = F.cross_entropy(logits,Y)\n",
    "print(loss)"
   ]
  },
  {
   "cell_type": "code",
   "execution_count": 129,
   "id": "28d52c0b",
   "metadata": {},
   "outputs": [],
   "source": [
    "# training split, dev/validation split (for hypermarameters !!), test split\n",
    "# 80%, 10%, 10%\n",
    "# be careful with the test eugene.....\n",
    "\n",
    "def build_dataset(words):\n",
    "    block_size = 3 #context length: how many characters do we take to predict the next one ... change it !!\n",
    "    X, Y = [], []  # input & label\n",
    "\n",
    "   \n",
    "    for w in words:\n",
    "        context = [0]*block_size\n",
    "        for ch in w +'.':\n",
    "            ix = stoi[ch]\n",
    "            X.append(context)\n",
    "            Y.append(ix)\n",
    "      #  print(''.join(itos[i] for i in context), '--->', itos[ix])\n",
    "            context=context[1:]+[ix]  # shift: crop and append\n",
    "    X = torch.tensor(X)\n",
    "    Y = torch.tensor(Y)\n",
    "    print(X.shape, Y.shape)\n",
    "    return X, Y"
   ]
  },
  {
   "cell_type": "code",
   "execution_count": 130,
   "id": "e3b5ea38",
   "metadata": {},
   "outputs": [
    {
     "name": "stdout",
     "output_type": "stream",
     "text": [
      "torch.Size([58867, 3]) torch.Size([58867])\n",
      "torch.Size([7404, 3]) torch.Size([7404])\n",
      "torch.Size([7372, 3]) torch.Size([7372])\n"
     ]
    }
   ],
   "source": [
    "import random\n",
    "random.seed(42)\n",
    "random.shuffle(words)\n",
    "n1 = int(0.8*len(words))\n",
    "n2 = int(0.9*len(words))\n",
    "\n",
    "Xtr, Ytr = build_dataset(words[:n1])\n",
    "Xdev, Ydev = build_dataset(words[n1:n2])\n",
    "Xte, Yte = build_dataset(words[n2:])"
   ]
  },
  {
   "cell_type": "code",
   "execution_count": 131,
   "id": "e7f180a2",
   "metadata": {},
   "outputs": [
    {
     "name": "stdout",
     "output_type": "stream",
     "text": [
      "torch.Size([58867, 3]) torch.Size([58867])\n"
     ]
    }
   ],
   "source": [
    "# and we do it again with the new datasets.......\n",
    "print(Xtr.shape, Ytr.shape)\n",
    "\n",
    "# exactly as before....\n",
    "g = torch.Generator().manual_seed(123456780) # for reproducibility\n",
    "C = torch.randn((28,2), generator=g)\n",
    "W1 = torch.randn((6,100), generator=g)\n",
    "b1 = torch.randn(100, generator=g)\n",
    "W2 = torch.randn((100,28), generator=g)\n",
    "b2 = torch.randn(28, generator=g)\n",
    "parameters = [C,W1,b1,W2,b2]"
   ]
  },
  {
   "cell_type": "code",
   "execution_count": 132,
   "id": "2ef6a3bb",
   "metadata": {},
   "outputs": [],
   "source": [
    "for p in parameters:\n",
    "    p.requires_grad = True\n",
    "    \n",
    "    \n",
    "lre = torch.linspace(-3,0,1000)\n",
    "lrs = 10**lre"
   ]
  },
  {
   "cell_type": "code",
   "execution_count": 133,
   "id": "5e1035ff",
   "metadata": {},
   "outputs": [
    {
     "name": "stdout",
     "output_type": "stream",
     "text": [
      "2.2618954181671143\n"
     ]
    }
   ],
   "source": [
    "# now we train only on Xtr\n",
    "\n",
    "lri = []\n",
    "lriex = []\n",
    "lossi = []\n",
    "    \n",
    "\n",
    "for i in range(10000):\n",
    "    # mini batch construct\n",
    "    ix = torch.randint(0,Xtr.shape[0],(40,))\n",
    "    # now we learn...forward bass -- = 73643\n",
    "    emb = C[Xtr[ix]] # torch.Size([--, 3, 2])\n",
    "    h = torch.tanh(emb.view(-1,6) @ W1 + b1) #(--,100)\n",
    "    logits = h @ W2 + b2 #(--,27)\n",
    "    loss = F.cross_entropy(logits,Ytr[ix])\n",
    "   # print(i,loss.item())\n",
    "    # backward pass \n",
    "    for p in parameters:\n",
    "        p.grad = None\n",
    "    loss.backward()\n",
    "    #update\n",
    "    #lr=lrs[i]\n",
    "    lr= .1\n",
    "    for p in parameters:\n",
    "        p.data += -lr*p.grad\n",
    "print(loss.item())\n",
    "\n",
    "#track stats\n",
    "#    lri.append(lr)\n",
    "#    lriex.append(lre[i])\n",
    "#    lossi.append(loss.item())"
   ]
  },
  {
   "cell_type": "code",
   "execution_count": 134,
   "id": "49673949",
   "metadata": {},
   "outputs": [
    {
     "name": "stdout",
     "output_type": "stream",
     "text": [
      "tensor(2.1950, grad_fn=<NllLossBackward0>)\n"
     ]
    }
   ],
   "source": [
    "# now we evaluate on Xdev\n",
    "emb = C[Xdev]\n",
    "h = torch.tanh(emb.view(-1,6) @ W1 + b1) #(--,100)\n",
    "logits = h @ W2 + b2 #(--,27)\n",
    "loss = F.cross_entropy(logits,Ydev)\n",
    "print(loss)"
   ]
  },
  {
   "cell_type": "code",
   "execution_count": 135,
   "id": "89f0012e",
   "metadata": {},
   "outputs": [
    {
     "name": "stdout",
     "output_type": "stream",
     "text": [
      "tensor(2.1753, grad_fn=<NllLossBackward0>)\n"
     ]
    }
   ],
   "source": [
    "# now we evaluate on Xtr..... we are NOT overfitting\n",
    "emb = C[Xtr]\n",
    "h = torch.tanh(emb.view(-1,6) @ W1 + b1) #(--,100)\n",
    "logits = h @ W2 + b2 #(--,27)\n",
    "loss = F.cross_entropy(logits,Ytr)\n",
    "print(loss)"
   ]
  },
  {
   "cell_type": "code",
   "execution_count": 136,
   "id": "6664ab75",
   "metadata": {},
   "outputs": [],
   "source": [
    "g = torch.Generator().manual_seed(123456780)# for reproducibility\n",
    "C = torch.randn((28,2), generator=g)\n",
    "W1 = torch.randn((6,300), generator=g)\n",
    "b1 = torch.randn(300, generator=g)\n",
    "W2 = torch.randn((300,28), generator=g)\n",
    "b2 = torch.randn(28, generator=g)\n",
    "parameters = [C,W1,b1,W2,b2]"
   ]
  },
  {
   "cell_type": "code",
   "execution_count": 137,
   "id": "dd0f0073",
   "metadata": {},
   "outputs": [
    {
     "name": "stdout",
     "output_type": "stream",
     "text": [
      "10584\n"
     ]
    }
   ],
   "source": [
    "print(sum(p.nelement() for p in parameters)) # number of parameter in total... before 3584"
   ]
  },
  {
   "cell_type": "code",
   "execution_count": 138,
   "id": "10ee3bb8",
   "metadata": {},
   "outputs": [],
   "source": [
    "lri = []\n",
    "lriex = []\n",
    "lossi = []\n",
    "stepi = []\n",
    "for p in parameters:\n",
    "    p.requires_grad = True\n",
    "\n",
    "for i in range(10000):\n",
    "    # mini batch construct\n",
    "    ix = torch.randint(0,Xtr.shape[0],(40,))\n",
    "    # now we learn...forward bass -- = 73643\n",
    "    emb = C[Xtr[ix]] # torch.Size([--, 3, 2])\n",
    "    h = torch.tanh(emb.view(-1,6) @ W1 + b1) #(--,100)\n",
    "    logits = h @ W2 + b2 #(--,27)\n",
    "    loss = F.cross_entropy(logits,Ytr[ix])\n",
    "    # backward pass \n",
    "    for p in parameters:\n",
    "        p.grad = None\n",
    "    loss.backward()\n",
    "    #update\n",
    "    #lr=lrs[i]\n",
    "    lr= .1\n",
    "    for p in parameters:\n",
    "        p.data += -lr*p.grad\n",
    "    stepi.append(i)\n",
    "    lossi.append(loss.item())"
   ]
  },
  {
   "cell_type": "code",
   "execution_count": 139,
   "id": "8792910e",
   "metadata": {},
   "outputs": [
    {
     "data": {
      "text/plain": [
       "[<matplotlib.lines.Line2D at 0x7fb0017a0a60>]"
      ]
     },
     "execution_count": 139,
     "metadata": {},
     "output_type": "execute_result"
    },
    {
     "data": {
      "image/png": "[encoded data removed]",
      "text/plain": [
       "<Figure size 640x480 with 1 Axes>"
      ]
     },
     "metadata": {},
     "output_type": "display_data"
    }
   ],
   "source": [
    "plt.plot(stepi,lossi)"
   ]
  },
  {
   "attachments": {},
   "cell_type": "markdown",
   "id": "5d585772",
   "metadata": {},
   "source": [
    "Now we can visualize the result of the embedding."
   ]
  },
  {
   "cell_type": "code",
   "execution_count": 140,
   "id": "bfb30813",
   "metadata": {},
   "outputs": [
    {
     "data": {
      "image/png": "[encoded data removed]",
      "text/plain": [
       "<Figure size 800x800 with 1 Axes>"
      ]
     },
     "metadata": {},
     "output_type": "display_data"
    }
   ],
   "source": [
    "plt.figure(figsize=(8,8))\n",
    "plt.scatter(C[:,0].data, C[:,1].data, s=200)\n",
    "for i in range(C.shape[0]):\n",
    "    plt.text(C[i,0].item(), C[i,1].item(),itos[i], ha=\"center\",va=\"center\", color=\"white\")\n",
    "    plt.grid('minor')"
   ]
  },
  {
   "cell_type": "code",
   "execution_count": 141,
   "id": "89362b2e",
   "metadata": {},
   "outputs": [],
   "source": [
    "# we scale up the embedding dimension and see what happen\n",
    "\n",
    "\n",
    "g = torch.Generator().manual_seed(123456780)# for reproducibility\n",
    "C = torch.randn((28,10), generator=g)\n",
    "W1 = torch.randn((30,200), generator=g)\n",
    "b1 = torch.randn(200, generator=g)\n",
    "W2 = torch.randn((200,28), generator=g)\n",
    "b2 = torch.randn(28, generator=g)\n",
    "parameters = [C,W1,b1,W2,b2]"
   ]
  },
  {
   "cell_type": "code",
   "execution_count": 142,
   "id": "b5a009ec",
   "metadata": {},
   "outputs": [
    {
     "name": "stdout",
     "output_type": "stream",
     "text": [
      "12108\n"
     ]
    }
   ],
   "source": [
    "print(sum(p.nelement() for p in parameters)) # number of parameter in total"
   ]
  },
  {
   "cell_type": "code",
   "execution_count": 143,
   "id": "0ebcf936",
   "metadata": {},
   "outputs": [],
   "source": [
    "lri = []\n",
    "lriex = []\n",
    "lossi = []\n",
    "stepi = []\n",
    "\n",
    "for p in parameters:\n",
    "    p.requires_grad = True"
   ]
  },
  {
   "cell_type": "code",
   "execution_count": 144,
   "id": "e8174994",
   "metadata": {},
   "outputs": [],
   "source": [
    "# do lr =0.1 and then 0.01 and look at the performance....\n",
    "\n",
    "\n",
    "for i in range(200000):\n",
    "    \n",
    "    # mini batch construct\n",
    "    ix = torch.randint(0,Xtr.shape[0], (40,))\n",
    "    # now we learn...forward bass -- = 73643\n",
    "    emb = C[Xtr[ix]] # torch.Size([--, 3, 2])\n",
    "    h = torch.tanh(emb.view(-1,30) @ W1 + b1) #(--,100)\n",
    "    logits = h @ W2 + b2 #(--,27)\n",
    "    loss = F.cross_entropy(logits, Ytr[ix])\n",
    "    # backward pass \n",
    "    for p in parameters:\n",
    "        p.grad=None\n",
    "    loss.backward()\n",
    "    #update\n",
    "    #lr=lrs[i]\n",
    "    lr= .1 if i < 100000 else 0.01\n",
    "    for p in parameters:\n",
    "        p.data += -lr*p.grad\n",
    "    stepi.append(i)\n",
    "    lossi.append(loss.log10().item()) # note the log10 !!"
   ]
  },
  {
   "cell_type": "code",
   "execution_count": 145,
   "id": "c615c76a",
   "metadata": {},
   "outputs": [
    {
     "data": {
      "text/plain": [
       "[<matplotlib.lines.Line2D at 0x7fb001c675b0>]"
      ]
     },
     "execution_count": 145,
     "metadata": {},
     "output_type": "execute_result"
    },
    {
     "data": {
      "image/png": "[encoded data removed]",
      "text/plain": [
       "<Figure size 640x480 with 1 Axes>"
      ]
     },
     "metadata": {},
     "output_type": "display_data"
    }
   ],
   "source": [
    "plt.plot(stepi, lossi)"
   ]
  },
  {
   "cell_type": "code",
   "execution_count": 146,
   "id": "9f337a6c",
   "metadata": {},
   "outputs": [
    {
     "name": "stdout",
     "output_type": "stream",
     "text": [
      "tensor(1.6377, grad_fn=<NllLossBackward0>)\n"
     ]
    }
   ],
   "source": [
    "emb = C[Xtr]\n",
    "h = torch.tanh(emb.view(-1,30) @ W1 + b1) #(--,100)   30 not 6 !\n",
    "logits = h @ W2 + b2 #(--,27)\n",
    "loss = F.cross_entropy(logits, Ytr)\n",
    "print(loss)"
   ]
  },
  {
   "cell_type": "code",
   "execution_count": 147,
   "id": "80a8a9ca",
   "metadata": {},
   "outputs": [
    {
     "name": "stdout",
     "output_type": "stream",
     "text": [
      "tensor(1.8488, grad_fn=<NllLossBackward0>)\n"
     ]
    }
   ],
   "source": [
    "emb = C[Xdev]\n",
    "h = torch.tanh(emb.view(-1,30) @ W1 + b1) #(--,100)\n",
    "logits = h @ W2 + b2 #(--,27)\n",
    "loss = F.cross_entropy(logits, Ydev)\n",
    "print(loss)"
   ]
  },
  {
   "attachments": {},
   "cell_type": "markdown",
   "id": "5ba5b345",
   "metadata": {},
   "source": [
    "Once trained the model we can sample from it.\n",
    "**NOTE**: there are many (many many) hyperparameters to play with, like the number of layer, numbers of neurons from layers, embedding dimensions, dimension of the batches, learning rate...."
   ]
  },
  {
   "cell_type": "code",
   "execution_count": 148,
   "id": "fbe87be7",
   "metadata": {},
   "outputs": [
    {
     "name": "stdout",
     "output_type": "stream",
     "text": [
      "albo.\n",
      "giovato.\n",
      "fridalminia.\n",
      "gorano.\n",
      "adelfina.\n",
      "nenotella.\n",
      "gero.\n",
      "brancenza.\n",
      "nicida.\n",
      "ivea.\n",
      "sandri.\n",
      "mondiano.\n",
      "levia.\n",
      "bella.\n",
      "benice.\n",
      "orvinaldina.\n",
      "florida.\n",
      "ernalidionando.\n",
      "masantillegidalchia.\n",
      "giulio.\n",
      "uliarda.\n",
      "diminio.\n",
      "illo.\n",
      "fio.\n",
      "opcosto.\n",
      "pificio.\n",
      "illa.\n",
      "mimminia.\n",
      "rudino.\n",
      "cleona.\n"
     ]
    }
   ],
   "source": [
    "g = torch.Generator().manual_seed(12345678+10)\n",
    "\n",
    "for _ in range(30):\n",
    "    out = []\n",
    "    context = [0]*block_size\n",
    "    while True:\n",
    "        emb = C[torch.tensor([context])]\n",
    "        h = torch.tanh(emb.view(1,-1) @ W1 + b1) \n",
    "        logits = h @ W2 + b2\n",
    "        probs = F.softmax(logits,dim=1)\n",
    "        ix = torch.multinomial(probs, num_samples=1, generator=g).item()\n",
    "        context = context[1:]+[ix]\n",
    "        out.append(ix)\n",
    "        if ix == 0:\n",
    "            break\n",
    "        \n",
    "    print(''.join(itos[i] for i in out))    "
   ]
  }
 ],
 "metadata": {
  "kernelspec": {
   "display_name": "Python 3",
   "language": "python",
   "name": "python3"
  },
  "language_info": {
   "codemirror_mode": {
    "name": "ipython",
    "version": 3
   },
   "file_extension": ".py",
   "mimetype": "text/x-python",
   "name": "python",
   "nbconvert_exporter": "python",
   "pygments_lexer": "ipython3",
   "version": "3.10.6"
  }
 },
 "nbformat": 4,
 "nbformat_minor": 5
}
