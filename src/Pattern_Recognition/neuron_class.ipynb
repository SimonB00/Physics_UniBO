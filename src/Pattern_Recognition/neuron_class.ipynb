{
 "cells": [
  {
   "attachments": {},
   "cell_type": "markdown",
   "metadata": {},
   "source": [
    "# Python lecture - 30/03/2023\n",
    "\n",
    "We've seen that a single perceptron is not good 'cause it's linear (every monotonic function leads to FD...)\n",
    "Let's try to implement something more complex with object-oriented programming.\n",
    "The nomenclature used in this script is not random but based on scikit.learn library standards.\n",
    "When you work with random numbers is always a great idea to fix the generation seed in order to debug in an easier way the code (see CODE REPRODUCIBILITY)."
   ]
  },
  {
   "cell_type": "code",
   "execution_count": 11,
   "metadata": {},
   "outputs": [
    {
     "name": "stdout",
     "output_type": "stream",
     "text": [
      "2\n",
      "2\n",
      "[0.47567904 0.09429624]\n",
      "Help on class Neuron in module __main__:\n",
      "\n",
      "class Neuron(builtins.object)\n",
      " |  Neuron(n_inputs)\n",
      " |  \n",
      " |  Standard way to define the help.\n",
      " |  Calling the help() function on the class will return this string (and all other class)\n",
      " |  Remember that the help() function is callable on any object, not only on classes\n",
      " |  Remember also to write these strings for documenting your code\n",
      " |  \n",
      " |  Methods defined here:\n",
      " |  \n",
      " |  __init__(self, n_inputs)\n",
      " |      Initialize self.  See help(type(self)) for accurate signature.\n",
      " |  \n",
      " |  predict(self, X)\n",
      " |  \n",
      " |  ----------------------------------------------------------------------\n",
      " |  Readonly properties defined here:\n",
      " |  \n",
      " |  n_input\n",
      " |  \n",
      " |  ----------------------------------------------------------------------\n",
      " |  Data descriptors defined here:\n",
      " |  \n",
      " |  __dict__\n",
      " |      dictionary for instance variables (if defined)\n",
      " |  \n",
      " |  __weakref__\n",
      " |      list of weak references to the object (if defined)\n",
      "\n",
      "None\n"
     ]
    }
   ],
   "source": [
    "import numpy as np\n",
    "\n",
    "class Neuron:\n",
    "    '''\n",
    "    Standard way to define the help.\n",
    "    Calling the help() function on the class will return this string (and all other class)\n",
    "    Remember that the help() function is callable on any object, not only on classes\n",
    "    Remember also to write these strings for documenting your code\n",
    "    '''\n",
    "\n",
    "    # constructor of the class has the default name __init__\n",
    "    def __init__(self, n_inputs):\n",
    "        self.ninput = n_inputs\n",
    "        self.weights = np.random.uniform(low=0., high=1., size=(n_inputs, ))\n",
    "        self.bias = np.random.uniform(low=0., high=1., size=(1, ))\n",
    "\n",
    "    # sort of alias for the ninput variable\n",
    "    # let's add also a decorator, callable with the @ sign. In this case this function is callable as a variable (no brakets)\n",
    "    @property\n",
    "    def n_input(self):\n",
    "        return self.ninput\n",
    "\n",
    "    def predict(self, X):\n",
    "        out = self.weights * X + self.bias\n",
    "        out = np.sum(out)\n",
    "        return out > 0\n",
    "\n",
    "    # def fit(self, X, y, lr=1e-3, max_iter=1e2):\n",
    "\n",
    "\n",
    "n = Neuron(2)\n",
    "# in python there are NO private variables\n",
    "print(n.ninput)\n",
    "print(n.n_input)\n",
    "print(n.weights)\n",
    "# let's try to call the help() function on our class\n",
    "print(help(Neuron))"
   ]
  },
  {
   "attachments": {},
   "cell_type": "markdown",
   "metadata": {},
   "source": [
    "Every time we define a new object (like a class) we need to define also its algebra behavior.\n",
    "E.g. what does it mean to sum two neurons? (operator overriding)\n",
    "We'll use magic functions denoted by double underscores."
   ]
  },
  {
   "cell_type": "code",
   "execution_count": 13,
   "metadata": {},
   "outputs": [
    {
     "name": "stdout",
     "output_type": "stream",
     "text": [
      "same\n"
     ]
    }
   ],
   "source": [
    "class Parent():\n",
    "    def __eq__(self, __value: object) -> bool:\n",
    "        return 'same'\n",
    "\n",
    "class Child:\n",
    "    pass\n",
    "\n",
    "mother = Parent()\n",
    "father = Parent()\n",
    "\n",
    "print(mother == father)"
   ]
  },
  {
   "attachments": {},
   "cell_type": "markdown",
   "metadata": {},
   "source": [
    "Try to implement as an exercise all operators, using magic functions."
   ]
  }
 ],
 "metadata": {
  "kernelspec": {
   "display_name": "Python 3",
   "language": "python",
   "name": "python3"
  },
  "language_info": {
   "codemirror_mode": {
    "name": "ipython",
    "version": 3
   },
   "file_extension": ".py",
   "mimetype": "text/x-python",
   "name": "python",
   "nbconvert_exporter": "python",
   "pygments_lexer": "ipython3",
   "version": "3.10.6"
  },
  "orig_nbformat": 4
 },
 "nbformat": 4,
 "nbformat_minor": 2
}
