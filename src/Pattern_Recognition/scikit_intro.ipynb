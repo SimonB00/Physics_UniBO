{
 "cells": [
  {
   "attachments": {},
   "cell_type": "markdown",
   "metadata": {},
   "source": [
    "# Python lecture - 31/03/2023\n",
    "\n",
    "In this lecture we'll use the scikit-learn library (and analyze images).\n",
    "With this lib we can:\n",
    "- preprocess data\n",
    "- use classifiers, e.g. logistic regression (see 1.1.11 in docs)\n",
    "- support vector machines\n",
    "- ready-to-use datasets\n",
    "Let's now import what we need."
   ]
  },
  {
   "cell_type": "code",
   "execution_count": 3,
   "metadata": {},
   "outputs": [],
   "source": [
    "import numpy as np\n",
    "import matplotlib.pyplot as plt\n",
    "\n",
    "from sklearn.datasets import fetch_openml\n",
    "from sklearn.model_selection import train_test_split\n",
    "from sklearn.linear_model import LogisticRegression\n",
    "from sklearn.preprocessing import StandardScaler\n",
    "from sklearn.utils import check_random_state"
   ]
  },
  {
   "attachments": {},
   "cell_type": "markdown",
   "metadata": {},
   "source": [
    "Logistic regression is a different model from the simple perceptron: we can produce different models basing on constraints.\n",
    "It performs linear separation between classes with its own model + LMS minimization (log likelihood).\n",
    "So it gives the probability that a data is into a class or another.\n",
    "**NOTE** In medical cases we want our model to be understandable (we don't like to blackbox the health system), then we'll prefer a decision tree (for example)."
   ]
  },
  {
   "cell_type": "code",
   "execution_count": 10,
   "metadata": {},
   "outputs": [],
   "source": [
    "X, y = fetch_openml('mnist_784', version=1, return_X_y=True, as_frame=False, parser='pandas')"
   ]
  },
  {
   "cell_type": "markdown",
   "metadata": {},
   "source": [
    "$X$ represent the actual image while $y$ represents its label.\n",
    "Usually supervised learning > clustering.\n",
    "We want to avoid overtraining of course, i.e. we want to generalize our model (in order to apply it to new data).\n",
    "So let's split our data into two sets: one for training and one for testing.\n",
    "We can also use cross validation as described in theoretical lectures (very used in real applications)."
   ]
  },
  {
   "cell_type": "code",
   "execution_count": 15,
   "metadata": {},
   "outputs": [
    {
     "data": {
      "text/plain": [
       "((70000, 784), dtype('int64'), (70000,), dtype('O'))"
      ]
     },
     "execution_count": 15,
     "metadata": {},
     "output_type": "execute_result"
    }
   ],
   "source": [
    "X.shape, X.dtype, y.shape, y.dtype"
   ]
  },
  {
   "attachments": {},
   "cell_type": "markdown",
   "metadata": {},
   "source": [
    "Shape is strange: it has been flattened (i.e. vectorized).\n",
    "We don't care where a pixel is, at least in this analysis.\n",
    "Why int64?\n",
    "If unsigned, 255 + 1 = 0 (*no buono*).\n",
    "For a standard int we don't have this problem plus we can cast it as unsigned.\n",
    "Notice that:"
   ]
  },
  {
   "cell_type": "code",
   "execution_count": 16,
   "metadata": {},
   "outputs": [
    {
     "data": {
      "text/plain": [
       "(255, 0)"
      ]
     },
     "execution_count": 16,
     "metadata": {},
     "output_type": "execute_result"
    }
   ],
   "source": [
    "X.max(), X.min()"
   ]
  },
  {
   "attachments": {},
   "cell_type": "markdown",
   "metadata": {},
   "source": [
    "This dataset consists in low resolution images of handwritten numbers.\n",
    "Gray level images are a matrix of unsigned integers (8-bit long).\n",
    "Color images are tensor (RGB, one matrix per color).\n",
    "Pixels are our descriptive variables.\n",
    "\n",
    "In matplotlib, an axis is a subfeature (in one figure we can have multiple axis).\n",
    "Reshape function -> we can reshape an array as we want.\n",
    "Cmap -> color map of the image. Wrong color map can mislead your decision so chose it carefully."
   ]
  },
  {
   "cell_type": "code",
   "execution_count": 23,
   "metadata": {},
   "outputs": [
    {
     "data": {
      "text/plain": [
       "Text(0.5, 1.0, '0')"
      ]
     },
     "execution_count": 23,
     "metadata": {},
     "output_type": "execute_result"
    },
    {
     "data": {
      "image/png": "[encoded data removed]",
      "text/plain": [
       "<Figure size 500x500 with 2 Axes>"
      ]
     },
     "metadata": {},
     "output_type": "display_data"
    }
   ],
   "source": [
    "fig, (ax1, ax2) = plt.subplots(nrows=1, ncols=2, figsize=(5, 5))\n",
    "ax1.imshow(X[0].reshape(28, 28), cmap='gray')\n",
    "ax2.imshow(X[1].reshape(28, 28), cmap='viridis')\n",
    "\n",
    "ax1.set_title(label=y[0])\n",
    "ax2.set_title(label=y[1])"
   ]
  },
  {
   "attachments": {},
   "cell_type": "markdown",
   "metadata": {},
   "source": [
    "Our goal is to build a thing that classifies those numbers, so *trainiaml*.\n",
    "**NOTE** Wrong preprocessing is very spread, pay attention!\n",
    "Let's prepare the data by splitting the dataset:"
   ]
  },
  {
   "cell_type": "code",
   "execution_count": 20,
   "metadata": {},
   "outputs": [
    {
     "data": {
      "text/plain": [
       "((5000, 784), (10000, 784))"
      ]
     },
     "execution_count": 20,
     "metadata": {},
     "output_type": "execute_result"
    }
   ],
   "source": [
    "train_samples = int(5e3)\n",
    "X_train, X_test, y_train, y_test = train_test_split(X, y, train_size=train_samples, test_size=int(1e4))\n",
    "X_train.shape, X_test.shape"
   ]
  },
  {
   "attachments": {},
   "cell_type": "markdown",
   "metadata": {},
   "source": [
    "The division is made in the way the data are mutually excluded (seemed obvious but let's remark it).\n",
    "Let's standardize parameters in order to work with number between 0 and 1 (i.e. don't let the pC explode **BOOM**).\n",
    "Standardize could also mean to normalize data in a std gaussian (0 mean and 1 variance) with fit_transform function.\n",
    "For the test data we only use transform, why?\n",
    "We shouldn't really know test data, so we fit only on the training data.\n",
    "Computing mean and variance for test data imply introducing information we usually don't have.\n",
    "Transform will transform the test data with the mean and the variance of the training data.\n",
    "**NOTE** All scikit function are enabled only after *fitting*."
   ]
  },
  {
   "cell_type": "code",
   "execution_count": 21,
   "metadata": {},
   "outputs": [],
   "source": [
    "scaler = StandardScaler()\n",
    "X_train = scaler.fit_transform(X_train)\n",
    "X_test = scaler.transform(X_test)"
   ]
  },
  {
   "attachments": {},
   "cell_type": "markdown",
   "metadata": {},
   "source": [
    "Calling the mean function on X we compute the mean all over the images' pixel by pixel.\n",
    "Then, the result consist in an image composed by all average values.\n",
    "\n",
    "Calling min-max we can notice that standardizing we passed from int -> floating point."
   ]
  },
  {
   "cell_type": "code",
   "execution_count": 24,
   "metadata": {},
   "outputs": [
    {
     "data": {
      "text/plain": [
       "(0, 255, -1.2689498262788907, 70.70360669726432)"
      ]
     },
     "execution_count": 24,
     "metadata": {},
     "output_type": "execute_result"
    }
   ],
   "source": [
    "X.min(), X.max(), X_train.min(), X_train.max()"
   ]
  },
  {
   "attachments": {},
   "cell_type": "markdown",
   "metadata": {},
   "source": [
    "To do the regression we need to define the LogisticRegression object (minimize the log likelihood).\n",
    "We can put some constraint: l1 == keep only a small portion of parameters (features) of the initial sample.\n",
    "The l2 penalization is less stricted.\n",
    "If we can exclude some redundant pixels we can reduce the problem's dimensionality.\n",
    "Too strong regularization (penalization) -> all to 0, too low -> no effect.\n",
    "The $C$ coefficient is the weight we give to a term in the minimization.\n",
    "The solver is just the algorithm used by scikit-learn.\n",
    "Some solvers cannot be used for multiclass classification so chose wisely.\n",
    "We can also define the tolerance (0.1 in our case).\n",
    "Then we fit the model and compute the score."
   ]
  },
  {
   "cell_type": "code",
   "execution_count": 25,
   "metadata": {},
   "outputs": [],
   "source": [
    "clf = LogisticRegression(C=50. / train_samples, penalty='l1', solver='saga', tol=0.1)\n",
    "clf.fit(X_train, y_train)\n",
    "score = clf.score(X_test, y_test)"
   ]
  },
  {
   "attachments": {},
   "cell_type": "markdown",
   "metadata": {},
   "source": [
    "The score is the accuracy."
   ]
  },
  {
   "cell_type": "code",
   "execution_count": 26,
   "metadata": {},
   "outputs": [
    {
     "data": {
      "text/plain": [
       "0.8402"
      ]
     },
     "execution_count": 26,
     "metadata": {},
     "output_type": "execute_result"
    }
   ],
   "source": [
    "score"
   ]
  },
  {
   "attachments": {},
   "cell_type": "markdown",
   "metadata": {},
   "source": [
    "We can also make a prediction for a given sample."
   ]
  },
  {
   "cell_type": "code",
   "execution_count": 32,
   "metadata": {},
   "outputs": [
    {
     "data": {
      "text/plain": [
       "array(['3'], dtype=object)"
      ]
     },
     "execution_count": 32,
     "metadata": {},
     "output_type": "execute_result"
    },
    {
     "data": {
      "image/png": "[encoded data removed]",
      "text/plain": [
       "<Figure size 500x500 with 1 Axes>"
      ]
     },
     "metadata": {},
     "output_type": "display_data"
    }
   ],
   "source": [
    "fig , ax = plt.subplots(nrows=1, ncols=1, figsize=(5, 5))\n",
    "ax.imshow(X_test[0].reshape(28, 28), cmap='gray')\n",
    "\n",
    "pred = clf.predict(X_test[0].reshape(1, -1))\n",
    "pred\n"
   ]
  }
 ],
 "metadata": {
  "kernelspec": {
   "display_name": "Python 3",
   "language": "python",
   "name": "python3"
  },
  "language_info": {
   "codemirror_mode": {
    "name": "ipython",
    "version": 3
   },
   "file_extension": ".py",
   "mimetype": "text/x-python",
   "name": "python",
   "nbconvert_exporter": "python",
   "pygments_lexer": "ipython3",
   "version": "3.10.6"
  },
  "orig_nbformat": 4
 },
 "nbformat": 4,
 "nbformat_minor": 2
}
